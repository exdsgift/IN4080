{
 "cells": [
  {
   "cell_type": "markdown",
   "metadata": {},
   "source": [
    "# IN4080: obligatory assignment 1 (Autumn 2024)\n",
    " \n",
    "Mandatory assignment 1 consists of three parts. In Part 1 (6 points), you will test and improve on a BPE (Byte-Pair-Encoding) tokenizer . In Part 2 (7 points), you will estimate an N-gram language model, based on a training corpus and the tokenizer you worked on in Part 1. Finally, in Part 3 (7 points), you will develop a basic classification model to distinguish between Bokmål and Nynorsk sentences.\n",
    "\n",
    "You should answer all three parts. You are required to get at least 12/20 points to pass. The most important is that you try to answer each question (possibly with some mistakes), to help you gain a better and more concrete understanding of the topics covered during the lectures. There are also bonus questions for those of you who would like to deepen their understanding of the topics covered by this assignment.\n",
    "\n",
    "- We assume that you have read and are familiar with IFI’s requirements and guidelines for mandatory assignments, see [here](https://www.uio.no/english/studies/examinations/compulsory-activities/mn-ifi-mandatory.html) and [here](https://www.uio.no/english/studies/examinations/compulsory-activities/mn-ifi-guidelines.html).\n",
    "- This is an individual assignment. You should not deliver joint submissions. \n",
    "- You may redeliver in Devilry before the deadline (__Sunday, September 15 at 23:59__), but include all files in the last delivery.\n",
    "- Only the last delivery will be read! If you deliver more than one file, put them into a zip-archive. You don't have to include in your delivery the files already provided for this assignment. \n",
    "- Name your submission _your\\_username\\_in4080\\_mandatory\\_1_\n",
    "- You can work on this assignment either on the IFI machines or on your own computer. \n",
    "\n",
    "*The preferred format for the assignment is a completed version of this Jupyter notebook*, containing both your code and explanations about the steps you followed. We want to stress that simply submitting code is __not__ by itself sufficient to complete the assignment - we expect the notebook to also contain explanations of what you have implemented, along with motivations for the choices you made along the way. Preferably use whole sentences, and mathematical formulas if necessary. Explaining in your own words (using concepts we have covered through in the lectures) what you have done and reflecting on your solution is an important part of the learning process - take it seriously!\n",
    "\n",
    "Regarding the use of LLMs (ChatGPT or similar): you are allowed to use them as 'sparring partner', for instance to clarify something you have not understood. However, you are __not__ allowed to use them to generate solutions (either in part or in full) to the assignment tasks. \n",
    "\n",
    "__Technical tip__: Some of the tasks in this assignment will require you to extend methods in classes that are already partly implemented. To implement those methods directly in a Jupyter notebook, you can use the function `setattr` to attach a method to a given class: \n",
    "\n",
    "```python\n",
    "class A:\n",
    "    pass\n",
    "a = A()\n",
    "\n",
    "def foo(self):\n",
    "    print('hello world!')\n",
    "    \n",
    "setattr(A, 'foo', foo)\n",
    "```"
   ]
  },
  {
   "cell_type": "markdown",
   "metadata": {},
   "source": [
    "## Part 1 : Tokenisation\n",
    "\n",
    "We will start by building a basic tokenizer relying on white space and punctuation. \n",
    "\n",
    "__Task 1.1__ (2 points): Implement the method `split` below such that it takes a text as input and outputs a list of tokens. The tokenisation should simply be done by splitting on white space, except for punctuation markers and other symbols (`.,:;!?-()\"`), which should correspond to their own token. For instance, the sentence \"Pierre, who works at NR, also teaches at UiO.\" should be split into 12 tokens."
   ]
  },
  {
   "cell_type": "code",
   "execution_count": 1,
   "metadata": {},
   "outputs": [
    {
     "name": "stdout",
     "output_type": "stream",
     "text": [
      "tokens:\t 12 \n",
      "types:\t 10\n"
     ]
    }
   ],
   "source": [
    "# this is my first version in which i use re.findall and works quite good\n",
    "from typing import List\n",
    "import re\n",
    "\n",
    "txt = \"Pierre, who works at NR, also teaches at UiO.\"\n",
    "\n",
    "def basic_tokenize(text: str) -> List[str]:\n",
    "    \"\"\"The method should split the text on white space, except for punctuation\n",
    "    markers that should be considered as tokens of their own (even in the \n",
    "    absence of white space before or after their occurrence)\"\"\"\n",
    "    \n",
    "    # Implement here your basic tokenisation\n",
    "    \n",
    "    x = re.findall(r'\\b\\w+\\b|[.,:;!|?()\"\\'\\[\\]\\-]', text)\n",
    "    return print('tokens:\\t', len(x),'\\ntypes:\\t', len(set(x)))\n",
    "\n",
    "basic_tokenize(txt)"
   ]
  },
  {
   "cell_type": "code",
   "execution_count": 2,
   "metadata": {},
   "outputs": [
    {
     "name": "stdout",
     "output_type": "stream",
     "text": [
      "tokens:\t 12\n",
      "types:\t 10\n"
     ]
    }
   ],
   "source": [
    "# here we have the solution of the exercise in which i use re.split. It basically require less text but the final output is the same.\n",
    "from typing import List\n",
    "import re\n",
    "\n",
    "txt = \"Pierre, who works at NR, also teaches at UiO.\"\n",
    "\n",
    "def basic_tokenize(text: str) -> List[str]:\n",
    "    \"\"\"The method should split the text on white space, except for punctuation\n",
    "    markers that should be considered as tokens of their own (even in the \n",
    "    absence of white space before or after their occurrence)\"\"\"\n",
    "    \n",
    "    # Implement here your basic tokenisation\n",
    "   \n",
    "    tokens = re.split(r'(\\W)', text)\n",
    "    tokens = [token for token in tokens if token.strip()]\n",
    "    print('tokens:\\t', len(tokens))\n",
    "    print('types:\\t', len(set(tokens)))\n",
    "\n",
    "tokens = basic_tokenize(txt)"
   ]
  },
  {
   "cell_type": "code",
   "execution_count": 3,
   "metadata": {},
   "outputs": [
    {
     "name": "stdout",
     "output_type": "stream",
     "text": [
      "['Pierre', ',', 'who', 'works', 'at', 'NR', ',', 'also', 'teaches', 'at', 'UiO', '.']\n",
      "12\n"
     ]
    }
   ],
   "source": [
    "# different attempts to get the solution\n",
    "import re\n",
    "txt = \"Pierre, who works at NR, also teaches at UiO.\"\n",
    "y = re.findall(r'\\b\\w+\\b|[.,:;!?()\"\\'\\[\\]\\-]', txt)\n",
    "print(y)\n",
    "print(len(y))"
   ]
  },
  {
   "cell_type": "markdown",
   "metadata": {},
   "source": [
    "We will now run the tokeniser on a small corpus, the [Norwegian Dependency Treebank](https://www.nb.no/sprakbanken/en/resource-catalogue/oai-nb-no-sbr-10/) (the corpus has been annotated with morphological features, syntactic functions and hierarchical structures, but we'll simply use here the raw text and discard all the annotation layers). We provide you with the data in the files `ndt_train_lm.txt` and `ndt_test_lm.txt`. \n",
    "\n",
    "__Task 1.2__ (1 point): Run the tokenizer you have implemented on `ndt_test_lm.txt`. How many tokens were extracted? And how many types (distinct words) were there? "
   ]
  },
  {
   "cell_type": "code",
   "execution_count": 4,
   "metadata": {},
   "outputs": [
    {
     "name": "stdout",
     "output_type": "stream",
     "text": [
      "tokens:\t 259391\n",
      "types:\t 30021\n"
     ]
    }
   ],
   "source": [
    "with open('ndt_test_lm.txt', 'r', encoding='utf-8') as file:\n",
    "    ndt_test = file.read()\n",
    "\n",
    "basic_tokenize(ndt_test)\n",
    "\n",
    "# first attempt: I try to open the file with pandas but using the .csv the tokenization was a mass. Open is the best solution"
   ]
  },
  {
   "cell_type": "markdown",
   "metadata": {},
   "source": [
    "We shall now use Byte-Pair Encoding (BPE) to limit the vocabulary of the tokenizer to 5,000.  An initial implementation of the algorithm is provided below."
   ]
  },
  {
   "cell_type": "code",
   "execution_count": 5,
   "metadata": {},
   "outputs": [],
   "source": [
    "from typing import Dict, List, Tuple, Iterator\n",
    "import numpy as np\n",
    "from tqdm.notebook import tqdm\n",
    "\n",
    "class BPETokenizer:\n",
    "    \"\"\"Tokenizer based on the Byte-Pair Encoding algorithm. \n",
    "    Note: the current implementation is limited to Latin characters (ISO-8859-1)\"\"\"\n",
    "\n",
    "    def __init__(self, train_corpus_file: str, vocab_size = 5000):\n",
    "        \"\"\"Creates a new BPE tokenizer, with merge pairs found using the given\n",
    "        corpus file. The extraction of merge pairs stops when a vocabulary of \n",
    "        size vocab_size is reached.\"\"\"\n",
    "\n",
    "        # List of string pairs that should be merged when tokenizing\n",
    "        # Example: ('e', 't'), which means that 'et' is a possible subword\n",
    "        # Each string pair is mapped to an unique index number\n",
    "        # (corresponding to their position in the self.vocab list)\n",
    "        self.merge_pairs = {}\n",
    "\n",
    "        # We add as basic vocab all characters of the extended ASCII\n",
    "        self.vocab = [chr(i) for i in range(256)]\n",
    "\n",
    "        with open(train_corpus_file) as fd:\n",
    "\n",
    "            # We first read the corpus, split on white space, and counts the\n",
    "            # occurrences of each distinct word\n",
    "            print(\"Counting word occurrences in corpus %s\"%train_corpus_file, end=\"...\", flush=True)\n",
    "            text = fd.read()\n",
    "            vocabulary_counts = {}\n",
    "            for token in text.split():\n",
    "                vocabulary_counts[token] = vocabulary_counts.get(token, 0) + 1\n",
    "            print(\"Done\")\n",
    "\n",
    "            # We then iteratively extend the list of merge pairs until we\n",
    "            # reach the desired size. Note: to speed up the algorithm, we \n",
    "            # extract n merge pairs at each iteration\n",
    "            progress_bar = tqdm(total=vocab_size)\n",
    "            while len(self.vocab) < vocab_size:\n",
    "                most_common_pairs = self.get_most_common_pairs(vocabulary_counts)\n",
    "                for common_pair in most_common_pairs:\n",
    "                    self.merge_pairs[common_pair] = len(self.vocab)\n",
    "                    self.vocab.append(\"\".join(common_pair))\n",
    "                progress_bar.update(len(most_common_pairs))\n",
    "         #       print(\"Examples of new subwords:\", [\"\".join(pair) for pair in most_common_pairs][:10])\n",
    "            \n",
    "    def get_most_common_pairs(self, vocabulary_counts: Dict[str,int], \n",
    "                              n:int=200) -> List[Tuple[str,str]]:\n",
    "        \"\"\"Given a set of distinct words along with their corresponding number \n",
    "        of occurrences in the corpus, returns the n most frequent pairs of subwords.       \n",
    "        \"\"\"\n",
    "\n",
    "        # We count the frequencies of consecutive subwords in the vocabulary list\n",
    "        pair_freqs = {}\n",
    "        for word, word_count in vocabulary_counts.items():\n",
    "            subwords = self.tokenize_word(word)\n",
    "            for i in range(len(subwords)-1):\n",
    "                byte_pair = (subwords[i], subwords[i+1])\n",
    "                pair_freqs[byte_pair] = pair_freqs.get(byte_pair, 0) + word_count\n",
    "\n",
    "        # And return the most frequent ones\n",
    "        most_freq_pairs = sorted(pair_freqs.keys(), key=lambda x: pair_freqs[x])[::-1][:n]\n",
    "        return most_freq_pairs\n",
    "\n",
    "    def __call__(self, input:str, show_progress_bar=True) -> Iterator[str]:\n",
    "        \"\"\"Tokenizes a full text\"\"\"\n",
    "\n",
    "        # We first split into whitespace-separated tokens, and then in subwords\n",
    "        words = input.split()\n",
    "        for word in tqdm(words) if show_progress_bar else words:\n",
    "            subwords = self.tokenize_word(word)\n",
    "            for subword in subwords:\n",
    "                yield subword\n",
    "                \n",
    "\n",
    "    def tokenize_word(self, word):\n",
    "        \"\"\"Splits the word into subwords, according to the merge pairs \n",
    "        currently stored in self.merge_pairs.\"\"\"\n",
    "\n",
    "        # We start with a list of characters\n",
    "        # (+ a final character to denote the end of the word)    \n",
    "        splits = list(word) + [\" \"]\n",
    "\n",
    "        # We continue until there is nothing left to be merged\n",
    "        while len(splits)>=2:\n",
    "\n",
    "            # We extract consecutive subword pairs\n",
    "            pairs = [(splits[i], splits[i+1]) for i in range(len(splits)-1)]\n",
    "\n",
    "            # We find the \"best\" pair of subwords to merge -- that is, the one with the \n",
    "            # lowest position in the list of merge rules\n",
    "            best_pair_to_merge = min(pairs, key=lambda x: self.merge_pairs.get(x, np.inf))\n",
    "            if best_pair_to_merge in self.merge_pairs:\n",
    "\n",
    "                # We then merge the two subwords\n",
    "                for i in range(len(splits)-1):\n",
    "                    if (splits[i], splits[i+1]) == best_pair_to_merge:\n",
    "                        merged_subword = self.vocab[self.merge_pairs[best_pair_to_merge]]\n",
    "                        splits = splits[:i] + [merged_subword] + splits[i+2:]\n",
    "                        break\n",
    "            else:\n",
    "                break\n",
    "        return splits"
   ]
  },
  {
   "cell_type": "markdown",
   "metadata": {},
   "source": [
    "__Task 1.3__ (1 point): Learn the BPE tokenizer on the `ndt_train_lm.txt` corpus, and then apply this tokenizer on `ndt_test_lm.txt`. Print the number of tokens and types (distinct subwords) obtained by this tokenizer on the test data. How do those numbers compare to the ones obtained with the basic tokenizer you had implemented earlier ? "
   ]
  },
  {
   "cell_type": "code",
   "execution_count": 6,
   "metadata": {},
   "outputs": [],
   "source": [
    "with open('ndt_train_lm.txt', 'r', encoding='utf-8') as file:\n",
    "    ndt_train_lm = file.read()\n",
    "\n",
    "with open('ndt_test_lm.txt', 'r', encoding='utf-8') as file:\n",
    "    ndt_test_lm = file.read()"
   ]
  },
  {
   "cell_type": "code",
   "execution_count": 7,
   "metadata": {},
   "outputs": [
    {
     "name": "stdout",
     "output_type": "stream",
     "text": [
      "Counting word occurrences in corpus ndt_train_lm.txt...Done\n"
     ]
    },
    {
     "data": {
      "application/vnd.jupyter.widget-view+json": {
       "model_id": "1b3042911c1e492cb3a9e72c3d41761a",
       "version_major": 2,
       "version_minor": 0
      },
      "text/plain": [
       "  0%|          | 0/5000 [00:00<?, ?it/s]"
      ]
     },
     "metadata": {},
     "output_type": "display_data"
    },
    {
     "data": {
      "application/vnd.jupyter.widget-view+json": {
       "model_id": "13435fad6cfe417d905ca3eea845b4b5",
       "version_major": 2,
       "version_minor": 0
      },
      "text/plain": [
       "  0%|          | 0/226096 [00:00<?, ?it/s]"
      ]
     },
     "metadata": {},
     "output_type": "display_data"
    }
   ],
   "source": [
    "# learning the tokenizer\n",
    "ndt_training_lm = BPETokenizer(train_corpus_file= 'ndt_train_lm.txt', vocab_size = 5000)\n",
    "\n",
    "# apply the tokenizer\n",
    "ndt_testing_lm = list(ndt_training_lm(ndt_test_lm))"
   ]
  },
  {
   "cell_type": "code",
   "execution_count": 8,
   "metadata": {},
   "outputs": [
    {
     "name": "stdout",
     "output_type": "stream",
     "text": [
      "tokens:\t\t\t\t 386099\n",
      "types (distinct subwords):\t 4408\n"
     ]
    }
   ],
   "source": [
    "print('tokens:\\t\\t\\t\\t', len(ndt_testing_lm))\n",
    "print('types (distinct subwords):\\t', len(set(ndt_testing_lm)))"
   ]
  },
  {
   "cell_type": "code",
   "execution_count": 9,
   "metadata": {},
   "outputs": [
    {
     "name": "stdout",
     "output_type": "stream",
     "text": [
      "vocabulary:\t ['\\x00', '\\x01', '\\x02', '\\x03', '\\x04', '\\x05', '\\x06', '\\x07', '\\x08', '\\t', '\\n', '\\x0b', '\\x0c', '\\r', '\\x0e', '\\x0f', '\\x10', '\\x11', '\\x12', '\\x13', '\\x14', '\\x15', '\\x16', '\\x17', '\\x18', '\\x19', '\\x1a', '\\x1b', '\\x1c', '\\x1d', '\\x1e', '\\x1f', ' ', '!', '\"', '#', '$', '%', '&', \"'\", '(', ')', '*', '+', ',', '-', '.', '/', '0', '1']\n"
     ]
    }
   ],
   "source": [
    "print(\"vocabulary:\\t\", ndt_training_lm.vocab[:50])"
   ]
  },
  {
   "cell_type": "code",
   "execution_count": 10,
   "metadata": {},
   "outputs": [
    {
     "data": {
      "application/vnd.jupyter.widget-view+json": {
       "model_id": "f502100e27d94fd8a64c08e273c8befd",
       "version_major": 2,
       "version_minor": 0
      },
      "text/plain": [
       "  0%|          | 0/226096 [00:00<?, ?it/s]"
      ]
     },
     "metadata": {},
     "output_type": "display_data"
    },
    {
     "name": "stdout",
     "output_type": "stream",
     "text": [
      "frequencies:\t Counter({'i ': 6942, 'og ': 5835, 'er ': 5341, 'en ': 5240, 'det ': 3845, 'som ': 3734, 'å ': 3593, 'på ': 3531, 'til ': 3251, 'at ': 2990, 'for ': 2935, 'av ': 2815, 'har ': 2698, 'de ': 2459, '- ': 2456, '. ': 2419, 'med ': 2414, ', ': 2359, 'ikke ': 2135, 'et ': 1782, 'om ': 1695, 'Det ': 1533, 'ene ': 1513, 'den ': 1473, 'var ': 1433, 's ': 1353, 'han ': 1224, 's': 1173, 'u': 1115, 't ': 1104, '-': 1095, 'for': 1091, 'fra ': 1076, 'er': 1065, 'er. ': 1065, 'jeg ': 1021, 'S': 1016, 'le': 992, 'e ': 973, 'kan ': 949, '\"': 948, 'seg ': 942, 'er, ': 938, 'en. ': 916, 'vi ': 905, 'g': 892, 'an': 882, '| ': 879, 'sier ': 874, 'd': 849, 'men ': 842, 're': 812, 'ere ': 804, 'p': 789, 'K': 776, 't': 772, 'st': 759, 'så ': 756, 'de': 754, 'B': 751, 'b': 746, 'k': 743, 'ble ': 743, 'h': 738, 'a ': 737, 'der ': 735, 'te ': 733, 'en': 719, 'm': 711, 'Jeg ': 709, 'vil ': 707, 'F': 703, 'ut': 700, 'al': 698, 'ter ': 696, 'in': 695, 'etter ': 669, 'et. ': 661, 'd ': 659, 'te': 656, 'I ': 656, 'i': 652, 'mer ': 632, 'o': 629, 'lig ': 627, 'sk': 623, 'ende ': 623, 'Men ': 621, 'skal ': 618, 'også ': 614, 'ti': 613, 'en, ': 613, 'M': 608, 'A': 596, 'ser ': 595, 'P': 581, ': ': 576, 'Han ': 576, 'om': 570, 'ø': 570, 'ne': 569, 'li': 569, 'av': 560, 'el': 556, 'H': 554, '? ': 553, 'a': 552, 'T': 552, 'c': 540, 'være ': 539, 'y': 538, 'opp': 538, 'l': 537, 'hadde ': 532, 'n': 521, 'ingen ': 517, 'ar': 509, 'tet ': 509, 'ker ': 505, 'e': 502, 'r': 496, 'se ': 496, 'C': 495, 'f': 494, 'ler ': 493, 'L': 487, 'ing ': 486, 'be': 484, 'hun ': 484, 'du ': 482, 'n ': 481, 'et': 480, 'blir ': 479, 'se': 476, 'ta': 474, 'mot ': 463, '\" ': 463, 'si': 461, 'ut ': 461, 'et, ': 455, 'G': 453, 'må ': 449, 'eller ': 447, 'N': 446, 't. ': 444, 'is': 444, 'Vi ': 444, ' ': 442, 'me': 439, 'at': 433, 'ha ': 430, 'bare ': 423, 'R': 420, 'over': 420, 'v': 419, 'sp': 417, 'De ': 416, 'la': 407, 'tr': 406, 'over ': 403, 'or': 402, '(': 402, 'ved ': 398, 'opp ': 395, 'noe ': 389, 'l ': 387, 'inn': 387, 'sin ': 384, 'andre ': 378, 'it': 375, 'enn ': 374, 'bli ': 371, 'vel': 370, 'å': 361, 'da ': 358, 'alle ': 356, 'år ': 354, 'få ': 354, 'ik': 353, 'D': 353, 'ger ': 353, 'ste': 352, 'men': 349, 'alt ': 348, 'rer ': 348, 'ing': 345, 'O': 345, 'mange ': 345, 'ha': 344, 'hen': 344, 'ert ': 341, 'on': 341, 'vi': 341, 'let ': 340, 'E': 338, 'ne ': 337, 'il': 336, 'lige ': 335, 'ste ': 334, 'til': 334, 'lig': 332, 'inn ': 331, '2': 329, 'ens ': 328, 'dette ': 328, 'y ': 327, 'kk': 326, 'vært ': 322, 'man ': 322, 'nå ': 320, 'I': 319, 'sen ': 317, 'ke': 316, 've': 315, 'ur': 313, 'ro': 312, 'V': 312, 'noen ': 311, 'går ': 310, 'g ': 308, 'ner ': 307, 'to ': 307, 'ver': 307, 'k ': 305, 'us': 305, 'j': 303, 'ske ': 299, 'ra': 296, 'når ': 296, 'net ': 292, 'erne ': 292, 'Og ': 290, 'ol': 290, 'ri': 290, 'ven': 289, 'ul': 288, 'får ': 285, 'ene. ': 281, 'oss ': 278, 'm ': 277, 'di': 275, 'dø': 273, 'selv ': 273, 'Den ': 273, 'ma': 272, 'st ': 272, 'ko': 271, 'dag ': 270, 'ret ': 269, 'ang': 268, 'sk ': 267, 'J': 263, 'flere ': 261, 'kon': 259, 'as': 257, 'ket ': 257, 'før ': 257, 't, ': 255, 'mye ': 255, 'kommer ': 254, 'En ': 253, 'un': 252, 'fikk ': 251, 'kunne ': 251, 'høy': 249, 'am': 248, 'ag': 247, 'valg': 246, 'blitt ': 246, 'sen': 246, 'ig': 245, '\". ': 244, 'ter': 244, 'meg ': 244, 'hel': 243, 'ta ': 242, 'het ': 241, 'øy': 240, 'denne ': 238, 'ka': 236, 'på': 236, 'vet ': 235, 'første ': 235, 'het': 235, 'sa': 235, 'skulle ': 234, 'mo': 233, 'sø': 232, 'o ': 232, 'mener ': 232, 'lø': 231, 'tar ': 230, 'mellom ': 229, 'mor': 228, 'ning ': 228, 'gang ': 228, 'bu': 228, 'U': 227, 'e. ': 226, ') ': 226, 'va': 225, 'eren ': 225, 'ho': 224, 'hva ': 223, 'pp': 223, 'ny': 222, 'uten ': 222, 'bar': 222, 'ver ': 222, 'ss': 221, 'ville ': 221, 'bil': 221, 'sy': 221, 'es ': 220, 'tt': 219, 'W': 219, 'ge ': 219, 'selv': 219, 'w': 219, 'store ': 218, 'lo': 217, 'nye ': 217, 'kom ': 216, 'sm': 215, 'det. ': 215, 'nok ': 215, 'ds': 214, 'mer': 214, 'hvor ': 214, 'ak': 213, 'ten': 213, 'no': 213, 'le ': 212, 'Norge ': 212, 'ing. ': 211, 'spil': 211, 'so': 210, 'sam': 209, 'uk': 209, 'eg': 208, 'under ': 206, 'var': 206, 'es': 206, 'spill': 206, 'ke ': 205, 'by': 205, '3': 204, '1': 204, 'del': 203, 'ør': 200, 'sj': 199, 'norske ': 199, 'sine ': 199, 'dem ': 199, 'r ': 198, 'gjøre ': 198, 'Hun ': 197, 'ru': 196, 'frem': 196, 'ster': 195, 'min': 194, 'bor': 194, 's. ': 193, 'ls': 192, 'både ': 192, 'ten ': 191, 'get ': 190, 'mi': 190, 'ns': 189, 'hans ': 189, 'sa ': 189, 're ': 189, 'je': 188, 'sten ': 187, 'kt': 187, 'siste ': 186, 'nes ': 186, 'gjør ': 186, 'ans': 186, 'kjø': 186, 'll': 185, 'står ': 185, 'erer ': 185, 'a. ': 184, 'far': 184, 'sel': 184, 'mm': 184, 'e, ': 184, 'prosent ': 184, 'Dette ': 183, 'æ': 183, 'ene, ': 183, 'ba': 183, 'hele ': 183, 'per ': 183, 'hu': 183, 'ly': 182, 'dr': 182, 'id': 182, 'bo': 181, 'siden ': 181, 'fly': 181, 'kan': 180, 'fri': 179, 've ': 179, 'ad': 179, 'Da ': 178, 'sl': 177, 'ban': 177, '4': 177, 'ær': 176, 'helt ': 176, 'and': 175, 'set ': 175, 'ets ': 175, 'de. ': 175, 'slik ': 175, 'met ': 174, 'sv': 174, 'p ': 173, 'v ': 173, 'del ': 173, 'na': 172, 'pa': 172, 'te. ': 171, 'litt ': 171, 'ek': 170, 'heten ': 169, 'tid ': 168, 'fordi ': 168, 'år': 168, 'jo ': 168, 'verden': 167, 'kj': 166, 'godt ': 166, 'erte ': 166, 'På ': 166, 'pe': 165, 'mens ': 165, 'se. ': 165, 'to': 165, 'an ': 164, 'ken ': 164, 'lin': 164, 'd. ': 164, 'For ': 164, 'hol': 163, 'rundt ': 163, 're. ': 163, 'ge': 162, 'ir': 162, 'pet ': 162, 'der': 162, 'ei': 162, 'and ': 161, 'blant ': 161, 'land ': 160, 'par': 160, 'viser ': 160, 'må': 160, 'ings': 160, '\", ': 159, 'van': 159, 'sak': 159, 'folk ': 159, '5': 158, 'For': 157, 'ber': 157, 'sitt ': 157, 'gjennom ': 157, 'mid': 156, 'tre ': 156, 'h ': 156, 'fått ': 156, 'pre': 156, '200': 156, 'Obama ': 156, 'mest ': 155, 'hvordan ': 155, 'in ': 154, 'nn': 153, 'bl': 153, 'tok ': 153, 'op': 153, 'end': 153, 'annet ': 153, 'tal': 153, 'as ': 153, 'kk ': 152, 'ett': 152, 'lan': 152, 'ry': 152, 'bi': 152, 'sten': 152, 'elig ': 151, 'gå ': 151, 'ist': 151, 'kte ': 150, 'ga': 150, 'ord': 149, 'hø': 149, 'utt': 149, 'politi': 149, 'gikk ': 148, 'aldri ': 148, 'du': 148, 'ent': 148, 'd, ': 147, 'ham ': 147, 'ts': 146, 'ned ': 146, 'vis ': 145, 'de, ': 144, 'like ': 144, 'is ': 144, 'ett ': 144, 'att ': 143, 'her ': 143, 'da': 142, 'g. ': 142, 'den': 142, 'sammen ': 142, 'g, ': 141, 's, ': 141, 'ige ': 140, 'vin': 140, 'fr': 140, 'si ': 140, 'etter': 140, 'og': 139, 'n. ': 139, 'z': 139, 'nd': 138, 'ser': 138, 'skri': 138, 'fø': 138, 'ed': 138, 'ent ': 138, 'les ': 137, 'val': 137, 'lsen ': 137, 'te, ': 137, 'elig': 137, 'kke ': 137, 'tror ': 137, 'mis': 137, 'res': 136, 'bet': 136, 'år. ': 136, 'fo': 135, 'sjon ': 135, 'dene ': 135, 'sjon': 134, 'bru': 134, 'tte ': 134, 'inger ': 134, 'tatt ': 134, 'lig. ': 134, 'hus': 134, 'stor ': 134, 'ere. ': 133, 'man': 133, 'ninger ': 133, 'ret': 133, 'os': 132, 'stat': 132, 'det, ': 132, 'leder ': 132, 'mennesk': 132, '6': 132, 'lag': 132, 'dd ': 131, 'ty': 131, 'gi ': 131, 'ne. ': 131, 'kel': 131, 'syke': 131, 'ku': 130, 'ikk': 129, 'sli': 129, 'åp': 129, 'hi': 129, 'st. ': 129, 'ligger ': 129, 'br': 128, 'reg': 128, 'rik': 128, 'kl': 128, 'ob': 128, 'all': 128, 'vil': 127, 'gir ': 127, 'samme ': 127, 'und': 127, 'kt ': 127, 'ks': 127, 'kket ': 126, 'rø': 126, 'el ': 126, 'ny ': 126, 'ill': 126, 'Nå ': 126, 'mø': 125, 'mme ': 125, 'on ': 125, 'gen': 125, 'gr': 124, 'parti': 124, 'disse ': 124, 'ere, ': 124, 'me ': 124, '! ': 124, 'of': 123, 'hatt ': 123, 'Mar': 122, 'm. ': 122, 'ning': 122, 'Etter ': 122, 'ni': 122, 'nær': 121, 'red': 121, 'ale ': 121, 'Hva ': 121, 'fa': 120, 'a, ': 120, 'god ': 120, 'ningen ': 120, 'fl': 120, 'ing, ': 119, 'under': 119, 'tidligere ': 119, 'hver': 118, 'stø': 118, 'heter ': 118, 'dom': 118, 'ac': 117, 'fin': 117, 'kre': 117, 'sta': 117, 'satt ': 117, 'ann': 117, 'tre': 116, 'han. ': 116, 'pen': 116, 'komme ': 116, 'livet ': 116, 'veldig ': 116, 'dat': 116, 'bok': 116, 'iv': 115, 'forsk': 115, 'tren': 115, 'skj': 114, 'Sp': 114, 'le. ': 114, 'ali': 114, 'ju': 114, 'tid': 113, 'vei': 113, 'kal': 113, 'sty': 113, 'rett ': 113, 'su': 113, 'ikk ': 113, '8': 113, 'gi': 113, 'han': 113, '« ': 113, '5 ': 113, 'fre': 112, 'gjorde ': 112, 'forteller ': 112, 'fi': 111, 'kken ': 111, 'langt ': 111, 'igjen ': 111, 'skap': 111, 'måtte ': 111, 'sammen': 111, 'ers ': 111, 'Når ': 111, 'norsk ': 110, 'gre': 110, '.': 110, 'Ber': 110, 'annen ': 110, 'ng': 110, '7': 110, 'sn': 109, 'FN': 109, 'gjort ': 109, 'St': 109, 'tilbake ': 109, 'virk': 109, 'or ': 109, 'lagt ': 109, 'ant ': 109, 'san': 108, 'per': 108, 'ster ': 108, 'tt ': 108, 'øre ': 108, 'kom': 107, 'rek': 107, 'gle': 107, 'ft': 106, 'nings': 106, 'fer': 106, 'hver ': 106, 'dra': 106, 'sker ': 106, 'hvis ': 106, 'ar ': 105, 'mål': 105, 'fortsatt ': 105, 'pas': 105, 'har': 105, 'fall ': 105, 'skriver ': 105, 'ell': 104, 'lle ': 104, 'ot': 104, 'gjennom': 104, 'helse': 104, ',': 104, 'hav': 104, 'Et ': 104, 'enn': 104, 'fra': 104, 'barn ': 103, 'dag. ': 103, 'dt ': 103, 'kamp': 103, 'res ': 103, 'vå': 102, 'min ': 102, 'beste ': 102, 'heller ': 101, '9': 101, 'sett ': 101, 're, ': 101, 'sky': 101, 'Bar': 101, 'vol': 101, 'skje': 101, 'dd': 101, 'ttet ': 100, 'vis': 100, 'ør ': 100, 'lse ': 100, 'Her ': 100, 'kanskje ': 100, 'sje': 100, 'beg': 99, 'sjonen ': 99, 'gt ': 99, 'før': 99, 'dal ': 99, 'ff': 98, 'dag': 98, 'holde ': 98, 'bel': 98, 'od': 98, 'rå': 98, 'bedre ': 98, 'Hel': 98, 'nesten ': 98, 'lå': 98, 'sen. ': 98, 'u ': 97, 'het. ': 97, 'sku': 97, 'leg': 97, 'tig': 97, 'mp': 97, 'po': 96, 'iske ': 96, 'Fre': 96, 'eneste ': 96, 'isk ': 96, 'hvert ': 96, 'dig': 96, 'bør ': 96, 'svært ': 96, 'vok': 96, 'gen ': 95, 'kultur': 95, 'dy': 95, 'større ': 95, 'pl': 95, 'hos ': 95, 'dan': 95, 'sin': 94, 'tra': 94, 'kes ': 94, 'politisk ': 94, 'tes ': 94, 'tak': 94, 'le, ': 94, 'som': 94, 'Er ': 94, 'sto ': 93, 'ert': 93, 'em': 93, 'allerede ': 93, 'medi': 93, '2 ': 93, 'grunn ': 93, 'omm': 93, 'Oslo ': 93, 'hå': 93, 'lu': 93, 'sik': 93, 'uten': 92, 'kjent ': 92, 'ne, ': 92, 'ons': 92, 'ganger ': 92, '3 ': 92, 'n, ': 92, 'dre': 92, 'eng': 92, 'm, ': 91, 'hoved': 91, 'ønsker ': 91, 'ved': 91, 'så': 91, 'mat': 91, 'ær ': 90, 'se, ': 90, 'styr': 90, 'rte ': 90, 'år, ': 90, 'egen ': 90, 'verden ': 90, 'ene': 90, 'Så ': 90, 'gjen': 90, 'klart ': 90, 'ger': 90, 'gjø': 89, 'ore': 89, 'millioner ': 89, 'fore': 89, 'ia ': 89, 'proble': 89, 'met': 89, 'gs': 89, 'plan': 89, 'i. ': 89, 'ke, ': 89, 'x': 88, 'fire ': 88, '8 ': 88, 'tig ': 88, 'nne ': 88, 'star': 88, 'lat': 88, 'nav': 87, 'vanskelig ': 87, 'finnes ': 87, 'vår ': 87, 'art ': 87, 'ska': 87, 'hom': 87, 'synes ': 87, 'mmer ': 87, 'ffe': 87, 'legger ': 87, 'gene ': 87, 'stan': 86, 'ge. ': 86, 'ski': 86, 'kri': 86, 'gått ': 86, 'des ': 86, 'ke. ': 86, 'ned': 86, 'pi': 86, 'hjem': 86, 'elle ': 86, 'il ': 86, 'deg ': 86, 'marke': 86, 'fotball': 86, 'bå': 85, 'stor': 85, 'person': 85, 'siden': 85, 'ære ': 85, 'inns': 85, 'sko': 85, 'nå': 85, 'fry': 85, 'viktig ': 85, 'barne': 85, '), ': 85, 'al ': 85, 'ofte ': 85, 'rs': 85, 'hy': 85, 'vir': 85, 'ti ': 85, 'ur ': 84, 'mu': 84, 'Har': 84, 'nt': 84, 'mulig ': 84, 'stand': 84, 'ok': 84, 'inne': 84, 'ic': 84, 'la ': 83, 'dere ': 83, 'på. ': 83, 'med': 83, 'ingene ': 83, 'gra': 83, 'Hvis ': 83, 'ie': 83, 'k, ': 82, 'us ': 82, 'ge, ': 82, 'makt': 82, 'politiske ': 82, 'plass ': 82, 'den. ': 82, 'seg. ': 82, 'stol': 82, 'Som ': 82, 'tt. ': 82, 'dri': 82, 'im': 81, 'ig ': 81, 'lt ': 81, 'mann ': 81, 'lenge ': 81, 'mene ': 81, 'ev': 81, 'lik': 81, 'gode ': 81, 'my': 81, 'Hvor': 81, 'kere ': 81, 'ber ': 81, 'USA ': 81, '9 ': 81, 'sol': 81, 'Romne': 81, 'Cathrine ': 81, 'mar': 80, 'Hø': 80, 'tel': 80, 'føl': 80, 'Re': 80, 'bed': 80, 'str': 80, 'landet ': 80, 'rom': 80, 'Espen ': 79, 'stil': 79, 'st, ': 79, 'Ø': 79, 'tillegg ': 79, 'ort': 79, 'alvor': 79, 'ben': 79, 'slut': 78, 'me. ': 78, 'ust': 78, 'ansk': 78, 'Å': 78, 'gå': 78, 'natur': 78, 'kter ': 78, 'bes': 78, 'dig ': 78, 'ch': 78, 'eksempel ': 78, 'ga ': 78, 'unn': 78, 'k. ': 77, 'yre ': 77, 'sva': 77, 'Mange ': 77, 'mus': 77, 'bas': 77, 'stad ': 77, 'mindre ': 77, 'Sta': 77, 'try': 77, 'mt ': 77, 'Nord': 77, 'fe': 76, 'land': 76, 'Høy': 76, 'p. ': 76, 'tive ': 76, 'tiden ': 76, 'hånd': 76, 'største ': 76, 'derfor ': 76, 'foran ': 76, 'laget ': 76, 'all ': 76, 'føre ': 76, 'Kar': 76, 'bry': 75, 'sig': 75, 'Selv ': 75, 'der, ': 75, 'mulig': 75, 'likevel ': 75, 'ges ': 75, 'ung': 75, 'øn': 75, 'deres ': 75, 'asjon': 75, '2. ': 75, 'Med ': 75, 'Bertelsen ': 75, 'skil': 74, 'ifølge ': 74, 'nev': 74, 'ette ': 74, 'god': 74, 'Du ': 74, 'lite ': 74, '00 ': 74, 'først ': 74, 'kt. ': 74, 'meld': 74, 'kunst': 74, 'At ': 73, 'trolig ': 73, 'forts': 73, 'fem ': 73, 'pris': 73, 'Norge. ': 73, 'tisk ': 73, 'ren': 73, 'opple': 73, 'yr': 73, 'bak': 72, 'sse ': 72, 'sat': 72, '0 ': 72, 'enes ': 72, 'vik': 72, 'forsø': 72, 'lag ': 72, 'bli': 72, 'pe ': 72, 'liv ': 72, 'ap': 72, 'stå ': 72, 'fy': 72, 'kommet ': 72, 'føle': 72, 'mot': 72, 'gren': 72, 'Be': 72, 'gen. ': 72, 'Just': 72, 'gamle ': 71, 'sør': 71, 'mennesker ': 71, 'rd': 71, 'ien ': 71, 'i, ': 71, 'land. ': 71, 'nd ': 71, 'Johan': 71, 'ting ': 70, 'partiet ': 70, 'sjons': 70, 'asjon ': 70, 'neste ': 70, 'års': 70, 'der. ': 70, 'lands': 70, 'kr': 70, 'legg': 70, 'alen ': 70, 'sei': 70, 'topp': 70, 'he': 70, 'fleste ': 70, 'lov': 70, 'isla': 70, 'manns': 70, 'sc': 70, 'ell ': 69, 'las': 69, 'NT': 69, 'holder ': 69, 'fel': 69, 'mang': 69, 'minst ': 69, 'sel ': 69, 'ram': 69, 'ier ': 69, 'hjer': 69, 'rett': 69, 'é': 68, 'Ha': 68, 'nøy': 68, 'isk': 68, 'fal': 68, 'And': 68, 'Ham': 68, 'kol': 68, 'vek': 68, 'tiske ': 68, 'liten ': 68, 'sal': 68, 'spr': 68, 'ris': 67, 'tan': 67, 'frem ': 67, 'vei ': 67, 'hets': 67, 'komm': 67, 'hus ': 67, 'tter ': 67, 'hev': 67, 'liv': 67, 'bb': 67, 'ring': 67, 'Le': 67, 'bygg': 67, 'gang': 67, 'gg': 67, 'utt ': 67, 'saken ': 67, 'histor': 67, 'ister ': 67, '» ': 67, 'ov': 66, 'kla': 66, 'plass': 66, '7 ': 66, 'hvil': 66, '4 ': 66, 'sjoner ': 66, 'ansen ': 66, 'burde ': 66, 'hand': 66, 'ført ': 66, 'deler ': 66, 'Ga': 66, 'und ': 66, '1 ': 66, 'anske ': 65, 'miljø': 65, 'ering ': 65, 'tte': 65, 'gener': 65, 'elt ': 65, 'still': 65, 'verdens ': 65, 'alltid ': 65, 'net': 65, 'ep': 65, 'mobil': 65, 'tiv ': 65, 'Foto: ': 65, 'vise ': 65, 'arbeid': 65, 'fan': 65, 'ette': 64, 'leder': 64, 'utfordr': 64, 'stet ': 64, 'bruker ': 64, 'are ': 64, 'mål ': 64, 'Jo': 64, 'møte ': 64, 'pla': 64, 'tenker ': 64, 'pu': 64, 'anna': 64, 'familie': 63, 'våre ': 63, 'veg': 63, 'seks ': 63, '20 ': 63, 'amerikanske ': 63, 'tin': 63, '0': 63, 'stedet ': 63, 'arbeids': 63, 'spør ': 63, 'Nor': 62, 'Ho': 62, 'rød': 62, '20': 62, 'ønsk': 62, 'kron': 62, 'grad ': 62, 'her': 62, 'dagens ': 62, '199': 62, 'vende ': 62, 'mel': 62, 'jen': 62, 'fei': 62, 'sønd': 62, 'giv': 62, 'sla': 62, 'sikker': 62, 'Sver': 61, 'tale ': 61, 'milit': 61, 'klima': 61, 'øk': 61, 'nen ': 61, 'Norges ': 61, 'verdi': 61, 'het, ': 61, 'fot': 61, '). ': 61, 'fall': 61, 'sitter ': 61, 'In': 61, 'Her': 61, 'vest': 61, 'vit': 61, 'holdt ': 60, 'spørsmål ': 60, 'lv': 60, 'delse ': 60, 'slike ': 60, 'inne ': 60, 'Ingen ': 60, 'tem': 60, 'Mo': 60, 'rep': 60, 'grunn': 60, 'anse ': 60, 'mann': 60, 'ssen ': 60, 'berg ': 60, 'stand ': 60, 'ist ': 60, 'kar': 60, 'lei': 60, 'avis': 60, 'fram ': 60, 'spiller ': 60, 'halv': 60, 'publiku': 60, 'Martin ': 60, 'Al': 59, 'samarbei': 59, 'pper ': 59, 'lever': 59, 'tere ': 59, 'forhold ': 59, 'eri': 59, 'talt ': 59, 'byg': 59, 'mannen ': 59, 'kampen ': 59, 'app': 59, 'klarer ': 59, 'Norge, ': 59, 'Ifølge ': 59, 'ning. ': 59, 'gjør': 59, 'væ': 58, 'tiv': 58, 'stre': 58, 'kvel': 58, 'ende': 58, 'freds': 58, 'trenger ': 58, 'finner ': 58, 'ikke. ': 58, '0-': 58, 'Ikke ': 58, 'vinne ': 58, 'bra ': 58, 'forhol': 58, 'Obam': 58, 'huset ': 58, 'ele': 58, 'viste ': 57, 'rekke ': 57, 'kker ': 57, 'ært ': 57, 'vel ': 57, 'organis': 57, 'hal': 57, 'F ': 57, 'bid': 57, 'skyl': 57, 'vinner ': 57, '; ': 57, 'forstå': 57, 'sna': 57, 'hun': 57, 'gjerne ': 57, 'gar': 57, 'skyld': 57, 'Kr': 57, 'telefo': 57, 'nt ': 57, 'henne ': 57, 'Y': 56, 'ppe ': 56, 'f ': 56, 'kommen': 56, 'arti': 56, 'ganske ': 56, 'svar': 56, 'pos': 56, 'kamp ': 56, 'gitt ': 56, 'rk': 56, 'strø': 56, 'skap ': 56, 'enda ': 56, 'mør': 56, 'lte ': 56, 'ille ': 56, 'stå': 56, 'årene ': 56, 'ia': 56, 'ham. ': 56, 'lokal': 56, 'kor': 56, 'vite ': 56, 'Bergen ': 56, 'handl': 56, 'ff ': 56, 'hjem ': 56, 'bekym': 56, 'Erik ': 56, 'ar, ': 55, 'bak ': 55, 'sen, ': 55, 'er: ': 55, 'kons': 55, 'rige ': 55, 'kjenner ': 55, 'interes': 55, 'finne ': 55, 'stadig ': 55, 'ingen. ': 55, 'sterkt ': 55, 'hvor': 55, 'les': 55, 'Alle ': 55, 'skjø': 55, 'form ': 55, 'x ': 55, 'stra': 55, 'personer ': 55, 'skjer': 55, 'skre': 55, 'nat': 55, 'fter ': 55, 'ran': 55, 'linger ': 55, 'mme': 54, 'ppe': 54, 'sette ': 54, 'ud': 54, 'kost': 54, 'asjonen ': 54, 'rund': 54, 'én ': 54, 'The ': 54, 'erende ': 54, 'pr': 54, 'stort ': 54, 'stu': 54, 'myndig': 54, 'tek': 54, 'gjelder ': 54, 'betyr ': 54, 'yn': 54, 'funnet ': 54, 'nene ': 54, '-år': 54, 'pro': 54, 'unge ': 54, 'sagt ': 54, 'skrevet ': 54, 'ton ': 54, 'amp': 54, 'barna ': 54, 'set': 53, 'itt ': 53, 'presiden': 53, 'rt': 53, 'ie ': 53, 'stri': 53, 'særlig ': 53, 'Også ': 53, 'else ': 53, 'je ': 53, '6 ': 53, 'kriti': 53, 'retts': 53, 'kli': 53, 'stemm': 53, 'ki': 53, 'stats': 52, 'do': 52, 'by ': 52, 'vansk': 52, 'kvinn': 52, 'milliar': 52, 'NH': 52, 'imidlertid ': 52, 'gj': 52, 'dag, ': 52, '50 ': 52, 'følge ': 52, 'Li': 52, 'løpet ': 52, 'egentlig ': 52, 'kk. ': 52, 'bilder ': 52, 'sti': 52, 'drø': 52, 'penger ': 52, 'grø': 52, 'fisk': 52, 'røy': 52, 'ck ': 52, 'it ': 51, 'dagen ': 51, 'kommun': 51, 'teg': 51, 'egne ': 51, 'Sør': 51, 'vinn': 51, 'igjen. ': 51, 'full ': 51, 'bety': 51, 'bort ': 51, 'tri': 51, 'oper': 51, 'utenfor ': 51, 'Å ': 51, 'Til ': 51, 'staten ': 51, 'mak': 51, 't.': 51, 'strå': 51, 'Ro': 51, 'Olav ': 51, 'ine ': 51, 'jø': 51, 'kje': 51, 'tyde': 51, 'virkelig ': 51, 'ord ': 51, 'tol': 51, 'venn': 51, 'bet ': 51, 'Far': 51, 'møtet ': 50, 'støtte ': 50, 'likt': 50, 'tall': 50, 'hjel': 50, 'foreld': 50, 'kkel': 50, 'ment': 50, 'Sol': 50, 'B ': 50, 'mor ': 50, 'ner': 50, 'lig, ': 50, 'bruk': 50, 'byen ': 50, 'skrev ': 50, 'hvem ': 50, 'Gu': 49, 'Fra ': 49, 'Der ': 49, 'dermed ': 49, 'ligere ': 49, 'um': 49, 'tru': 49, 'spesielt ': 49, 'begge ': 49, 'måte ': 49, 'nummer ': 49, 'full': 49, 'begynte ': 49, 'klar ': 49, 'tene ': 49, 'til. ': 49, 'nett': 49, 'eres ': 49, 'Fl': 49, 'tur': 49, 'vert ': 49, 'hold': 49, 'fil': 49, 'øy ': 49, 'ten. ': 49, 'gam': 49, 'Kina ': 49, 'dan ': 49, 'ter, ': 48, 'klo': 48, 'gje': 48, 'Dan': 48, 'regjering ': 48, 'ar. ': 48, 'Om ': 48, 'land, ': 48, '/ ': 48, 'è': 48, 'New ': 48, 'fjer': 48, 'arbeidet ': 48, 'begynner ': 48, 'lør': 48, 'handler ': 48, 'seg, ': 48, 'prø': 48, 'hjemme ': 48, 'ute ': 48, 'vor ': 48, 'ale': 48, 'ler': 48, 'gen, ': 48, 'klubb': 48, 'Derfor ': 48, 'mitt ': 48, 'samtidig ': 48, 'bruke ': 48, 'menn ': 48, 'lit': 48, 'opptatt ': 48, 'overfor ': 48, 'SV ': 47, 'Noen ': 47, 'lenger ': 47, 'jo': 47, 'fast ': 47, 'ning, ': 47, 'ørt ': 47, 'fører ': 47, 'ide': 47, 'Man ': 47, 'landet. ': 47, 'Ny': 47, 'faktisk ': 47, 'jobb': 47, 'forsv': 47, 'hjemme': 47, 'TV-': 47, 'pp ': 47, '201': 47, 'Tor': 47, 'pt ': 47, 'ende. ': 47, 'samarbeid ': 47, 'hetene ': 47, 'faren ': 47, 'ss ': 47, 'Aa': 47, 'VG': 47, 'tak ': 47, 'produk': 47, 'prin': 46, 'klare ': 46, 'utvikl': 46, 'ftet ': 46, 'tro ': 46, 'den, ': 46, 'ld': 46, 'Kong': 46, 'formid': 46, 'enter ': 46, 'kten ': 46, 'dte ': 46, '000 ': 46, 'rapp': 46, 'nord': 46, 'eget ': 46, 'skaper ': 46, 'besø': 46, 'stiller ': 46, 'fer ': 46, 'utter ': 46, 'sjel': 46, 'andre. ': 46, 'føler ': 46, 'vo': 46, 'ves ': 46, 'ky': 46, 'ma ': 46, 'vær': 46, 'ike ': 46, 'bruk ': 46, 'akt': 46, 'ch ': 46, 'sene ': 46, 'ore ': 46, 'lege': 46, 'Cathr': 46, 'tu': 45, 'So': 45, 'dende ': 45, 'familien ': 45, 'ninger. ': 45, 'Hol': 45, 'tor': 45, 'råd ': 45, 'folk': 45, 'brukt ': 45, 'lever ': 45, 'innen ': 45, 'ori': 45, 'komp': 45, 'dårlig ': 45, 'snakker ': 45, 'ere': 45, 'brø': 45, 'Da': 45, 'kv': 45, 'straff': 45, 'Han': 45, 'tids': 45, 'løs': 45, 'delig ': 45, 'året ': 45, 'orter': 45, 'kroner ': 45, 'ikken ': 45, 'up': 44, 'nø': 44, 'Arbeider': 44, 'Aftenpo': 44, 'ering': 44, 'istan': 44, 'ter. ': 44, 'poeng ': 44, 'Se': 44, 'Ch': 44, 'tall ': 44, 'med. ': 44, 'Sam': 44, 'lett ': 44, 'legge ': 44, 'nytt ': 44, 'Samtidig ': 44, 'spi': 44, 'mam': 44, 'buti': 44, 'ator': 44, 'orten ': 44, 'republi': 44, 'tro': 44, 'ck': 44, 'ansatte ': 44, 'psy': 44, 'Frp ': 44, 'kin': 44, 'sjø': 44, \"'\": 43, 'viktige ': 43, 'ja ': 43, 'ler. ': 43, 'bro': 43, 'Stoltenberg ': 43, 'kontroll': 43, 'Sen': 43, 'sikre ': 43, 'leve ': 43, 'um ': 43, 'period': 43, 'lene ': 43, 'slø': 43, 'No': 43, 'bal': 43, 'Man': 43, 'ett. ': 43, 'ut. ': 43, 'skapet ': 43, 'fav': 43, 'bestem': 43, 'akkurat ': 43, 'Rom': 43, 'tø': 43, 'ft ': 43, 'gav': 43, 'sterk ': 43, 'inter': 43, 'dersom ': 43, 'mott': 43, 'valget ': 43, 'fem': 43, 'ate ': 43, 'ekstre': 43, 'arkitekt': 43, 'hje': 43, 'ein ': 43, 'Par': 42, 'fen': 42, 'y. ': 42, 'ten, ': 42, 'Pro': 42, 'mine ': 42, 'pri': 42, 'sert ': 42, 'tende ': 42, 'medisin': 42, 'ug': 42, 'dem': 42, 'tils': 42, 'aller ': 42, 'videre ': 42, 'gende ': 42, 'på, ': 42, 'o. ': 42, 'trod': 42, 'løp': 42, 'sterke ': 42, '... ': 42, 'v. ': 42, 'Denne ': 42, 'hjelp ': 42, 'gang. ': 42, 'kort ': 42, 'risik': 42, 'nor': 42, 'setter ': 42, 'tv': 42, 'bre': 42, 'skol': 42, 'forfat': 42, 'ytr': 42, 'politik': 42, 'ja': 42, 'job': 42, 'Ta': 42, 'N ': 42, 'stene ': 41, 'dens ': 41, 'Ma': 41, 'hil': 41, 'vik ': 41, 've, ': 41, 'oppr': 41, 'om. ': 41, 'øv': 41, 'Ver': 41, 'stisk ': 41, 'imp': 41, 'igj': 41, 'språk': 41, 'stru': 41, 'ag ': 41, 'stem': 41, 'spoliti': 41, 'forte': 41, 'gjeng': 41, 'gge ': 41, 'økt ': 41, '3. ': 41, 'kun': 41, '196': 41, 'domm': 41, 'meg. ': 41, 'visste ': 41, 'politiet ': 41, 'zz': 41, 'Nord-': 41, 'samfunn': 41, 'lings': 41, 'undersø': 41, 'bri': 41, 'fag': 41, 'ningene ': 41, 'pak': 41, 'dess': 40, 'regjer': 40, 'par ': 40, 'opplev': 40, 'r.': 40, 'regjeringen ': 40, 'pres': 40, 'krav ': 40, '19': 40, 'tige ': 40, 'Både ': 40, 'slo ': 40, 'bevis': 40, 'fte ': 40, 'vurd': 40, 'kjem': 40, 'dets ': 40, 'A ': 40, 'terror': 40, 'folke': 40, 'gangen ': 40, 'erkl': 40, 'dør': 40, 'elle': 40, 'skatte': 40, 'dager ': 40, 'enor': 40, 'tvil ': 40, 'ian ': 40, 'sens ': 40, 'fla': 40, 'skjer ': 40, 'er? ': 40, 'en? ': 40, 'eksp': 40, '18': 40, 'debat': 40, 'ab': 40, 'barnever': 40, 'president ': 39, 'ei ': 39, 'taler ': 39, 'off': 39, 'offent': 39, 'S ': 39, 'Men': 39, 'kjente ': 39, 'barnet ': 39, 'fort': 39, 'dom ': 39, 'au': 39, '1. ': 39, 'prog': 39, 'no. ': 39, 'eren. ': 39, 'historie': 39, \"' \": 39, 'Ut': 39, 'dro ': 39, 'form': 39, 'pil': 39, 'ball': 39, 'offentlige ': 39, 'ser. ': 39, 'Ba': 39, 'vist ': 39, 'altså ': 39, 'adop': 39, 'oppe ': 39, 'bærer ': 39, 'sek': 39, 'ull ': 39, '198': 39, 'kroner. ': 39, 'ik ': 39, 'kong': 38, 'ful': 38, 'ørs': 38, 'spar': 38, 'son ': 38, 'ert. ': 38, 'ingsp': 38, 'Bjør': 38, 'Ap': 38, 'Si': 38, 'B. ': 38, 'forsvar': 38, 'grupp': 38, 'ksom': 38, 'viktigste ': 38, 'ull': 38, 'fat': 38, 'små ': 38, 'tilsku': 38, 'inger. ': 38, 'flo': 38, 'lek': 38, 'debatten ': 38, 'håper ': 38, 'aksep': 38, 'Inn': 38, 'bilde ': 38, 'Stor': 38, 'rist': 38, '0. ': 38, 'sto': 38, 'overrask': 38, 'dels': 38, 'lyk': 38, 'al. ': 38, 'lokale ': 38, 'jobber ': 38, 'bø': 38, 'tid. ': 38, 'kontakt ': 38, 'krat': 38, 'Dagbla': 38, 'Mens ': 38, 'fram': 38, 'energi': 37, 'gru': 37, 'kny': 37, 'snart ': 37, 'kat': 37, 'seksu': 37, 'direkte ': 37, 'hem': 37, 'lang ': 37, 'over. ': 37, 'stilt ': 37, 'glad ': 37, 've. ': 37, 'dde ': 37, 'sak ': 37, 'studen': 37, 'ikke': 37, 'fullt ': 37, 'e-': 37, 'politikk ': 37, 'produs': 37, 'feil ': 37, 'rak': 37, 'rei': 37, 'bekre': 37, 'nu': 37, 'Ak': 37, 'Ra': 37, 'selskap': 37, 'begren': 37, 'sjon. ': 37, 'tivt ': 37, '5. ': 37, 'skole': 37, 'religi': 37, 'retten ': 36, 'é ': 36, 'eter ': 36, 'dro': 36, 'eringen ': 36, 'førte ': 36, 'internasjonale ': 36, 'svar ': 36, 'sende ': 36, 'slett ': 36, 'lå ': 36, 'fød': 36, 'senere ': 36, 'dette. ': 36, 'dem. ': 36, 'yl': 36, 'dning ': 36, 'jen ': 36, '15 ': 36, 'hj': 36, 'steren ': 36, 'atur': 36, 'tert ': 36, 'melder ': 36, 'sminister ': 36, 'drep': 36, 'læ': 36, 'K ': 36, 'slår ': 36, 'jer ': 36, 'Des': 36, 'førs': 36, 'sopp': 36, 'skape ': 36, 'lar ': 36, 'Mu': 36, 'eringer ': 36, 'kt, ': 36, 'telse ': 36, 'oms': 36, 'distrik': 36, 'mon': 35, 'Lo': 35, 'oppfat': 35, 'ns ': 35, 'svarte ': 35, 'bar ': 35, 'klar': 35, 'ro ': 35, 'Yor': 35, 'and. ': 35, 'side ': 35, 'spesi': 35, 'scen': 35, 'musikk': 35, 'ansvar ': 35, 'Kon': 35, 'meter ': 35, 'lt': 35, 'enten ': 35, 'her. ': 35, 'len': 35, 'Rik': 35, 'ssy': 35, 'jev': 35, 'ulike ': 35, 'syn ': 35, 'kra': 35, '4. ': 35, 'elsen ': 35, 'nærings': 35, 'fulle ': 35, 'opprør': 35, 'gjer': 35, 'verste ': 35, 'T ': 35, 'ktet ': 35, 'Til': 35, 'omsor': 35, 'ater': 35, 'flert': 35, 'kvinner ': 35, 'Per ': 35, 'bransj': 35, 'ce ': 34, 'dagen': 34, 'Z': 34, 'isjon': 34, 'stiske ': 34, 'forbin': 34, 'inng': 34, 'fast': 34, 'møter ': 34, 'tell': 34, 'resten ': 34, 'Afghan': 34, 'like': 34, 'årets ': 34, 'est ': 34, 'fest': 34, 'prisen ': 34, 'bra': 34, 'kjemp': 34, 'nemlig ': 34, 'bil ': 34, 'the ': 34, 'Ne': 34, 'presse': 34, '6. ': 34, 'tter': 34, 'anti': 34, 'uro': 34, 'av. ': 34, 'følg': 34, 'Mor': 34, 'Stat': 34, 'reag': 34, 'oss, ': 34, 'ler, ': 34, 'person ': 34, 'Kanskje ': 34, 'ppet ': 34, 'norsk': 34, 'Har ': 34, 'dår': 34, 'stille ': 34, 'o, ': 34, 'sesong': 34, 'Ka': 34, 'analy': 34, 'l. ': 34, 'sikt ': 34, 'diskut': 34, 'journalist': 34, 'prøver ': 34, 'liv. ': 34, 'sven': 33, 'Hen': 33, 'kveld ': 33, 'pe. ': 33, 'sendt ': 33, 'en: ': 33, 'forp': 33, 'snakke ': 33, 'delige ': 33, 'tet. ': 33, 'By': 33, 'understre': 33, 'hardt ': 33, 'ling ': 33, 'sere ': 33, 'ærer ': 33, 'slutt': 33, 'a-': 33, 'direktør ': 33, 'begyn': 33, 'Nei, ': 33, 'aut': 33, 'ingenting ': 33, 'lage ': 33, 'dis': 33, 'isjon ': 33, 'Krist': 33, 'Bo': 33, 'best ': 33, 'meste ': 33, 'ann ': 33, 'konsekven': 33, 'ard ': 33, 'tisk': 33, 'kamer': 33, 'lev': 33, 'ffe ': 33, 'forut': 33, 'Fran': 33, 'effek': 33, 'ress': 33, 'kjøpe ': 33, 'midt ': 33, 'bygge ': 33, 'leng': 33, 'slags ': 33, 'Eli': 33, 'blod': 33, 'Regjeringen ': 33, 'filmen ': 33, 'helikop': 33, 'ä': 32, 'Ar': 32, 'ede ': 32, 'områ': 32, 'nå. ': 32, 'foku': 32, 'famili': 32, 'engel': 32, 'tenke ': 32, 'syn': 32, 'eren, ': 32, 'inst': 32, 'Oslo': 32, 'konkurr': 32, 'Ing': 32, 'Sto': 32, 'da. ': 32, 'også': 32, 'Dersom ': 32, 'informasjon ': 32, 'kjen': 32, 'beskje': 32, 'sjef ': 32, 'gift': 32, 'gan': 32, 'kken. ': 32, 'kun ': 32, 'utvik': 32, 'ble': 32, 'etabl': 32, 'ment ': 32, 'invest': 32, 'nettopp ': 32, 'ball ': 32, 'nn ': 32, 'oss. ': 32, 'små': 32, 'lese ': 32, 'stilling ': 32, '7. ': 32, 'ører ': 32, 'okt': 32, 'ekte': 32, 'maskin': 32, 'Mitt ': 32, 'Berte': 32, 'Gadda': 32, 'sikkert ': 31, 'bek': 31, 'gens ': 31, 'eten ': 31, 'mark': 31, 'perso': 31, 'stre ': 31, 'uly': 31, 'krig': 31, '100 ': 31, 'kunstn': 31, 'her, ': 31, 'tred': 31, 'gla': 31, 'landets ': 31, 'lange ': 31, 'vent': 31, 'fanta': 31, 'motor': 31, 'stoff': 31, 'lang': 31, 'pen ': 31, 'forb': 31, 'blo': 31, 'opply': 31, 'debatt ': 31, 'slå': 31, 'Sy': 31, 'Likevel ': 31, 'lut': 31, 'sho': 31, 'USA': 31, 'urt ': 31, 'ansvar': 31, 'enkel': 31, 'nærm': 31, 'ü': 31, 'økonomiske ': 31, 'tal ': 31, 'Vil ': 31, '16 ': 31, 'forskj': 31, 'Slik ': 31, 'tilt': 31, 'venstre': 31, 'prosent. ': 31, 'Di': 31, '1,': 31, 'aren ': 31, 'konser': 31, 'Bor': 31, 'muse': 31, 'Der': 30, 'ven ': 30, '-A': 30, 'nega': 30, 'ytter': 30, 'Ann': 30, 'ond': 30, 'arbeid ': 30, 'nin': 30, 'tt, ': 30, '.\" ': 30, 'altfor ': 30, 'on, ': 30, 'stjer': 30, 'bidra ': 30, 'prøv': 30, 'skjedde ': 30, 'jer': 30, 'regi': 30, 'situasjonen ': 30, 'lett': 30, 'TV': 30, 'alt. ': 30, 'slutt ': 30, 'popul': 30, 'rette ': 30, 'vet': 30, 'EU ': 30, 'ikt ': 30, 'kk, ': 30, 'pte ': 30, 'El': 30, 'kropp': 30, 'problem': 30, 'skolen ': 30, 'ikk. ': 30, 'tilba': 30, 'Europa ': 30, 'amerikan': 30, 'lov ': 30, 'fort ': 30, 'dd. ': 30, 'Sc': 30, 'intervju': 30, 'jobb ': 30, 'Fo': 29, 'ald ': 29, 'statsminister ': 29, 'An': 29, 'John ': 29, 'stitu': 29, 'regjering': 29, 'saker ': 29, 'bart ': 29, 'Skal ': 29, 'ras': 29, 'nk': 29, 'Hu': 29, 'Ti': 29, '30 ': 29, 'ert, ': 29, 'lær': 29, 'ramm': 29, 'ram ': 29, 'L ': 29, 'Bil': 29, 'departementet ': 29, 'enkelte ': 29, 'mil': 29, 'invi': 29, 'jel': 29, 'vår': 29, 'terer ': 29, 'amb': 29, 'foren': 29, 'avdel': 29, '70 ': 29, 'kund': 29, 'serer ': 29, 'fas': 29, 'offentlig ': 29, 'frivil': 29, 'bod': 29, 'hundre ': 29, 'innvandr': 29, 'ønske ': 29, 'til, ': 29, 'alterna': 29, 'th': 29, 'Dag': 29, '»': 29, '.000 ': 29, 'opsjons': 29, 'trø': 28, 'via ': 28, 'famil': 28, 'ise ': 28, 'me, ': 28, 'Hagen ': 28, 'gel': 28, 'bered': 28, 'vare ': 28, 'ham': 28, 'rig ': 28, 'eksemp': 28, 'organisasjon': 28, 'fen ': 28, 'jord': 28, 'disku': 28, 'pris ': 28, 'opp. ': 28, 'ort, ': 28, 'bom': 28, 'Dermed ': 28, 'seier ': 28, 'klarte ': 28, 'Kri': 28, 'Helse': 28, '25 ': 28, 'jobben ': 28, 'h. ': 28, '40 ': 28, '14 ': 28, 'melding ': 28, 'beste': 28, 'ktor ': 28, 'atet ': 28, 'kap': 28, 'Europa': 28, 'Eng': 28, 'Dis': 28, 'dek': 28, 'orsk': 28, 'slå ': 28, 'NRK ': 28, 'vårt ': 28, 'kjær': 28, 'ferd ': 28, 'De': 28, 'tett ': 28, 'Gra': 28, 'betale ': 28, 'ograf': 28, 'in, ': 28, 'redd ': 28, 'Na': 28, 'omfat': 28, 'internasjonal ': 28, 'argumen': 28, 'kir': 28, 'are': 28, 'Tro': 28, 'Norsk ': 28, 'ften ': 28, 'Co': 27, 'Mon': 27, 'ille': 27, 'sjon, ': 27, 'yng': 27, 'Car': 27, 's-': 27, 'nte ': 27, 'avtal': 27, 'sminist': 27, 'kurs': 27, 'es. ': 27, 'alit': 27, 'isjonen ': 27, 'nødvend': 27, 'byrå': 27, 'dags': 27, 'program': 27, 'ia. ': 27, 'innt': 27, 'Oslo. ': 27, 'et: ': 27, 'vider': 27, 'on. ': 27, 'ks ': 27, 'raskt ': 27, 'att. ': 27, 'eret ': 27, 'privat': 27, 'kraft': 27, 'ig. ': 27, 'nordmenn ': 27, 'asjons': 27, 'betal': 27, 'kle': 27, 'syste': 27, 'kontr': 27, 'informa': 27, 'riktig ': 27, 'lære ': 27, 'brev ': 27, 'drive ': 27, 'verre ': 27, 'forny': 27, 'spor': 27, 'journali': 27, 'fjor': 27, 'To': 27, 'moderne ': 27, 'blikk ': 27, 'rom ': 27, 'det? ': 27, 'gro': 27, 'ettes ': 27, 'tryg': 27, 'reak': 27, 'obje': 27, 'forsik': 27, 'forstår ': 27, 'samfunn ': 27, 'ust ': 27, 'Br': 27, 'virksom': 27, 'Øy': 27, 'Joh': 27, 'da, ': 27, 'Øyvind ': 27, 'tida ': 27, 'privat ': 26, 'Fin': 26, 'Hal': 26, 'Ved ': 26, 'ngen ': 26, 'forskjel': 26, 'oppos': 26, 'tradisjone': 26, 'regjerings': 26, 'vente ': 26, 'spenn': 26, 'slag ': 26, 'tilf': 26, 'rike ': 26, 'ningen. ': 26, 'ettet ': 26, 'peng': 26, 'ast': 26, 'jent': 26, 'demokrati': 26, 'befolk': 26, 'Po': 26, 'tusen ': 26, 'ort ': 26, 'vegg': 26, 'dial': 26, 'ekstra ': 26, 'fjor ': 26, 'D ': 26, 'reiser ': 26, 'My': 26, 'vern': 26, 'tor ': 26, 'universitet': 26, 'energi ': 26, 'Vik': 26, 'bla': 26, 'også. ': 26, 'ring ': 26, 'no ': 26, 'fortal': 26, 'sein': 26, 'sukse': 26, 'teknolog': 26, 'stein ': 26, 'rt. ': 26, 'aler ': 26, '10 ': 26, '00': 26, 'Sa': 26, 'minutt': 26, 'Sel': 26, 'delt': 26, 'terte ': 26, 'Mat': 26, 'unna ': 26, 'Hans ': 26, 'utover ': 26, 'serte ': 26, 'imot ': 26, 'roman': 26, '15': 26, 'middel': 26, 'dik': 26, 'bok ': 26, 'nytt': 26, 'redde ': 26, 'Lond': 26, 'Frp': 26, 'rol': 26, 'reise ': 26, 'med, ': 26, 'ssam': 26, 'hr': 26, 'disk ': 26, 'nes. ': 26, 'Ap ': 26, 'Sunn': 26, 'Esp': 26, 'Først ': 25, 'men. ': 25, 'sentru': 25, 'Før ': 25, 'ssp': 25, 'spørsmål': 25, 'Venstre': 25, 'onen ': 25, 'SV': 25, 'gruppe ': 25, 'tilli': 25, 'dre ': 25, 'kvar': 25, 'NA': 25, 'asjo': 25, 'menneskeret': 25, 'fak': 25, 'Rø': 25, 'krigen ': 25, 'atte ': 25, 'konf': 25, 'kraftig ': 25, 'tid, ': 25, 'oll': 25, 'engasje': 25, 'mes ': 25, 'sjo': 25, 'tenkte ': 25, 'Su': 25, 'prote': 25, 'fjord': 25, 'rar ': 25, 'Alt ': 25, 'ungdom': 25, 'Geor': 25, 'far ': 25, 'Thom': 25, 'Anders ': 25, 'problem ': 25, 'delen ': 25, 'Vå': 25, 'tung': 25, 'kry': 25, 'vere ': 25, 'stasjon': 25, 'est': 25, 'SA': 25, 'svenske ': 25, 'fis': 25, 'Kan ': 25, 'vend': 25, 'hjelp': 25, 'instru': 25, 'enig ': 25, 'det': 25, 'prosjektet ': 25, 'minister ': 25, 'amerikansk ': 25, 'dette, ': 25, 'for. ': 25, 'sym': 25, 'medlemmer ': 25, 'Mid': 25, 'To ': 25, 'tivet ': 25, 'frihet ': 25, 'opp, ': 25, 'selskapet ': 25, 'ide ': 25, 'foreldre ': 25, 'unk': 25, 'arbeidsp': 25, 'musli': 25, 'minoritet': 25, '13': 25, 'Trondheim ': 25, 'Tra': 25, 'samt ': 24, 'tredje ': 24, 'ske': 24, 'Kir': 24, 'skom': 24, 'Under ': 24, 'økonomisk ': 24, 'priorit': 24, 'Ang': 24, 'v, ': 24, 'al, ': 24, 'nsyn': 24, 'of ': 24, 'feil': 24, 'X': 24, 'olog': 24, 'dokumen': 24, 'kunnskap': 24, 'mål. ': 24, 'ete ': 24, 'landet, ': 24, 'dyr': 24, 'vari': 24, 'sag': 24, 'sit': 24, 'ferdig ': 24, 'tilsy': 24, 'studi': 24, 'europeiske ': 24, 'Eller ': 24, 'z ': 24, 'luft': 24, 't-': 24, 'miljøet ': 24, 'skrive ': 24, 'kur': 24, 'klassi': 24, 'forhandl': 24, 'likt ': 24, 'et? ': 24, 'Politiet ': 24, 'naz': 24, 'till': 24, 'spørsmålet ': 24, 'Sk': 24, 'selvsagt ': 24, 'rådet ': 24, 'Sverige ': 24, 'skad': 24, '0-tal': 24, 'sent': 24, 'kjæ': 24, 'Ja, ': 24, 'Trond': 24, 'fær': 23, 'representan': 23, 'ark': 23, 'fu': 23, 'ari': 23, 'mentar': 23, 'didat ': 23, 'rt, ': 23, 'budsjett': 23, 'feng': 23, 'felles ': 23, 'sekretær ': 23, 'funk': 23, 'ord. ': 23, '-E': 23, 'Inter': 23, 'enkelt ': 23, 'gu': 23, 'Sch': 23, 'fredag ': 23, 'fik': 23, 'plass. ': 23, 'åtte ': 23, 'bra, ': 23, 'Tid': 23, 'messig ': 23, 'kontroll ': 23, 'ikker ': 23, 'defin': 23, 'Ja': 23, 'gli': 23, 'kjenne ': 23, 'ensi': 23, 'alko': 23, 'oen ': 23, 'nær ': 23, 'tema': 23, 'att': 23, 'uttry': 23, 'øya ': 23, 'bort': 23, 'opplever ': 23, 'utvikling ': 23, 'Run': 23, 'Kj': 23, 'sle': 23, 'Had': 23, 'olje': 23, 'pasi': 23, 'kampen. ': 23, 'kritikk ': 23, 'raf': 23, 'fri ': 23, 'taket ': 23, 'om, ': 23, '?': 23, 'gat': 23, 'alli': 23, 'religiø': 23, 'sor': 23, 'tekst': 23, 'inntekt': 23, 'vem ': 23, 'USA, ': 23, 'hjelpe ': 23, 'potensi': 23, 'stendig ': 23, 'jon': 23, 'andre, ': 23, 'tjen': 23, 'sle ': 23, 'historie ': 23, 'prod': 23, 'os ': 23, 'nabo': 23, 'Wil': 23, 'film': 23, 'ukt': 23, 'kar ': 23, 'Bir': 23, 'institu': 22, 'bol': 22, 'lands ': 22, 'Jens ': 22, 'Th': 22, 'heim ': 22, 'behandl': 22, 'inntrykk ': 22, '16': 22, 'stin': 22, 'ag. ': 22, 'krigs': 22, 'ferdig': 22, 'stått ': 22, 'sosi': 22, 'evne ': 22, 'ikan': 22, 'eir ': 22, 'resultat': 22, 'konkurranse': 22, 'fjord ': 22, 'Mil': 22, 'reise': 22, '197': 22, 'iver': 22, 'fron': 22, 'målet ': 22, 'bra. ': 22, 'Halvor': 22, 'slått ': 22, 'poen': 22, 'kontra': 22, 'dige ': 22, 'nivå': 22, '12 ': 22, 'praksis ': 22, 'medlem': 22, 'omme ': 22, 'sep': 22, '2008': 22, 'verk ': 22, 'samfunns': 22, 'euro': 22, 'Vi': 22, 'minist': 22, 'finansi': 22, 'økonom': 22, 'w ': 22, 'Mol': 22, 'kris': 22, 'prak': 22, 'regel': 22, 'private ': 22, 'alder': 22, 'kombin': 22, 'lønn': 22, 'rolle ': 22, 'spør': 22, 'drar ': 22, 'finan': 22, 'stren': 22, 'detal': 22, 'prosent, ': 22, '9. ': 22, 'behand': 22, 'brukte ': 22, 'ra ': 22, 'Sig': 22, 'Strø': 22, 'Ek': 22, 'Breivik ': 22, 'kam': 21, 'Fi': 21, 'Ben': 21, 'sist ': 21, 'Ko': 21, 'kirke': 21, 'sparti': 21, 'parti ': 21, 'fokus ': 21, 'forslag ': 21, '.. ': 21, 'partiets ': 21, 'enkelt': 21, 'skon': 21, 'spek': 21, 'utvi': 21, 'nel': 21, 'arbei': 21, 'arbeider ': 21, 'nesk': 21, 'utviklings': 21, 'råd': 21, 'sk, ': 21, 'prinsi': 21, 'bank': 21, 'forklar': 21, 'ö': 21, 'viktig': 21, 'relativt ': 21, 'ta. ': 21, 'Bre': 21, 'inn. ': 21, 'føre': 21, 'Dagens ': 21, 'sentra': 21, 'behov ': 21, 'riks': 21, 'fyl': 21, 'matisk ': 21, 'rut': 21, 'grunnen ': 21, 'krimin': 21, 'prosjekt': 21, '.) ': 21, 'eksper': 21, 'jør': 21, 'seri': 21, '0, ': 21, 'lag. ': 21, 'erfar': 21, 'området ': 21, 'tur ': 21, 'Politi': 21, 'ster. ': 21, 'kvali': 21, 'prøve ': 21, 'Les ': 21, 'stein': 21, 'Fr': 21, 'wa': 21, 'dob': 21, 'redus': 21, 'skat': 21, 'bygget ': 21, 'stad. ': 21, 'mati': 21, 'film ': 21, 'norm': 21, 'Itali': 21, 'diske ': 21, 'Ve': 21, 'demo': 21, 'entra': 21, 'slag': 21, 'ts ': 21, 'aten ': 21, 'allet ': 21, 'r. ': 21, 'slutten ': 21, 'sosiale ': 21, 'O-': 21, 'ule ': 21, 'Knut ': 21, 'ppa ': 21, 'e\" ': 20, 'medlemm': 20, 'Ola': 20, 'rim': 20, 'Lu': 20, 'perio': 20, 'administra': 20, 'utdan': 20, 'stortings': 20, 'erings': 20, 'helst ': 20, 'engasj': 20, 'lengre ': 20, 'situasjon': 20, 'nar': 20, 'soli': 20, 'prom': 20, 'rygg': 20, 'vinter': 20, 'nasjonal': 20, 'kraft ': 20, 'bilen ': 20, 'uansett ': 20, 'ja. ': 20, '500 ': 20, 'skrift': 20, 'sver': 20, 'uke': 20, 'Vel': 20, 'basert ': 20, 'ode ': 20, 'ett, ': 20, 'prosent': 20, 'aug': 20, 'milli': 20, 'makt ': 20, '18 ': 20, 'nok. ': 20, 'sh': 20, 'ut, ': 20, '2-': 20, 'skap. ': 20, 'ire ': 20, 'nødvendig ': 20, 'kn': 20, 'tus': 20, 'represent': 20, '194': 20, 'skole ': 20, 'fremst ': 20, 'Vest': 20, 'kø': 20, 'grep ': 20, 'resulta': 20, 'fi ': 20, 'formuesskat': 20, 'Sku': 20, 'sjone': 20, 'Nat': 20, 'jor': 20, 'kommune': 20, 'sånn ': 20, 'dal. ': 20, 'kvinne': 19, 'vene ': 19, 'Jensen ': 19, 'Mag': 19, 'posi': 19, 'Lars ': 19, 'langs': 19, 'strate': 19, 'Venstre ': 19, 'stilte ': 19, 'profil': 19, 'inkluder': 19, 'fattige ': 19, 'tiltak ': 19, 'Isra': 19, 'hei': 19, 'stat ': 19, 'fordr': 19, 'and, ': 19, 'trygg': 19, 'handlings': 19, 'nell ': 19, 'behovet ': 19, 'dene. ': 19, 'komite': 19, 'tasjon ': 19, 'post': 19, 'Du': 19, 'ina ': 19, 'USA. ': 19, 'Tu': 19, 'am ': 19, 'slikt ': 19, 'opplyser ': 19, 'kro': 19, 'ator ': 19, 'invol': 19, 'våpen': 19, 'svar. ': 19, 'verk': 19, 'knapt ': 19, 'present': 19, 'lys ': 19, 'fysi': 19, 'od ': 19, 'aen ': 19, 'Flor': 19, 'unktet ': 19, '195': 19, 'traf': 19, 'etter. ': 19, 'anse': 19, 'parten ': 19, 'duk': 19, 'skra': 19, 'gjel': 19, 'Lar': 19, 'mars ': 19, 'litter': 19, 'dommen ': 19, 'innen': 19, 'kritisk ': 19, 'styre ': 19, 'styret ': 19, 'roll': 19, 'års ': 19, 'berg': 19, 'slaget ': 19, 'fint ': 19, 'uttrykk ': 19, 'saks': 19, 'ønn': 19, 'juli ': 19, 'oppdra': 19, 'klu': 19, 'fung': 19, 'ka ': 19, 'jobbe ': 19, 'Tore ': 19, 'seg': 19, 'fj': 19, 'ed ': 19, '©': 19, '* ': 19, 'dagen. ': 18, 'fle': 18, 'ål': 18, 'etten ': 18, 'Stortinget ': 18, 'Ste': 18, 'kva': 18, 'arb': 18, 'vidt ': 18, 'tten ': 18, 'bin': 18, 'arbeid. ': 18, 'trå': 18, 'frik': 18, 'livet. ': 18, 'ika ': 18, 'fol': 18, 'endr': 18, 'ka, ': 18, '200 ': 18, 'delt ': 18, 'åre ': 18, 'hundre': 18, 'iet ': 18, 'Ska': 18, 'eldre ': 18, 'alle': 18, 'mots': 18, 'demokratiske ': 18, 'dar ': 18, 'demon': 18, 'doll': 18, 'lag, ': 18, 'arki': 18, 'tidsp': 18, 'rik ': 18, 'varer ': 18, 'tilhø': 18, 'anne ': 18, 'ting': 18, 'moder': 18, 'få': 18, 'rid ': 18, 'oppda': 18, 'kil': 18, 'velfer': 18, 'endre ': 18, 'somme ': 18, 'di ': 18, 'att, ': 18, 'ta, ': 18, 'ikk, ': 18, 'bedrift': 18, 'inve': 18, 'Gjennom ': 18, 'nasjon': 18, 'EU-': 18, 'ung ': 18, 'kommune ': 18, 'gst ': 18, 'fattig': 18, 'Arne ': 18, 'poli': 18, 'sivil': 18, 'skap, ': 18, 'rig': 18, 'isk. ': 18, 'eiend': 18, 'sem': 18, 'list': 18, 'raft ': 18, 'Av': 18, 'utfor': 18, 'behandling ': 18, 'øren ': 18, 'ester ': 18, 'lyst ': 18, 'en\" ': 18, 'Lin': 18, 'Hov': 18, 'ø ': 18, 'alitet ': 18, 'dal': 18, 'ra. ': 18, 'Te': 18, 'skar': 17, 'sse': 17, 'ak ': 17, 'Kristin ': 17, 'medlem ': 17, 'Rei': 17, 'go': 17, 'fylke': 17, 'svaret ': 17, 'endringer ': 17, 'tvil': 17, 'aktuelt ': 17, 'krig ': 17, 'Gr': 17, 'ane ': 17, 'videre': 17, 'tilpas': 17, 'us. ': 17, 'seso': 17, 'brå': 17, 'året. ': 17, 'interessant ': 17, 'kna': 17, 'Over': 17, 'Norske ': 17, 'Nil': 17, 'one ': 17, 'kompet': 17, '2.': 17, 'Nav': 17, 'hindre ': 17, 'utslipp': 17, 'reis': 17, 'is. ': 17, '10': 17, 'lik ': 17, 'radi': 17, 'å, ': 17, 'strategi': 17, 'tyske ': 17, 'skep': 17, 'synet ': 17, 'Hå': 17, 'messi': 17, 'Folk ': 17, 'orit': 17, 'tilsvar': 17, 'son': 17, '0.000 ': 17, 'spu': 17, 'tilbake': 17, 'pra': 17, 'fts': 17, 'Europa. ': 17, 'utvalget ': 17, 'Sand': 17, 'Regjeringens ': 17, 'initia': 17, 'gjort. ': 17, 'verdig ': 17, 'stid': 17, 'flest ': 17, 'rl': 17, 'muslim': 17, 'kvalit': 17, 'identi': 17, 'plan ': 17, 'pun': 17, 'kolog': 17, 'na ': 17, 'Heg': 17, 'Uni': 17, 'ult': 17, 'bedri': 17, 'finn ': 17, 'liv, ': 17, 'flin': 17, 'livs': 17, 'lass': 17, 'Ten': 17, 'fir': 17, '3.': 17, 'Kultur': 17, 'La': 16, 'kon ': 16, 'nest ': 16, 'overt': 16, 'Storting': 16, 'møtte ': 16, 'Hag': 16, 'Jan ': 16, 'styre': 16, 'Sko': 16, 'sær': 16, 'Opp': 16, 'ia, ': 16, 'tom': 16, 'tion': 16, 'minste ': 16, 'begy': 16, 'Gunnar ': 16, 'sentrale ': 16, 'berg. ': 16, 'absolutt ': 16, 'tyder ': 16, 'mellom': 16, 'tju': 16, 'ndig': 16, 'ote': 16, 'Bi': 16, 'febru': 16, 'Mari': 16, 'Fri': 16, 'indu': 16, 'hin': 16, 'fare ': 16, 'Med': 16, 'standen ': 16, 'kraf': 16, 'funn': 16, 'eder': 16, 'samfunnet ': 16, 'retnings': 16, 'integr': 16, 'bedrifter ': 16, 'innsat': 16, 'l, ': 16, 'tank': 16, 'va ': 16, 'minner ': 16, 'rapport ': 16, 'bruken ': 16, 'sin. ': 16, 'je. ': 16, 'Arn': 16, 'bake ': 16, 'prosessen ': 16, 'gri': 16, 'urs': 16, 'erstat': 16, 'gangs': 16, 'motset': 16, 'folk. ': 16, 'stig': 16, 'innenfor ': 16, 'skatt ': 16, 'prosje': 16, 'ordningen ': 16, 'profes': 16, 'kultur ': 16, 'syns': 16, 'tet, ': 16, 'ingens ': 16, 'dra ': 16, 'prosjekt ': 16, 'reda': 16, 'Stu': 16, 'prov': 16, 'Jen': 16, 'ned. ': 16, 'utdann': 16, 'lege ': 16, 'Fil': 16, 'tet': 16, 'ata ': 16, 'tittel': 16, 'lapp': 16, '@': 16, 'ård ': 16, 'Hau': 16, 'qu': 15, 'ja, ': 15, 'heim. ': 15, 'Bonde': 15, 'anbe': 15, 'reali': 15, 'budsjettet ': 15, 'sub': 15, 'avtalen ': 15, 'områder ': 15, 'soldat': 15, 'stad': 15, 'an, ': 15, 'ansvaret ': 15, 'NR': 15, 'anda ': 15, 'glob': 15, 'side': 15, '60 ': 15, 'punkt ': 15, 'fly ': 15, 'Av ': 15, 'skje ': 15, 'sikker ': 15, 'Universitet': 15, 'eventu': 15, 'Ed': 15, 'reduk': 15, 'tekt': 15, 'økonomi ': 15, 'ogra': 15, 'statsministeren ': 15, 'sider ': 15, 'Liby': 15, 'grupper ': 15, 'heng ': 15, 'redusere ': 15, 'regel ': 15, 'ering, ': 15, 'vekt ': 15, '11 ': 15, 'styrke ': 15, 'Fø': 15, '..': 15, 'miljø ': 15, '!': 15, 'før. ': 15, 'legg ': 15, 'industri': 15, 'ørst ': 15, 'grunnlag ': 15, 'dikt': 15, 'klass': 15, 'engelsk ': 15, 'vid': 15, 'volu': 15, 'nordiske ': 15, 'snø': 15, 'doku': 15, 'for, ': 15, 'politikken ': 15, 'avvik': 15, 'tte. ': 15, 'ering. ': 15, 'Russ': 15, 'entu': 15, 'EU': 15, 'jon ': 15, 'transp': 15, 'men, ': 15, 'pop': 15, 'fordel': 15, 'Hit': 15, 'fjell': 15, 'anten ': 15, 'enk': 15, 'kort': 15, 'bøk': 15, 'luk': 15, 'fjel': 15, 'heim, ': 15, 'forbundet ': 15, 'sosial': 14, 'Ein': 14, 'Kjell ': 14, 'torsdag ': 14, 'rime': 14, 'forholdet ': 14, 'innsats ': 14, 'flykt': 14, 'sekret': 14, 'enti': 14, 'respekt ': 14, 'mentet ': 14, 'ustra': 14, '00-': 14, 'ande ': 14, 'amil': 14, 'skade ': 14, 'o-': 14, 'ped': 14, 'desember ': 14, 'kandidat': 14, 'verket ': 14, 'Israel': 14, 'Ski': 14, 'Før': 14, 'Gud': 14, 'av, ': 14, 'politikk': 14, 'vond': 14, 'obser': 14, 'orient': 14, 'novem': 14, 'januar ': 14, 'forma': 14, 'avhengig ': 14, 'rela': 14, 'møtt ': 14, 'ørsmå': 14, 'million': 14, 'måten ': 14, 'Eid': 14, 'vikti': 14, 'ramme': 14, 'regler ': 14, 'jun': 14, 'kkurat ': 14, 'minne': 14, 'istor': 14, 'tekter ': 14, 'bakgrunn ': 14, 'stopp': 14, 'direktor': 14, 'vesent': 14, 'heim': 14, 'måte. ': 14, 'ym': 14, 'språk ': 14, 'retor': 14, 'næ': 14, 'sk. ': 14, 'rm': 14, 'felles': 14, 'statens ': 14, 'demokra': 14, 'eru': 14, 'ndt ': 14, 'tenkt ': 14, 'kluder': 14, 'ressurs': 14, 'vurdere ': 14, 'stør': 14, 'styrk': 14, 'staden ': 14, 'ktor': 14, 'q': 14, 'slik': 14, 'Q': 14, 'lir ': 14, 'ografi': 14, 'Ky': 14, 'konkurran': 14, '): ': 14, 'bus': 14, 'lok': 14, 'deltak': 14, 'løy': 14, 'Presiden': 13, 'avheng': 13, 'Om': 13, 'S-': 13, 'ang ': 13, 'rag ': 13, 'historisk ': 13, 'september ': 13, 'positivt ': 13, 'kken, ': 13, 'registr': 13, 'ite': 13, 'ener': 13, 'isi': 13, 'fungerer ': 13, 'O ': 13, 'skuld': 13, '.no ': 13, 'offisi': 13, 'vekst ': 13, 'aktiv ': 13, 'Statens ': 13, 'visjon': 13, 'us, ': 13, 'kunnskap ': 13, 'korru': 13, 'bæ': 13, 'situ': 13, 'Euro': 13, 'vilje ': 13, 'por': 13, 'europei': 13, 'Ty': 13, 'felle': 13, 'tysk': 13, 'log': 13, 'Bak': 13, 'radik': 13, 'tit': 13, 'systemet ': 13, 'sering ': 13, 'Må': 13, 'føring ': 13, 'dire': 13, 'derimot ': 13, 'ismen ': 13, 'ing: ': 13, 'menneske ': 13, 'jul': 13, 'ug ': 13, 'Nei': 13, 'selskap ': 13, 'jone': 13, 'ubli': 13, 'sta ': 13, 'bein': 13, 'Va': 13, 'ka. ': 13, 'Dju': 13, 'sida ': 13, 'Klassekampen ': 13, 'iti': 12, 'Marie ': 12, 'regjeringsp': 12, 'nei ': 12, 'Und': 12, 'arrang': 12, 'ong ': 12, 'ekstra': 12, 'mål, ': 12, 'unn ': 12, 'pa ': 12, 'sa. ': 12, 'snakk ': 12, 'ssi': 12, 'ettermid': 12, 'sministeren ': 12, 'skapen ': 12, 'problemet ': 12, 'rask': 12, 'nis': 12, 'talet ': 12, 'andr': 12, 'g.': 12, 'meng': 12, 'ika': 12, 'resultat ': 12, 'natt ': 12, 'administ': 12, 'kritiske ': 12, 'positive ': 12, 'samfunn. ': 12, 'lin ': 12, 'este': 12, 'uttal': 12, 'bygg ': 12, 'litteratur': 12, 'stam': 12, 'itali': 12, 'refor': 12, 'nasjonale ': 12, '2006 ': 12, 'filoso': 12, 'loj': 12, 'eor': 12, 'kke': 12, 'ktør ': 12, 'historiske ': 12, 'mal ': 12, 'sosiali': 12, 'kristne ': 12, 'alternativ ': 12, 'system ': 12, 'strik': 12, 'Arbei': 12, 'sjonen. ': 12, 'sa, ': 12, 'ungdoms': 12, 'Nærings': 12, 'akti': 12, 'juni ': 12, 'smi': 12, 'lega': 12, 'tta ': 12, 'disk': 12, 'ly ': 12, 'interv': 12, 'langs ': 12, 'elev': 12, 'klokka ': 12, 'prose': 11, 'Carl ': 11, 'stort': 11, 'representant ': 11, 'vurdering ': 11, 'Folkeparti ': 11, 'viss ': 11, 'politikk. ': 11, 'mar ': 11, 'Sær': 11, 'dar': 11, 'tel ': 11, 'utgangspunkt ': 11, 'sju ': 11, 'innlegg ': 11, 'kommunik': 11, 'sentral': 11, 'legget ': 11, 'rde ': 11, 'satsing ': 11, 'Kro': 11, 'kveld. ': 11, 'utsli': 11, 'ordin': 11, 'relevan': 11, 'stit': 11, 'ens': 11, 'eta': 11, 'visst ': 11, 'Tysk': 11, 'fon': 11, 'krist': 11, 'fyr': 11, 'jam': 11, 'pei': 11, 'vesen': 11, 'deb': 11, 'tenk': 11, 'Solvei': 11, 'enter': 11, 'ologisk ': 11, 'topp ': 11, 'russi': 11, 'skraft': 11, 'itu': 11, 'kjenn': 11, 'uta': 11, 'Stolten': 11, 'utval': 11, 'departemen': 11, 'pasient': 11, 'kostna': 11, 'rn': 11, 'utdanning ': 11, 'tanke ': 11, 'oliti': 11, 'verte ': 11, 'status ': 11, 'konta': 11, 'kta ': 11, 'forur': 11, 'Mannen ': 11, 'Stein ': 11, 'kirke ': 11, 'kirk': 11, 'amer': 11, 'i-': 11, '14': 11, 'ulta': 11, 'ktør': 11, 'eld': 11, 'unkt ': 11, 'mann. ': 11, 'Tyskland ': 11, 'han, ': 11, 'priva': 11, ':': 11, 'mei': 11, 'Kn': 11, '1.': 11, 'tran': 11, 'ordfør': 11, 'Klasse': 11, 'sund': 11, 'avisa ': 11, 'boka ': 11, 'bjørn ': 10, 'generell ': 10, '17 ': 10, 'retning ': 10, 'urd': 10, 'P ': 10, 'anger': 10, 'loka': 10, 'aktu': 10, 'Norge': 10, 'aktuelle ': 10, 'Målet ': 10, 'liber': 10, 'CO2-': 10, 'april ': 10, 'tilfel': 10, 'ska ': 10, 'statist': 10, 'unngå ': 10, 'Me': 10, 'regul': 10, 'une': 10, 'område ': 10, 'Ell': 10, 'formu': 10, 'anbefaler ': 10, 'departementet. ': 10, 'indre ': 10, 'id ': 10, 'Danmark ': 10, '17': 10, 'professor ': 10, 'teor': 10, 'nali': 10, 'Ord': 10, 'krev': 10, 'bruks': 10, 'j ': 10, 'hend': 10, 'sektor': 10, 'uhel': 10, 'king ': 10, 'Ru': 10, 'skip': 10, 'loven ': 10, 'Folke': 10, 'ind ': 10, 'eksister': 10, 'Sty': 10, 'San': 10, '&': 10, 'kultu': 10, 'saml': 10, 'Stein': 10, 'bøker ': 10, 'dep': 10, 'rektor': 10, 'Pre': 10, 'publi': 10, 'Breiv': 10, 'pol': 10, 'asj': 10, 'inga ': 10, 'gasskraft': 10, 'spe': 9, 'eventuelt ': 9, 'konom': 9, '2, ': 9, 'Jon ': 9, 'karakter': 9, 'nisk ': 9, 'Ku': 9, 'bel ': 9, 'gre ': 9, 'folk, ': 9, 'vind ': 9, 'indi': 9, 'intellektu': 9, 'ituasjonen ': 9, 'Bru': 9, 'nett ': 9, 'arbeid, ': 9, 'Gro': 9, 'len ': 9, 'aktivt ': 9, 'region': 9, 'angel': 9, 'janu': 9, 'troll': 9, 'dels ': 9, 'oss': 9, 'aktivit': 9, 'etil': 9, 'kret ': 9, 'virksomhet ': 9, 'frie ': 9, 'omkring ': 9, 'samarbeidet ': 9, 'vilk': 9, 'f. ': 9, '2004 ': 9, 'bygda ': 9, 'asyl': 9, 'budsj': 9, 'politikken. ': 9, 'Lei': 9, 'nem': 9, 'utvikle ': 9, 'Hei': 9, '2007 ': 9, 'Vin': 9, 'ssel': 9, 'nam': 9, 'modell': 9, 'sund ': 9, 'seks': 9, 'univer': 9, 'kret': 9, 'Jø': 9, 'utbygg': 9, 'sine, ': 9, 'dret': 9, 'melde ': 9, 'band ': 9, 'istiske ': 9, 'kilom': 9, 'kommunale ': 9, 'Senter': 9, 'rkje': 9, 'gasskraftverk ': 9, 'alla ': 8, 'satse ': 8, 'gjere ': 8, 'folket ': 8, 'Kor': 8, 'verdige ': 8, 'desem': 8, 'opprett': 8, '4.': 8, 'verds': 8, 'stad, ': 8, 'ó': 8, 'inner ': 8, 'Bø': 8, 'las ': 8, 'anna ': 8, 'to-': 8, 'glo': 8, 'cup': 8, 'generelt ': 8, 'ktu': 8, 'ra, ': 8, 'unng': 8, 'mask': 8, 'refer': 8, 'retningslin': 8, 'endring ': 8, 'kapit': 8, 'n.': 8, 'Jes': 8, 'utgangspunktet ': 8, 'hund': 8, 'tin ': 8, '193': 8, '/': 8, 'tråd ': 8, 'prop': 8, 'ini': 8, 'rael': 8, 'gifter ': 8, 'beskat': 8, 'sing ': 8, 'tradis': 8, 'vilkår ': 8, 'alt': 8, 'refle': 8, 'bygd ': 8, 'vitet ': 8, 'Jesus ': 8, 'kaste ': 8, 'enta ': 8, 'gass': 8, '2005 ': 8, 'll ': 8, 'skul': 8, 'dyr ': 8, 'Gul': 8, 'statsk': 8, 'bakgrunn': 8, 'arrange': 8, 'spen': 8, 'á': 8, 'erin': 8, 'mell': 8, 'tensi': 8, 'CD': 8, 'ild ': 8, 'ommun': 8, 'Erik': 8, 'energ': 8, 'rette': 7, 'Hellas ': 7, 'suk': 7, 'organ': 7, 'rg': 7, 'eret': 7, 'Am': 7, 'felt ': 7, 'aller': 7, 'arbeide ': 7, 'kart': 7, 'nød': 7, '00.000 ': 7, 'esi': 7, 'læring ': 7, 'Aften': 7, 'likn': 7, 'prof': 7, 'ror': 7, 'tan ': 7, 'rein': 7, 'Kyo': 7, 'sdag ': 7, 'internasjonalt ': 7, 'avhen': 7, 'rr': 7, 'tilta': 7, 'ansett ': 7, 'verk, ': 7, 'rykk ': 7, 'prinsippet ': 7, 'strukt': 7, '(A': 7, 'oppfølg': 7, 'Ter': 7, 'sosial ': 7, 'andet ': 7, 'Miljø': 7, 'vis. ': 7, 'sar ': 7, 'vandr': 7, 'val ': 7, 'former ': 7, 'språk. ': 7, 'språk, ': 7, 'snak': 7, 'undervis': 7, 'oll ': 7, 'uavhengig ': 7, 'tiv. ': 7, 'bot': 7, 'kristend': 7, 'vern ': 7, 'formul': 7, 'Grunn': 7, 'kvi': 7, 'lend': 7, 'Kva': 7, 'kirke. ': 7, 'medle': 7, 'smannen ': 7, 'økonomien ': 7, 'Alt': 7, 'Ri': 7, 'barneha': 7, 'inget ': 7, 'era ': 7, 'va, ': 7, 'kulturelle ': 7, 'SS': 7, 'fabr': 7, 'mark ': 7, 'Gjer': 7, 'Senterpartiet ': 7, 'vart ': 7, 'ingent': 7, 'Reg': 7, 'dyre': 7, 'ikop': 7, 'grunnlov': 7, 'byr': 7, 'kommunen ': 7, 'Veg': 7, 'Helse ': 7, 'Nær': 6, 'konkrete ': 6, 'I. ': 6, 'fghan': 6, 'Stort': 6, 'strek': 6, 'foran': 6, 'klas': 6, 'fang': 6, 'ften': 6, 'dei ': 6, 'adda': 6, 'CO': 6, 'fram. ': 6, 'Fol': 6, 'das ': 6, 'eier': 6, 'forurens': 6, 'stod ': 6, 'språ': 6, 'perspek': 6, 'okra': 6, 'runn': 6, 'gjeld ': 6, 'argu': 6, 'ast ': 6, 'formues': 6, 'septem': 6, 'ministeren ': 6, 'plassen ': 6, 'isert ': 6, 'grei': 6, 'overord': 6, 'mom': 6, 'tilkny': 6, 'Univer': 6, 'result': 6, 'Ei': 6, 'nolog': 6, 'vekst': 6, 'kulture': 6, 'oner ': 6, 'hov': 6, 'kre ': 6, 'prosess': 6, 'loven': 6, 'blog': 6, 'Klo': 6, 'ca ': 6, 'lla ': 6, 'bei': 6, 'ras ': 6, 'åra ': 6, 'mi ': 6, 'rang': 5, 'avgren': 5, 'sete ': 5, 'Regjer': 5, 'Dag ': 5, 'dist': 5, 'gd ': 5, 'ivar': 5, 'auk': 5, 'statsrå': 5, 'ffek': 5, 'anu': 5, 'vendig ': 5, 'skaps': 5, 'dyrk': 5, 'tida, ': 5, 'drift ': 5, 'legging ': 5, 'forval': 5, 'Tele': 5, 'praks': 5, 'tidig ': 5, 'grunnlaget ': 5, 'dat ': 5, 'peri': 5, 'pråk': 5, 'ennom ': 5, 'tekn': 5, 'økonomi': 5, 'vem': 5, 'ordning ': 5, 'resent': 5, 'funn ': 5, 'forvalt': 5, 'eksi': 5, 'Solheim ': 5, 'gas': 5, '«': 5, 'sektoren ': 5, 'kopp': 5, 'veks': 5, 'veit ': 5, 'm.': 5, 'ologi ': 5, 'kult': 5, 'asy': 5, 'asyls': 5, 'Ob': 5, 'vor': 5, 'gjor': 5, 'ga, ': 5, 'klasse': 5, 'ga. ': 5, 'onde': 5, 'Ven': 5, 'tradisjo': 5, 'skik': 5, 'Lær': 5, 'spre': 5, 'etar ': 5, 'May': 5, 'produksjonen ': 5, 'leia': 5, 'jour': 5, 'e.': 5, 'Fylke': 5, 'laus': 5, 'åra. ': 5, 'tida. ': 5, 'bad ': 5, 'sjøl': 5, '§ ': 5, 'enga': 5, 'à': 4, '.a. ': 4, 'kall': 4, 'tali': 4, 'åde ': 4, 'ummer ': 4, 'dei. ': 4, 'Stortinget. ': 4, 'ologiske ': 4, 'Stol': 4, '+': 4, 'ikkj': 4, 'ud ': 4, 'ten: ': 4, 'språket ': 4, 'tivit': 4, 'reform': 4, 'organ ': 4, 'verd': 4, 'styres': 4, 'sjå': 4, 'pros': 4, 'gan ': 4, 'spes': 4, 'Cat': 4, 'lertid ': 4, 'brann': 4, 'intel': 4, 'temen': 4, 'aly': 4, 'visse ': 4, 'ure': 4, 'fylk': 4, 'Sjø': 4, 'karakt': 4, 'EØ': 4, 'gde ': 4, 'Fle': 4, 'kjel': 4, 'Tru': 4, 'ekse': 4, 'kvin': 4, 'smin': 4, 'to: ': 4, 'enne ': 4, 'vedtak ': 4, 'ein': 4, 'kka ': 4, 'modellen ': 4, 'une ': 4, 'bu ': 4, 'fta ': 4, 'avslutt': 4, 'spel': 4, 'heime': 4, 'bjør': 3, 'Stats': 3, 'tradisjon': 3, 'inna': 3, 'entlig ': 3, 'internasjon': 3, 'Is': 3, 'etc': 3, 'anal': 3, 'eta ': 3, 'ç': 3, 'semp': 3, 'alism': 3, 'nde ': 3, 'Ol': 3, 'sikte ': 3, 'kku': 3, 'Fy': 3, 'regjerin': 3, 'olje ': 3, 'nad ': 3, 'Vest-': 3, 'forbun': 3, 'apr': 3, 'gar ': 3, 'tele': 3, 'tros': 3, 'medis': 3, 'avhengi': 3, 'skis': 3, 'oritet': 3, 'vat': 3, 'anbefa': 3, 'tist': 3, 'høyr': 3, 'egjer': 3, 'struktur': 3, 'forskri': 3, 'Nore': 3, 'irke': 3, 'styrings': 3, ')': 3, 'eg ': 3, '#': 3, 'ho ': 3, 'aldr': 3, 'Ho ': 3, 'nder ': 3, 'Svalbar': 3, 'fylkeskommun': 3, 'Ei ': 3, 'framfor ': 3, 'ninga ': 3, 'la. ': 3, 'Ö': 3, 'makta ': 3, 'elles ': 3, 'Gj': 3, 'Sogn ': 3, 'vegen ': 3, 'ð': 3, 'nar ': 2, 'ferd': 2, 'Paul': 2, 'Fram': 2, 'absol': 2, '%': 2, 'eie ': 2, 'hands': 2, 'Gunn': 2, 'ogs': 2, 'aust': 2, 'eigen ': 2, 'vj': 2, 'Språkrådet ': 2, 'kast ': 2, 'mog': 2, 'sekven': 2, 'innv': 2, 'utgangsp': 2, 'kunn': 2, 'inte': 2, 'verke': 2, 'nter': 2, 'Førde ': 2, 'urna': 2, 'Like': 2, 'Fyl': 2, 'fortel': 2, 'maktene ': 2, 'Statsråd ': 2, 'kor ': 2, 'ferds': 2, 'jord ': 2, 'OEC': 2, 'EC': 2, 'Næ': 2, 'nytte ': 2, '´': 2, 'last ': 2, 'statskirke': 2, 'sikk': 2, 't,': 2, 'utgang': 2, 'rst ': 2, 'Språ': 2, 'flei': 2, '_': 2, 'Sognd': 2, 'bygde': 2, '5.': 2, 'ane, ': 2, 'eig': 2, 'í': 2, 'spørsmå': 2, 'konkur': 2, 'Gjenn': 2, 'utan': 2, 'frå': 2, 'interess': 2, 'lagde ': 2, 'fun': 2, 'grav': 2, 'inga. ': 2, 'ssa ': 2, 'G ': 2, 'urnalist': 2, 'Sogndal ': 2, 'Fjord': 2, 'intelle': 2, 'veg ': 2, 'ttar ': 2, 'sjukehus': 2, 'sjuke': 2, 'isse': 2, 'rele': 2, 'saka ': 2, 'fylket ': 2, 'va. ': 2, 'appel': 1, 'depar': 1, 'ë': 1, 'no, ': 1, 'Dyr': 1, 'bur ': 1, '=': 1, 'faler ': 1, 'idde ': 1, 'pråk ': 1, 'språks': 1, 'kring ': 1, 'konkr': 1, 'respek': 1, 'Aft': 1, 'tane ': 1, 'evangel': 1, 'stun': 1, 'verne': 1, 'samband ': 1, 'minoritetss': 1, 'athr': 1, 'samfunnet. ': 1, 'varet ': 1, 'vald ': 1, 'lektu': 1, 'Læ': 1, 'andid': 1, 'alter': 1, 'ksem': 1, 'ynte ': 1, 'Annika ': 1, 'hovud': 1, 'krå': 1, 'sidan': 1, 'ar? ': 1, 'skriv ': 1, 'institusjonen ': 1, 'språkpolitisk ': 1, 'språkpolitiske ': 1, 'nynorsk': 1, 'nr. ': 1, 'eit ': 1, 'Ein ': 1, 'Æ': 1, 'Osl': 1, 'ltur': 1, 'skriv': 1, 'lande ': 1, 'journa': 1, 'køy': 1, 'spørs': 1, 'koma ': 1, 'måll': 1, 'jf. ': 1, 'Foto': 1, 'bran': 1, 'mode': 1, 'ane': 1, 'Svalbard ': 1, 'Eg ': 1, 'leis ': 1, 'Un': 1, 'gangsp': 1, 'ira ': 1, 'Utvalget ': 1, 'sju': 1, 'Sog': 1, 'teik': 1, 'ê': 1, 'dell': 1, 'gong ': 1, 'É': 1, 'revol': 1, 'mein': 1, 'åle': 1, 'stra ': 1, 'eringa ': 1, 'sor ': 1, 'lova ': 1, 'livssy': 1, 'star ': 1, 'aren. ': 1, 'Snor': 1, 'åra, ': 1, 'reli': 1, 'rørs': 1, 'lane ': 1, 'È': 1, 'sit ': 1, 'gongen ': 1, 'vane ': 1, 'alts': 1, 'ane. ': 1, 'Firda ': 1, 'Vinje ': 1, 'brei': 1, 'andidat': 1, 'ñ': 1, 'dann': 1, 'Ú': 1, 'baj': 1, 'ikkje ': 1, 'førre ': 1, 'snakka ': 1, 'høg': 1, 'leg ': 1, 'sjuk': 1, 'fekk ': 1, 'ikkje': 1, 'attende ': 1, 'eine ': 1, 'ordna ': 1, 'leik': 1, 'sjukehus ': 1, 'Fjordane ': 1, 'Telemark ': 1, 'gon': 1, 'lv ': 1, 'syner ': 1, 'samla ': 1, 'hv': 1, 'Á': 1, 'ú': 1})\n",
      "merge pairs:\t {('e', ' '): 256, ('r', ' '): 257, ('e', 'r'): 258, ('t', ' '): 259, ('e', 'n'): 260, ('n', ' '): 261, ('d', 'e'): 262, ('e', 't'): 263, ('t', 'e'): 264, ('g', ' '): 265, ('r', 'e'): 266, ('a', 'r'): 267, ('a', 'n'): 268, ('i', 'n'): 269, ('o', 'r'): 270, ('.', ' '): 271, ('i', ' '): 272, ('l', 'e'): 273, ('s', 't'): 274, ('å', ' '): 275, ('n', 'e'): 276, ('e', 'i'): 277, ('t', 'i'): 278, ('o', 'm'): 279, ('m', 'e'): 280, (',', ' '): 281, ('n', 'g'): 282, ('s', 'e'): 283, ('i', 'l'): 284, ('e', 'l'): 285, ('s', 'k'): 286, ('a', ' '): 287, ('m', ' '): 288, ('o', 'g'): 289, ('l', ' '): 290, ('l', 'i'): 291, ('v', 'e'): 292, ('k', 'e'): 293, ('f', 'o'): 294, ('a', 't'): 295, ('r', 'a'): 296, ('t', 't'): 297, ('j', 'e'): 298, ('a', 'l'): 299, ('e', 'g'): 300, ('g', 'e'): 301, ('n', 'd'): 302, ('t', 'a'): 303, ('i', 'k'): 304, ('n', 'n'): 305, ('d', ' '): 306, ('i', 's'): 307, ('h', 'a'): 308, ('r', 'i'): 309, ('e', 's'): 310, ('e', 'd'): 311, ('k', 'a'): 312, ('l', 'l'): 313, ('l', 'a'): 314, ('v', 'i'): 315, ('s', 'o'): 316, ('i', 't'): 317, ('r', 't'): 318, ('n', 's'): 319, ('v', 'a'): 320, ('k', 'k'): 321, ('o', 'n'): 322, ('s', ' '): 323, ('a', 'v'): 324, ('n', 't'): 325, ('v', ' '): 326, ('k', ' '): 327, ('s', 'i'): 328, ('i', 'g'): 329, ('p', 'å'): 330, ('u', 'n'): 331, ('n', 'a'): 332, ('r', 's'): 333, ('d', 'a'): 334, ('k', 'o'): 335, ('a', 'm'): 336, ('g', 'a'): 337, ('i', 'd'): 338, ('s', 'a'): 339, ('t', 'r'): 340, ('m', 'a'): 341, ('a', 's'): 342, ('k', 'j'): 343, ('k', 't'): 344, ('o', 'l'): 345, ('r', 'd'): 346, ('e', 'k'): 347, ('b', 'e'): 348, ('u', 't'): 349, ('ø', 'r'): 350, ('s', 'j'): 351, ('e', 'm'): 352, ('n', 'o'): 353, ('h', 'e'): 354, ('p', 'e'): 355, ('p', 'r'): 356, ('t', 'o'): 357, ('s', 's'): 358, ('g', 'j'): 359, ('a', 'k'): 360, ('å', 'r'): 361, ('a', 'g'): 362, ('f', 'r'): 363, ('r', 'o'): 364, ('D', 'e'): 365, ('j', 'o'): 366, ('l', 't'): 367, ('n', 'i'): 368, ('d', 'i'): 369, ('m', 'i'): 370, ('s', 'p'): 371, ('p', 'p'): 372, ('i', 'e'): 373, ('k', 'r'): 374, ('l', 'd'): 375, ('o', 'p'): 376, ('d', 'r'): 377, ('r', 'å'): 378, ('-', ' '): 379, ('g', 's'): 380, ('i', 'r'): 381, ('r', 'u'): 382, ('r', 'k'): 383, ('s', 'l'): 384, ('t', '.'): 385, ('b', 'l'): 386, ('a', 'd'): 387, ('i', 'v'): 388, ('u', 'l'): 389, ('u', 'r'): 390, ('e', '.'): 391, ('t', 's'): 392, ('l', 'o'): 393, ('l', 's'): 394, ('m', 'm'): 395, ('o', 'v'): 396, ('k', 'u'): 397, ('n', '.'): 398, ('u', 's'): 399, ('b', 'a'): 400, ('r', '.'): 401, ('o', 'k'): 402, ('g', 'r'): 403, ('o', ' '): 404, ('p', 'a'): 405, ('e', 'v'): 406, ('s', 'å'): 407, ('k', 's'): 408, ('f', 'e'): 409, ('æ', 'r'): 410, ('o', 's'): 411, ('m', 'o'): 412, ('m', 'å'): 413, ('r', 'n'): 414, ('f', 'ø'): 415, ('p', 'o'): 416, ('f', 'a'): 417, ('t', 'u'): 418, ('o', 't'): 419, ('e', ','): 420, ('g', 'g'): 421, ('t', ','): 422, ('k', 'l'): 423, ('r', ','): 424, ('y', 'r'): 425, ('u', 'k'): 426, ('r', 'g'): 427, ('a', 'p'): 428, ('o', 'd'): 429, ('f', 'i'): 430, ('j', 'ø'): 431, ('d', 's'): 432, ('g', 'i'): 433, ('n', ','): 434, ('|', ' '): 435, ('i', 'a'): 436, ('b', 'r'): 437, ('d', 'd'): 438, ('n', 'k'): 439, ('s', 'm'): 440, ('r', 'b'): 441, ('k', 'i'): 442, ('h', 'o'): 443, ('r', 'm'): 444, ('r', 'l'): 445, ('i', 'm'): 446, ('l', 'v'): 447, ('e', 'p'): 448, ('r', 'r'): 449, ('s', 'v'): 450, ('p', ' '): 451, ('g', '.'): 452, ('p', 'l'): 453, ('n', 'y'): 454, ('f', 't'): 455, ('en', ' '): 456, ('om', ' '): 457, ('e', 'r '): 458, ('o', 'g '): 459, ('de', 't '): 460, ('s', 'om'): 461, ('fo', 'r '): 462, ('ti', 'l '): 463, ('p', 'å '): 464, ('a', 't '): 465, ('av', ' '): 466, ('d', 'e '): 467, ('f', 'or'): 468, ('in', 'g'): 469, ('d', 'en'): 470, ('ha', 'r '): 471, ('me', 'd '): 472, ('m', 'en'): 473, ('v', 'er'): 474, ('t', 'e '): 475, ('å', 'r '): 476, ('g', 'e '): 477, ('in', 'g '): 478, ('ei', 'n '): 479, ('g', 'en'): 480, ('an', 'd'): 481, ('te', 'r '): 482, ('va', 'r '): 483, ('k', 'e '): 484, ('kj', 'e '): 485, ('de', 'i '): 486, ('De', 't '): 487, ('sk', 'e '): 488, ('o', 'pp'): 489, ('v', 'il'): 490, ('en', 't'): 491, ('en', '. '): 492, ('s', 'å '): 493, ('ik', 'kj'): 494, ('l', 'e '): 495, ('l', 'an'): 496, ('en', 'e '): 497, ('de', 'r '): 498, ('n', 'e '): 499, ('k', 'om'): 500, ('t', 'en'): 501, ('sk', ' '): 502, ('s', 'am'): 503, ('an', 'g'): 504, ('le', 'r '): 505, ('s', 'en'): 506, ('n', 'in'): 507, ('le', 'g'): 508, ('st', 'e '): 509, ('et', 't'): 510, ('e', 't '): 511, ('t', 'er'): 512, ('an', 'e '): 513, ('a', 'r '): 514, ('er', 'e '): 515, ('il', ' '): 516, ('ik', 'k'): 517, ('sk', 'a'): 518, ('ei', 't '): 519, ('or', 'd'): 520, ('a', 'l '): 521, ('en', 'n'): 522, ('m', 'an'): 523, ('ha', 'n '): 524, ('ka', 'n '): 525, ('er', '. '): 526, ('v', 'i '): 527, ('en', 'd'): 528, ('ti', 'l'): 529, ('le', 'g '): 530, ('se', 'g '): 531, ('or', 'sk'): 532, ('en', ', '): 533, ('g', '. '): 534, ('g', 'a '): 535, ('al', 'l'): 536, ('in', 'n'): 537, ('g', 'an'): 538, ('te', 't '): 539, ('li', 'ti'): 540, ('er', 'in'): 541, ('t', 't '): 542, ('d', 'er'): 543, ('s', 't '): 544, ('el', 'le'): 545, ('t', '. '): 546, ('r', 'e '): 547, ('er', 't '): 548, ('b', 'li'): 549, ('l', 'in'): 550, ('tt', 'e '): 551, ('0', '0'): 552, ('om', 'm'): 553, ('fr', 'å '): 554, ('k', 'on'): 555, ('e', 'g '): 556, ('v', 'ar'): 557, ('po', 'li'): 558, ('et', 'te'): 559, ('a', 'n '): 560, ('ø', 'y'): 561, ('ar', 'e '): 562, ('er', ', '): 563, ('pr', 'å'): 564, ('ve', 'r '): 565, ('et', '. '): 566, (':', ' '): 567, ('e', 'i '): 568, ('n', 'or'): 569, ('m', 'in'): 570, ('v', 'el'): 571, ('h', 'el'): 572, ('I', ' '): 573, ('ar', 'b'): 574, ('h', 'an'): 575, ('v', 'en'): 576, ('b', 'y'): 577, ('h', 'ei'): 578, ('s', 'ei'): 579, ('b', 'ei'): 580, ('li', 'g'): 581, ('M', 'en'): 582, ('f', 'ra'): 583, ('an', 'n'): 584, ('ti', 'sk'): 585, ('kk', ' '): 586, ('s', 'y'): 587, ('sj', 'on'): 588, ('d', 'a '): 589, ('dr', 'e '): 590, ('b', 'ar'): 591, ('s', 'te'): 592, ('v', 'ik'): 593, ('in', 'gs'): 594, ('de', 't'): 595, ('p', 'ar'): 596, ('k', 'v'): 597, ('ge', 'r '): 598, ('g', ', '): 599, ('s', 'pr'): 600, ('o', 'r '): 601, ('r', 'et'): 602, ('st', 'or'): 603, ('en', 'e'): 604, ('or', 't'): 605, ('er', 't'): 606, ('st', 'en'): 607, ('m', 'å '): 608, ('og', 's'): 609, ('0', ' '): 610, ('dd', 'e '): 611, ('f', 'ør'): 612, ('i', 'sk'): 613, ('b', 'er'): 614, ('er', 'e'): 615, ('se', 'r '): 616, ('i', 'st'): 617, ('ar', 't '): 618, ('et', 't '): 619, ('il', 'l'): 620, ('li', 't'): 621, ('en', 's '): 622, ('t', ', '): 623, ('s', 'e '): 624, ('li', 'k'): 625, ('?', ' '): 626, ('pp', ' '): 627, ('t', 'a '): 628, ('an', 's'): 629, ('u', 'nd'): 630, ('e', '. '): 631, ('st', 'er'): 632, ('v', 'al'): 633, ('ne', 'r '): 634, ('is', ' '): 635, ('k', 't '): 636, ('s', 'et'): 637, ('b', 'ru'): 638, ('gj', 'er'): 639, ('or', 'e '): 640, ('ov', 'er'): 641, ('v', 'is'): 642, ('sk', 'ap'): 643, ('u', 't '): 644, ('s', 'li'): 645, ('li', 'r '): 646, ('g', 'å'): 647, ('m', 'e '): 648, ('ra', 'm'): 649, ('re', 's'): 650, ('f', 'å'): 651, ('d', '. '): 652, ('an', 'dr'): 653, ('H', 'a'): 654, ('\"', ' '): 655, ('s', 'om '): 656, ('d', 'en '): 657, ('ik', 'kje '): 658, ('m', 'en '): 659, ('vil', ' '): 660, ('ska', 'l '): 661, ('ik', 'ke '): 662, ('po', 'liti'): 663, ('ing', 'a '): 664, ('arb', 'ei'): 665, ('M', 'en '): 666, ('og', 'så '): 667, ('et', 'ter '): 668, ('s', 'prå'): 669, ('ing', 'en '): 670, ('an', 'de '): 671, ('el', 'ler '): 672, ('bli', 'r '): 673, ('u', ' '): 674, ('je', 'g '): 675, ('et', ', '): 676, ('me', 'r '): 677, ('g', 't '): 678, ('li', 'g '): 679, ('j', 'e '): 680, ('n', 'ing'): 681, ('d', 'u'): 682, ('sei', 'er '): 683, ('at', 't '): 684, ('l', 'y'): 685, ('st', 'at'): 686, ('v', 'e '): 687, ('ve', 'd '): 688, ('ha', 'dde '): 689, ('h', 'a '): 690, ('an', 'dre '): 691, ('sk', 'u'): 692, ('le', 't '): 693, ('m', 'il'): 694, ('di', 'g '): 695, ('mo', 't '): 696, ('g', 'je'): 697, ('fo', 'l'): 698, ('opp', ' '): 699, ('al', 'le '): 700, ('f', 'in'): 701, ('f', 'f'): 702, ('ke', 'r '): 703, ('de', 'tte '): 704, ('g', 'ru'): 705, ('ar', '. '): 706, ('fr', 'a '): 707, ('ll', 'e '): 708, ('sj', 'o'): 709, ('o', 'ver '): 710, ('in', 'n '): 711, ('h', 'u'): 712, ('S', 't'): 713, ('ge', 't '): 714, ('f', 'å '): 715, ('en', 'n '): 716, ('p', 'er'): 717, ('prå', 'k'): 718, ('ø', 'r '): 719, ('V', 'i '): 720, ('u', 'll'): 721, ('j', 'er'): 722, ('m', 'ar'): 723, ('f', 're'): 724, ('o', 'f'): 725, ('v', 'ær'): 726, ('f', 'u'): 727, ('j', 'on'): 728, ('ga', 'r '): 729, ('f', 'l'): 730, ('b', 'u'): 731, ('H', 'an '): 732, ('N', 'or'): 733, ('h', 'en'): 734, ('t', 'al'): 735, ('k', 'ri'): 736, ('sk', 'ri'): 737, ('je', 'r '): 738, ('var', 't '): 739, ('m', 'y'): 740, ('al', 't '): 741, ('me', 'll'): 742, ('kom', 'm'): 743, ('da', 'g '): 744, ('m', 'ei'): 745, ('f', 'le'): 746, ('ke', 't '): 747, ('s', 'it'): 748, ('ei', 'r '): 749, ('man', 'ge '): 750, ('al', 'e '): 751, ('g', 'od'): 752, ('pr', 'o'): 753, ('h', 'ø'): 754, ('u', 'nn'): 755, ('o', 'n '): 756, ('b', 'et'): 757, ('ne', 't '): 758, ('re', 'r '): 759, ('i', 'n '): 760, ('ku', 'nn'): 761, ('n', 'år '): 762, ('b', 'il'): 763, ('sj', 'ø'): 764, ('re', 't '): 765, ('fra', 'm'): 766, ('f', 'y'): 767, ('le', 'ge '): 768, ('1', '9'): 769, ('ar', ', '): 770, ('nn', 'e '): 771, ('no', 'ko'): 772, ('et', 'te '): 773, ('ær', 'e '): 774, ('st', 'a'): 775, ('k', 'je'): 776, ('ta', 'r '): 777, ('ing', '. '): 778, ('f', 'år '): 779, ('se', 'l'): 780, ('to', ' '): 781, ('v', 'an'): 782, ('t', 'y'): 783, ('D', 'en '): 784, ('en', 'de '): 785, ('ll', 'om '): 786, ('h', 'ol'): 787, ('den', 'ne '): 788, ('gj', 'enn'): 789, ('it', 't '): 790, ('de', 'l'): 791, ('s', 'in'): 792, ('m', 'p'): 793, ('u', 'd'): 794, ('in', 'ter'): 795, ('b', 'å'): 796, ('m', 'ø'): 797, ('ve', 't '): 798, ('2', '00'): 799, ('h', 'et'): 800, ('ær', 't '): 801, ('O', 'g '): 802, ('sk', 'j'): 803, ('v', 'a '): 804, ('er', 'ing'): 805, ('f', 'er'): 806, ('y', 'l'): 807, ('r', 'ik'): 808, ('ø', 'rs'): 809, ('ti', 'd'): 810, ('h', 'and'): 811, ('la', 'g'): 812, ('en', 't '): 813, ('u', 'tt'): 814, ('tr', 'u'): 815, ('in', 'e '): 816, ('s', 'er'): 817, ('pr', 'os'): 818, ('ti', 'v'): 819, ('s', 'en '): 820, ('t', 'en '): 821, ('h', 'v'): 822, ('ru', 'nn'): 823, ('la', 'r '): 824, ('m', 'u'): 825, ('j', 'el'): 826, ('o', 'b'): 827, ('n', 'ing '): 828, ('l', 'ø'): 829, ('J', 'eg '): 830, ('E', 'g '): 831, ('bl', 'i '): 832, ('s', 'ø'): 833, ('an', 'sk'): 834, ('g', 'år '): 835, ('h', 'al'): 836, (')', ' '): 837, ('b', 'le'): 838, ('u', 'st'): 839, ('g', 'en '): 840, ('me', 'd'): 841, ('me', 'in'): 842, ('as', 'j'): 843, ('by', 'g'): 844, ('st', 'en '): 845, ('st', 'y'): 846, ('sli', 'k '): 847, ('en', 'g'): 848, ('de', 't. '): 849, ('ir', 'e '): 850, ('bl', 'e '): 851, ('ing', ', '): 852, ('ti', 'd '): 853, ('å', 'de '): 854, ('si', 'n '): 855, ('språ', 'k'): 856, ('mei', 'r '): 857, ('mell', 'om '): 858, ('d', 'u '): 859, ('l', 'and'): 860, ('ny', 'e '): 861, ('vik', 'ti'): 862, ('as', 'jon'): 863, ('k', 'ra'): 864, ('gru', 'nn'): 865, ('lan', 'd '): 866, ('e', ', '): 867, ('kunn', 'e '): 868, ('N', 'o'): 869, ('s', 'ik'): 870, ('re', 'g'): 871, ('v', 'ore '): 872, ('s', 'a '): 873, ('k', 'a '): 874, ('komm', 'un'): 875, ('p', 'la'): 876, ('si', 'er '): 877, ('nor', 'ske '): 878, ('gj', 'or'): 879, ('d', 'ø'): 880, ('i', 'ske '): 881, ('l', 'a '): 882, ('n', 'a '): 883, ('vel', ' '): 884, ('ti', 'g '): 885, ('re', 'd'): 886, ('noko', ' '): 887, ('ar', 'ane '): 888, ('t', 'ra'): 889, ('par', 'ti'): 890, ('fø', 'l'): 891, ('l', 't '): 892, ('leg', 'g '): 893, ('ve', 'd'): 894, ('la', 's'): 895, ('o', 're'): 896, ('ver', 't '): 897, ('k', 'or'): 898, ('i', 'sk '): 899, ('ku', 'lt'): 900, ('h', 'i'): 901, ('un', 'der '): 902, ('bå', 'de '): 903, ('k', 'ar'): 904, ('o', 'd '): 905, ('und', 'er'): 906, ('li', 'ke '): 907, ('no', ' '): 908, ('or', 't '): 909, ('r', 'y'): 910, ('må', 'l'): 911, ('te', 'k'): 912, ('ka', 'r '): 913, ('g', 'o'): 914, ('g', 're'): 915, ('de', '. '): 916, ('da', 'n '): 917, ('st', 'il'): 918, ('pe', 't '): 919, ('vær', 'e '): 920, ('D', 'ette '): 921, ('ik', 'k '): 922, ('re', 'p'): 923, ('k', 'om '): 924, ('f', 'ri'): 925, ('o', 'ff'): 926, ('a', '. '): 927, ('nor', 'sk '): 928, ('f', 'at'): 929, ('me', 'ld'): 930, ('b', 'o'): 931, ('er', 'er '): 932, ('stor', 'e '): 933, ('u', 'ro'): 934, ('De', 'i '): 935, ('men', 'ne'): 936, ('st', 're'): 937, ('p', 'res'): 938, ('sku', 'lle '): 939, ('h', 'o '): 940, ('a', ', '): 941, ('os', 's '): 942, ('b', 'or'): 943, ('ver', 'e '): 944, ('es', ' '): 945, ('ar', 'ar '): 946, ('fra', 'm '): 947, ('an', 't '): 948, ('an', 'd '): 949, ('fø', 'r '): 950, ('re', 'k'): 951, ('ørs', 'må'): 952, ('fy', 'l'): 953, ('sa', 'k'): 954, ('n', 'at'): 955, ('kt', 'e '): 956, ('m', 'er'): 957, ('st', 'år '): 958, ('un', 'n '): 959, ('ber', 're '): 960, ('fol', 'k '): 961, ('re', '. '): 962, ('li', 'ge '): 963, ('ut', 'vik'): 964, ('el', 't '): 965, ('te', '. '): 966, ('me', 'g '): 967, ('de', 'l '): 968, ('k', 'en '): 969, ('e', 'le'): 970, ('as', 't '): 971, ('k', 'ir'): 972, ('la', 'g '): 973, ('u', 'ng'): 974, ('er', 'te '): 975, ('al', 'l '): 976, ('re', 'i'): 977, ('mil', 'jø'): 978, ('gj', 'el'): 979, ('st', 'ad'): 980, ('5', ' '): 981, ('at', 'ur'): 982, ('m', 'id'): 983, ('n', 'ær'): 984, ('sjo', 'n '): 985, ('p', 're'): 986, ('i', 'g '): 987, ('el', ' '): 988, ('le', 'is '): 989, ('rd', 'e '): 990, ('st', 'ra'): 991, ('lt', 'ur'): 992, ('ig', 'e '): 993, ('se', 't '): 994, ('gjenn', 'om '): 995, ('ra', 'f'): 996, ('pe', 'r '): 997, ('om', 'rå'): 998, ('k', 'el'): 999, ('na', 'sjon'): 1000, ('g', 'ra'): 1001, ('s', 'la'): 1002, ('vil', 'le '): 1003, ('f', 'ar'): 1004, ('f', 'il'): 1005, ('per', 'so'): 1006, ('gj', 'e '): 1007, ('j', 'u'): 1008, ('fe', 'kk '): 1009, ('ver', 'a '): 1010, ('må', 'l '): 1011, ('d', 'å '): 1012, ('ti', 'sk '): 1013, ('te', 'l'): 1014, ('kk', 'e '): 1015, ('st', 'ør'): 1016, ('d', 'i '): 1017, ('d', 't '): 1018, ('no', 'k '): 1019, ('me', 't '): 1020, ('s', '. '): 1021, ('ne', 'sk'): 1022, ('kon', 'om'): 1023, ('st', 'r'): 1024, ('k', 'la'): 1025, ('ne', 's '): 1026, ('b', 'ak'): 1027, ('t', 're'): 1028, ('kje', 'm '): 1029, ('d', 'ri'): 1030, ('ar', 'en '): 1031, ('b', 'es'): 1032, ('d', ', '): 1033, ('k', '. '): 1034, ('mein', 'er '): 1035, ('le', 'i'): 1036, ('sp', 'ørs'): 1037, ('l', 'en'): 1038, ('b', 'are '): 1039, ('te', 'men'): 1040, ('F', 'or '): 1041, ('\"', '. '): 1042, ('mil', 'li'): 1043, ('d', 'om'): 1044, ('g', 'å '): 1045, ('i', 'stor'): 1046, ('y', ' '): 1047, ('ø', 'n'): 1048, ('for', 'm'): 1049, ('lo', 'v'): 1050, ('s', 's '): 1051, ('ra', 'r '): 1052, ('he', 'r '): 1053, ('kv', 'a '): 1054, ('li', 'v'): 1055, ('par', 'temen'): 1056, ('ø', 'konom'): 1057, ('a', 'li'): 1058, ('v', 'in'): 1059, ('s', 'ett '): 1060, ('R', 'eg'): 1061, ('ol', 'og'): 1062, ('b', 'b'): 1063, ('f', 'ly'): 1064, ('god', 't '): 1065, ('d', 'is'): 1066, ('sin', 'e '): 1067, ('m', 'or'): 1068, ('ma', 'n '): 1069, ('re', 'gjer'): 1070, ('r', 'ett'): 1071, ('gje', 'r '): 1072, ('No', 're'): 1073, ('det', ', '): 1074, ('sjø', 'lv'): 1075, ('hi', 'stor'): 1076, ('ta', 'n '): 1077, ('B', 'er'): 1078, ('p', 'ri'): 1079, ('my', 'kje '): 1080, ('F', 'r'): 1081, ('st', 'yr'): 1082, ('fu', 'nn'): 1083, ('s', 'n'): 1084, ('ru', 'nd'): 1085, ('u', 'ta'): 1086, ('menne', 'sk'): 1087, ('si', 'ste '): 1088, ('vi', 't'): 1089, ('p', 'en'): 1090, ('de', ', '): 1091, ('u', 'ke'): 1092, ('få', 'tt '): 1093, ('sj', 'u'): 1094, ('or', 'gan'): 1095, ('g', 'ang'): 1096, ('kj', 'ø'): 1097, ('2', ' '): 1098, ('fle', 'ire '): 1099, ('sit', 't '): 1100, ('m', '. '): 1101, ('n', 'å '): 1102, ('li', 'tt '): 1103, ('hu', 'n '): 1104, ('H', 'el'): 1105, ('sjon', 'en '): 1106, ('jo', 'b'): 1107, ('fre', 'm'): 1108, ('kult', 'ur'): 1109, ('man', 'n'): 1110, ('P', 'å '): 1111, ('et', 's '): 1112, ('de', 'par'): 1113, ('n', 'ø'): 1114, ('eg', 'jer'): 1115, ('el', 'le '): 1116, ('før', 'ste '): 1117, ('kj', 'en'): 1118, ('no', 'e '): 1119, ('k', 'al'): 1120, ('da', 'l '): 1121, ('off', 'ent'): 1122, ('politi', 'ske '): 1123, ('1', ' '): 1124, ('kk', 'en '): 1125, ('tr', 'en'): 1126, ('ss', 'e '): 1127, ('te', ', '): 1128, ('he', 't '): 1129, ('s', 'ent'): 1130, ('ann', 'a '): 1131, ('b', 'eg'): 1132, ('sv', 'ar'): 1133, ('politi', 'kk'): 1134, ('v', 'is '): 1135, ('fo', 're'): 1136, ('u', 'm'): 1137, ('s', 'i '): 1138, ('li', 'ke'): 1139, ('tr', 'e '): 1140, ('ne', 'd '): 1141, ('st', 'ø'): 1142, ('gan', 'g '): 1143, ('pro', 'ble'): 1144, ('j', 'or'): 1145, ('ene', '. '): 1146, ('v', 'or'): 1147, ('er', 'en '): 1148, ('le', 'gg'): 1149, ('ny', ' '): 1150, ('ett', 'er'): 1151, ('l', 'v '): 1152, ('\"', ', '): 1153, ('b', 'ok'): 1154, ('sk', 'il'): 1155, ('t', 'ter '): 1156, ('de', 'ss'): 1157, ('j', 'a '): 1158, ('e', 'st'): 1159, ('g', 'am'): 1160, ('me', 'st '): 1161, ('ti', 'v '): 1162, ('j', 'ord'): 1163, ('nin', 'gs'): 1164, ('pr', 'od'): 1165, ('v', 'år'): 1166, ('da', 'r '): 1167, ('bli', 'tt '): 1168, ('språk', 'politi'): 1169, ('s', 'u'): 1170, ('k', 'na'): 1171, ('for', 'sk'): 1172, ('pros', 'ent '): 1173, ('in', 'gar '): 1174, ('a', 'kt'): 1175, ('ia', 'r '): 1176, ('sam', 'fu'): 1177, ('b', 'ed'): 1178, ('nat', 'ur'): 1179, ('b', 'an'): 1180, ('D', 'e '): 1181, ('by', 'gg'): 1182, ('y', 'n'): 1183, ('h', 'us'): 1184, ('k', 're'): 1185, ('de', 'm'): 1186, ('na', 'r '): 1187, ('M', 'ar'): 1188, ('u', 'rd'): 1189, ('kt', 'or'): 1190, ('r', 'a '): 1191, ('V', 'e'): 1192, ('b', 'ør '): 1193, ('for', 'di '): 1194, ('se', 'k'): 1195, ('E', 'in '): 1196, ('u', 's '): 1197, ('!', ' '): 1198, ('f', 'j'): 1199, ('st', '. '): 1200, ('D', 'er'): 1201, ('te', 'm'): 1202, ('r', 'an'): 1203, ('st', 'or '): 1204, ('sp', 'ørsmå'): 1205, ('or', 'd '): 1206, ('sk', 'at'): 1207, ('st', 'å'): 1208, ('an', 'e. '): 1209, ('ør', 'e '): 1210, ('s', 'na'): 1211, ('gr', 'unn '): 1212, ('lan', 'gt '): 1213, ('nd', 't '): 1214, ('ta', 'k '): 1215, ('jo', ' '): 1216, ('ti', 'ls'): 1217, ('fø', 're'): 1218, ('n', 'en '): 1219, ('s', 'ær'): 1220, ('ka', 'mp'): 1221, ('se', 'm'): 1222, ('sk', 'o'): 1223, ('4', ' '): 1224, ('vær', 't '): 1225, ('k', 'ro'): 1226, ('S', 'A'): 1227, ('d', 'ra'): 1228, ('N', 'år '): 1229, ('bar', 'ne'): 1230, ('ent', 'ra'): 1231, ('ret', 't '): 1232, ('be', 'r '): 1233, ('politi', 'sk '): 1234, ('lo', 'k'): 1235, ('hei', 'le '): 1236, ('3', ' '): 1237, ('re', ', '): 1238, ('sam', 'arbei'): 1239, ('to', 'k '): 1240, ('S', 'og'): 1241, ('l', 'øy'): 1242, ('sjø', 'l'): 1243, ('sa', 'gt '): 1244, ('le', 'ia'): 1245, ('res', 'ent'): 1246, ('in', 'ns'): 1247, ('d', 'y'): 1248, ('gjenn', 'om'): 1249, ('b', 'i'): 1250, ('ar', 'ti'): 1251, ('ne', 'm'): 1252, ('Nor', 'ge '): 1253, ('sv', 'ært '): 1254, ('k', ', '): 1255, ('Reg', 'jer'): 1256, ('de', 'partemen'): 1257, ('sj', 'uke'): 1258, ('sam', 'funn'): 1259, ('u', 'tan '): 1260, ('vikti', 'g '): 1261, ('le', 'iar '): 1262, ('h', 'jel'): 1263, ('vi', 'ser '): 1264, ('for', 'hol'): 1265, ('s', 'je'): 1266, ('v', 'å'): 1267, ('rund', 't '): 1268, ('v', 'urd'): 1269, ('e', 'in'): 1270, ('tr', 'y'): 1271, ('kk', 'a '): 1272, ('ti', 'ske '): 1273, ('g', 'od '): 1274, ('c', 'h'): 1275, ('h', 'øy'): 1276, ('d', 'an'): 1277, ('hei', 'lt '): 1278, ('skap', ' '): 1279, ('t', 'i '): 1280, ('tr', 'o'): 1281, ('sk', 'ul'): 1282, ('sk', 'i'): 1283, ('00', '0 '): 1284, ('as', 'jo'): 1285, ('partemen', 'tet '): 1286, ('la', 'gt '): 1287, ('h', ' '): 1288, ('d', 'd '): 1289, ('sjo', 'ns'): 1290, ('sm', 'in'): 1291, ('st', 'ill'): 1292, ('St', 'ort'): 1293, ('6', ' '): 1294, ('hand', 'l'): 1295, ('ansk', 'je '): 1296, ('l', 'å'): 1297, ('so', 'si'): 1298, ('l', 'ing '): 1299, ('U', 'SA'): 1300, (')', '. '): 1301, ('er', 'ing '): 1302, ('ge', '. '): 1303, ('da', '. '): 1304, ('jo', 'n '): 1305, ('st', 'and'): 1306, ('se', 'lv'): 1307, ('i', 'a '): 1308, ('ft', 'e '): 1309, ('a', 'u'): 1310, ('organ', 'is'): 1311, ('gjor', 't '): 1312, ('in', 'st'): 1313, ('år', '. '): 1314, ('f', 't '): 1315, ('k', 'an'): 1316, ('is', 'ter '): 1317, ('må', 'tte '): 1318, ('f', 'ag'): 1319, ('stør', 're '): 1320, ('E', 'tter '): 1321, ('h', 'å'): 1322, ('ma', 'kt'): 1323, ('J', 'o'): 1324, ('st', 'u'): 1325, ('rep', 'resent'): 1326, ('H', 'ø'): 1327, ('t', 'an'): 1328, ('m', 'et'): 1329, ('F', 'or'): 1330, ('00', ' '): 1331, ('f', 'un'): 1332, ('h', 'att '): 1333, ('sp', 'es'): 1334, ('b', 're'): 1335, ('arbei', 'd'): 1336, ('sjø', 'lv '): 1337, ('no', 'en '): 1338, ('in', 'ne'): 1339, ('sa', 'r '): 1340, ('i', 'en '): 1341, ('bru', 'k '): 1342, ('gen', 'er'): 1343, ('Nore', 'g '): 1344, ('sk', 'je'): 1345, ('f', 'an'): 1346, ('sam', 'e '): 1347, ('de', 'b'): 1348, ('ga', '. '): 1349, ('St', 'at'): 1350, ('en', 'er'): 1351, ('S', 'å '): 1352, ('da', 'g. '): 1353, ('van', 'sk'): 1354, ('H', 'er '): 1355, ('ri', 'st'): 1356, ('sent', 'ra'): 1357, ('l', 'u'): 1358, ('h', 'je'): 1359, ('jo', 'bb'): 1360, ('7', ' '): 1361, ('øn', 'sk'): 1362, ('el', 'ig '): 1363, ('s', ', '): 1364, ('h', 'ov'): 1365, ('vi', 'rk'): 1366, ('p', 'as'): 1367, ('pl', 'an'): 1368, ('b', 'el'): 1369, ('for', 'te'): 1370, ('h', 'ar'): 1371, ('utvik', 'l'): 1372, ('O', 'sl'): 1373, ('u', 'like '): 1374, ('o', 'liti'): 1375, ('it', 'u'): 1376, ('kr', 'å'): 1377, ('med', 'le'): 1378, ('o', 'll'): 1379, ('es', 'i'): 1380, ('ò', 'g '): 1381, ('i', '. '): 1382, ('ti', 've '): 1383, ('vel', 'dig '): 1384, ('stat', 's'): 1385, ('fl', 'ere '): 1386, ('di', 're'): 1387, ('si', 'den'): 1388, ('st', 'ar'): 1389, ('N', 'ord'): 1390, ('2', '0'): 1391, ('da', 'g'): 1392, ('te', 'l '): 1393, ('asjon', 'en '): 1394, ('J', 'an '): 1395, ('språ', 'k '): 1396, ('n', 'ingen '): 1397, ('leg', 'are '): 1398, ('j', 'ør'): 1399, ('inter', 'es'): 1400, ('sj', 'å '): 1401, ('bl', 'ant '): 1402, ('pr', 'is'): 1403, ('han', 's '): 1404, ('g', 'ar'): 1405, ('am', 'il'): 1406, ('k', 'li'): 1407, ('L', 'i'): 1408, ('mo', 't'): 1409, ('gjor', 'de '): 1410, ('k', 'y'): 1411, ('tiv', 't '): 1412, ('Nor', 'ge'): 1413, ('den', 'e '): 1414, ('s', 'at'): 1415, ('S', 'am'): 1416, ('tt', 'er'): 1417, ('m', 'is'): 1418, ('le', '. '): 1419, ('opp', 'le'): 1420, ('f', 'ei'): 1421, ('arbei', 'ds'): 1422, ('S', 'V'): 1423, ('gje', 'kk '): 1424, ('da', 'gen'): 1425, ('f', 'ull'): 1426, ('gr', 'en'): 1427, ('un', 'k'): 1428, ('el', 'l'): 1429, ('ing', 'ane '): 1430, ('b', 'ø'): 1431, ('kor', 'leis '): 1432, ('ig', 'j'): 1433, ('v', 'at'): 1434, ('sk', 'jer '): 1435, ('st', 'it'): 1436, ('ka', 'p'): 1437, ('M', 'a'): 1438, ('hel', 'ler '): 1439, ('el', 'l '): 1440, ('8', ' '): 1441, ('le', ', '): 1442, ('de', 'sse '): 1443, ('en', 'dr'): 1444, ('d', 'o'): 1445, ('rs', 't '): 1446, ('0', '-'): 1447, ('jer', 'ingen '): 1448, ('sel', 'v '): 1449, ('i', 'e '): 1450, ('et', 'a'): 1451, ('te', 'k '): 1452, ('gru', 'pp'): 1453, ('ut', 'en '): 1454, ('f', 'elle'): 1455, ('spes', 'i'): 1456, ('Regjer', 'ingen '): 1457, ('æ', 'r '): 1458, ('departemen', 'tet '): 1459, ('til', 'legg '): 1460, ('pr', 'ø'): 1461, ('E', 'uro'): 1462, ('hei', 'm '): 1463, ('arbei', 'det '): 1464, ('l', 'ær'): 1465, ('parti', 'et '): 1466, ('g', 'i '): 1467, ('ke', '. '): 1468, ('pla', 'ss'): 1469, ('ene', ', '): 1470, ('m', 'us'): 1471, ('me', 'l'): 1472, ('r', 'øy'): 1473, ('sta', 'd '): 1474, ('S', 'prå'): 1475, ('p', 'e '): 1476, ('ut', 'for'): 1477, ('kr', 'e '): 1478, ('al', 'dr'): 1479, ('d', 'sj'): 1480, ('min', 'dre '): 1481, ('S', 'p'): 1482, ('st', 'ri'): 1483, ('H', 'u'): 1484, ('før', 'e '): 1485, ('l', 'æ'): 1486, ('r', 'ø'): 1487, ('ko', 'ns'): 1488, ('lan', 'det '): 1489, ('u', 'r '): 1490, ('D', 'å '): 1491, ('ol', 'je'): 1492, ('m', 'ang'): 1493, ('dr', 'i '): 1494, ('pa', 'r '): 1495, ('al', 'ts'): 1496, ('F', 'ø'): 1497, ('mm', 'e '): 1498, ('like', 'vel '): 1499, ('min', 'ist'): 1500, ('al', 'en '): 1501, ('r', 'om'): 1502, ('T', 'h'): 1503, ('se', '. '): 1504, ('st', ', '): 1505, ('milli', 'on'): 1506, ('ann', 'en '): 1507, ('tt', 'a '): 1508, ('n', '. '): 1509, ('bet', 'y'): 1510, ('val', 'g'): 1511, ('kom', 'mer '): 1512, ('f', 'amil'): 1513, ('kl', 'u'): 1514, ('E', 'n '): 1515, ('ve', 'g'): 1516, ('man', 'n '): 1517, ('prå', 'krå'): 1518, ('19', '9'): 1519, ('S', 'ol'): 1520, ('v', 'ei'): 1521, ('i', 't '): 1522, ('vi', 'd'): 1523, ('st', 'a '): 1524, ('gam', 'le '): 1525, ('sl', 'utt'): 1526, ('d', 'ig'): 1527, ('re', 'gi'): 1528, ('my', 'e '): 1529, ('p', 'ei'): 1530, ('und', ' '): 1531, ('er', 'ne '): 1532, ('pros', 'je'): 1533, ('st', 'an'): 1534, ('or', 'it'): 1535, ('er', 'a '): 1536, ('perso', 'n'): 1537, ('ble', 'i '): 1538, ('kl', 'ar'): 1539, ('3', '.'): 1540, ('op', 'pr'): 1541, ('i', ', '): 1542, ('sp', 'ek'): 1543, ('inter', 'nasjon'): 1544, ('U', 't'): 1545, ('t', 'att '): 1546, ('k', 'anskje '): 1547, ('a', 'uk'): 1548, ('f', 'ikk '): 1549, ('f', 'all '): 1550, ('gjel', 'd '): 1551, ('ls', 'e '): 1552, ('ts', 'å '): 1553, ('god', 'e '): 1554, ('forte', 'l '): 1555, ('ik', 'an'): 1556, ('leg', 'gj'): 1557, (')', ', '): 1558, ('on', 'ar '): 1559, ('de', 's '): 1560, ('ss', 'en '): 1561, ('S', 'el'): 1562, ('fyl', 'ke'): 1563, ('H', 'o '): 1564, ('ve', 'st'): 1565, ('ut', 't '): 1566, ('ne', 'd'): 1567, ('prod', 'uk'): 1568, ('V', 'est'): 1569, ('m', 'at'): 1570, ('am', 'er'): 1571, ('hel', 'se'): 1572, ('d', 'al'): 1573, ('tru', 'r '): 1574, ('ng', 'en '): 1575, ('gj', 'a '): 1576, ('T', 'ele'): 1577, ('hu', 's '): 1578, ('sk', 'ol'): 1579, ('an', 'for '): 1580, ('li', 'vet '): 1581, ('sam', 'an'): 1582, ('s', 'an'): 1583, ('mø', 'te '): 1584, ('kro', 'ner '): 1585, ('rå', 'd '): 1586, ('v', 'ol'): 1587, ('er', 's '): 1588, ('for', 'dr'): 1589, ('9', ' '): 1590, ('år', ', '): 1591, ('h', 'va '): 1592, ('ik', ' '): 1593, ('la', 'get '): 1594, ('k', 'ur'): 1595, ('ul', 'l '): 1596, ('ny', 'tt'): 1597, ('N', 'o '): 1598, ('p', 'u'): 1599, ('ma', 'r '): 1600, ('v', 'år '): 1601, ('u', 'ne'): 1602, ('men', 'er '): 1603, ('ver', 'den'): 1604, ('sy', 'ste'): 1605, ('f', 'al'): 1606, ('ele', 'mar'): 1607, ('lin', 'gs'): 1608, ('hv', 'or '): 1609, ('d', 'at'): 1610, ('t', 'ing '): 1611, ('in', 'get '): 1612, ('spørsmå', 'l '): 1613, ('k', 'un'): 1614, ('hv', 'or'): 1615, ('p', 'ra'): 1616, ('kl', 'art '): 1617, ('an', 'ske '): 1618, ('da', ', '): 1619, ('om', 's'): 1620, ('gå', 'tt '): 1621, ('kra', 'ft'): 1622, ('.', '000 '): 1623, ('sp', 'il'): 1624, ('f', 'el'): 1625, ('ls', 'en '): 1626, ('gj', 'en'): 1627, ('K', 'vi'): 1628, ('ve', 'k'): 1629, ('d', 'år'): 1630, ('is', 't '): 1631, ('krå', 'det '): 1632, ('al', 'vor'): 1633, ('h', 'er'): 1634, ('ny', 'tt '): 1635, ('k', 'vel'): 1636, ('m', ', '): 1637, ('a', 's '): 1638, ('bak', 'e '): 1639, ('mar', 'k '): 1640, ('kom', 'me '): 1641, ('gj', 'ør '): 1642, ('den', '. '): 1643, ('uro', 'p'): 1644, ('e', 'd '): 1645, ('ko', 'r '): 1646, ('go', 'ng'): 1647, ('fo', 't'): 1648, ('M', 'e'): 1649, ('n', ', '): 1650, ('an', 'e, '): 1651, ('ne', '. '): 1652, ('rt', 'e '): 1653, ('an', 'na'): 1654, ('ans', 'var '): 1655, ('aldr', 'i '): 1656, ('alts', 'å '): 1657, ('le', 's '): 1658, ('Språ', 'krådet '): 1659, ('jor', 'd '): 1660, ('kri', 'ti'): 1661, ('ti', 'g'): 1662, ('land', '. '): 1663, ('b', 'as'): 1664, (';', ' '): 1665, ('S', 'om '): 1666, ('r', 'en'): 1667, ('M', 'an'): 1668, ('in', 'ger '): 1669, ('sit', 'u'): 1670, ('f', ' '): 1671, ('li', 'te '): 1672, ('s', 'le'): 1673, ('o', 'ns'): 1674, ('s', 'lag '): 1675, ('for', 'b'): 1676, ('t', 'or'): 1677, ('ra', 'pp'): 1678, ('gj', 'øre '): 1679, ('rb', 'ei'): 1680, ('A', 'rb'): 1681, ('f', 'ire '): 1682, ('sli', 'ke '): 1683, ('ok', 'ra'): 1684, ('1', '. '): 1685, ('e', 'uro'): 1686, ('ko', 'l'): 1687, ('k', 'var'): 1688, ('million', 'ar '): 1689, ('pr', 'of'): 1690, ('ta', 'k'): 1691, ('p', 'a '): 1692, ('d', 're'): 1693, ('nin', 'ger '): 1694, ('T', 'y'): 1695, ('b', 'all'): 1696, ('f', 'ast '): 1697, ('yr', 'kj'): 1698, ('sk', 're'): 1699, ('ra', 'sk'): 1700, ('men', 's '): 1701, ('på', '. '): 1702, ('Fø', 'rde '): 1703, ('hel', 't '): 1704, ('fol', 'ke'): 1705, ('pla', 'ss '): 1706, ('m', 'og'): 1707, ('li', 'k '): 1708, ('gi', 'r '): 1709, ('lik', 't '): 1710, ('f', 'ter '): 1711, ('st', 'ru'): 1712, ('utfor', 'dr'): 1713, ('si', 'dan '): 1714, ('de', 'm '): 1715, ('re', 'li'): 1716, ('gj', 'ere '): 1717, ('te', 'kt'): 1718, ('b', 'id'): 1719, ('ver', 'k'): 1720, ('on', 'g '): 1721, ('st', 'å '): 1722, ('kli', 'ma'): 1723, ('he', 'v'): 1724, ('min', 'st '): 1725, ('M', 'e '): 1726, ('for', 'ts'): 1727, ('no', 'kre '): 1728, ('fle', 'ste '): 1729, ('lo', 'v '): 1730, ('kr', 'on'): 1731, ('iv', 'er'): 1732, ('f', 'jor'): 1733, ('gr', 'e '): 1734, ('hov', 'ud'): 1735, ('n', 'et'): 1736, ('k', 'sem'): 1737, ('S', 'val'): 1738, ('komm', 'une'): 1739, ('D', 'ag'): 1740, ('ska', 'pet '): 1741, ('noko', 'n '): 1742, ('F', 'l'): 1743, ('bu', 'rde '): 1744, ('lo', 'kal'): 1745, ('deb', 'at'): 1746, ('f', 'ak'): 1747, ('til', 'bake '): 1748, ('M', 'ed '): 1749, ('h', 'y'): 1750, ('skri', 'v '): 1751, ('for', 'val'): 1752, ('før', 't '): 1753, ('fø', 'rst '): 1754, ('kom', 'p'): 1755, ('kk', 'je '): 1756, ('li', 'gi'): 1757, ('s', 'en. '): 1758, ('sl', 'å'): 1759, ('het', 'en '): 1760, ('all', 'tid '): 1761, ('ga', ', '): 1762, ('amer', 'ikan'): 1763, ('d', 'er. '): 1764, ('lan', 'ds'): 1765, ('sk', 'ra'): 1766, ('mann', 'en '): 1767, ('p', 'i'): 1768, ('han', '. '): 1769, ('dem', 'ok'): 1770, ('fun', 'net '): 1771, ('men', 't '): 1772, ('va', 'ret '): 1773, ('hel', 'e '): 1774, ('for', 'ma'): 1775, ('v', 'eit '): 1776, ('s', 'ikk'): 1777, ('fin', 'an'): 1778, ('Stort', 'inget '): 1779, ('sk', 'y'): 1780, ('bet', 're '): 1781, ('pr', 'in'): 1782, ('se', 'p'): 1783, ('r', 'is'): 1784, ('ek', 'sp'): 1785, ('gjer', 'a '): 1786, ('k', 'va'): 1787, ('år', 'a '): 1788, ('sp', 'el'): 1789, ('et', 'e '): 1790, ('kj', 'a '): 1791, ('1', '.'): 1792, ('ge', ', '): 1793, ('g', 'on'): 1794, ('/', ' '): 1795, ('f', 'yr'): 1796, ('ere', '. '): 1797, ('m', 'mer '): 1798, ('i', 'de'): 1799, ('set', 'te '): 1800, ('å', 'rs'): 1801, ('E', 'r '): 1802, ('kt', '. '): 1803, ('is', 'jon'): 1804, ('un', 'kt '): 1805, ('si', 'g'): 1806, ('tal', 'e '): 1807, ('sit', 'et'): 1808, ('av', 'tal'): 1809, ('ing', 'sp'): 1810, ('D', 'a '): 1811, ('p', 't '): 1812, ('ha', 'v'): 1813, ('E', 'l'): 1814, ('lig', 'g '): 1815, ('K', 'rist'): 1816, ('se', ', '): 1817, ('e', 'leg '): 1818, ('av', 'is'): 1819, ('ti', 'da '): 1820, ('ber', 'g '): 1821, ('k', 'ket '): 1822, ('re', 'ss'): 1823, ('g', 'u'): 1824, ('val', 'bar'): 1825, ('O', 'm '): 1826, ('ans', 'en '): 1827, ('or', 'i'): 1828, ('regjer', 'inga '): 1829, ('ne', 'ste '): 1830, ('k', 'var '): 1831, ('ti', 'dig '): 1832, ('o', 'ss'): 1833, ('dis', 'se '): 1834, ('pr', 'og'): 1835, ('i', 'c'): 1836, ('da', 'g, '): 1837, ('Ma', 'y'): 1838, ('E', 'U'): 1839, ('USA', ' '): 1840, ('ver', 'di'): 1841, ('S', 'ta'): 1842, ('u', 'm '): 1843, ('F', 'o'): 1844, ('st', 'and '): 1845, ('a', 'pp'): 1846, ('se', 'in'): 1847, ('po', 'si'): 1848, ('O', 'b'): 1849, ('s', 'si'): 1850, ('sp', 'oliti'): 1851, ('smin', 'ist'): 1852, ('lig', 'ere '): 1853, ('f', 'jer'): 1854, ('og', 'ra'): 1855, ('A', 'rbei'): 1856, ('reli', 'gi'): 1857, ('dem', 'okra'): 1858, ('Sval', 'bar'): 1859, ('asjo', 'n '): 1860, ('«', ' '): 1861, ('gje', 'v '): 1862, ('al', 'ter'): 1863, ('stor', 't'): 1864, ('m', 't '): 1865, ('Sog', 'n '): 1866, ('der', ', '): 1867, ('me', 's '): 1868, ('an', 'se '): 1869, ('H', 'ar'): 1870, ('sam', 'an '): 1871, ('represent', 'an'): 1872, ('se', 'ktor'): 1873, ('o', 'fte '): 1874, ('s', 'c'): 1875, ('ra', '. '): 1876, ('k', 'lo'): 1877, ('erin', 'gs'): 1878, ('ung', 'e '): 1879, ('nø', 'd'): 1880, ('ke', 'leg '): 1881, ('an', 'net '): 1882, ('ter', 'na'): 1883, ('F', 'jord'): 1884, ('da', 'gen '): 1885, ('b', 'ra'): 1886, ('a', 'g '): 1887, ('be', 'ste '): 1888, ('me', '. '): 1889, ('se', 'g. '): 1890, ('per', 'i'): 1891, ('d', 'ik'): 1892, ('stat', 'en '): 1893, ('fore', 'ld'): 1894, ('2', '0 '): 1895, ('ke', ', '): 1896, ('av', 'hen'): 1897, ('tra', 'dis'): 1898, ('tid', 'legare '): 1899, ('Hu', 'n '): 1900, ('T', 'il '): 1901, ('sy', 'n '): 1902, ('re', 'in'): 1903, ('for', 'stå'): 1904, ('ft', 'a '): 1905, ('mi', 'n '): 1906, ('pros', 'ent'): 1907, ('politi', 'kk '): 1908, ('en', 'kel'): 1909, ('sta', 'dig '): 1910, ('N', 'y'): 1911, ('len', 'ge '): 1912, ('2', '. '): 1913, ('fol', 'k'): 1914, ('der', 'som '): 1915, ('for', 'tel'): 1916, ('kon', 'kur'): 1917, ('gra', 'd '): 1918, ('dagen', 's '): 1919, ('te', 'sei'): 1920, ('o', 'nd'): 1921, ('ret', 'te '): 1922, ('hal', 'de '): 1923, ('li', 'st'): 1924, ('las', 'se'): 1925, ('bu', 'dsj'): 1926, ('n', 'orsk'): 1927, ('forhol', 'd '): 1928, ('si', 'den '): 1929, ('i', 'mot '): 1930, ('men', 't'): 1931, ('1', '8'): 1932, ('g', 'la'): 1933, ('arbei', 'd '): 1934, ('D', 'a'): 1935, ('kom', 'e '): 1936, ('kom', 'men'): 1937, ('til', 'tak '): 1938, ('na', 'li'): 1939, ('men', 'n '): 1940, ('S', 'te'): 1941, ('n', 'ord'): 1942, ('n', 'å'): 1943, ('t', 'ol'): 1944, ('Ob', 'am'): 1945, ('ur', 'na'): 1946, ('st', 'rik'): 1947, ('l', 'at'): 1948, ('sty', 'ret '): 1949, ('hø', 'g'): 1950, ('se', 'l '): 1951, ('ho', 's '): 1952, ('u', 're'): 1953, ('pro', 'se'): 1954, ('b', 'yr'): 1955, ('h', 'r'): 1956, ('m', 'me'): 1957, ('t', 'et. '): 1958, ('F', 'ol'): 1959, ('ver', 'ke'): 1960, ('kir', 'ke '): 1961, ('j', 'en'): 1962, ('kun', 'st'): 1963, ('pri', 'vat'): 1964, ('f', 'ull '): 1965, ('lan', 'g'): 1966, ('ning', '. '): 1967, ('gjel', 'der '): 1968, ('5', '0 '): 1969, ('sa', 'ka '): 1970, ('ne', 'sten '): 1971, ('Kvi', 'te'): 1972, ('utt', 'ry'): 1973, ('val', 'get '): 1974, ('SV', ' '): 1975, ('B', 're'): 1976, ('fe', 'm '): 1977, ('A', 't '): 1978, ('kjen', 'ner '): 1979, ('gjer', 'ne '): 1980, ('st', 'od '): 1981, ('Ty', 'sk'): 1982, ('m', 'a '): 1983, ('jo', 'ur'): 1984, ('di', 'st'): 1985, ('h', 'und'): 1986, ('vår', 'e '): 1987, ('ort', 'en '): 1988, ('b', 'ek'): 1989, ('sp', 'ill'): 1990, ('sjuke', 'hus'): 1991, ('li', 'v '): 1992, ('u', 'rs'): 1993, ('me', 'dan '): 1994, ('A', 'nd'): 1995, ('ko', 'st'): 1996, ('et', 'en '): 1997, ('ver', 'k '): 1998, ('Ø', 'y'): 1999, ('be', 'ho'): 2000, ('skra', 'ft'): 2001, ('g', 'er'): 2002, ('s', 'ert '): 2003, ('Man', 'ge '): 2004, ('føl', 'ge '): 2005, ('T', 'id'): 2006, ('20', '1'): 2007, ('ba', 'k '): 2008, ('S', 'ver'): 2009, ('De', 'r '): 2010, ('tek', 'n'): 2011, ('stor', 't '): 2012, ('stør', 'ste '): 2013, ('u', 'p'): 2014, ('der', 'med '): 2015, ('ti', 'ge '): 2016, ('mo', 'der'): 2017, ('D', 'i'): 2018, ('na', 'd '): 2019, ('st', 'ar '): 2020, ('ty', 'de'): 2021, ('sk', 'jø'): 2022, ('F', 'ram'): 2023, ('skri', 've '): 2024, ('E', 'it '): 2025, ('kl', 'are '): 2026, ('ut', 'en'): 2027, ('ry', 'kk '): 2028, ('O', 'la'): 2029, ('hvor', 'dan '): 2030, ('bar', 'n '): 2031, ('ta', '. '): 2032, ('len', 'ger '): 2033, ('kk', 'u'): 2034, ('A', 'l'): 2035, ('k', 'vi'): 2036, ('E', 'rik'): 2037, ('fyr', 'ste '): 2038, ('kr', 'ing '): 2039, ('stad', 'en '): 2040, ('ei', 'g'): 2041, ('kj', 'ent '): 2042, ('K', 'ar'): 2043, ('all', 'er'): 2044, ('omm', 'un'): 2045, ('2', '.'): 2046, ('fø', 'rer '): 2047, ('un', 'iver'): 2048, ('rå', 'd'): 2049, ('kt', 'a '): 2050, ('fa', 'st'): 2051, ('Nor', 'sk '): 2052, ('end', 'a '): 2053, ('l', 'er'): 2054, ('n', 'olog'): 2055, ('alter', 'na'): 2056, ('Kvi', 'tesei'): 2057, ('inst', 'itu'): 2058, ('lig', 'ger '): 2059, ('akt', 'u'): 2060, ('ener', 'gi'): 2061, ('re', 's '): 2062, ('Osl', 'o '): 2063, ('br', 'y'): 2064, ('igj', 'en '): 2065, ('n', 'inga '): 2066, ('fin', 'ne '): 2067, ('B', 'ar'): 2068, ('rk', 'je'): 2069, ('d', 'ar'): 2070, ('bes', 'tem'): 2071, ('n', 't '): 2072, ('ut', 'gang'): 2073, ('A', 'lle '): 2074, ('ie', 'r '): 2075, ('kamp', 'en '): 2076, ('p', 'eng'): 2077, ('to', 'pp'): 2078, ('tro', 'll'): 2079, ('ent', 'a '): 2080, ('gang', 'sp'): 2081, ('D', 'es'): 2082, ('s', 'ter '): 2083, ('sær', 'leg '): 2084, ('v', 'en '): 2085, ('forval', 't'): 2086, ('me', 'di'): 2087, ('mo', 'tt'): 2088, ('lan', 'det. '): 2089, ('so', 'l'): 2090, ('F', 'ør'): 2091, ('opp', 'ly'): 2092, ('der', 'for '): 2093, ('k', 'ø'): 2094, ('hu', 'set '): 2095, ('ta', 'let '): 2096, ('å', 'p'): 2097, ('fr', 'y'): 2098, ('o', '. '): 2099, ('eta', 'bl'): 2100, ('gen', '. '): 2101, ('vid', 'are '): 2102, ('om', 'fat'): 2103, ('te', 'ke '): 2104, ('M', 'o'): 2105, ('nær', 'ings'): 2106, ('s', 'dag '): 2107, ('T', 'or'): 2108, ('bed', 'ri'): 2109, ('er', 'i'): 2110, ('sen', ', '): 2111, ('yr', 'e '): 2112, ('må', 'te '): 2113, ('k', 'ny'): 2114, ('el', 'ig'): 2115, ('mar', 'kna'): 2116, ('het', 'er '): 2117, ('st', 'ol'): 2118, ('di', 'for '): 2119, ('tt', '. '): 2120, ('b', 'la'): 2121, ('k', 'yrkj'): 2122, ('kri', 'st'): 2123, ('barne', 'ha'): 2124, ('s', 'ør'): 2125, ('g', 'ong '): 2126, ('fak', 'tisk '): 2127, ('t', 'h'): 2128, ('fø', 'rar '): 2129, ('vi', 'da'): 2130, ('ek', 'se'): 2131, ('red', 'us'): 2132, ('sk', 'ad'): 2133, ('ne', ', '): 2134, ('tekn', 'olog'): 2135, ('h', 'j'): 2136, ('ss', 'y'): 2137, ('økonom', 'iske '): 2138, ('ta', 'l '): 2139, ('se', 'mp'): 2140, ('an', 'svar'): 2141, ('t', 'ur'): 2142, ('føl', 'g'): 2143, ('or', 'ter'): 2144, ('t', 'te'): 2145, ('ster', 'kt '): 2146, ('S', 'lik '): 2147, ('f', 'unn '): 2148, ('hal', 'v'): 2149, ('lit', 'en '): 2150, ('språk', 'politiske '): 2151, ('smin', 'ister '): 2152, ('b', 'ro'): 2153, ('g', 'le'): 2154, ('ka', '. '): 2155, ('to', 'pp '): 2156, ('ka', 'm'): 2157, ('le', 's'): 2158, ('H', 'øy'): 2159, ('be', 'handl'): 2160, ('g', 'ikk '): 2161, ('s', 'al'): 2162, ('nd', 'ig'): 2163, ('ere', ', '): 2164, ('s', 'att '): 2165, ('ba', 'r '): 2166, ('k', 'lar '): 2167, ('for', 'm '): 2168, ('sek', 'ven'): 2169, ('til', '. '): 2170, ('ga', 's'): 2171, ('ste', 'in '): 2172, ('ut', 'e '): 2173, ('R', 'e'): 2174, ('k', 'vart '): 2175, ('hel', 'd '): 2176, ('fin', 'st '): 2177, ('Vest', '-'): 2178, ('ent', 'er'): 2179, ('sam', 'men'): 2180, ('sam', 'me '): 2181, ('st', 'un'): 2182, ('spesi', 'elt '): 2183, ('ø', ' '): 2184, ('na', 'm'): 2185, ('om', '. '): 2186, ('ung', 'dom'): 2187, ('j', 'am'): 2188, ('al', '. '): 2189, ('F', 're'): 2190, ('F', 'in'): 2191, ('fram', 'leis '): 2192, ('st', 'i'): 2193, ('hø', 'yr'): 2194, ('meld', 'inga '): 2195, ('l', 'ett '): 2196, ('på', ', '): 2197, ('n', 'øy'): 2198, ('le', 'der '): 2199, ('bok', 'a '): 2200, ('Euro', 'pa'): 2201, ('vikti', 'ge '): 2202, ('for', 'skri'): 2203, ('di', 'strik'): 2204, ('verk', 'sem'): 2205, ('ver', 'n'): 2206, ('d', 'ige '): 2207, ('dr', 'ø'): 2208, ('in', 'ne '): 2209, ('prin', 'si'): 2210, ('sei', 'e '): 2211, ('R', 'om'): 2212, ('Tele', 'mark '): 2213, ('F', 'N'): 2214, ('t', 'red'): 2215, ('tr', 'or '): 2216, ('stra', 'te'): 2217, ('D', 'an'): 2218, ('ve', 'g '): 2219, ('le', 'v'): 2220, ('ver', 'da '): 2221, ('tren', 'g '): 2222, ('s', 'skraft'): 2223, ('sty', 'rk'): 2224, ('b', 'jør'): 2225, ('vik', ' '): 2226, ('H', 'an'): 2227, ('menne', 'ske '): 2228, ('Osl', 'o'): 2229, ('s', 'ing '): 2230, ('in', 'a '): 2231, ('v', 'ok'): 2232, ('S', 'i'): 2233, ('ka', 'st '): 2234, ('skri', 'ft'): 2235, ('gan', 'ske '): 2236, ('.', '.'): 2237, ('t', 'in'): 2238, ('E', 'i '): 2239, ('si', 'da '): 2240, ('fin', 'n '): 2241, ('.', '. '): 2242, ('K', 'o'): 2243, ('mo', 'ts'): 2244, ('k', 'arane '): 2245, ('ø', 'yr'): 2246, ('i', 'te'): 2247, ('land', ', '): 2248, ('pp', 'e '): 2249, ('så', 'g '): 2250, ('m', 'itt '): 2251, ('gen', ', '): 2252, ('in', 'du'): 2253, ('kt', 'ør '): 2254, ('ed', 'e '): 2255, ('ekse', 'mp'): 2256, ('utgang', 'sp'): 2257, ('in', 'forma'): 2258, ('ning', ', '): 2259, ('us', 't '): 2260, ('pa', 'si'): 2261, ('E', 't '): 2262, ('de', 'g '): 2263, ('S', 'jø'): 2264, ('en', 'ne '): 2265, ('J', 'a, '): 2266, ('kt', ', '): 2267, ('stø', 'tte '): 2268, ('fi', 'sk'): 2269, ('kir', 'ke'): 2270, ('samarbei', 'd '): 2271, ('a', 'c'): 2272, ('gs', 'å '): 2273, ('O', 'gs'): 2274, ('f', 'fe'): 2275, ('ta', 'li'): 2276, ('ma', 'k'): 2277, ('d', 'ann'): 2278, ('en', 'ga'): 2279, ('univer', 'sitet'): 2280, ('N', 'å '): 2281, ('ne', 'st '): 2282, ('a', 'b'): 2283, ('an', 'ti'): 2284, ('sjuke', 'hus '): 2285, ('T', 'ro'): 2286, ('S', 'ka'): 2287, ('sek', 's '): 2288, ('ikk', 'en '): 2289, ('k', 'at'): 2290, ('kon', 'sekven'): 2291, ('ak', 'ti'): 2292, ('inn', 'anfor '): 2293, ('ff', 'ek'): 2294, ('pre', 'siden'): 2295, ('lø', 'pet '): 2296, ('k', 'ker '): 2297, ('all', 'a '): 2298, ('s', 'må'): 2299, ('D', 'u '): 2300, ('me', 'd. '): 2301, ('di', 'sk'): 2302, ('ho', 'ved'): 2303, ('se', 'g'): 2304, ('b', 'al'): 2305, ('nt', 'e '): 2306, ('j', 'a'): 2307, ('en', 'tu'): 2308, ('bed', 're '): 2309, ('de', 'll'): 2310, ('fr', 'å'): 2311, ('S', 'k'): 2312, ('fu', 'ng'): 2313, ('D', 'en'): 2314, ('n', 'n '): 2315, ('ress', 'urs'): 2316, ('Hel', 'se '): 2317, ('19', '8'): 2318, ('ul', 'ta'): 2319, ('op', 'er'): 2320, ('st', 'isk '): 2321, ('elle', 's '): 2322, ('le', 'ik'): 2323, ('d', 'om '): 2324, ('milli', 'ar'): 2325, ('h', 'ver'): 2326, ('Der', 'for '): 2327, ('p', 'os'): 2328, ('ha', 'm'): 2329, ('områ', 'de '): 2330, ('la', 'ga '): 2331, ('en', 'de'): 2332, ('for', 'fat'): 2333, ('N', 'e'): 2334, ('me', ', '): 2335, ('ti', 'ds'): 2336, ('A', 'nn'): 2337, ('ha', 'm '): 2338, ('Å', ' '): 2339, ('3', '0 '): 2340, ('ik', 'a '): 2341, ('dire', 'kte '): 2342, ('prof', 'es'): 2343, ('sl', 'år '): 2344, ('over', 'for '): 2345, ('kr', 'et'): 2346, ('k', 'all'): 2347, ('ne', 'l'): 2348, ('pu', 'bli'): 2349, ('sam', 'funnet '): 2350, ('vår', 't '): 2351, ('my', 'ndig'): 2352, ('V', 'en'): 2353, ('nin', 'gar '): 2354, ('di', 'ske '): 2355, ('gas', 'skraft'): 2356, ('for', 'slag '): 2357, ('sminist', 'eren '): 2358, ('ret', 'ts'): 2359, ('do', 'ku'): 2360, ('prod', 'us'): 2361, ('lan', 'g '): 2362, ('ve', 'gen '): 2363, ('unk', 'tet '): 2364, ('H', 'er'): 2365, ('g', 'av '): 2366, ('Obam', 'a '): 2367, ('byg', 'gj'): 2368, ('A', 'r'): 2369, ('mo', 'de'): 2370, ('sjølv', 'sagt '): 2371, ('leg', '. '): 2372, ('bru', 'ke '): 2373, ('still', 'ing '): 2374, ('ten', ', '): 2375, ('s', 'lag'): 2376, ('Ola', 'v '): 2377, ('li', 'tter'): 2378, ('spørs', 'mål'): 2379, ('ans', 'varet '): 2380, ('fil', 'men '): 2381, ('nd', ' '): 2382, ('5', '. '): 2383, ('kra', 'f'): 2384, ('t', 'ene '): 2385, ('im', 'p'): 2386, ('under', 'stre'): 2387, ('U', 'ni'): 2388, ('stort', 'ings'): 2389, ('skat', 'te'): 2390, ('d', 'yr'): 2391, ('te', 'le'): 2392, ('føl', 'gje '): 2393, ('s', 'var '): 2394, ('br', 'a '): 2395, ('bety', 'r '): 2396, ('meld', 'ing '): 2397, ('dø', 'mes '): 2398, ('A', 'p'): 2399, ('v', '. '): 2400, ('A', 'rn'): 2401, ('sp', 'arti'): 2402, ('utvik', 'ling '): 2403, ('med', 'is'): 2404, ('sentra', 'l'): 2405, ('politi', 'kken '): 2406, ('vi', 'r'): 2407, ('S', 'y'): 2408, ('k', 'il'): 2409, ('M', 'å'): 2410, ('h', 'in'): 2411, ('ø', 'v'): 2412, ('k', 'ter '): 2413, ('auk', 'a '): 2414, ('sam', 'men '): 2415, ('B', 'e'): 2416, ('B', ' '): 2417, ('li', 'g. '): 2418, ('må', 'let '): 2419, ('bru', 'k'): 2420, ('ke', 's '): 2421, ('ei', 'gen '): 2422, ('R', 'a'): 2423, ('a', 'ul'): 2424, ('sjon', 'ar '): 2425, ('E', 'sp'): 2426, ('re', 'gj'): 2427, ('mål', '. '): 2428, ('kon', 'ta'): 2429, ('vi', 'ste '): 2430, ('l', 'l '): 2431, ('le', 'ver'): 2432, ('v', 'æ'): 2433, ('19', '7'): 2434, ('va', 'let '): 2435, ('fle', 'ir'): 2436, ('is', 'la'): 2437, ('sv', 'en'): 2438, ('hv', 'is '): 2439, ('spørsmå', 'let '): 2440, ('kk', 'el'): 2441, ('hø', 've '): 2442, ('tru', 'leg '): 2443, ('Stort', 'ing'): 2444, ('Fl', 'or'): 2445, ('f', 'jord'): 2446, ('b', 'ri'): 2447, ('forts', 'att '): 2448, ('sik', 're '): 2449, ('ønsk', 'er '): 2450, ('h', 'et. '): 2451, ('kon', 'troll'): 2452, ('ti', 'vit'): 2453, ('b', 'en'): 2454, ('no', '. '): 2455, ('O', 'gså '): 2456, ('D', 'enne '): 2457, ('mo', 'dell'): 2458, ('la', 's '): 2459, ('ord', 'førar '): 2460, ('mø', 'tet '): 2461, ('offent', 'leg '): 2462, ('leggj', 'a '): 2463, ('for', 'sø'): 2464, ('kk', '. '): 2465, ('opp', 'gå'): 2466, ('t', 'tet '): 2467, ('ta', ', '): 2468, ('f', 'jel'): 2469, ('net', 'topp '): 2470, ('anna', 'n '): 2471, ('ar', 'gu'): 2472, ('kommun', 'en '): 2473, ('sy', 'ke'): 2474, ('d', 'ro'): 2475, ('»', ' '): 2476, ('bet', 'al'): 2477, ('s', 'likt '): 2478, ('F', 'y'): 2479, ('f', 'em'): 2480, ('ten', 'de '): 2481, ('virk', 'som'): 2482, ('inns', 'at'): 2483, ('kra', 'v '): 2484, ('in', 'ga. '): 2485, ('sl', 'ut'): 2486, ('a', 'le'): 2487, ('k', 'alla '): 2488, ('felle', 's'): 2489, ('og', 'så'): 2490, ('V', 'er'): 2491, ('mu', 'lig'): 2492, ('n', 'ett'): 2493, ('B', 'y'): 2494, ('tid', 'ligere '): 2495, ('ven', 'dig '): 2496, ('d', 'ere '): 2497, ('an', 'al'): 2498, ('pris', 'en '): 2499, ('v', 'andr'): 2500, ('l', 'ett'): 2501, ('re', 'sten '): 2502, ('b', 'il '): 2503, ('sku', 'le'): 2504, ('al', 'y'): 2505, ('oms', 'or'): 2506, ('u', 'lt'): 2507, ('sel', 'skap'): 2508, ('pp', 'a '): 2509, ('sk', 'jer'): 2510, ('til', 'ba'): 2511, ('K', 'lasse'): 2512, ('mus', 'li'): 2513, ('kv', 'inn'): 2514, ('mu', 'lig '): 2515, ('br', 'an'): 2516, ('ti', 'd. '): 2517, ('ky', 'rkje'): 2518, ('asjo', 'ns'): 2519, ('Nor', 'ge. '): 2520, ('områ', 'det '): 2521, ('v', 'inn'): 2522, ('men', 'e '): 2523, ('ster', 'k '): 2524, ('t', 'ane '): 2525, ('f', 'ir'): 2526, ('fun', 'k'): 2527, ('al', 't'): 2528, ('under', 'sø'): 2529, ('K', 'u'): 2530, ('fot', 'ball'): 2531, ('sk', 'er '): 2532, ('L', 'ar'): 2533, ('stun', 'des '): 2534, ('vit', 'skap'): 2535, ('gr', 'ø'): 2536, ('stru', 'kt'): 2537, ('avhen', 'gi'): 2538, ('sen', 'de '): 2539, ('P', 'oliti'): 2540, ('å', 'ret '): 2541, ('opp', 'fat'): 2542, ('ve', 'kt '): 2543, ('gi', 'g '): 2544, ('full', 't '): 2545, ('a', 'ut'): 2546, ('privat', 'e '): 2547, ('ro', ' '): 2548, ('te', 's '): 2549, ('de', 'ler '): 2550, ('K', ' '): 2551, ('den', ', '): 2552, ('is', 'e '): 2553, ('nød', 'ven'): 2554, ('ei', 'ge '): 2555, ('a', 'ste '): 2556, ('ev', 'entu'): 2557, ('at', 'or'): 2558, ('K', 'va '): 2559, ('H', 'ol'): 2560, ('B', 'r'): 2561, ('klu', 'der'): 2562, ('et', 'tet '): 2563, ('te', 'ma'): 2564, ('stu', 'den'): 2565, ('peri', 'od'): 2566, ('May', 'en '): 2567, ('V', 'in'): 2568, ('f', 'jord '): 2569, ('B', 'jør'): 2570, ('internasjon', 'ale '): 2571, ('g', 'itt '): 2572, ('S', 'ig'): 2573, ('N', 'a'): 2574, ('pri', 'orit'): 2575, ('eg', 'en '): 2576, ('I', 'ng'): 2577, ('f', 'la'): 2578, ('by', ' '): 2579, ('per', 'spek'): 2580, ('en', 'k'): 2581, ('leg', ', '): 2582, ('e', 'ffek'): 2583, ('komp', 'et'): 2584, ('R', 'u'): 2585, ('for', 'sv'): 2586, ('sa', 'k '): 2587, ('ste', 'in'): 2588, ('b', 'ort '): 2589, ('en', 'es '): 2590, ('par', 'ti '): 2591, ('medis', 'in'): 2592, ('kor', 't '): 2593, ('r', '. '): 2594, ('lok', 'ale '): 2595, ('n', 'er'): 2596, ('eksemp', 'el '): 2597, ('p', '. '): 2598, ('skap', 'en '): 2599, ('se', 'g, '): 2600, ('v', 'end'): 2601, ('o', 'so'): 2602, ('N', 'R'): 2603, ('tal', 't '): 2604, ('H', 'va '): 2605, ('fin', 'nes '): 2606, ('gj', 'ø'): 2607, ('grunn', 'lag '): 2608, ('r', 'ing'): 2609, ('br', 'ø'): 2610, ('Fjord', 'ane '): 2611, ('ikk', 'je'): 2612, ('ste', 'm'): 2613, ('vis', 'e '): 2614, ('d', 'omm'): 2615, ('inn', 'v'): 2616, ('6', '. '): 2617, ('j', 'un'): 2618, ('E', 'ng'): 2619, ('ad', 'minist'): 2620, ('fe', 'st'): 2621, ('situ', 'asjonen '): 2622, ('legg', 'e '): 2623, ('b', 'in'): 2624, ('kunn', 'skap'): 2625, ('H', 'al'): 2626, ('Der', 'som '): 2627, ('l', '. '): 2628, ('es', 't '): 2629, ('Kvitesei', 'd '): 2630, ('vansk', 'eleg '): 2631, ('opple', 'v'): 2632, ('leg', 'get '): 2633, ('sa', 'ker '): 2634, ('re', 'is'): 2635, ('fo', 'ku'): 2636, ('til', ', '): 2637, ('lan', 'e '): 2638, ('jel', 'l '): 2639, ('mar', 'ke'): 2640, ('4', '.'): 2641, ('kar', 'ar '): 2642, ('hol', 'de '): 2643, ('reg', 'ul'): 2644, ('br', 'ann'): 2645, ('kt', 'or '): 2646, ('Jo', 'h'): 2647, ('kon', 'tr'): 2648, ('p', 'per '): 2649, ('p', 'te '): 2650, ('mo', 'r '): 2651, ('hand', 'lar '): 2652, ('nasjon', 'al'): 2653, ('re', 'form'): 2654, ('ie', 't '): 2655, ('avhengi', 'g '): 2656, ('nød', 'vendig '): 2657, ('po', 'en'): 2658, ('sk', 'ommun'): 2659, ('se', 'kret'): 2660, ('ord', 'na '): 2661, ('beho', 'v '): 2662, ('4', '. '): 2663, ('f', 'all'): 2664, ('for', '. '): 2665, ('ti', 'vet '): 2666, ('pra', 'ks'): 2667, ('f', 'is'): 2668, ('Tysk', 'land '): 2669, ('ut', '. '): 2670, ('ra', ', '): 2671, ('t', 'en. '): 2672, ('pri', 'va'): 2673, ('bru', 'kt '): 2674, ('ten', 'k'): 2675, ('Hø', 'gre '): 2676, ('ka', ', '): 2677, ('kam', 'p '): 2678, ('rå', 'det '): 2679, ('0', '. '): 2680, ('sjo', 'ner '): 2681, ('h', 'ver '): 2682, ('H', 'o'): 2683, ('mell', 'om'): 2684, ('ene', 'ste '): 2685, ('samfunn', 's'): 2686, ('disk', 'ut'): 2687, ('f', 'lo'): 2688, ('tr', 'u '): 2689, ('stu', 'di'): 2690, ('sam', 'funn '): 2691, ('3', '. '): 2692, ('stad', '. '): 2693, ('indu', 'stri'): 2694, ('Nor', 'ske '): 2695, ('sy', 'nes '): 2696, ('gg', 'e '): 2697, ('ra', 'mm'): 2698, ('sjon', '. '): 2699, ('mar', 'k'): 2700, ('re', 'la'): 2701, ('politi', 'et '): 2702, ('m', 'on'): 2703, ('tid', ', '): 2704, ('bru', 'ks'): 2705, ('ste', 'g'): 2706, ('sty', 're'): 2707, ('tr', 'an'): 2708, ('er', 'ande '): 2709, ('g', 'iv'): 2710, ('sp', 'ar'): 2711, ('7', '. '): 2712, ('ma', 'sk'): 2713, ('I', 'ngen '): 2714, ('konkur', 'ran'): 2715, ('ga', 'ste '): 2716, ('sm', 'å '): 2717, ('I', 'kkje '): 2718, ('tr', 'å'): 2719, ('det', 'te. '): 2720, ('al', ', '): 2721, ('P', 'ro'): 2722, ('anal', 'y'): 2723, ('vor', 'te '): 2724, ('ing', 'ar. '): 2725, ('ei', 'gen'): 2726, ('orit', 'et'): 2727, ('s', 'va'): 2728, ('eng', 'el'): 2729, ('G', 'r'): 2730, ('g', 'd '): 2731, ('K', 'y'): 2732, ('Fram', 'ste'): 2733, ('reg', 'el'): 2734, ('demokra', 'ti'): 2735, ('over', 'ord'): 2736, ('H', 'ag'): 2737, ('al', 'der'): 2738, ('bo', 'k '): 2739, ('un', 'ng'): 2740, ('rei', 'v '): 2741, ('end', 'å '): 2742, ('ei', 'tt '): 2743, ('ne', 'v'): 2744, ('sjølv', 'e '): 2745, ('Svalbar', 'd '): 2746, ('C', 'at'): 2747, ('ord', 'før'): 2748, ('min', 'ister '): 2749, ('amerikan', 'ske '): 2750, ('vikti', 'g'): 2751, ('leg', 'ger '): 2752, ('ø', 'k'): 2753, ('ov', 'er. '): 2754, ('ge', 's '): 2755, ('vis', 't '): 2756, ('S', 'ør'): 2757, ('k', 's '): 2758, ('opp', 'e '): 2759, ('s', 'ere '): 2760, ('I', 'n'): 2761, ('g', 'sparti'): 2762, (')', ': '): 2763, ('grupp', 'a '): 2764, ('vel', 'fer'): 2765, ('Arbei', 'dar'): 2766, ('økonom', 'isk '): 2767, ('en', 's'): 2768, ('in', 'ng'): 2769, ('sl', 'å '): 2770, ('sam', 'tidig '): 2771, ('st', 're '): 2772, ('1', '5'): 2773, ('sy', 'nest '): 2774, ('le', 'ga'): 2775, ('kra', 'ft '): 2776, ('for', 'ur'): 2777, ('det', 's '): 2778, ('kron', 'er. '): 2779, ('ur', 'en'): 2780, ('ut', 'dann'): 2781, ('euro', 'pei'): 2782, ('fil', 'm'): 2783, ('aller', 'ede '): 2784, ('for', 'skj'): 2785, ('bes', 'ø'): 2786, ('p', 'op'): 2787, ('H', 'vis '): 2788, ('n', 'u'): 2789, ('fer', 'd '): 2790, ('am', 'b'): 2791, ('mo', 'bil'): 2792, ('fre', 'dag '): 2793, ('ra', 't '): 2794, ('kku', 'ra'): 2795, ('la', 'ge '): 2796, ('er', ': '): 2797, (\"'\", ' '): 2798, ('t', 'ri'): 2799, ('at', 'hr'): 2800, ('S', 'enter'): 2801, ('G', 'a'): 2802, ('k', 'in'): 2803, ('Bre', 'iv'): 2804, ('Erik', ' '): 2805, ('k', 'tet '): 2806, ('res', 'ulta'): 2807, ('k', 'ere '): 2808, ('M', 'y'): 2809, ('d', 'ning '): 2810, ('konta', 'kt '): 2811, ('ter', 't '): 2812, ('ut', 'an'): 2813, ('lt', 'e '): 2814, ('Ve', 'd '): 2815, ('hei', 'm'): 2816, ('pen', 'gar '): 2817, ('en', 'ti'): 2818, ('vi', 'der'): 2819, ('1', '0'): 2820, ('hei', 'ter '): 2821, ('N', 'ei'): 2822, ('fil', 'oso'): 2823, ('§', ' '): 2824, ('ven', 'stre'): 2825, ('felle', 's '): 2826, ('sam', 'la '): 2827, ('sosi', 'al'): 2828, ('tele', 'fo'): 2829, ('proble', 'm '): 2830, ('st', 'o '): 2831, ('hen', 'ne '): 2832, ('sp', 'ør '): 2833, ('si', 'de '): 2834, ('ert', ', '): 2835, ('lo', 'va '): 2836, ('kap', '. '): 2837, ('kommun', 'ane '): 2838, ('F', 'le'): 2839, ('r', 'or'): 2840, ('g', 'han'): 2841, ('f', 'g'): 2842, ('skul', 'en '): 2843, ('1', '0 '): 2844, ('p', 'sy'): 2845, ('Euro', 'pa '): 2846, ('li', 'kt'): 2847, ('sy', 'n'): 2848, ('mø', 'ter '): 2849, ('inn', 'vandr'): 2850, ('regi', 'on'): 2851, ('stra', 'ff'): 2852, ('K', 'r'): 2853, ('Fr', 'an'): 2854, ('stil', 't '): 2855, ('Fram', 'steg'): 2856, ('steg', 'sparti'): 2857, ('kku', 'rat '): 2858, ('Cat', 'hr'): 2859, ('f', 'ghan'): 2860, ('h', 'jer'): 2861, ('K', 'on'): 2862, ('ar', 'ki'): 2863, ('politikk', '. '): 2864, ('H', 'it'): 2865, ('da', 'gs'): 2866, ('lan', 'de '): 2867, ('for', 'mu'): 2868, ('finan', 'si'): 2869, ('land', 'a '): 2870, ('da', 'gar '): 2871, ('frem', 'st '): 2872, ('te', 'or'): 2873, ('h', 'vert '): 2874, ('a', 'st'): 2875, ('I', 'nn'): 2876, ('en', 'or'): 2877, ('Th', 'e '): 2878, ('St', 'or'): 2879, ('nem', 'leg '): 2880, ('sikk', 'er'): 2881, ('ik', 'e '): 2882, ('il', 'le '): 2883, ('nær', 'are '): 2884, ('.', '\" '): 2885, ('vil', 'k'): 2886, ('kj', 'enn'): 2887, ('ve', '. '): 2888, ('f', 'ts'): 2889, ('del', 'en '): 2890, ('histor', 'ie'): 2891, ('se', 'so'): 2892, ('kla', 'rer '): 2893, ('a', 'lit'): 2894, ('jo', 'ne'): 2895, ('h', 'er. '): 2896, ('barne', 'ver'): 2897, ('M', 'ed'): 2898, ('y', 'm'): 2899, ('C', 'h'): 2900, ('ol', 'l '): 2901, ('am', 'p'): 2902, ('lin', 'gar '): 2903, ('bil', 'et'): 2904, ('E', 'in'): 2905, ('and', 're. '): 2906, ('St', 'ol'): 2907, ('I', 's'): 2908, ('tt', ', '): 2909, ('språkpoliti', 'sk '): 2910, ('for', 'p'): 2911, ('ty', 'ske '): 2912, ('enkel', 'te '): 2913, ('skri', 'ver '): 2914, ('h', 'il'): 2915, ('beg', 'ge '): 2916, ('ter', 'e '): 2917, ('te', 'ik'): 2918, ('grunn', 'en '): 2919, ('H', 'ei'): 2920, ('lan', 'det, '): 2921, ('a', 'tet '): 2922, ('ga', 'n '): 2923, ('stil', 'ler '): 2924, ('urna', 'list'): 2925, ('tils', 'ette '): 2926, ('p', 'pe'): 2927, ('b', 'and '): 2928, ('tred', 'je '): 2929, ('n', 'ene '): 2930, ('ti', 'den '): 2931, ('ogra', 'fi'): 2932, ('over', 'rask'): 2933, ('hjel', 'p '): 2934, ('bid', 'ra '): 2935, ('1', '5 '): 2936, ('en', '? '): 2937, ('m', 'ør'): 2938, ('et', 'er '): 2939, ('organis', 'asjon'): 2940, ('st', 'iske '): 2941, ('..', '. '): 2942, ('argu', 'men'): 2943, ('ba', 'j'): 2944, ('M', 'ag'): 2945, ('ar', 'd '): 2946, ('v', 'ane '): 2947, ('Ku', 'ltur'): 2948, ('strate', 'gi'): 2949, ('jo', 'urna'): 2950, ('kom', 'a '): 2951, ('R', 'ik'): 2952, ('S', ' '): 2953, ('ing', 'ens '): 2954, ('sku', 'ld'): 2955, ('bes', 't '): 2956, ('sk', 'je '): 2957, ('gla', 'd '): 2958, ('L', 'ei'): 2959, ('kult', 'ure'): 2960, ('tradis', 'jo'): 2961, ('la', 'us'): 2962, ('sten', 'dig '): 2963, ('bak', 'grunn'): 2964, ('uttry', 'kk '): 2965, ('Fy', 'res'): 2966, ('j', 'dsj'): 2967, ('stat', 'sk'): 2968, ('ny', 'norsk '): 2969, ('au', 'g'): 2970, ('publi', 'ku'): 2971, ('pres', 'se'): 2972, ('na', 'den '): 2973, ('man', 'ns'): 2974, ('mein', 'te '): 2975, ('Nore', 'g. '): 2976, ('f', 'tet '): 2977, ('rom', 'an'): 2978, ('klo', 'kka '): 2979, ('ri', 'me'): 2980, ('f', 'ang'): 2981, ('for', 'an'): 2982, ('rett', 'en '): 2983, ('O', 'pp'): 2984, ('b', 'om'): 2985, ('Sjø', 'lv '): 2986, ('me', 'ssi'): 2987, ('Arn', 'e '): 2988, ('H', 'en'): 2989, ('isjon', 'en '): 2990, ('en', ': '): 2991, ('mil', 'it'): 2992, ('kv', 'inne'): 2993, ('ik', 'a'): 2994, ('me', 'g. '): 2995, ('moder', 'ne '): 2996, ('sn', 'art '): 2997, ('in', 'nt'): 2998, ('N', 'T'): 2999, ('G', 'u'): 3000, ('h', 'er, '): 3001, ('Sel', 'jord '): 3002, ('ss', 'am'): 3003, ('min', 'oritet'): 3004, ('ele', 'v'): 3005, ('over', 'ordna '): 3006, ('sei', 'a '): 3007, ('Fr', 'å '): 3008, ('li', 'ber'): 3009, ('h', 'vil'): 3010, ('ska', 'per '): 3011, ('is', 'i'): 3012, ('to', 'r '): 3013, ('hje', 'm'): 3014, ('v', 'o'): 3015, ('ster', 'ke '): 3016, ('so', 'pp'): 3017, ('gang', 'en '): 3018, ('ven', 'de '): 3019, ('fan', 'n '): 3020, ('by', 'en '): 3021, ('må', 'ten '): 3022, ('tr', 'ø'): 3023, ('t', 'v'): 3024, ('de', 'lar '): 3025, ('di', 'sk '): 3026, ('an', 'de. '): 3027, ('ir', 'ke'): 3028, ('ut', 'vi'): 3029, ('mu', 'se'): 3030, ('so', 'r '): 3031, ('s', 'se'): 3032, ('p', 'pet '): 3033, ('at', 'te '): 3034, ('mennesk', 'er '): 3035, ('er', 'inga '): 3036, ('r', 'ørs'): 3037, ('F', ' '): 3038, ('1', ','): 3039, ('met', 'er '): 3040, ('sjon', ', '): 3041, ('le', 'ver '): 3042, ('for', 'ny'): 3043, ('Jo', 'han'): 3044, ('sl', 'ø'): 3045, ('interes', 's'): 3046, ('for', ', '): 3047, ('Li', 'ke'): 3048, ('b', 'od'): 3049, ('det', 'te, '): 3050, ('sl', 'o '): 3051, ('z', ' '): 3052, ('ver', 'ta '): 3053, ('B', 'åde '): 3054, ('h', 'om'): 3055, ('Framsteg', 'sparti'): 3056, ('baj', 'dsj'): 3057, ('jo', 'urnalist'): 3058, ('a', 're'): 3059, ('re', 'ktor'): 3060, ('ne', 'ga'): 3061, ('var', 'e '): 3062, ('w', ' '): 3063, ('sø', 'nd'): 3064, ('oss', '. '): 3065, ('K', 'anskje '): 3066, ('Di', 'for '): 3067, ('stil', 'le '): 3068, ('ing', 'ar, '): 3069, ('K', 'or'): 3070, ('H', 'ar '): 3071, ('saman', 'hen'): 3072, ('le', 'se '): 3073, ('T', 'er'): 3074, ('prog', 'ram'): 3075, ('tran', 'sp'): 3076, ('kri', 'gen '): 3077, ('R', 'o'): 3078, ('gen', 'e '): 3079, ('je', 'v'): 3080, ('hen', 'g '): 3081, ('ter', 'er '): 3082, ('be', 'skat'): 3083, ('vida', 're'): 3084, ('sik', 'ra '): 3085, ('ra', 'el'): 3086, ('ver', 'ds'): 3087, ('ft', 'en '): 3088, ('fortel', 'ler '): 3089, ('pra', 'k'): 3090, ('leg', 'gje '): 3091, ('kap', 'it'): 3092, ('av', '. '): 3093, ('lang', 's '): 3094, ('b', 'æ'): 3095, ('j', 'ul'): 3096, ('med', ', '): 3097, ('vi', 'te '): 3098, ('sp', 'ør'): 3099, ('J', 'en'): 3100, ('19', '6'): 3101, ('prosent', '. '): 3102, ('kri', 'min'): 3103, ('l', 'ene '): 3104, ('de', 'lig '): 3105, ('me', 'ste '): 3106, ('Ska', 'l '): 3107, ('sy', 'net '): 3108, ('1', '00 '): 3109, ('fei', 'l '): 3110, ('str', 'a '): 3111, ('sl', 'e '): 3112, ('r', 'om '): 3113, ('A', 'n'): 3114, ('fyl', 'ket '): 3115, ('kø', 'yr'): 3116, ('ny', 'tta '): 3117, ('t', 'us'): 3118, ('na', 'z'): 3119, ('C', 'ar'): 3120, ('ver', 'ket '): 3121, ('ser', 'te '): 3122, ('æ', 'rer '): 3123, ('M', 'or'): 3124, ('debat', 'ten '): 3125, ('sjon', 'ane '): 3126, ('er', 'et'): 3127, ('fre', 'ds'): 3128, ('min', 'ner '): 3129, ('le', 'k'): 3130, ('offent', 'lege '): 3131, ('fer', 'dig '): 3132, ('ver', 'keleg '): 3133, ('er', 'es '): 3134, ('o', 'ner '): 3135, ('dire', 'ktør '): 3136, ('ta', 'ket '): 3137, ('Fol', 'ke'): 3138, ('P', 're'): 3139, ('inn', 'tekt'): 3140, ('Hel', 'las '): 3141, ('nt', 'er'): 3142, ('Norge', 's '): 3143, ('S', 'o'): 3144, ('L', 'e'): 3145, ('v', 'enn'): 3146, ('sær', 'lig '): 3147, ('av', 'gren'): 3148, ('A', 'lt '): 3149, ('i', 'ti'): 3150, ('l', 'eng'): 3151, ('s', 'pe'): 3152, ('bø', 'k'): 3153, ('te', 'g'): 3154, ('liv', 'ssy'): 3155, ('M', 'il'): 3156, ('ans', 'ett '): 3157, ('G', 'unn'): 3158, ('or', 'gan '): 3159, ('ve', 'ks'): 3160, ('kunn', 'a '): 3161, ('profes', 'sor '): 3162, ('slå', 'tt '): 3163, ('n', 'is'): 3164, ('ver', 'den '): 3165, ('famil', 'i'): 3166, ('gan', 'ger '): 3167, ('F', 'i'): 3168, ('skol', 'en '): 3169, ('eig', 'ne '): 3170, ('mog', 'leg '): 3171, ('j', 'en '): 3172, ('c', 'k'): 3173, ('av', 'gjer'): 3174, ('al', 'ler '): 3175, ('dr', 'a '): 3176, ('gs', 't '): 3177, ('Stol', 'ten'): 3178, ('rik', 'e '): 3179, ('k', 'las'): 3180, ('sy', 'ner '): 3181, ('*', ' '): 3182, ('V', 'il '): 3183, ('Tro', 'nd'): 3184, ('ing', 'ene '): 3185, ('gj', 'ør'): 3186, ('beg', 'yn'): 3187, ('men', '. '): 3188, ('den', 's '): 3189, ('p', 'unkt '): 3190, ('ve', ', '): 3191, ('a', 'k '): 3192, ('ing', 'en. '): 3193, ('ty', 'sk'): 3194, ('a', 'kkurat '): 3195, ('Is', 'ra'): 3196, ('ma', 'tisk '): 3197, ('Tele', 'mar'): 3198, ('Sog', 'nd'): 3199, ('ut', 'anfor '): 3200, ('ni', 'vå'): 3201, ('Ber', 'gen '): 3202, ('administ', 'ra'): 3203, ('N', 'at'): 3204, ('til', 'ta'): 3205, ('ret', 'nings'): 3206, ('ing', 'ent'): 3207, ('tt', 'ar '): 3208, ('pr', 'is '): 3209, ('1', '2 '): 3210, ('of', ' '): 3211, ('d', 'ande '): 3212, ('ch', ' '): 3213, ('J', 'es'): 3214, ('n', 'æ'): 3215, ('Ber', 'te'): 3216, ('medle', 'mmer '): 3217, ('ut', 'val'): 3218, ('va', 'l '): 3219, ('is', 'jon '): 3220, ('in', 'i'): 3221, ('arbei', 'der '): 3222, ('h', 'et, '): 3223, ('el', 'se '): 3224, ('sj', 'uk'): 3225, ('T', 'V'): 3226, ('het', 's'): 3227, ('far', 'en '): 3228, ('har', 'dt '): 3229, ('der', 'es '): 3230, ('fl', 'ert'): 3231, ('ent', 'lig '): 3232, ('de', 'fin'): 3233, ('ser', 'er '): 3234, ('l', 'uk'): 3235, ('slag', 's '): 3236, ('si', 't '): 3237, ('be', 'hand'): 3238, ('and', 'id'): 3239, ('fyl', 'k'): 3240, ('N', 'ær'): 3241, ('Regjer', 'inga '): 3242, ('N', 'H'): 3243, ('Ha', 'u'): 3244, ('fram', 'legg '): 3245, ('ved', 'tak '): 3246, ('sam', 'stundes '): 3247, ('ar', 'ar. '): 3248, ('EU', ' '): 3249, ('sty', 'res'): 3250, ('ter', 'ror'): 3251, ('sk', 'reiv '): 3252, ('ørs', 't '): 3253, ('-', 'A'): 3254, ('kje', 'mp'): 3255, ('hå', 'nd'): 3256, ('res', 'ult'): 3257, ('ro', 'lle '): 3258, ('Der', 'med '): 3259, ('prø', 'v'): 3260, ('f', 'en'): 3261, ('di', 'al'): 3262, ('liv', '. '): 3263, ('fre', 'ist'): 3264, ('P', 'o'): 3265, ('p', 'ol'): 3266, ('ang', 'el'): 3267, ('kk', ', '): 3268, ('utvik', 'la '): 3269, ('fylke', 'skommun'): 3270, ('R', 'ø'): 3271, ('kamp', 'en. '): 3272, ('u', 'g '): 3273, ('sel', 'skapet '): 3274, ('.', 'no '): 3275, ('fre', 'm '): 3276, ('po', 'st'): 3277, ('ft', 'en'): 3278, ('H', 'vor'): 3279, ('ri', 'ge '): 3280, ('for', 'klar'): 3281, ('sn', 'ø'): 3282, ('t', 'ø'): 3283, ('øy', ' '): 3284, ('ver', 're '): 3285, ('on', '. '): 3286, ('pro', 'te'): 3287, ('x', ' '): 3288, ('g', 'ro'): 3289, ('s', 'ist '): 3290, ('p', 'un'): 3291, ('Vest-', 'Telemark '): 3292, ('språ', 'ket '): 3293, ('ti', 'n '): 3294, ('yn', 'skjer '): 3295, ('for', 'svar'): 3296, ('9', '. '): 3297, ('d', 'rep'): 3298, ('M', 'u'): 3299, ('-', 'år'): 3300, ('bru', 'ker '): 3301, ('da', 't '): 3302, ('og', 'raf'): 3303, ('til', 'f'): 3304, ('tek', 'en '): 3305, ('v', 'inter'): 3306, ('b', 'ol'): 3307, ('rt', '. '): 3308, ('gre', 'i'): 3309, ('al', 't. '): 3310, ('skap', 'e '): 3311, ('gje', 've '): 3312, ('kk', 'jer '): 3313, ('sl', 'ett '): 3314, ('ten', 'ker '): 3315, ('v', 'et'): 3316, ('andid', 'at'): 3317, ('e', 'or'): 3318, ('L', 'o'): 3319, ('f', 'as'): 3320, ('arbeid', 'sp'): 3321, ('grunn', 'lov'): 3322, ('hund', 're '): 3323, ('re', 'ali'): 3324, ('bygg', 'e '): 3325, ('N', 'A'): 3326, ('offent', 'lige '): 3327, ('beg', 'y'): 3328, ('om', ', '): 3329, ('nel', 'l '): 3330, ('fu', 'lle '): 3331, ('hei', 'm. '): 3332, ('T', 'il'): 3333, ('vis', 's '): 3334, ('fa', 'r '): 3335, ('P', 'er '): 3336, ('ett', '. '): 3337, ('bu', 'r '): 3338, ('vin', 'd '): 3339, ('ønsk', 'jer '): 3340, ('fø', 'rte '): 3341, ('bak', 'grunn '): 3342, ('regjer', 'ing '): 3343, ('st', 'og'): 3344, ('kr', 'at'): 3345, ('perso', 'nar '): 3346, ('O', 'rd'): 3347, ('budsj', 'ett'): 3348, ('star', 'ta '): 3349, ('gong', 'er '): 3350, ('olog', 'iske '): 3351, ('doku', 'men'): 3352, ('es', 'ter '): 3353, ('inter', 'v'): 3354, ('tren', 'ger '): 3355, ('00', '-'): 3356, ('d', 'ør'): 3357, ('sa', 'g'): 3358, ('skul', 'e '): 3359, ('er', 't. '): 3360, ('bl', 'og'): 3361, ('dår', 'leg '): 3362, ('set', 'je '): 3363, ('El', 'ler '): 3364, ('tr', 'os'): 3365, ('kar', 'akt'): 3366, ('v', 'j'): 3367, ('re', 'kke '): 3368, ('histor', 'ie '): 3369, ('grunn', 'laget '): 3370, ('in', 'ner '): 3371, ('Th', 'om'): 3372, ('in', 'na'): 3373, ('rask', 't '): 3374, ('ss', 'p'): 3375, ('F', 'yl'): 3376, ('sikk', 'ert '): 3377, ('religi', 'ø'): 3378, ('l', 'ære '): 3379, ('in', 'tel'): 3380, ('de', 'lse '): 3381, ('livssy', 'ns'): 3382, ('ik', 'op'): 3383, ('kon', 'tra'): 3384, ('ak', 'a '): 3385, ('t', 'ande '): 3386, ('P', 'ar'): 3387, ('kv', 'in'): 3388, ('y', 'nte '): 3389, ('str', 'ø'): 3390, ('eg', 'entlig '): 3391, ('skje', 'dde '): 3392, ('se', 'ks'): 3393, ('h', 'end'): 3394, ('so', 'n '): 3395, ('ler', 'tid '): 3396, ('hal', 'd'): 3397, ('di', 'sku'): 3398, ('r', 'ing '): 3399, ('sl', 'utt '): 3400, ('ss', 'a '): 3401, ('ein', 'aste '): 3402, ('4', '0 '): 3403, ('sj', 'el'): 3404, ('ort', ', '): 3405, ('fe', 'r '): 3406, ('th', 'e '): 3407, ('opp', 'tek'): 3408, ('situ', 'asjon'): 3409, ('t', 'leg '): 3410, ('beg', 'ren'): 3411, ('kom', 'ite'): 3412, ('um', 'mer '): 3413, ('O', ' '): 3414, ('ny', 'norsk'): 3415, ('ver', 'te '): 3416, ('kost', 'na'): 3417, ('før', 'ing '): 3418, ('strukt', 'ur'): 3419, ('sosi', 'ale '): 3420, ('styr', 'e '): 3421, ('n', 'av'): 3422, ('hol', 'der '): 3423, ('vansk', 'elig '): 3424, ('try', 'gg'): 3425, ('stat', 'us '): 3426, ('ver', 'dig '): 3427, ('at', 't'): 3428, ('s', 'uk'): 3429, ('sen', 'tru'): 3430, ('Nei', ', '): 3431, ('formu', 'es'): 3432, ('A', 'p '): 3433, ('ri', 'd '): 3434, ('departemen', 'tet. '): 3435, ('in', 'te'): 3436, ('jo', 'r '): 3437, ('stand', 'en '): 3438, ('ele', 'vane '): 3439, ('av', 'slutt'): 3440, ('Hø', 'gre'): 3441, ('dem', 'on'): 3442, ('19', '3'): 3443, ('v', 'enta '): 3444, ('Fle', 'ire '): 3445, ('ad', 'da'): 3446, ('P', ' '): 3447, ('ran', 'ge'): 3448, ('ut', 'sli'): 3449, ('A', 'ft'): 3450, ('c', 'up'): 3451, ('lå', 'g '): 3452, ('ma', 'kt '): 3453, ('sy', 'ns'): 3454, ('opp', '. '): 3455, ('bil', 'en '): 3456, ('form', 'a '): 3457, ('g', 'ri'): 3458, ('G', 'ud'): 3459, ('K', 'jell '): 3460, ('kir', 'k'): 3461, ('S', '-'): 3462, ('prosje', 'kt'): 3463, ('to', ': '): 3464, ('opply', 'ser '): 3465, ('try', 'g'): 3466, ('sep', 'tem'): 3467, ('D', 'ag '): 3468, ('for', 'del'): 3469, ('in', 'vi'): 3470, ('ve', 'm '): 3471, ('A', 'ften'): 3472, ('kva', 'lit'): 3473, ('ek', 'stre'): 3474, ('kon', 'f'): 3475, ('at', 't. '): 3476, ('regi', 'str'): 3477, ('K', 'an '): 3478, ('ord', 'ningen '): 3479, ('ser', 'bajdsj'): 3480, ('A', 'ser'): 3481, ('k', 'are '): 3482, ('va', '. '): 3483, ('ia', 'n '): 3484, ('vikti', 'gaste '): 3485, ('gi', 'ft'): 3486, ('F', 'ri'): 3487, ('ist', 'an'): 3488, ('n', 'ar'): 3489, ('kr', 'is'): 3490, ('S', 'an'): 3491, ('fei', 'l'): 3492, ('bar', 'na '): 3493, ('st', 'o'): 3494, ('for', 'an '): 3495, ('hel', 'st '): 3496, ('mask', 'in'): 3497, ('ti', 'll'): 3498, ('proble', 'm'): 3499, ('min', 'e '): 3500, ('id', 'lertid '): 3501, ('im', 'id'): 3502, ('mid', 'del'): 3503, ('alterna', 'tiv '): 3504, ('praks', 'is '): 3505, ('ff', ' '): 3506, ('perso', 'n '): 3507, ('kt', 'en '): 3508, ('en', '\" '): 3509, ('krist', 'ne '): 3510, ('un', 'g '): 3511, ('P', 'aul'): 3512, ('milli', 'oner '): 3513, ('G', 'runn'): 3514, ('la', 'g. '): 3515, ('and', '. '): 3516, ('f', 'eng'): 3517, ('g', 'lo'): 3518, ('u', 'bli'): 3519, ('T', 'o'): 3520, ('rd', 'a '): 3521, ('lø', 's'): 3522, ('ste', 'mm'): 3523, ('an', ', '): 3524, ('F', 'ør '): 3525, ('områ', 'der '): 3526, ('1', '1 '): 3527, ('and', ', '): 3528, ('sak', 'en '): 3529, ('K', 'n'): 3530, ('opple', 'ver '): 3531, ('utgangsp', 'unkt '): 3532, ('le', 'van'): 3533, ('is', '. '): 3534, ('j', 'an'): 3535, ('sna', 'kke '): 3536, ('lan', 'ge '): 3537, ('ek', 'si'): 3538, ('ur', 't '): 3539, ('A', 'k'): 3540, ('l', 'ut'): 3541, ('kons', 'er'): 3542, ('medle', 'mm'): 3543, ('Framstegsparti', 'et '): 3544, ('Gunn', 'ar '): 3545, ('litter', 'atur'): 3546, ('bjør', 'n '): 3547, ('ver', 'kna'): 3548, ('ut', 'sle'): 3549, ('C', 'O'): 3550, ('sko', 't '): 3551, ('T', 'ru'): 3552, ('A', 'fghan'): 3553, ('ele', 'var '): 3554, ('ar', 'range'): 3555, ('kj', 'el'): 3556, ('te', 'll'): 3557, ('forhol', 'det '): 3558, ('at', 'a '): 3559, ('er', 'kl'): 3560, ('o', ', '): 3561, ('alt', 'for '): 3562, ('an', 'u'): 3563, ('bu', 'ti'): 3564, ('kro', 'pp'): 3565, ('bru', 'kte '): 3566, ('ek', 'stra '): 3567, ('fer', 'dig'): 3568, ('var', 'i'): 3569, ('sentra', 'le '): 3570, ('kj', 'ende '): 3571, ('poen', 'g '): 3572, ('d', 'ju'): 3573, ('kt', 'u'): 3574, ('sp', 'enn'): 3575, ('ku', 'nd'): 3576, ('at', 'er'): 3577, ('sy', 'm'): 3578, ('by', 'rå'): 3579, ('ent', 'en '): 3580, ('nor', 'diske '): 3581, ('ver', 'n '): 3582, ('utvik', 'lings'): 3583, ('n', 'ær '): 3584, ('stat', 'sministeren '): 3585, ('B', 'or'): 3586, ('B', 'il'): 3587, ('famil', 'ie'): 3588, ('Norge', ', '): 3589, ('inn', 'en '): 3590, ('ste', 'det '): 3591, ('sko', 'le'): 3592, ('G', 'j'): 3593, ('f', 'ik'): 3594, ('tek', 'st'): 3595, ('on', 'en '): 3596, ('tu', 'ng'): 3597, ('sc', 'en'): 3598, ('vis', 'ste '): 3599, ('ti', 'da. '): 3600, ('et', ': '): 3601, ('tilba', 'ke'): 3602, ('ser', 'ing '): 3603, ('kir', 'kel'): 3604, ('fir', 'da'): 3605, ('Fo', 'to '): 3606, ('H', 'am'): 3607, ('Fo', 'to'): 3608, ('f', 'jor '): 3609, ('in', 'vest'): 3610, ('stra', 'um'): 3611, ('ha', 'ust'): 3612, ('hev', 'dar '): 3613, ('sk', 'om'): 3614, ('re', 'kkje '): 3615, ('ut', 'dan'): 3616, ('før', 'a '): 3617, ('fghan', 'ist'): 3618, ('19', '4'): 3619, ('sk', 'ot'): 3620, ('S', 'ko'): 3621, ('ut', ', '): 3622, ('kom', 'met '): 3623, ('be', 'vis'): 3624, ('vis', 'st '): 3625, ('result', 'at'): 3626, ('S', 'c'): 3627, ('ven', 'te '): 3628, ('ak', 'sep'): 3629, ('K', 'a'): 3630, ('ener', 'g'): 3631, ('kk', 'en. '): 3632, ('histor', 'ia '): 3633, ('g', 'løy'): 3634, ('oss', ', '): 3635, ('tradis', 'jone'): 3636, ('sjo', 'ne'): 3637, ('kj', 'ær'): 3638, ('kri', 'gs'): 3639, ('kyrkj', 'a '): 3640, ('hel', 'ikop'): 3641, ('Fyl', 'ke'): 3642, ('Ste', 'in '): 3643, ('n', 'ummer '): 3644, ('deb', 'att '): 3645, ('ti', 't'): 3646, ('ar', 'en. '): 3647, ('kri', 'g'): 3648, ('fri', 'vil'): 3649, ('musli', 'm'): 3650, ('igj', 'en. '): 3651, ('ol', 'je '): 3652, ('re', 'le'): 3653, ('nd', 'e '): 3654, ('å', 'tte '): 3655, ('A', 'serbajdsj'): 3656, ('im', 'idlertid '): 3657, ('T', ' '): 3658, ('Fr', 'p '): 3659, ('b', 'od '): 3660, ('2', '-'): 3661, ('sje', 'f '): 3662, ('sær', 'skil'): 3663, ('U', 'nd'): 3664, ('fu', 'nne '): 3665, ('re', 'da'): 3666, ('hei', 'l'): 3667, ('still', 'inga '): 3668, ('auk', 'e '): 3669, ('su', 'tan '): 3670, ('Des', 'su'): 3671, ('ty', 'der '): 3672, ('fat', 'tig'): 3673, ('europei', 'ske '): 3674, ('J', 'ust'): 3675, ('D', ' '): 3676, ('fø', 'rs'): 3677, ('for', 'mid'): 3678, ('prø', 'ver '): 3679, ('v', 'or '): 3680, ('prosje', 'kt '): 3681, ('si', 'vil'): 3682, ('natur', 'leg '): 3683, ('fø', 'ler '): 3684, ('byr', 'ja '): 3685, ('ko', 'ng'): 3686, ('s', 'ene '): 3687, ('forfat', 't'): 3688, ('makt', 'ene '): 3689, ('klas', 'si'): 3690, ('eigen', 'tleg '): 3691, ('ø', 'kt '): 3692, ('Fo', 'to: '): 3693, ('stats', 'rå'): 3694, ('val', 'd '): 3695, ('Uni', 'ver'): 3696, ('l', 'er. '): 3697, ('sen', 'dt '): 3698, ('T', 'ore '): 3699, ('ff', 'e '): 3700, ('kva', 'li'): 3701, ('kv', 'inner '): 3702, ('ve', 'i '): 3703, ('T', 'u'): 3704, ('grupp', 'e '): 3705, ('verden', 's '): 3706, ('F', 'ar'): 3707, ('g', 'av'): 3708, ('sit', 'ter '): 3709, ('kar', 't'): 3710, ('ber', 'g'): 3711, ('ig', '. '): 3712, ('der', 'imot '): 3713, ('re', 'levan'): 3714, ('at', 'tende '): 3715, ('p', 'or'): 3716, ('j', 'a, '): 3717, ('bre', 'v '): 3718, ('as', 'y'): 3719, ('E', 'C'): 3720, ('byg', 'de'): 3721, ('Arbeidar', 'partiet '): 3722, ('rett', 'a '): 3723, ('mots', 'et'): 3724, ('S', 'e'): 3725, ('konkur', 'r'): 3726, ('u', 'ds'): 3727, ('H', 'ov'): 3728, ('G', 'adda'): 3729, ('inn', 'byggj'): 3730, ('bet', 'ale '): 3731, ('syste', 'm '): 3732, ('år', 'ene '): 3733, ('kje', 'm'): 3734, ('pop', 'ul'): 3735, ('ly', 'k'): 3736, ('rei', 'ser '): 3737, ('an', 'be'): 3738, ('reg', 'lar '): 3739, ('ter', '. '): 3740, ('K', 'ir'): 3741, ('dø', 'me '): 3742, ('opp', 'da'): 3743, ('fol', 'ket '): 3744, ('k', 'kar '): 3745, ('fr', 'on'): 3746, ('tid', 'sp'): 3747, ('inn', 'hal'): 3748, ('Sver', 'ige '): 3749, ('e', 'ine '): 3750, ('b', 'us'): 3751, ('sik', 't '): 3752, ('byg', 'gje '): 3753, ('f', 'are '): 3754, ('hj', 'å '): 3755, ('u', 'g'): 3756, ('sta', 'der '): 3757, ('vurd', 'ering '): 3758, ('Esp', 'en '): 3759, ('avtal', 'en '): 3760, ('S', 'and'): 3761, ('hand', 'lings'): 3762, ('å', 'ra. '): 3763, ('regj', 'erin'): 3764, ('at', 'e '): 3765, ('r', 'ang'): 3766, ('K', 'j'): 3767, ('hje', 'mme'): 3768, ('Like', 'vel '): 3769, ('kraf', 'tig '): 3770, ('st', 'asjon'): 3771, ('k', 'le'): 3772, ('kvel', 'd '): 3773, ('st', 'rå'): 3774, ('T', 'ra'): 3775, ('an', 'ten '): 3776, ('vid', 'ere '): 3777, ('språkpoliti', 'kk '): 3778, ('Fr', 'p'): 3779, ('ly', ' '): 3780, ('oppr', 'ett'): 3781, ('de', 'p'): 3782, ('som', 'mar'): 3783, ('Mar', 'tin '): 3784, ('ut', 'valet '): 3785, ('2', '5 '): 3786, ('byg', 'd '): 3787, ('gra', 'v'): 3788, ('gå', 'ande '): 3789, ('on', 'de'): 3790, ('utt', 'al'): 3791, ('set', 'j'): 3792, ('0-', 'tal'): 3793, ('forb', 'un'): 3794, ('le', 'ge'): 3795, ('kult', 'ur '): 3796, ('internasjon', 'al '): 3797, ('NR', 'K '): 3798, ('hov', 'u'): 3799, ('f', '. '): 3800, ('inn', 'a '): 3801, ('Nore', 'g, '): 3802, ('1', '6'): 3803, ('tor', 'sdag '): 3804, ('ia', ', '): 3805, ('es', 'te'): 3806, ('M', 'ol'): 3807, ('p', 'ed'): 3808, ('gang', '. '): 3809, ('ver', 'd'): 3810, ('sen', 's '): 3811, ('c', 'e '): 3812, ('hal', 'd '): 3813, ('van', 'lege '): 3814, ('ter', ', '): 3815, ('hen', 'nar '): 3816, ('k', 'ke'): 3817, ('mø', 'tte '): 3818, ('kre', 'v '): 3819, ('utvikl', 'inga '): 3820, ('bru', 'ken '): 3821, ('d', 'rar '): 3822, ('bru', 'kar '): 3823, ('klu', 'bb'): 3824, ('inn', 'en'): 3825, ('ut', 'valget '): 3826, ('1', '6 '): 3827, ('al', 'd '): 3828, ('C', 'D'): 3829, ('av', 'del'): 3830, ('sk', 'on'): 3831, ('k', 'ret '): 3832, ('er', 'far'): 3833, ('A', 'v '): 3834, ('s', 'varet '): 3835, ('ten', 'si'): 3836, ('sna', 'k'): 3837, ('jan', 'u'): 3838, ('mid', 't '): 3839, ('M', 'id'): 3840, ('k', 'øy'): 3841, ('kr', 'y'): 3842, ('arbei', 'de '): 3843, ('slutt', 'en '): 3844, ('n', 'ett '): 3845, ('1', '3'): 3846, ('b', 'rei'): 3847, ('dal', '. '): 3848, ('ning', 'en. '): 3849, ('Hag', 'en '): 3850, ('de', 'sem'): 3851, ('ov', 'ert'): 3852, ('De', 'partementet '): 3853, ('enga', 'sj'): 3854, ('kommun', 'e '): 3855, ('Des', 'sutan '): 3856, ('ver', 'ka '): 3857, ('jun', 'i '): 3858, ('sein', 'are '): 3859, ('sl', 'a '): 3860, ('f', 'en '): 3861, ('t', 'vil '): 3862, ('ris', 'ik'): 3863, ('fy', 'rst '): 3864, ('peng', 'ane '): 3865, ('men', 'tet '): 3866, ('han', 'ds'): 3867, ('tal', 'a '): 3868, ('behandl', 'ing '): 3869, ('st', 'opp'): 3870, ('c', 'k '): 3871, ('lø', 'nn'): 3872, ('S', 'a'): 3873, ('et', '? '): 3874, ('s', 'tet '): 3875, ('el', 'dre '): 3876, ('re', 'ag'): 3877, ('gener', 'elt '): 3878, ('kv', 'en '): 3879, ('for', 't '): 3880, ('1', '4 '): 3881, ('é', ' '): 3882, ('min', 'utt'): 3883, ('trå', 'd '): 3884, ('ar', 'ar, '): 3885, ('bil', 'ete '): 3886, ('vi', 'dt '): 3887, ('må', 'na'): 3888, ('ri', 'g '): 3889, ('ten', 'kt '): 3890, ('byr', 'j'): 3891, ('tid', 'leg '): 3892, ('g', 'de '): 3893, ('Ut', 'valget '): 3894, ('Cathr', 'ine '): 3895, ('Fi', 'rda '): 3896, ('Senter', 'partiet '): 3897, ('G', 'jer'): 3898, ('Dag', 'ens '): 3899, ('syste', 'met '): 3900, ('miljø', ' '): 3901, ('Stat', 's'): 3902, ('represent', 'ant '): 3903, ('budsj', 'ettet '): 3904, ('Osl', 'o. '): 3905, ('av', 'vik'): 3906, ('tra', 'f'): 3907, ('ar', 'k'): 3908, ('jour', 'nali'): 3909, ('er', 'et '): 3910, ('Fr', 'a '): 3911, ('a', 'pr'): 3912, ('opp', 'følg'): 3913, ('til', 'pas'): 3914, ('enga', 'sje'): 3915, ('ingent', 'ing '): 3916, ('nord', 'menn '): 3917, ('a', '-'): 3918, ('dik', 't'): 3919, ('perso', 'ner '): 3920, ('re', 'spek'): 3921, ('begy', 'nte '): 3922, ('tro', 'lig '): 3923, ('offent', 'lig '): 3924, ('ment', 'ar'): 3925, ('ia', '. '): 3926, ('legg', 'ing '): 3927, ('en', 'de. '): 3928, ('ti', 'lt'): 3929, ('kol', 'og'): 3930, ('in', 'kluder'): 3931, ('famil', 'ien '): 3932, ('for', 'ut'): 3933, ('b', 'ot'): 3934, ('bl', 'o'): 3935, ('el', 'd'): 3936, ('T', 'o '): 3937, ('an', 'g '): 3938, ('Stolten', 'berg '): 3939, ('id', 'enti'): 3940, ('interess', 'ant '): 3941, ('p', 'en '): 3942, ('fram', 'for '): 3943, ('lik', 'n'): 3944, ('å', ', '): 3945, ('enk', 'elt '): 3946, ('k', 'andidat'): 3947, ('B', '. '): 3948, ('minist', 'eren '): 3949, ('nasjon', 'ale '): 3950, ('Ko', 'ng'): 3951, ('ør', 'en '): 3952, ('om', 'syn '): 3953, ('in', 'ga, '): 3954, ('kt', 'ør'): 3955, ('miljø', 'et '): 3956, ('mel', 'der '): 3957, ('Gj', 'enn'): 3958, ('føl', 'gj'): 3959, ('saman', 'lik'): 3960, ('pr', 'ov'): 3961, ('pr', 'om'): 3962, ('ett', 'en '): 3963, ('selv', 'sagt '): 3964, ('ust', 'ra'): 3965, ('Sam', 'tidig '): 3966, ('m', 'am'): 3967, ('I', 'kke '): 3968, ('stå', 'tt '): 3969, ('st', 'in'): 3970, ('str', 'en'): 3971, ('skap', '. '): 3972, ('te', 'leg '): 3973, ('rei', 'se'): 3974, ('200', ' '): 3975, ('ik', 't '): 3976, ('la', 'ur'): 3977, ('ikk', '. '): 3978, ('fy', 'sik'): 3979, ('vin', 'ne '): 3980, ('sk', 'e'): 3981, ('dri', 'v '): 3982, ('da', 's '): 3983, ('Rom', 'ne'): 3984, ('Regjer', 'ingens '): 3985, ('vider', 'e'): 3986, ('D', 'ju'): 3987, ('styr', 'ings'): 3988, ('an', 'se'): 3989, ('ti', 'st'): 3990, ('under', 'vis'): 3991, ('s', 'und'): 3992, ('kommun', 'ale '): 3993, ('st', 'itu'): 3994, ('T', 'i'): 3995, ('enn', 'om '): 3996, ('kontr', 'oll '): 3997, ('t', 'vil'): 3998, ('f', 'ær'): 3999, ('ord', 'ning '): 4000, ('ld', 'at'): 4001, ('so', 'ld'): 4002, ('00', '.000 '): 4003, ('st', 'er. '): 4004, ('sla', 'get '): 4005, ('i', 'd '): 4006, ('Sel', 'v '): 4007, ('ar', 'i'): 4008, ('-', 'E'): 4009, ('liv', 's'): 4010, ('bran', 'sj'): 4011, ('sel', 'skap '): 4012, ('va', ', '): 4013, ('h', 'em'): 4014, ('sky', 'ld'): 4015, ('seks', 'u'): 4016, ('fr', 'i '): 4017, ('eventu', 'elt '): 4018, ('Fol', 'k '): 4019, ('ul', 'y'): 4020, ('J', 'a'): 4021, ('ver', 'ste '): 4022, ('and', 're, '): 4023, ('del', 's '): 4024, ('.', ') '): 4025, ('ho', '. '): 4026, ('ster', 'kare '): 4027, ('ut', 'over '): 4028, ('for', 't'): 4029, ('Arbei', 'der'): 4030, ('sna', 'kk '): 4031, ('leik', 'en '): 4032, ('suk', 'se'): 4033, ('milliar', 'dar '): 4034, ('peri', 'o'): 4035, ('bru', 'ka '): 4036, ('200', '5 '): 4037, ('min', 'ne'): 4038, ('vi', 'tet '): 4039, ('er', 'stat'): 4040, ('sj', 'å'): 4041, ('hol', 'dt '): 4042, ('år', 'e '): 4043, ('ve', 's '): 4044, ('da', 'ger '): 4045, ('lag', 'de '): 4046, ('kvi', 'for '): 4047, ('gje', 'v'): 4048, ('v', 'ê'): 4049, ('ter', 'te '): 4050, ('jobb', ' '): 4051, ('van', 'leg '): 4052, ('t', '-'): 4053, ('hø', 'g '): 4054, ('t', 'et, '): 4055, ('so', 'ldat'): 4056, ('B', 'ø'): 4057, ('jobb', 'en '): 4058, ('bas', 'ert '): 4059, ('samfunn', '. '): 4060, ('vi', 'a '): 4061, ('ra', 'st '): 4062, ('on', ', '): 4063, ('er', '? '): 4064, ('re', 'fle'): 4065, ('0', '.000 '): 4066, ('tils', 'var'): 4067, ('as', 'yl'): 4068, ('H', 'å'): 4069, ('Sol', 'heim '): 4070, ('R', 'ei'): 4071, ('inst', 'ru'): 4072, ('Ven', 'stre'): 4073, ('arki', 'tekt'): 4074, ('økonom', 'i '): 4075, ('an', 'n '): 4076, ('posi', 'tivt '): 4077, ('la', '. '): 4078, ('ra', 'm '): 4079, ('nor', 'm'): 4080, ('hol', 'd'): 4081, ('rik', 's'): 4082, ('eg', 'ne '): 4083, ('al', 'let '): 4084, ('den', 'de '): 4085, ('uten', 'for '): 4086, ('nød', 'vend'): 4087, ('å', 'le'): 4088, ('ali', 'sm'): 4089, ('b', 'rå'): 4090, ('medle', 'm '): 4091, ('par', 'ten '): 4092, ('tu', 'r '): 4093, ('sk', ', '): 4094, ('for', 'sik'): 4095, ('fjel', 'l'): 4096, ('ing', ': '): 4097, ('før', '. '): 4098, ('inn', '. '): 4099, ('dri', 've '): 4100, ('kunn', 'skap '): 4101, ('ak', 'tiv '): 4102, ('ta', 'sjon '): 4103, ('ak', 'tivt '): 4104, ('statsk', 'irke'): 4105, ('representan', 'ten '): 4106, ('år', 'd '): 4107, ('språk', 'lege '): 4108, ('dess', 'utan '): 4109, ('dy', 'r '): 4110, ('ne', 'd. '): 4111, ('ll', 'a '): 4112, ('y', 'tr'): 4113, ('Dag', 'bla'): 4114, ('tr', 'o '): 4115, ('A', 'ng'): 4116, ('V', 'ik'): 4117, ('ei', 'ga '): 4118, ('fol', 'k. '): 4119, ('so', 'li'): 4120, ('sk', 'a '): 4121, ('ek', 'te'): 4122, ('v', ', '): 4123, ('tyde', 'leg '): 4124, ('ti', 'on'): 4125, ('Pre', 'siden'): 4126, ('er', 'en. '): 4127, ('beho', 'vet '): 4128, ('fat', 'tige '): 4129, ('B', 'a'): 4130, ('for', 'en'): 4131, ('ro', 'll'): 4132, ('sam', 'band '): 4133, ('ering', ', '): 4134, ('et', 'il'): 4135, ('dr', 'et'): 4136, ('Ru', 'ss'): 4137, ('C', 'o'): 4138, ('M', 'on'): 4139, ('politikk', 'en. '): 4140, ('I', 'nter'): 4141, ('ord', 'in'): 4142, ('s', 'or'): 4143, ('U', 'n'): 4144, ('aktu', 'elt '): 4145, ('st', 'id'): 4146, ('st', 'ene '): 4147, ('Stat', 'ens '): 4148, ('amerikan', 'sk '): 4149, ('ik', 'ke'): 4150, ('til', 'li'): 4151, ('fle', 'st '): 4152, ('fan', 'ta'): 4153, ('f', 'av'): 4154, ('le', 've '): 4155, ('st', 'at '): 4156, ('st', 'off'): 4157, ('sp', 're'): 4158, ('so', 'n'): 4159, ('ir', 'a '): 4160, ('ma', 'ti'): 4161, ('for', 'står '): 4162, ('ten', 'kte '): 4163, ('intel', 'le'): 4164, ('3.', '4.'): 4165, ('aktu', 'elle '): 4166, ('S', 'unn'): 4167, ('medle', 'm'): 4168, ('sosi', 'ali'): 4169, ('læ', 'kj'): 4170, ('ta', 'ka '): 4171, ('ski', 'p'): 4172, ('arbei', 'da '): 4173, ('Politi', 'et '): 4174, ('Ste', 'in'): 4175, ('politi', 'karar '): 4176, ('ver', 'ande '): 4177, ('K', 'ri'): 4178, ('ed', 'er'): 4179, ('be', 'folk'): 4180, ('Dan', 'mark '): 4181, ('fø', 'le'): 4182, ('Aften', 'po'): 4183, ('år', 'ets '): 4184, ('gen', 'de '): 4185, ('sjon', 'en. '): 4186, ('priva', 't '): 4187, ('ber', 'ed'): 4188, ('hje', 'm '): 4189, ('skre', 'vet '): 4190, ('i', 'tali'): 4191, ('t', 'om'): 4192, ('prose', 'ssen '): 4193, ('Han', 's '): 4194, ('det', 'al'): 4195, ('de', 'i. '): 4196, ('d', 'te '): 4197, ('de', 'k'): 4198, ('B', 'i'): 4199, ('en', 'dre '): 4200, ('liv', 'et. '): 4201, ('posi', 'tive '): 4202, ('v', 'ond'): 4203, ('E', 'll'): 4204, ('ver', 'kar '): 4205, ('bor', 'gar'): 4206, ('stad', ', '): 4207, ('le', 'ktu'): 4208, ('f', 'i '): 4209, ('op', 'sjons'): 4210, ('Berte', 'lsen '): 4211, ('Vin', 'je '): 4212, ('språ', 'ks'): 4213, ('N', 'il'): 4214, ('iti', 'a'): 4215, ('in', 'iti'): 4216, ('regjer', 'ing'): 4217, ('jul', 'i '): 4218, ('utvik', 'le '): 4219, ('han', ', '): 4220, ('sven', 'ske '): 4221, ('at', 'or '): 4222, ('ad', 'op'): 4223, ('J', 'ø'): 4224, ('K', 'ina '): 4225, ('byg', 'da '): 4226, ('samarbei', 'det '): 4227, ('Univer', 'sitet'): 4228, ('n', 'der '): 4229, ('opp', ', '): 4230, ('And', 'ers '): 4231, ('ør', 't '): 4232, ('la', 'ss'): 4233, ('z', 'z'): 4234, ('pla', 'n '): 4235, ('jobb', 'e '): 4236, ('il', 'le'): 4237, ('ve', 'm'): 4238, ('ø', 'nn'): 4239, ('ti', 'da, '): 4240, ('ba', 'd '): 4241, ('men', ', '): 4242, ('d', 'ob'): 4243, ('opp', 'dra'): 4244, ('sna', 'kka '): 4245, ('v', 'ent'): 4246, ('i', '-'): 4247, ('bar', 't '): 4248, ('histor', 'isk '): 4249, ('pres', 'ent'): 4250, ('tros', '- '): 4251, ('i', 'følge '): 4252, ('regjer', 'ingen '): 4253, ('re', 'ise '): 4254, ('innsat', 's '): 4255, ('intelle', 'ktu'): 4256, ('inte', 'gr'): 4257, ('mang', 'fal'): 4258, ('Ne', 'w '): 4259, ('re', 'for'): 4260, ('de', 'ls'): 4261, ('hal', 'da '): 4262, ('Breiv', 'ik '): 4263, ('erin', 'gar '): 4264, ('fly', 'kt'): 4265, ('L', 'ond'): 4266, ('o', 'kt'): 4267, ('som', 'me '): 4268, ('red', 'd '): 4269, ('T', 'a'): 4270, ('y', 'tter'): 4271, ('demokra', 'tiske '): 4272, ('eg', 'et '): 4273, ('L', 'in'): 4274, ('unn', 'a '): 4275, ('for', 'mer '): 4276, ('st', 'jer'): 4277, ('utgangsp', 'unktet '): 4278, ('t', 'ett '): 4279, ('T', 'e'): 4280, ('dd', '. '): 4281, ('k', 'tar '): 4282, ('ram', 'me'): 4283, ('de', 'lt'): 4284, ('må', 'tar '): 4285, ('mer', 'ksem'): 4286, ('prose', 'ss'): 4287, ('de', 'ira '): 4288, ('så', 'nn '): 4289, ('proble', 'met '): 4290, ('hel', 'dt '): 4291, ('het', 'ene '): 4292, ('asy', 'ls'): 4293, ('Klasse', 'kampen '): 4294, ('in', 'itia'): 4295, ('språk', '. '): 4296, ('V', 'a'): 4297, ('Krist', 'in '): 4298, ('fo', 'n'): 4299, ('O', 'l'): 4300, ('0', ', '): 4301, ('prosje', 'ktet '): 4302, ('sat', 'sing '): 4303, ('k', 'lasse'): 4304, ('sm', 'annen '): 4305, ('produk', 'sjonen '): 4306, ('V', 'G'): 4307, ('før', 're '): 4308, ('ru', 'ssi'): 4309, ('redus', 'ere '): 4310, ('itu', 'asjonen '): 4311, ('f', 'lin'): 4312, ('19', '5'): 4313, ('1', '4'): 4314, ('M', 'annen '): 4315, ('ka', 'mer'): 4316, ('V', 'å'): 4317, ('ning', 'ene '): 4318, ('on', 'e '): 4319, ('foreld', 're '): 4320, ('re', 'ak'): 4321, ('G', 'ro'): 4322, ('Lar', 's '): 4323, ('l', 'end'): 4324, ('Nord', '-'): 4325, ('å', 'l'): 4326, ('ra', 'k'): 4327, ('bl', 'od'): 4328, ('det', '? '): 4329, ('kon', 'kr'): 4330, ('le', 'der'): 4331, ('5', '.'): 4332, ('Før', 'de. '): 4333, ('vurd', 'era '): 4334, ('Stat', 'o'): 4335, ('O', 'EC'): 4336, ('regj', 'erings'): 4337, ('til', 'hø'): 4338, ('ener', 'gi '): 4339, ('utvi', 'da '): 4340, ('konkurran', 'se'): 4341, ('politi', 'karane '): 4342, ('set', 'ja '): 4343, ('sv', 'er'): 4344, ('L', 'a'): 4345, ('en', 'ter '): 4346, ('ik', 'ke. '): 4347, ('a', 'ler '): 4348, ('tr', 'od'): 4349, ('t', 'all'): 4350, ('S', 'en'): 4351, ('ku', 'n '): 4352, ('for', 'tal'): 4353, ('bø', 'ker '): 4354, ('er', 'ast '): 4355, ('sp', 'en'): 4356, ('s', 'lik'): 4357, ('ta', 'st '): 4358, ('ma', 'l '): 4359, ('no', 'k. '): 4360, ('ve', 'gg'): 4361, ('kre', 'v'): 4362, ('la', 'st '): 4363, ('vek', 'st'): 4364, ('k', 'ing '): 4365, ('ks', 'om'): 4366, ('leggj', 'ande '): 4367, ('1', '7'): 4368, ('røy', 'nd'): 4369, ('lin', 'ger '): 4370, ('prå', 'k '): 4371, ('O', '-'): 4372, ('Øy', 'vind '): 4373, ('et', 'a '): 4374, ('H', 'eg'): 4375, ('B', 'onde'): 4376, ('K', 'ro'): 4377, ('skap', 's'): 4378, ('S', 'nor'): 4379, ('byg', 'get '): 4380, ('ra', 'dik'): 4381, ('S', 'ch'): 4382, ('form', 'ul'): 4383, ('s', 'sel'): 4384, ('W', 'il'): 4385, ('al', 'ko'): 4386, ('sosi', 'al '): 4387, ('liv', ', '): 4388, ('Kn', 'ut '): 4389, ('Car', 'l '): 4390, ('sk', 'yl'): 4391, ('V', 'eg'): 4392, ('rik', 'tig '): 4393, ('in', 'd '): 4394, ('a', 'en '): 4395, ('sna', 'kker '): 4396, ('inn', 'legg '): 4397, ('akti', 'vit'): 4398, ('red', 'uk'): 4399, ('Joh', 'n '): 4400, ('G', ' '): 4401, ('s', 'er. '): 4402, ('ra', 'g '): 4403, ('kjø', 'pe '): 4404, ('s', '-'): 4405, ('u', 'avhengig '): 4406, ('fung', 'erer '): 4407, ('fol', 'k, '): 4408, ('kjen', 'te '): 4409, ('and', 'a '): 4410, ('krist', 'end'): 4411, ('su', 'b'): 4412, ('et', 'c'): 4413, ('forur', 'ens'): 4414, ('ty', 'sdag '): 4415, ('a', 'ket '): 4416, ('k', 'nytt '): 4417, ('G', 'ul'): 4418, ('hå', 'par '): 4419, ('Nær', 'ings'): 4420, ('sat', 'se '): 4421, ('ga', 'ss'): 4422, ('Gjenn', 'om '): 4423, ('tit', 'tel'): 4424, ('F', 'il'): 4425, ('ar', 'ane. '): 4426, ('arbei', 'd. '): 4427, ('nytt', 'ar '): 4428, ('lig', ', '): 4429, ('la', 'pp'): 4430, ('Un', 'der '): 4431, ('ob', 'ser'): 4432, ('bek', 'ym'): 4433, ('be', 'skje'): 4434, ('ster', 'en '): 4435, ('raf', 't '): 4436, ('er', 'ende '): 4437, ('etter', 'mid'): 4438, ('fin', 'ner '): 4439, ('l', 'er, '): 4440, ('j', 'ent'): 4441, ('ul', 'e '): 4442, ('r', 'ol'): 4443, ('é', 'n '): 4444, ('M', 'at'): 4445, ('hå', 'per '): 4446, ('fle', 'i'): 4447, ('sa', '. '): 4448, ('rik', ' '): 4449, ('ev', 'ne '): 4450, ('pei', 'kar '): 4451, ('vansk', 'e'): 4452, ('hund', 're'): 4453, ('f', 'ul'): 4454, ('opp', 'tatt '): 4455, ('ing', 'ane. '): 4456, ('ry', 'gg'): 4457, ('b', 'all '): 4458, ('ve', 'sent'): 4459, ('Storting', 'et. '): 4460, ('er', 'u'): 4461, ('ungdom', 's'): 4462, ('ten', 'ke '): 4463, ('ab', 'sol'): 4464, ('Ann', 'ika '): 4465, ('minoritet', 'ss'): 4466, ('virksom', 'het '): 4467, ('må', 'll'): 4468, ('styrk', 'e '): 4469, ('Sol', 'vei'): 4470, ('kriti', 'kk '): 4471, ('Ky', 'o'): 4472, ('fri', 'e '): 4473, ('E', 'd'): 4474, ('v', 'ene '): 4475, ('karakt', 'er'): 4476, ('r', 'ut'): 4477, ('J', 'on '): 4478, ('stat', 'sminister '): 4479, ('go', 'ngen '): 4480, ('mann', '. '): 4481, ('200', '7 '): 4482, ('6', '0 '): 4483, ('B', 'ak'): 4484, ('o', 'en '): 4485, ('fil', 'm '): 4486, ('sk', 'ep'): 4487, ('No', 'en '): 4488, ('virk', 'elig '): 4489, ('hjel', 'pe '): 4490, ('no', ', '): 4491, ('fy', 'si'): 4492, ('u', 'd '): 4493, ('mot', 'or'): 4494, ('I', 'tali'): 4495, ('Europa', '. '): 4496, ('å', 'ra, '): 4497, ('tradis', 'jon'): 4498, ('us', '. '): 4499, ('Fyres', 'dal '): 4500, ('V', 'T'): 4501, ('føre', 'seg'): 4502, ('retnings', 'lin'): 4503, ('D', 'alen '): 4504, ('fer', 'd'): 4505, ('Sognd', 'al '): 4506, ('Mar', 'ie '): 4507, ('200', '6 '): 4508, ('re', 'dde '): 4509, ('ber', 'g. '): 4510, ('to', '-'): 4511, ('vilk', 'år '): 4512, ('Tid', 'legare '): 4513, ('kult', 'u'): 4514, ('len', 'gre '): 4515, ('dire', 'ktor'): 4516, ('lu', 'ft'): 4517, ('Må', 'let '): 4518, ('200', '8'): 4519, ('lett', 'are '): 4520, ('ang', 'er'): 4521, ('fer', 'ds'): 4522, ('land', 's '): 4523, ('S', 'tu'): 4524, ('prosent', ', '): 4525, ('ning', 'ane '): 4526, ('rek', 'ne'): 4527, ('sk', 'att '): 4528, ('tus', 'en '): 4529, ('hands', 'am'): 4530, ('N', ' '): 4531, ('sin', '. '): 4532, ('respek', 't '): 4533, ('fe', 'bru'): 4534, ('l', 'ør'): 4535, ('forskj', 'el'): 4536, ('er', 'ingen '): 4537, ('reg', 'ler '): 4538, ('set', 'ter '): 4539, ('hje', 'mme '): 4540, ('ing', 'er. '): 4541, ('va', 'rer '): 4542, ('kom', 'bin'): 4543, ('in', 'dre '): 4544, ('sna', 'kkar '): 4545, ('modell', 'en '): 4546, ('od', 'e '): 4547, ('ikkje', '. '): 4548, ('e', '\" '): 4549, ('tra', 'ss '): 4550, ('opp', 'teken '): 4551, ('hei', 'me'): 4552, ('janu', 'ar '): 4553, ('S', 'ku'): 4554, ('ret', 'ning '): 4555, ('je', '. '): 4556, ('eksi', 'ster'): 4557, ('til', 'kny'): 4558, ('utsli', 'pp'): 4559, ('(', 'A'): 4560, ('språk', ', '): 4561, ('L', 'ær'): 4562, ('hei', 'm, '): 4563, ('Mil', 'jø'): 4564, ('ni', 'sk '): 4565, ('Ven', 'stre '): 4566, ('forbun', 'det '): 4567, ('pasi', 'ent'): 4568, ('pe', '. '): 4569, ('økonom', 'ien '): 4570, ('an', 'det '): 4571, ('USA', ', '): 4572, ('O', 'ver'): 4573, ('j', 'f. '): 4574, ('oppr', 'ør'): 4575, ('fri', 'het '): 4576, ('kna', 'pt '): 4577, ('ette', 's '): 4578, ('al', 'li'): 4579, ('R', 'un'): 4580, ('ra', 's'): 4581, ('øy', 'a '): 4582, ('g', 'li'): 4583, ('tiv', '. '): 4584, ('kla', 'ss'): 4585, ('lan', 'gs'): 4586, ('plass', '. '): 4587, ('is', 'men '): 4588, ('L', 'es '): 4589, ('vil', 'je '): 4590, ('B', 'ru'): 4591, ('rt', ', '): 4592, ('olog', 'isk '): 4593, ('an', 'e'): 4594, ('us', ', '): 4595, ('lov', 'en '): 4596, ('ei', 'end'): 4597, ('språkpoliti', 'kken '): 4598, ('Stats', 'råd '): 4599, ('ut', 'grei'): 4600, ('ten', 'est'): 4601, ('S', 'to'): 4602, ('lo', 'ven'): 4603, ('apr', 'il '): 4604, ('til', 'bod '): 4605, ('CO', '2-'): 4606, ('A', 'v'): 4607, ('dag', 'leg '): 4608, ('ko', 'n '): 4609, ('ret', 'or'): 4610, ('rep', 'ubli'): 4611, ('ver', 'da. '): 4612, ('plass', 'en '): 4613, ('N', 'æ'): 4614, ('parti', 'a '): 4615, ('opp', 'os'): 4616, ('ra', 'ud'): 4617, ('No', 'ko'): 4618, ('stat', 'ens '): 4619, ('inne', 'ber '): 4620, ('gan', 'gs'): 4621, ('no', 'vem'): 4622, ('s', 'mi'): 4623, ('S', 'trø'): 4624, ('o', '-'): 4625, ('lø', 'p'): 4626, ('te', 'lse '): 4627, ('informa', 'sjon '): 4628, ('bedri', 'fter '): 4629, ('innt', 'rykk '): 4630, ('ly', 'st '): 4631, ('u', 'hel'): 4632, ('inna', 'n '): 4633, ('sam', 't '): 4634, ('så', 'kalla '): 4635, ('til', 'fel'): 4636, ('va', 'ks'): 4637, ('al', 'le'): 4638, ('in', ', '): 4639, ('J', 'ens '): 4640, ('mog', 'leg'): 4641, ('min', 'ste '): 4642, ('V', 'i'): 4643, ('konkr', 'ete '): 4644, ('pr', 'op'): 4645, ('endr', 'inger '): 4646, ('iv', 'ar'): 4647, ('A', 'a'): 4648, ('lan', 'dets '): 4649, ('un', 'e '): 4650, ('er', 'en, '): 4651, ('e', '-'): 4652, ('7', '0 '): 4653, ('kommun', 'ik'): 4654, ('utdann', 'ing '): 4655, ('ver', 'ne'): 4656, ('sekret', 'ær '): 4657, ('ve', 'sen'): 4658, ('enkel', 't'): 4659, ('gru', 'pper '): 4660, ('de', 'mo'): 4661, ('er', 'ing. '): 4662, ('økonom', 'i'): 4663, ('F', 'ørst '): 4664, ('gen', 's '): 4665, ('ku', 'rs'): 4666, ('en', 'si'): 4667, ('mar', 's '): 4668, ('presiden', 't '): 4669, ('fa', 'ler '): 4670, ('anbe', 'fa'): 4671, ('øn', 'ske '): 4672, ('foku', 's '): 4673, ('kor', 'ru'): 4674, ('kri', 'g '): 4675, ('po', 'tensi'): 4676, ('en', 'ig '): 4677, ('dår', 'lig '): 4678, ('kri', 'tisk '): 4679, ('ar', '? '): 4680, ('si', 'de'): 4681, ('svar', 'te '): 4682, ('rela', 'tivt '): 4683, ('S', 'ær'): 4684, ('olog', 'i '): 4685, ('ev', 'angel'): 4686, ('g', 'at'): 4687, ('innen', 'for '): 4688, ('Sog', 'el'): 4689, ('N', 'is'): 4690, ('is', 'se'): 4691, ('E', 'id'): 4692, ('1', '7 '): 4693, ('ri', 'm'): 4694, ('1', '8 '): 4695, ('de', 'leg '): 4696, ('sta', 'tist'): 4697, ('fly', 'tta '): 4698, ('styr', 'kja '): 4699, ('fram', 'legget '): 4700, ('E', 'i'): 4701, ('val', 'de '): 4702, ('stre', 'k'): 4703, ('endr', 'a '): 4704, ('an', 'de, '): 4705, ('kommun', 'ar '): 4706, ('så', 'leis '): 4707, ('ne', 'i '): 4708, ('lei', 'aren '): 4709, ('Men', 's '): 4710, ('ag', '. '): 4711, ('resulta', 't '): 4712, ('byg', 'g '): 4713, ('mø', 'tt '): 4714, ('bedri', 'ft'): 4715, ('St', 'y'): 4716, ('ans', 'atte '): 4717, ('viktig', 'ste '): 4718, ('spil', 'ler '): 4719, ('ori', 'ent'): 4720, ('ut', 'ter '): 4721, ('tils', 'y'): 4722, ('interv', 'ju'): 4723, ('bil', 'der '): 4724, ('5', '00 '): 4725, ('j', ' '): 4726, ('D', 'is'): 4727, ('alvor', 'leg '): 4728, ('st', 'ig'): 4729, ('l', 'å '): 4730, ('sp', 'i'): 4731, ('isk', '. '): 4732, ('klar', 'te '): 4733, ('a', 'ust'): 4734, ('ns', 'yn'): 4735, ('ali', 'tet '): 4736, ('la', 'g, '): 4737, ('nam', 'net '): 4738, ('ende', 'leg '): 4739, ('også', '. '): 4740, ('sam', 'l'): 4741, ('høy', 'rer '): 4742, ('gre', 'p '): 4743, ('skap', ', '): 4744, ('av', ', '): 4745, ('ei', 'e '): 4746, ('u', 'ansett '): 4747, ('lå', 'g'): 4748, ('ett', ', '): 4749, ('st', 'am'): 4750, ('Paul', 'us '): 4751, ('ta', 'ler '): 4752, ('el', 'sen '): 4753, ('sk', 'is'): 4754, ('Folke', 'parti '): 4755, ('B', 'ir'): 4756, ('h', 'un'): 4757, ('D', 'yr'): 4758, ('gasskraft', 'verk '): 4759, ('ut', 'bygg'): 4760, ('prinsi', 'ppet '): 4761, ('samfunn', 'et. '): 4762, ('L', 'æ'): 4763, ('n', 'r. '): 4764, ('messi', 'g '): 4765, ('id', 'e '): 4766, ('dy', 're'): 4767, ('f', 'elt '): 4768, ('vå', 'pen'): 4769, ('200', '4 '): 4770, ('vis', 'jon'): 4771, ('om', 'kring '): 4772, ('makt', 'a '): 4773, ('vol', 'u'): 4774, ('bli', 'kk '): 4775, ('ly', 's '): 4776, ('dro', ' '): 4777, ('L', ' '): 4778, ('ning', 'er. '): 4779, ('sp', 'u'): 4780, ('gj', 'eng'): 4781, ('ob', 'je'): 4782, ('N', 'av'): 4783, ('off', 'isi'): 4784, ('s', 'ho'): 4785, ('bæ', 'rer '): 4786, ('d', 'uk'): 4787, ('si', 'der '): 4788, ('prof', 'il'): 4789, ('avis', 'a '): 4790, ('g', 'el'): 4791, ('meld', 'e '): 4792, ('p', 'ak'): 4793, ('mennesk', 'eret'): 4794, ('T', 'en'): 4795, ('ko', 'pp'): 4796, ('fin', 't '): 4797, ('t', 's '): 4798, ('sp', 'or'): 4799, ('l', 'og'): 4800, ('vis', '. '): 4801, ('id', 'de '): 4802, ('dy', 'rk'): 4803, ('lær', 'ing '): 4804, ('skri', 'v'): 4805, ('rø', 'd'): 4806, ('Vest-', 'Telemar'): 4807, ('rapp', 'ort '): 4808, ('firda', '.no '): 4809, ('Mar', 'i'): 4810, ('ei', 'er'): 4811, ('E', 'Ø'): 4812, ('desem', 'ber '): 4813, ('politi', 'k'): 4814, ('frem', 'ja '): 4815, ('I', '. '): 4816, ('regjer', 'ingsp'): 4817, ('bo', 'det '): 4818, ('u', 'rein'): 4819, ('endr', 'ing '): 4820, ('sa', 'ka. '): 4821, ('job', 'bar '): 4822, ('lo', 'ka'): 4823, ('til', 'sku'): 4824, ('tek', 'ter '): 4825, ('d', 'oll'): 4826, ('svar', 'a '): 4827, ('rek', 'na '): 4828, ('lei', 'inga '): 4829, ('Is', 'rael'): 4830, ('omfat', 'tande '): 4831, ('ka', 'ste '): 4832, ('b', 'u '): 4833, ('reg', 'lane '): 4834, ('ein', 'skil'): 4835, ('to', 'n '): 4836, ('at', 'en '): 4837, ('re', 'vol'): 4838, ('ver', 'dige '): 4839, ('H', 'alvor'): 4840, ('n', 'att '): 4841, ('ha', 'm. '): 4842, ('skol', 'e '): 4843, ('skad', 'e '): 4844, ('tt', 'en '): 4845, ('pen', 'ger '): 4846, ('t', 'ing'): 4847, ('job', 'ber '): 4848, ('A', ' '): 4849, ('erin', 'ger '): 4850, ('c', 'a '): 4851, ('ø', 'rer '): 4852, ('de', 'm. '): 4853, ('K', 'lo'): 4854, ('h', 'vem '): 4855, ('anbe', 'faler '): 4856, ('bil', 'de '): 4857, ('ne', 's. '): 4858, ('m', 'om'): 4859, ('seso', 'ng'): 4860, ('E', 'k'): 4861, ('mål', ', '): 4862, ('tan', 'k'): 4863, ('bes', 'te'): 4864, ('is', 'ert '): 4865, ('at', 't, '): 4866, ('il', 'd '): 4867, ('t', 'et'): 4868, ('y', '. '): 4869, ('sk', '. '): 4870, ('lo', 'j'): 4871, ('m', 'i '): 4872, ('dagen', '. '): 4873, ('vurd', 'ere '): 4874, ('L', 'u'): 4875, ('é', 'in '): 4876, ('understre', 'kar '): 4877, ('V', 'el'): 4878, ('ven', 'tar '): 4879, ('na', 'st '): 4880, ('institu', 'sjonen '): 4881, ('Jen', 'sen '): 4882, ('hin', 'dre '): 4883, ('B', 'en'): 4884, ('G', 'eor'): 4885, ('internasjon', 'alt '): 4886, ('domm', 'en '): 4887, ('kil', 'om'): 4888, ('sv', 'ar. '): 4889, ('A', 'm'): 4890, ('K', 'va'): 4891, ('veks', 't '): 4892, ('E', 'li'): 4893, ('sektor', 'en '): 4894, ('ban', 'k'): 4895, ('USA', '. '): 4896, ('septem', 'ber '): 4897, ('den', 'e. '): 4898, ('kk', 'en, '): 4899, ('bek', 're'): 4900, ('es', '. '): 4901, ('k', 'ort'): 4902, ('a', 'm '): 4903, ('p', 'il'): 4904, ('na', 'bo'): 4905, ('fly', ' '): 4906, ('ik', 'ker '): 4907, ('y', 'ng'): 4908, ('de', 'lige '): 4909, ('reg', 'el '): 4910, ('in', 'vol'): 4911, ('D', 'u'): 4912, ('prø', 've '): 4913, ('sk', 'ik'): 4914, ('w', 'a'): 4915, ('o', 's '): 4916, ('gjor', 't. '): 4917, ('sin', 'e, '): 4918, ('ser', 'i'): 4919, ('S', 'u'): 4920, ('b', 'el '): 4921, ('tan', 'ke '): 4922, ('u', 'kt'): 4923, ('et', 'ar '): 4924, ('kjen', 'ne '): 4925, ('ist', 'iske '): 4926, ('A', 'lt'): 4927, ('formues', 'skat'): 4928, ('Nis', 'se'): 4929, ('tr', 'i '): 4930, ('fe', 'sta '): 4931, ('ten', ': '): 4932, ('sentral', 'sjukehus '): 4933, ('Na', 'ust'): 4934, ('G', 'ra'): 4935, ('men', 'g'): 4936, ('gi', 'fter '): 4937, ('for', 'handl'): 4938, ('fø', 'd'): 4939, ('Hel', 'se'): 4940, ('S', 'ki'): 4941, ('før', 'et'): 4942, ('.', 'a. '): 4943, ('språk', 'leg '): 4944, ('vidare', 'gåande '): 4945, ('kri', 'tiske '): 4946, ('in', 've'): 4947, ('forsk', 'ings'): 4948, ('EU', '-'): 4949, ('øy', 'de'): 4950, ('del', 'tak'): 4951, ('et', 'j'): 4952, ('fram', '. '): 4953, ('ri', 'g'): 4954, ('No', 'reg'): 4955, ('re', 'fer'): 4956, ('s', 'h'): 4957, ('nem', 'lig '): 4958, ('li', 'n '): 4959, ('nå', '. '): 4960, ('h', '. '): 4961, ('omm', 'e '): 4962, ('ar', 'rang'): 4963, ('forb', 'in'): 4964, ('sen', 'ere '): 4965, ('tal', 'l '): 4966, ('hand', 'ler '): 4967, ('skre', 'v '): 4968, ('begyn', 'ner '): 4969, ('M', 'itt '): 4970, ('sa', ', '): 4971, ('histor', 'iske '): 4972, ('fr', 'ik'): 4973, ('vest', 'lege '): 4974, ('Des', 'se '): 4975, ('ra', 's '): 4976, ('fri', 'dom'): 4977, ('unng', 'å '): 4978, ('ny', 'tte '): 4979, ('t', 'ju'): 4980, ('kj', 'æ'): 4981, ('an', 'ne '): 4982, ('l', ', '): 4983, ('k', 'n'): 4984, ('o', 'te'): 4985, ('må', 'te. '): 4986, ('ek', 'stra'): 4987, ('dom', 'en '): 4988, ('b', 'ra. '): 4989, ('j', 'a. '): 4990, ('vis', 'se '): 4991, ('del', 't '): 4992, ('absol', 'utt '): 4993, ('fra', 'man'): 4994, ('Jes', 'us '): 4995, ('gener', 'ell '): 4996, ('kir', 'ke. '): 4997, ('I', 'følge '): 4998, ('vin', 'ner '): 4999, ('TV', '-'): 5000, ('nær', 'm'): 5001, ('mus', 'ikk'): 5002, ('engel', 'sk '): 5003, ('m', '.'): 5004, ('ver', 'k, '): 5005, ('S', 'S'): 5006, ('sj', 'u '): 5007, ('dri', 'ft '): 5008, ('fa', 'br'): 5009, ('s', 'und '): 5010, ('glo', 'b'): 5011, ('di', 'dat '): 5012, ('r', 'ette'): 5013, ('parti', 'ets '): 5014, ('avhen', 'g'): 5015, ('kunst', 'n'): 5016, ('Y', 'or'): 5017, ('O', 'm'): 5018, ('kulture', 'lle '): 5019, ('sa', 'ks'): 5020, ('arbei', 'd, '): 5021, ('in', 'di'): 5022, ('ra', 'di'): 5023, ('B', 'o'): 5024, ('Li', 'by'): 5025, ('bar', 'net '): 5026, ('ikk', ', '): 5027, ('t', 'te. '): 5028, ('2', ', '): 5029, ('kvel', 'd. '): 5030, ('ord', '. '): 5031, ('stil', 'te '): 5032, ('hjel', 'p'): 5033, ('l', 'en '): 5034, ('set', 'e '): 5035, ('år', 's '): 5036, ('Trond', 'heim '): 5037, ('M', 'an '): 5038, ('t', 'jen'): 5039, ('be', 't '): 5040, ('b', 'ort'): 5041, ('R', 'i'): 5042, ('ett', 'er. '): 5043, ('sik', 'te '): 5044, ('ns', ' '): 5045, ('sk', 'ar'): 5046, ('H', 'ad'): 5047, ('eksp', 'er'): 5048, ('app', 'el'): 5049, ('bra', ', '): 5050, ('be', 'in'): 5051, ('sik', 'ker '): 5052, ('år', 'et. '): 5053, ('q', 'u'): 5054, ('si', 'dan'): 5055}\n",
      "vocab dim:\t 5056\n"
     ]
    }
   ],
   "source": [
    "from collections import Counter\n",
    "\n",
    "token_counts = Counter(list(ndt_training_lm(ndt_test_lm)))\n",
    "print(\"frequencies:\\t\", token_counts)\n",
    "\n",
    "print(\"merge pairs:\\t\", ndt_training_lm.merge_pairs)\n",
    "\n",
    "print(\"vocab dim:\\t\", len(ndt_training_lm.vocab))"
   ]
  },
  {
   "cell_type": "code",
   "execution_count": 11,
   "metadata": {},
   "outputs": [
    {
     "data": {
      "text/plain": [
       "['La',\n",
       " 'm ',\n",
       " 'og ',\n",
       " 'p',\n",
       " 'ig',\n",
       " 'g',\n",
       " 'var ',\n",
       " 'på ',\n",
       " 'bry',\n",
       " 'll',\n",
       " 'up',\n",
       " 'sm',\n",
       " 'en',\n",
       " 'y',\n",
       " 'en ',\n",
       " '| ',\n",
       " 'K',\n",
       " 'am',\n",
       " 'skj',\n",
       " 'ell',\n",
       " ', ',\n",
       " 'p',\n",
       " 'ig',\n",
       " 'g',\n",
       " 'var ',\n",
       " 'og ',\n",
       " 'la',\n",
       " 'mme',\n",
       " 'fi',\n",
       " 'let ',\n",
       " 'sto ',\n",
       " 'på ',\n",
       " 'men',\n",
       " 'y',\n",
       " 'en ',\n",
       " 'under ',\n",
       " 'den ',\n",
       " 'kong',\n",
       " 'el',\n",
       " 'ige ',\n",
       " 'g',\n",
       " 'al',\n",
       " 'la',\n",
       " 'mid',\n",
       " 'dagen. ',\n",
       " 'Og ',\n",
       " 'til ',\n",
       " 'dess',\n",
       " 'ert',\n",
       " ': ',\n",
       " 'Par',\n",
       " 'fa',\n",
       " 'it ',\n",
       " 'à',\n",
       " ' ',\n",
       " 'la ',\n",
       " 'M',\n",
       " 'ette',\n",
       " '-',\n",
       " 'Mar',\n",
       " 'it',\n",
       " '. ',\n",
       " 'For',\n",
       " 'retten ',\n",
       " 'ly',\n",
       " 'der ',\n",
       " 'nav',\n",
       " 'net ',\n",
       " '\"',\n",
       " 'Co',\n",
       " 'qu',\n",
       " 'il',\n",
       " 'les ',\n",
       " 'S',\n",
       " 't. ',\n",
       " 'J',\n",
       " 'ac',\n",
       " 'qu',\n",
       " 'es ',\n",
       " 'P',\n",
       " 'r',\n",
       " 'in',\n",
       " 'ce ',\n",
       " 'de ',\n",
       " 'Nor',\n",
       " 've',\n",
       " 'ge',\n",
       " '\", ',\n",
       " 'som ',\n",
       " 'er ',\n",
       " 'gr',\n",
       " 'il',\n",
       " 'let ',\n",
       " 'kam',\n",
       " 'skj',\n",
       " 'ell ',\n",
       " 'på ',\n",
       " 'norsk ',\n",
       " 'spe',\n",
       " 'ke',\n",
       " 'sk',\n",
       " 'in',\n",
       " 'ke ',\n",
       " '- ',\n",
       " 'med ',\n",
       " 'trø',\n",
       " 'ff',\n",
       " 'el',\n",
       " 'ho',\n",
       " 'nn',\n",
       " 'ing',\n",
       " 'vin',\n",
       " 'a',\n",
       " 'ig',\n",
       " 'rette',\n",
       " ', ',\n",
       " 'ru',\n",
       " 'c',\n",
       " 'c',\n",
       " 'o',\n",
       " 'las',\n",
       " 'al',\n",
       " 'at ',\n",
       " 'og ',\n",
       " 'ris',\n",
       " 'te',\n",
       " 'de ',\n",
       " 'g',\n",
       " 'res',\n",
       " 'skar',\n",
       " 'kj',\n",
       " 'er',\n",
       " 'n',\n",
       " 'er. ',\n",
       " 'Der',\n",
       " 'etter ',\n",
       " 'ful',\n",
       " 'g',\n",
       " 'te ',\n",
       " '\"',\n",
       " 'T',\n",
       " 'ur',\n",
       " 'bo',\n",
       " 't ',\n",
       " 'a',\n",
       " 'u ',\n",
       " 'Fo',\n",
       " 'ur ',\n",
       " '- ',\n",
       " 'p',\n",
       " 'ur',\n",
       " 'é',\n",
       " 'e ',\n",
       " 'de ',\n",
       " 'c',\n",
       " 'ho',\n",
       " 'u',\n",
       " '-',\n",
       " 'fle',\n",
       " 'ur',\n",
       " '\". ',\n",
       " 'Det ',\n",
       " 'er ',\n",
       " 'ov',\n",
       " 'ns',\n",
       " 'bak',\n",
       " 't ',\n",
       " 'p',\n",
       " 'ig',\n",
       " 'g',\n",
       " 'var ',\n",
       " 'd',\n",
       " 'and',\n",
       " 'ert ',\n",
       " 'med ',\n",
       " 'in',\n",
       " 'ge',\n",
       " 'fær',\n",
       " 'mar',\n",
       " 'in',\n",
       " 'ert ',\n",
       " 'kla',\n",
       " 'set',\n",
       " 'om',\n",
       " 'at',\n",
       " 'bå',\n",
       " 'ter, ',\n",
       " 'bl',\n",
       " 'om',\n",
       " 'k',\n",
       " 'ål',\n",
       " 'p',\n",
       " 'ur',\n",
       " 'é ',\n",
       " 'dr',\n",
       " 'y',\n",
       " 's',\n",
       " 'set ',\n",
       " 'med ',\n",
       " 'fin',\n",
       " 'ha',\n",
       " 'kket ',\n",
       " 'gre',\n",
       " 'ss',\n",
       " 'lø',\n",
       " 'k, ',\n",
       " 'og ',\n",
       " 'fr',\n",
       " 'an',\n",
       " 'sk ',\n",
       " 'sm',\n",
       " 'ørs',\n",
       " 'a',\n",
       " 'us ',\n",
       " 'med ',\n",
       " 'appel',\n",
       " 'sin ',\n",
       " 'og ',\n",
       " 'fen',\n",
       " 'ikk',\n",
       " 'el',\n",
       " 's',\n",
       " 'ma',\n",
       " 'k. ',\n",
       " 'Ho',\n",
       " 've',\n",
       " 'dr',\n",
       " 'etten ',\n",
       " 'er ',\n",
       " '\"',\n",
       " 'Fi',\n",
       " 'let ',\n",
       " 'd',\n",
       " \"'\",\n",
       " 'ag',\n",
       " 'ne',\n",
       " 'a',\n",
       " 'u ',\n",
       " '- ',\n",
       " 'g',\n",
       " 'ir',\n",
       " 'ol',\n",
       " 'les ',\n",
       " 'a ',\n",
       " 'la ',\n",
       " 'c',\n",
       " 're',\n",
       " 'me',\n",
       " '\"',\n",
       " ': ',\n",
       " 'Y',\n",
       " 'tre',\n",
       " 'fi',\n",
       " 'let ',\n",
       " 'av ',\n",
       " 'norsk ',\n",
       " 'la',\n",
       " 'm, ',\n",
       " 'kre',\n",
       " 'met ',\n",
       " 'kan',\n",
       " 'ta',\n",
       " 're',\n",
       " 'l',\n",
       " 'ler ',\n",
       " 'i ',\n",
       " 'ne',\n",
       " 'pe',\n",
       " ', ',\n",
       " 'bak',\n",
       " 't ',\n",
       " 'min',\n",
       " 'is',\n",
       " 'qu',\n",
       " 'as',\n",
       " 'h',\n",
       " ', ',\n",
       " 'l',\n",
       " 'et',\n",
       " 'trø',\n",
       " 'kte ',\n",
       " 'rød',\n",
       " 'bet',\n",
       " 'er, ',\n",
       " 'ris',\n",
       " 'so',\n",
       " 'le',\n",
       " 'po',\n",
       " 't',\n",
       " 'eter ',\n",
       " 'og ',\n",
       " 'ro',\n",
       " 'sm',\n",
       " 'ar',\n",
       " 'in',\n",
       " 'sj',\n",
       " 'y. ',\n",
       " 'Og ',\n",
       " 'dess',\n",
       " 'er',\n",
       " 'ten, ',\n",
       " '\"',\n",
       " 'Par',\n",
       " 'fa',\n",
       " 'it ',\n",
       " 'à',\n",
       " ' ',\n",
       " 'la ',\n",
       " 'M',\n",
       " 'ette',\n",
       " '-',\n",
       " 'Mar',\n",
       " 'it ',\n",
       " '- ',\n",
       " 'c',\n",
       " 'o',\n",
       " 'u',\n",
       " 'li',\n",
       " 's ',\n",
       " 'de ',\n",
       " 'mu',\n",
       " 'ro',\n",
       " 'n ',\n",
       " 'ar',\n",
       " 'c',\n",
       " 'ti',\n",
       " 'qu',\n",
       " 'e\" ',\n",
       " 'be',\n",
       " 'står ',\n",
       " 'av ',\n",
       " 'S',\n",
       " 'nø',\n",
       " 'fri',\n",
       " 'sk ',\n",
       " 'og ',\n",
       " 'y',\n",
       " 'og',\n",
       " 'h',\n",
       " 'ur',\n",
       " 'ti',\n",
       " 'spar',\n",
       " 'fa',\n",
       " 'it ',\n",
       " 'med ',\n",
       " 'fri',\n",
       " 'ske ',\n",
       " 'norske ',\n",
       " 'br',\n",
       " 'in',\n",
       " 'ge',\n",
       " 'b',\n",
       " 'ær',\n",
       " ', ',\n",
       " 'bl',\n",
       " 'å',\n",
       " 'b',\n",
       " 'ær ',\n",
       " 'og ',\n",
       " 'bjør',\n",
       " 'ne',\n",
       " 'b',\n",
       " 'ær',\n",
       " ', ',\n",
       " 'samt ',\n",
       " 'm',\n",
       " 'ul',\n",
       " 'te',\n",
       " 'mo',\n",
       " 'u',\n",
       " 'sse ',\n",
       " 'på ',\n",
       " 'm',\n",
       " 'ul',\n",
       " 'te',\n",
       " 'c',\n",
       " 'o',\n",
       " 'u',\n",
       " 'li',\n",
       " 's. ',\n",
       " 'Ben',\n",
       " 'ket ',\n",
       " 'til ',\n",
       " 'bry',\n",
       " 'll',\n",
       " 'up',\n",
       " 'sm',\n",
       " 'id',\n",
       " 'dag ',\n",
       " '| ',\n",
       " 'L',\n",
       " 'itt ',\n",
       " 'for',\n",
       " 'sin',\n",
       " 'k',\n",
       " 'et, ',\n",
       " 'klo',\n",
       " 'kken ',\n",
       " '20',\n",
       " '.',\n",
       " '2',\n",
       " '5',\n",
       " ', ',\n",
       " 'sat',\n",
       " 'te ',\n",
       " 'bry',\n",
       " 'll',\n",
       " 'up',\n",
       " 's',\n",
       " 'gje',\n",
       " 'stene ',\n",
       " 'seg ',\n",
       " 'til ',\n",
       " 'b',\n",
       " 'ord',\n",
       " 's ',\n",
       " 'for ',\n",
       " 'å ',\n",
       " 'ny',\n",
       " 'te ',\n",
       " 'g',\n",
       " 'al',\n",
       " 'la',\n",
       " 'mid',\n",
       " 'dagen ',\n",
       " 'på ',\n",
       " 'S',\n",
       " 'lo',\n",
       " 'tt',\n",
       " 'et. ',\n",
       " 'I ',\n",
       " 'g',\n",
       " 'alla ',\n",
       " 'og ',\n",
       " 'ut',\n",
       " 'sø',\n",
       " 'kte ',\n",
       " 'fe',\n",
       " 'stan',\n",
       " 'tre',\n",
       " 'kk ',\n",
       " 'kom ',\n",
       " 'de ',\n",
       " 'til ',\n",
       " 'bry',\n",
       " 'll',\n",
       " 'up',\n",
       " 'sm',\n",
       " 'id',\n",
       " 'dagen',\n",
       " ', ',\n",
       " 'kong',\n",
       " 'el',\n",
       " 'i',\n",
       " 'ge, ',\n",
       " 'presiden',\n",
       " 'ter, ',\n",
       " 'familie',\n",
       " 'medlemm',\n",
       " 'er, ',\n",
       " 'ven',\n",
       " 'ner ',\n",
       " 'og ',\n",
       " 'representan',\n",
       " 'ter ',\n",
       " 'for ',\n",
       " 'regjer',\n",
       " 'ing, ',\n",
       " 'stor',\n",
       " 'ting ',\n",
       " 'og ',\n",
       " 'viktige ',\n",
       " 'norske ',\n",
       " 'institu',\n",
       " 'sjon',\n",
       " 'er. ',\n",
       " 'De ',\n",
       " 'ble ',\n",
       " 'ønsk',\n",
       " 'et ',\n",
       " 'vel',\n",
       " 'kom',\n",
       " 'men ',\n",
       " 'av ',\n",
       " 'dro',\n",
       " 'nn',\n",
       " 'ing ',\n",
       " 'S',\n",
       " 'on',\n",
       " 'ja, ',\n",
       " 'kon',\n",
       " 'g ',\n",
       " 'Har',\n",
       " 'al',\n",
       " 'd, ',\n",
       " 'kron',\n",
       " 'prin',\n",
       " 's ',\n",
       " 'Ha',\n",
       " 'a',\n",
       " 'kon ',\n",
       " 'og ',\n",
       " 'kron',\n",
       " 'prin',\n",
       " 'se',\n",
       " 'sse ',\n",
       " 'M',\n",
       " 'ette',\n",
       " '-',\n",
       " 'Mar',\n",
       " 'it',\n",
       " '. ',\n",
       " 'Det ',\n",
       " 'kong',\n",
       " 'el',\n",
       " 'ige ',\n",
       " 'bry',\n",
       " 'll',\n",
       " 'u',\n",
       " 'p ',\n",
       " 'er ',\n",
       " 'i ',\n",
       " 'høy',\n",
       " ' ',\n",
       " 'grad ',\n",
       " 'også ',\n",
       " 'en ',\n",
       " 'privat ',\n",
       " 'beg',\n",
       " 'iv',\n",
       " 'en',\n",
       " 'het. ',\n",
       " 'Det ',\n",
       " 'viste ',\n",
       " 'prose',\n",
       " 'sjonen ',\n",
       " 'til ',\n",
       " 'g',\n",
       " 'al',\n",
       " 'la',\n",
       " 'mid',\n",
       " 'dagen ',\n",
       " 'på ',\n",
       " 'S',\n",
       " 'lo',\n",
       " 'ttet ',\n",
       " 'og ',\n",
       " 'plass',\n",
       " 'eringen ',\n",
       " 'ved ',\n",
       " 'hoved',\n",
       " 'bor',\n",
       " 'det. ',\n",
       " 'Først ',\n",
       " 'i ',\n",
       " 'prose',\n",
       " 'sjonen ',\n",
       " 'gikk ',\n",
       " 'kon',\n",
       " 'g ',\n",
       " 'Har',\n",
       " 'ald ',\n",
       " 'og ',\n",
       " 'bru',\n",
       " 'dens ',\n",
       " 'mor',\n",
       " ', ',\n",
       " 'Mar',\n",
       " 'it ',\n",
       " 'T',\n",
       " 'je',\n",
       " 'sse',\n",
       " 'm. ',\n",
       " 'B',\n",
       " 'ak ',\n",
       " 'ful',\n",
       " 'g',\n",
       " 'te ',\n",
       " 'bru',\n",
       " 'dens ',\n",
       " 'f',\n",
       " 'ar, ',\n",
       " 'S',\n",
       " 'ven ',\n",
       " 'O',\n",
       " '. ',\n",
       " 'Hø',\n",
       " 'i',\n",
       " 'by',\n",
       " ', ',\n",
       " 'med ',\n",
       " 'dro',\n",
       " 'nn',\n",
       " 'ing ',\n",
       " 'S',\n",
       " 'on',\n",
       " 'ja ',\n",
       " 'ved ',\n",
       " 'ar',\n",
       " 'men. ',\n",
       " 'Først ',\n",
       " 'i ',\n",
       " 'tredje ',\n",
       " 'rekke ',\n",
       " 'kom ',\n",
       " 'sven',\n",
       " 'ske',\n",
       " 'kong',\n",
       " 'en, ',\n",
       " 'Carl ',\n",
       " 'Gu',\n",
       " 'sta',\n",
       " 'f',\n",
       " ', ',\n",
       " 'og ',\n",
       " 'dro',\n",
       " 'nn',\n",
       " 'ing ',\n",
       " 'Mar',\n",
       " 'gr',\n",
       " 'et',\n",
       " 'h',\n",
       " 'e ',\n",
       " 'av ',\n",
       " 'Dan',\n",
       " 'mar',\n",
       " 'k. ',\n",
       " 'Det ',\n",
       " 'er ',\n",
       " 'ikke ',\n",
       " 'hver',\n",
       " 'dag',\n",
       " 'sk',\n",
       " 'os',\n",
       " 't ',\n",
       " 'at ',\n",
       " 'mon',\n",
       " 'ark',\n",
       " 'ene ',\n",
       " 'i ',\n",
       " 'våre ',\n",
       " 'to ',\n",
       " 'na',\n",
       " 'bol',\n",
       " 'and ',\n",
       " 'blir ',\n",
       " 'rang',\n",
       " 'ert ',\n",
       " 'bak ',\n",
       " 'van',\n",
       " 'lige ',\n",
       " 'norske ',\n",
       " 'stats',\n",
       " 'bor',\n",
       " 'g',\n",
       " 'ere. ',\n",
       " 'Men ',\n",
       " 'så ',\n",
       " 'er ',\n",
       " 'ikke ',\n",
       " 'bry',\n",
       " 'll',\n",
       " 'u',\n",
       " 'pet ',\n",
       " 'mellom ',\n",
       " 'Ha',\n",
       " 'a',\n",
       " 'kon ',\n",
       " 'og ',\n",
       " 'M',\n",
       " 'ette',\n",
       " '-',\n",
       " 'Mar',\n",
       " 'it ',\n",
       " 'hver',\n",
       " 'dag',\n",
       " 'sk',\n",
       " 'os',\n",
       " 't ',\n",
       " 'det ',\n",
       " 'hel',\n",
       " 'ler. ',\n",
       " 'Presiden',\n",
       " 'ter ',\n",
       " 'og ',\n",
       " 'prin',\n",
       " 'ser ',\n",
       " '| ',\n",
       " 'B',\n",
       " 'ak ',\n",
       " 'våre ',\n",
       " 'na',\n",
       " 'bol',\n",
       " 'and',\n",
       " 's ',\n",
       " 'stat',\n",
       " 'so',\n",
       " 'ver',\n",
       " 'ho',\n",
       " 'der ',\n",
       " 'ful',\n",
       " 'g',\n",
       " 'te ',\n",
       " 'I',\n",
       " 'sl',\n",
       " 'and',\n",
       " 's ',\n",
       " 'president ',\n",
       " 'Ola',\n",
       " 'fu',\n",
       " 'r ',\n",
       " 'R',\n",
       " 'ag',\n",
       " 'nar ',\n",
       " 'G',\n",
       " 'rim',\n",
       " 's',\n",
       " 'son ',\n",
       " 'med ',\n",
       " 'dro',\n",
       " 'nn',\n",
       " 'ing ',\n",
       " 'S',\n",
       " 'il',\n",
       " 'via ',\n",
       " 'av ',\n",
       " 'Sver',\n",
       " 'i',\n",
       " 'ge. ',\n",
       " 'Der',\n",
       " 'etter ',\n",
       " 'stor',\n",
       " 'her',\n",
       " 'tu',\n",
       " 'g ',\n",
       " 'Hen',\n",
       " 'r',\n",
       " 'i ',\n",
       " 'av ',\n",
       " 'Lu',\n",
       " 'x',\n",
       " 'em',\n",
       " 'bo',\n",
       " 'ur',\n",
       " 'g ',\n",
       " 'med ',\n",
       " 'Fin',\n",
       " 'lands ',\n",
       " 'kvinne',\n",
       " 'lige ',\n",
       " 'presiden',\n",
       " 't, ',\n",
       " 'T',\n",
       " 'ar',\n",
       " 'ja ',\n",
       " 'Hal',\n",
       " 'on',\n",
       " 'en, ',\n",
       " 'så ',\n",
       " 'prin',\n",
       " 's ',\n",
       " 'Al',\n",
       " 'b',\n",
       " 'ert ',\n",
       " 'av ',\n",
       " 'Mon',\n",
       " 'ac',\n",
       " 'o ',\n",
       " 'med ',\n",
       " 'den ',\n",
       " 'sp',\n",
       " 'anske ',\n",
       " 'dro',\n",
       " 'nn',\n",
       " 'ing ',\n",
       " 'So',\n",
       " 'fi',\n",
       " 'a ',\n",
       " 'og ',\n",
       " 'nest ',\n",
       " 'sist ',\n",
       " 'i ',\n",
       " 'prose',\n",
       " 'sjonen ',\n",
       " 'den ',\n",
       " 'ne',\n",
       " 'der',\n",
       " 'land',\n",
       " 'ske ',\n",
       " 'kron',\n",
       " 'prin',\n",
       " 'sen, ',\n",
       " 'W',\n",
       " 'ille',\n",
       " 'm',\n",
       " '-A',\n",
       " 'le',\n",
       " 'x',\n",
       " 'an',\n",
       " 'der ',\n",
       " 'med ',\n",
       " 'sin ',\n",
       " 'for',\n",
       " 'lo',\n",
       " 've',\n",
       " 'de ',\n",
       " 'Ma',\n",
       " 'x',\n",
       " 'im',\n",
       " 'a ',\n",
       " 'Z',\n",
       " 'or',\n",
       " 'reg',\n",
       " 'u',\n",
       " 'i',\n",
       " 'et',\n",
       " 'a. ',\n",
       " 'For',\n",
       " 'lo',\n",
       " 've',\n",
       " 'de ',\n",
       " 'par ',\n",
       " 'skil',\n",
       " 'les ',\n",
       " 'ikke ',\n",
       " 'i ',\n",
       " 'en ',\n",
       " 'kong',\n",
       " 'elig ',\n",
       " 'prose',\n",
       " 'sjon, ',\n",
       " 'ei ',\n",
       " 'heller ',\n",
       " 'ved ',\n",
       " 'det ',\n",
       " 'kong',\n",
       " 'el',\n",
       " 'ige ',\n",
       " 'ta',\n",
       " 'ff',\n",
       " 'el',\n",
       " '. ',\n",
       " 'Pro',\n",
       " 'se',\n",
       " 'sjonen ',\n",
       " 'ble ',\n",
       " 'av',\n",
       " 'slut',\n",
       " 'tet ',\n",
       " 'av ',\n",
       " 'den ',\n",
       " '9',\n",
       " '0 ',\n",
       " 'år ',\n",
       " 'gamle ',\n",
       " 'prin',\n",
       " 's ',\n",
       " 'Carl ',\n",
       " 'Ber',\n",
       " 'na',\n",
       " 'do',\n",
       " 'tte ',\n",
       " 'som ',\n",
       " 'førte ',\n",
       " 'bru',\n",
       " 'd',\n",
       " 'g',\n",
       " 'om',\n",
       " 'mens ',\n",
       " 'sø',\n",
       " 'st',\n",
       " 'er, ',\n",
       " 'M',\n",
       " 'ä',\n",
       " 'rt',\n",
       " 'ha ',\n",
       " 'Lo',\n",
       " 'u',\n",
       " 'i',\n",
       " 'se, ',\n",
       " 'til ',\n",
       " 'bor',\n",
       " 'ds',\n",
       " '. ',\n",
       " 'P',\n",
       " 'r',\n",
       " 'in',\n",
       " 'sen ',\n",
       " 'er ',\n",
       " 'yng',\n",
       " 'ste ',\n",
       " 'bro',\n",
       " 'r ',\n",
       " 'av ',\n",
       " 'M',\n",
       " 'ä',\n",
       " 'rt',\n",
       " 'ha ',\n",
       " 'Lo',\n",
       " 'u',\n",
       " 'i',\n",
       " 'se',\n",
       " 's ',\n",
       " 'far',\n",
       " 'mor',\n",
       " ', ',\n",
       " 'kron',\n",
       " 'prin',\n",
       " 'se',\n",
       " 'sse ',\n",
       " 'M',\n",
       " 'ä',\n",
       " 'rt',\n",
       " 'ha',\n",
       " ', ',\n",
       " 'som ',\n",
       " 'aldri ',\n",
       " 'opplev',\n",
       " 'de ',\n",
       " 'å ',\n",
       " 'bli ',\n",
       " 'norsk ',\n",
       " 'dro',\n",
       " 'nn',\n",
       " 'ing. ',\n",
       " 'Og ',\n",
       " 'bak ',\n",
       " 'prose',\n",
       " 'sjonen ',\n",
       " 'kom ',\n",
       " 'dagens ',\n",
       " 'hoved',\n",
       " 'person',\n",
       " 'er: ',\n",
       " 'Ha',\n",
       " 'a',\n",
       " 'kon ',\n",
       " 'og ',\n",
       " 'M',\n",
       " 'ette',\n",
       " '-',\n",
       " 'Mar',\n",
       " 'it',\n",
       " '. ',\n",
       " 'Stats',\n",
       " 'makt',\n",
       " 'er, ',\n",
       " 'kong',\n",
       " 'el',\n",
       " 'ige ',\n",
       " 'og ',\n",
       " 'famil',\n",
       " 'ie ',\n",
       " '| ',\n",
       " 'Ved ',\n",
       " 'hoved',\n",
       " 'bor',\n",
       " 'det ',\n",
       " 'var ',\n",
       " 'representan',\n",
       " 'ter ',\n",
       " 'for ',\n",
       " 'de ',\n",
       " 'tre ',\n",
       " 'stats',\n",
       " 'makt',\n",
       " 'er, ',\n",
       " 'bru',\n",
       " 'depar',\n",
       " 'ets ',\n",
       " 'famil',\n",
       " 'ie ',\n",
       " 'og ',\n",
       " 'de ',\n",
       " 'mest ',\n",
       " 'frem',\n",
       " 'tre',\n",
       " 'dende ',\n",
       " 'kong',\n",
       " 'el',\n",
       " 'ige ',\n",
       " 'plass',\n",
       " 'ert. ',\n",
       " 'Nær',\n",
       " 'mest ',\n",
       " 'bru',\n",
       " 'de',\n",
       " 'pa',\n",
       " 'ret ',\n",
       " 'be',\n",
       " 'holdt ',\n",
       " 'kon',\n",
       " 'g ',\n",
       " 'Har',\n",
       " 'ald ',\n",
       " 'og ',\n",
       " 'S',\n",
       " 'ven ',\n",
       " 'O',\n",
       " '. ',\n",
       " ...]"
      ]
     },
     "execution_count": 11,
     "metadata": {},
     "output_type": "execute_result"
    }
   ],
   "source": [
    "ndt_testing_lm"
   ]
  },
  {
   "cell_type": "code",
   "execution_count": 12,
   "metadata": {},
   "outputs": [],
   "source": [
    "# the numbers of tokens and subwords are different in my own code and in the function implemented because of the byte pair encoding, in my function\n",
    "# I only split words (take them as token)"
   ]
  },
  {
   "cell_type": "markdown",
   "metadata": {},
   "source": [
    "__Task 1.4__ (2 points): The current BPE implementation is that it treats all characters in the same manner. A rather inconvenient side effect is that letters may be merged together with punctuation markers (like 'ing', ',' --> 'ing,'), if they are not separated by white space. Modify the implementation of the BPE algorithm above to prevent punctuation markers to be merged with letters. "
   ]
  },
  {
   "cell_type": "code",
   "execution_count": 13,
   "metadata": {},
   "outputs": [],
   "source": [
    "from typing import Dict, List, Tuple, Iterator\n",
    "import numpy as np\n",
    "from tqdm.notebook import tqdm\n",
    "import re\n",
    "\n",
    "class BPETokenizer_mk2:\n",
    "    \"\"\"Tokenizer based on the Byte-Pair Encoding algorithm. \n",
    "    Note: the current implementation is limited to Latin characters (ISO-8859-1)\"\"\"\n",
    "\n",
    "    def __init__(self, train_corpus_file: str, vocab_size = 5000):\n",
    "        \"\"\"Creates a new BPE tokenizer, with merge pairs found using the given\n",
    "        corpus file. The extraction of merge pairs stops when a vocabulary of \n",
    "        size vocab_size is reached.\"\"\"\n",
    "\n",
    "        # List of string pairs that should be merged when tokenizing\n",
    "        # Example: ('e', 't'), which means that 'et' is a possible subword\n",
    "        # Each string pair is mapped to an unique index number\n",
    "        # (corresponding to their position in the self.vocab list)\n",
    "        self.merge_pairs = {}\n",
    "\n",
    "        # We add as basic vocab all characters of the extended ASCII\n",
    "        self.vocab = [chr(i) for i in range(256)]\n",
    "\n",
    "        with open(train_corpus_file) as fd:\n",
    "\n",
    "            # We first read the corpus, split on white space, and counts the\n",
    "            # occurrences of each distinct word\n",
    "            print(\"Counting word occurrences in corpus %s\" % train_corpus_file, end=\"...\", flush=True)\n",
    "            text = fd.read()\n",
    "            vocabulary_counts = {}\n",
    "            for token in text.split():\n",
    "                vocabulary_counts[token] = vocabulary_counts.get(token, 0) + 1\n",
    "            print(\"Done\")\n",
    "\n",
    "            # We then iteratively extend the list of merge pairs until we\n",
    "            # reach the desired size. Note: to speed up the algorithm, we \n",
    "            # extract n merge pairs at each iteration\n",
    "            progress_bar = tqdm(total=vocab_size)\n",
    "            while len(self.vocab) < vocab_size:\n",
    "                most_common_pairs = self.get_most_common_pairs(vocabulary_counts)\n",
    "                for common_pair in most_common_pairs:\n",
    "                    self.merge_pairs[common_pair] = len(self.vocab)\n",
    "                    self.vocab.append(\"\".join(common_pair))\n",
    "                progress_bar.update(len(most_common_pairs))\n",
    "         #       print(\"Examples of new subwords:\", [\"\".join(pair) for pair in most_common_pairs][:10])\n",
    "            \n",
    "    def get_most_common_pairs(self, vocabulary_counts: Dict[str, int], n: int = 200) -> List[Tuple[str, str]]:\n",
    "        \"\"\"Given a set of distinct words along with their corresponding number \n",
    "        of occurrences in the corpus, returns the n most frequent pairs of subwords.       \n",
    "        \"\"\"\n",
    "\n",
    "        # We count the frequencies of consecutive subwords in the vocabulary list\n",
    "        pair_freqs = {}\n",
    "        for word, word_count in vocabulary_counts.items():\n",
    "            subwords = self.tokenize_word(word)\n",
    "            for i in range(len(subwords) - 1):\n",
    "                byte_pair = (subwords[i], subwords[i + 1])\n",
    "                pair_freqs[byte_pair] = pair_freqs.get(byte_pair, 0) + word_count\n",
    "\n",
    "        # And return the most frequent ones\n",
    "        most_freq_pairs = sorted(pair_freqs.keys(), key=lambda x: pair_freqs[x])[::-1][:n]\n",
    "        return most_freq_pairs\n",
    "\n",
    "    def __call__(self, input: str, show_progress_bar=True) -> Iterator[str]:\n",
    "        \"\"\"Tokenizes a full text\"\"\"\n",
    "\n",
    "        # We first split into whitespace-separated tokens, and then in subwords\n",
    "        words = input.split()\n",
    "        for word in tqdm(words) if show_progress_bar else words:\n",
    "            subwords = self.tokenize_word(word)\n",
    "            for subword in subwords:\n",
    "                yield subword\n",
    "\n",
    "    def tokenize_word(self, word: str) -> List[str]:\n",
    "        \"\"\"Splits the word into subwords, according to the merge pairs \n",
    "        currently stored in self.merge_pairs.\"\"\"\n",
    "        \n",
    "        # Define expression pattern to treat punctuation as separate tokens\n",
    "        pattern = re.compile(r'(\\w+|[^\\w\\s])')\n",
    "        \n",
    "        # Split the word into a list of subword units, THIS IS THE MOST IMPORTANTE CHANGE OF THE MK2 VERSION OF THE TOKENIZER\n",
    "        split_word = re.findall(pattern, word)\n",
    "        \n",
    "        # Initialize lists\n",
    "        splits = []\n",
    "        for part in split_word:\n",
    "            splits.extend(list(part))\n",
    "            splits.append(' ')  # ADD ADDITIONAL SEPARATOR TO DENOTE BOUNDARIES WITH DIFFERENT PARTS (check this part later for improv)\n",
    "\n",
    "        while len(splits) >= 3:  # include separator + punctuation + character\n",
    "            # xtraction of consecutive subword pairs, avoiding the separator\n",
    "            pairs = [(splits[i], splits[i + 1]) for i in range(len(splits) - 1) \n",
    "                    if splits[i] != ' ' and splits[i + 1] != ' ' and re.match(r'\\w', splits[i]) and re.match(r'\\w', splits[i + 1])]\n",
    "\n",
    "            if not pairs:\n",
    "                break\n",
    "\n",
    "            best_pair_to_merge = min(pairs, key=lambda x: self.merge_pairs.get(x, np.inf))\n",
    "            if best_pair_to_merge in self.merge_pairs: # merge the two subwords\n",
    "                i = 0\n",
    "                while i < len(splits) - 1:\n",
    "                    if (splits[i], splits[i + 1]) == best_pair_to_merge:\n",
    "                        merged_subword = self.vocab[self.merge_pairs[best_pair_to_merge]]\n",
    "                        splits = splits[:i] + [merged_subword] + splits[i + 2:]\n",
    "                        break\n",
    "                    i += 1\n",
    "            else:\n",
    "                break\n",
    "        \n",
    "        # Remove the separator before returning\n",
    "        splits = [s for s in splits if s != ' ']\n",
    "        return splits"
   ]
  },
  {
   "cell_type": "code",
   "execution_count": 14,
   "metadata": {},
   "outputs": [],
   "source": [
    "# the problem in this class was inside the tokenisation function, so i made some little improvemnt to try to solve it. Below I made some test to verify this"
   ]
  },
  {
   "cell_type": "code",
   "execution_count": 15,
   "metadata": {},
   "outputs": [
    {
     "name": "stdout",
     "output_type": "stream",
     "text": [
      "Counting word occurrences in corpus ndt_train_lm.txt...Done\n"
     ]
    },
    {
     "data": {
      "application/vnd.jupyter.widget-view+json": {
       "model_id": "f5155a37402142b09a8112daffe320f1",
       "version_major": 2,
       "version_minor": 0
      },
      "text/plain": [
       "  0%|          | 0/5000 [00:00<?, ?it/s]"
      ]
     },
     "metadata": {},
     "output_type": "display_data"
    },
    {
     "data": {
      "application/vnd.jupyter.widget-view+json": {
       "model_id": "b50441f37a814a0eae58a590e833b652",
       "version_major": 2,
       "version_minor": 0
      },
      "text/plain": [
       "  0%|          | 0/226096 [00:00<?, ?it/s]"
      ]
     },
     "metadata": {},
     "output_type": "display_data"
    }
   ],
   "source": [
    "ndt_training_lm = BPETokenizer_mk2(train_corpus_file= 'ndt_train_lm.txt', vocab_size = 5000)\n",
    "ndt_testing_lm = list(ndt_training_lm(ndt_test_lm))"
   ]
  },
  {
   "cell_type": "code",
   "execution_count": 16,
   "metadata": {},
   "outputs": [
    {
     "name": "stdout",
     "output_type": "stream",
     "text": [
      "tokens:\t\t\t\t 408844\n",
      "types (distinct subwords):\t 2647\n"
     ]
    }
   ],
   "source": [
    "print('tokens:\\t\\t\\t\\t', len(ndt_testing_lm))\n",
    "print('types (distinct subwords):\\t', len(set(ndt_testing_lm)))"
   ]
  },
  {
   "cell_type": "code",
   "execution_count": 17,
   "metadata": {},
   "outputs": [],
   "source": [
    "# check if "
   ]
  },
  {
   "cell_type": "code",
   "execution_count": 18,
   "metadata": {},
   "outputs": [
    {
     "data": {
      "application/vnd.jupyter.widget-view+json": {
       "model_id": "3dceae8e82e9430c8777ad5c3bf06381",
       "version_major": 2,
       "version_minor": 0
      },
      "text/plain": [
       "  0%|          | 0/10 [00:00<?, ?it/s]"
      ]
     },
     "metadata": {},
     "output_type": "display_data"
    },
    {
     "name": "stdout",
     "output_type": "stream",
     "text": [
      "Counting word occurrences in corpus ndt_train_lm.txt...Done\n"
     ]
    },
    {
     "data": {
      "application/vnd.jupyter.widget-view+json": {
       "model_id": "e5c546c3f9cd410f97b2f0fecc3855f5",
       "version_major": 2,
       "version_minor": 0
      },
      "text/plain": [
       "  0%|          | 0/5000 [00:00<?, ?it/s]"
      ]
     },
     "metadata": {},
     "output_type": "display_data"
    },
    {
     "data": {
      "application/vnd.jupyter.widget-view+json": {
       "model_id": "9f40c5190ddd4e44a981500b434e996c",
       "version_major": 2,
       "version_minor": 0
      },
      "text/plain": [
       "  0%|          | 0/10 [00:00<?, ?it/s]"
      ]
     },
     "metadata": {},
     "output_type": "display_data"
    }
   ],
   "source": [
    "text = 'Og då blir vi også tvinga til fornying, trur eg. '\n",
    "list(ndt_training_lm(text))\n",
    "\n",
    "# learning the tokenizer\n",
    "ndt_training_lm = BPETokenizer_mk2(train_corpus_file= 'ndt_train_lm.txt', vocab_size = 5000)\n",
    "\n",
    "# apply the tokenizer\n",
    "ndt_testing_lm = list(ndt_training_lm(text))"
   ]
  },
  {
   "cell_type": "code",
   "execution_count": 19,
   "metadata": {},
   "outputs": [
    {
     "name": "stdout",
     "output_type": "stream",
     "text": [
      "vocabulary:\t ['Og', 'då', 'blir', 'vi', 'også', 'tv', 'inga', 'til', 'forny', 'ing', ',', 'trur', 'eg', '.']\n"
     ]
    }
   ],
   "source": [
    "print(\"vocabulary:\\t\", ndt_testing_lm[:50])"
   ]
  },
  {
   "cell_type": "code",
   "execution_count": 20,
   "metadata": {},
   "outputs": [
    {
     "data": {
      "text/plain": [
       "['Og', 'då', 'blir', 'vi', 'også', 'tvinga', 'til', 'fornying,', 'trur', 'eg.']"
      ]
     },
     "execution_count": 20,
     "metadata": {},
     "output_type": "execute_result"
    }
   ],
   "source": [
    "text.split()"
   ]
  },
  {
   "cell_type": "code",
   "execution_count": null,
   "metadata": {},
   "outputs": [],
   "source": [
    "# as we can see the tokenizator work and split correctly the N-Grams and the punctuation"
   ]
  },
  {
   "cell_type": "code",
   "execution_count": 21,
   "metadata": {},
   "outputs": [
    {
     "name": "stdout",
     "output_type": "stream",
     "text": [
      "tokens:\t\t\t\t 14\n",
      "types (distinct subwords):\t 14\n"
     ]
    }
   ],
   "source": [
    "print('tokens:\\t\\t\\t\\t', len(ndt_testing_lm))\n",
    "print('types (distinct subwords):\\t', len(set(ndt_testing_lm)))"
   ]
  },
  {
   "cell_type": "markdown",
   "metadata": {},
   "source": [
    "__Task 1.5__ (_optional, 2 extra points_): In a [tweet](https://x.com/karpathy/status/1759996551378940395) published earlier this year, the well-known AI researcher Andrej Karpathy stressed that many of the current limitations of Large Language Models are actually a product of the tokenisation step. Explain at least 4 of the problems he mentioned in his tweet (you can of course search online, or watch Karpathy's own video lecture on tokenization)."
   ]
  },
  {
   "cell_type": "markdown",
   "metadata": {},
   "source": [
    "1. **Why can't LLMs spell words correctly?**\n",
    "The LLMs can struggle with spelling because they operate on subword tokens rather than individual characters or entire words. The tokenization split words into smaller pieces. If the model doesnt recognize the full word it might output incorrect spelling because it is reconstructiong the word from subword tokens and not because it knows it as a whole.\n",
    "\n",
    "2. **Why is LLM worse at non-English languages (e.g., Japanese)?**\n",
    "this is mainly due to the fact that LLMs struggle with the tokenization scheme designed for alphabet-based languages. An example are non-segmented languages like chinese and japanese (they dont use spaces) or character diversity which significantly increases the vocabulary size and makes harder for models to train.\n",
    "\n",
    "3. **Why did my LLM abruptly halt when it sees the string \"<|endoftext|>\"?**\n",
    "This is a special token used by models like GPT-2 to signify the end of a sequence or document. It can lead to unexpected early termination if the token is present in the middle of text or code by accident.\n",
    "\n",
    "4. **Why did GPT-2 have more than necessary trouble coding in Python?** This can lead to inefficient or confusing token splits, making it harder for the model to generate syntactically correct or meaningful code"
   ]
  },
  {
   "cell_type": "markdown",
   "metadata": {},
   "source": [
    "## Part 2: N-gram language models\n",
    "\n",
    "We will now train simple N-gram language models on the NDT corpus, using the tokenizers we have developed in Part 1.\n",
    "\n",
    "Here is the skeleton of the code:"
   ]
  },
  {
   "cell_type": "code",
   "execution_count": 22,
   "metadata": {},
   "outputs": [],
   "source": [
    "import numpy as np\n",
    "from abc import abstractmethod\n",
    "\n",
    "class LanguageModel:\n",
    "    \"\"\"Generic class for running operations on language models, using a BPE tokenizer\"\"\"\n",
    "\n",
    "    def __init__(self, tokenizer: BPETokenizer):\n",
    "        \"\"\"Build an abstract language model using the provided tokenizer\"\"\"\n",
    "        self.tokenizer = tokenizer\n",
    " \n",
    "    @abstractmethod\n",
    "    def predict(self, context_tokens: List[str]):\n",
    "        \"\"\"Given a list of context tokens (=previous tokens), returns a dictionary\n",
    "          mapping each possible token to its probability\"\"\"\n",
    "        raise NotImplementedError()\n",
    "    \n",
    "    @abstractmethod\n",
    "    def get_perplexity(self, text: str):\n",
    "        \"\"\"Computes the perplexity of the given text according to the LM\"\"\"\n",
    "\n",
    "        print(\"Tokenising input text:\")\n",
    "        tokens = list(self.tokenizer(text))\n",
    "        \n",
    "        print(\"Computing perplexity:\")\n",
    "        log_probs = 0\n",
    "        for i in tqdm(range(len(tokens))):\n",
    "            context_tokens = [\"<s>\"] + tokens[:i]\n",
    "            predict_distrib = self.predict(context_tokens)\n",
    "\n",
    "            # We add the log-probabilities\n",
    "            log_probs += np.log(predict_distrib[tokens[i]])\n",
    "            \n",
    "        perplexity = np.exp(-log_probs/len(tokens))\n",
    "        return perplexity\n",
    "\n",
    "class NGramLanguageModel(LanguageModel):\n",
    "    \"\"\"Representation of a N-gram-based language model\"\"\"\n",
    "\n",
    "    def __init__(self, training_corpus_file: str, tokenizer:BPETokenizer, ngram_size:int=3,\n",
    "                  alpha_smoothing:float=1):\n",
    "        \"\"\"Initialize the N-gram model with:\n",
    "        - a file path to a training corpus to estimate the N-gram probabilities\n",
    "        - an already learned BPE tokenizer\n",
    "        - an N-gram size\n",
    "        - a smoothing parameter (Laplace smoothing)\"\"\"\n",
    "        \n",
    "        LanguageModel.__init__(self, tokenizer)\n",
    "        self.ngram_size = ngram_size\n",
    "        \n",
    "        # We define a simple backoff distribution (here just a uniform distribution)\n",
    "        self.default_distrib = {token:1/len(tokenizer.vocab) for token in tokenizer.vocab}\n",
    "\n",
    "        # Dictionary mapping a context (for instance the two preceding words if ngram_size=3)\n",
    "        # to another dictionary specifying the probability of each possible word in the \n",
    "        # vocabulary. The context should be a tuple of tokens.\n",
    "        self.ngram_probs = {}\n",
    "        with open(training_corpus_file) as fd:   \n",
    "\n",
    "            # based on the training corpus, tokenizer, ngram-size and smoothing parameter,\n",
    "            # fill the self.ngram_probs with the correct N-gram probabilities  \n",
    "            raise NotImplementedError()\n",
    " \n",
    "\n",
    "    def predict(self, context_tokens: List[str]):\n",
    "        \"\"\"Given a list of preceding tokens, returns the probability distribution \n",
    "        over the next possible token.\"\"\"\n",
    "\n",
    "        # We restrict the contextual tokens to (N-1) tokens\n",
    "        context_tokens = tuple(context_tokens[-self.ngram_size+1:])\n",
    "\n",
    "        # If the contextual tokens were indeed observed in the corpus, simply\n",
    "        # returns the precomputed probabilities\n",
    "        if context_tokens in self.ngram_probs:\n",
    "            return self.ngram_probs[context_tokens]\n",
    "        \n",
    "        # Otherwise, we return a uniform distribution over possible tokens\n",
    "        else:\n",
    "            return self.default_distrib"
   ]
  },
  {
   "cell_type": "markdown",
   "metadata": {},
   "source": [
    "__Task 2.1__ (6 points): Complete the initialization method `__init__` to estimate the correct N-gram probabilities (with smoothing) based on the corpus. Don't worry about making your implementation super-efficient (although you can if you wish)."
   ]
  },
  {
   "cell_type": "code",
   "execution_count": 23,
   "metadata": {},
   "outputs": [],
   "source": [
    "from collections import defaultdict, Counter\n",
    "\n",
    "def __init__(self, training_corpus_file: str, tokenizer: BPETokenizer, ngram_size: int = 2, alpha_smoothing: float = 0.1):\n",
    "    \"\"\"Initialize the N-gram model with:\n",
    "    - a file path to a training corpus to estimate the N-gram probabilities\n",
    "    - an already learned BPE tokenizer\n",
    "    - an N-gram size\n",
    "    - a smoothing parameter (Laplace smoothing)\n",
    "    \"\"\"\n",
    "    LanguageModel.__init__(self, tokenizer)\n",
    "    self.ngram_size = ngram_size\n",
    "\n",
    "    # Define a simple backoff distribution (uniform distribution)\n",
    "    self.default_distrib = {token: 1/len(tokenizer.vocab) for token in tokenizer.vocab}\n",
    "\n",
    "    # Dictionary mapping contexts (tuples of preceding words) to probability distributions\n",
    "    self.ngram_probs = defaultdict(Counter)\n",
    "    context_counts = defaultdict(Counter)\n",
    "    \n",
    "    # iteration corpus\n",
    "    with open(training_corpus_file, 'r') as fd:\n",
    "        for line in fd:\n",
    "            tokens = [\"<s>\"] + list(self.tokenizer(line.strip())) + [\"</s>\"]\n",
    "            \n",
    "            # Create n-grams and context for each token\n",
    "            for i in range(len(tokens) - ngram_size + 1):\n",
    "                context = tuple(tokens[i:i + ngram_size - 1])\n",
    "                token = tokens[i + ngram_size - 1]\n",
    "                context_counts[context][token] += 1\n",
    "    \n",
    "    # Smoothed probabilities part\n",
    "    vocab_size = len(self.tokenizer.vocab)\n",
    "    \n",
    "    for context, token_counts in context_counts.items():\n",
    "        total_count = sum(token_counts.values()) + alpha_smoothing * vocab_size\n",
    "        for token, count in token_counts.items():\n",
    "            self.ngram_probs[context][token] = (count + alpha_smoothing) / total_count # This is Laplace smoothing\n",
    "        \n",
    "        # take only small probs\n",
    "        for token in self.tokenizer.vocab:\n",
    "            if token not in self.ngram_probs[context]:\n",
    "                self.ngram_probs[context][token] = alpha_smoothing / total_count\n",
    "\n",
    "setattr(NGramLanguageModel, '__init__', __init__) # --> this replace the func in the previus class "
   ]
  },
  {
   "cell_type": "markdown",
   "metadata": {},
   "source": [
    "__Task 2.2__ (1 point): Train your language model in `ndt_train_lm.txt`, and compute its perplexity on the test data in `ndt_test_lm.txt`. The perplexity can be computed by calling the method `get_perplexity`. <br>\n",
    "(_Note_: if the training takes too much time, feel free to stop the process after looking at a fraction of the corpus, at least while you are testing/developing your training setup)."
   ]
  },
  {
   "cell_type": "code",
   "execution_count": 24,
   "metadata": {},
   "outputs": [
    {
     "name": "stdout",
     "output_type": "stream",
     "text": [
      "Counting word occurrences in corpus ndt_train_lm.txt...Done\n"
     ]
    },
    {
     "data": {
      "application/vnd.jupyter.widget-view+json": {
       "model_id": "906152076d214377b5368ed7006465e8",
       "version_major": 2,
       "version_minor": 0
      },
      "text/plain": [
       "  0%|          | 0/5000 [00:00<?, ?it/s]"
      ]
     },
     "metadata": {},
     "output_type": "display_data"
    },
    {
     "data": {
      "application/vnd.jupyter.widget-view+json": {
       "model_id": "853bb6003d284cc7bfd86465f9a3d737",
       "version_major": 2,
       "version_minor": 0
      },
      "text/plain": [
       "  0%|          | 0/872824 [00:00<?, ?it/s]"
      ]
     },
     "metadata": {},
     "output_type": "display_data"
    }
   ],
   "source": [
    "model = NGramLanguageModel(training_corpus_file='ndt_train_lm.txt', tokenizer=BPETokenizer(train_corpus_file= 'ndt_train_lm.txt', vocab_size = 5000))"
   ]
  },
  {
   "cell_type": "code",
   "execution_count": 25,
   "metadata": {},
   "outputs": [
    {
     "name": "stdout",
     "output_type": "stream",
     "text": [
      "Tokenising input text:\n"
     ]
    },
    {
     "data": {
      "application/vnd.jupyter.widget-view+json": {
       "model_id": "1b047f99f2c74096813270de9c4b8da6",
       "version_major": 2,
       "version_minor": 0
      },
      "text/plain": [
       "  0%|          | 0/226096 [00:00<?, ?it/s]"
      ]
     },
     "metadata": {},
     "output_type": "display_data"
    },
    {
     "name": "stdout",
     "output_type": "stream",
     "text": [
      "Computing perplexity:\n"
     ]
    },
    {
     "data": {
      "application/vnd.jupyter.widget-view+json": {
       "model_id": "0635f29efd7443698c423f827c2cc727",
       "version_major": 2,
       "version_minor": 0
      },
      "text/plain": [
       "  0%|          | 0/386099 [00:00<?, ?it/s]"
      ]
     },
     "metadata": {},
     "output_type": "display_data"
    },
    {
     "name": "stdout",
     "output_type": "stream",
     "text": [
      "Test Perplexity: 193.0345419254361\n"
     ]
    }
   ],
   "source": [
    "# Read the test file and calculate perplexity\n",
    "with open('ndt_test_lm.txt', 'r') as test_fd:\n",
    "    test_text = test_fd.read()\n",
    "    perplexity = model.get_perplexity(test_text)\n",
    "    print(f\"Test Perplexity: {perplexity}\")"
   ]
  },
  {
   "cell_type": "code",
   "execution_count": 26,
   "metadata": {},
   "outputs": [],
   "source": [
    "# Test Perplexity: 193.0345419254361\n",
    "# now we try to compare this model with my version of the class BPETokenizer_mk2 and try to compare the perpelxity"
   ]
  },
  {
   "cell_type": "code",
   "execution_count": 41,
   "metadata": {},
   "outputs": [
    {
     "name": "stdout",
     "output_type": "stream",
     "text": [
      "Counting word occurrences in corpus ndt_train_lm.txt...Done\n"
     ]
    },
    {
     "data": {
      "application/vnd.jupyter.widget-view+json": {
       "model_id": "324929cb41b2458fb2a4a00fba4fd301",
       "version_major": 2,
       "version_minor": 0
      },
      "text/plain": [
       "  0%|          | 0/5000 [00:00<?, ?it/s]"
      ]
     },
     "metadata": {},
     "output_type": "display_data"
    },
    {
     "data": {
      "application/vnd.jupyter.widget-view+json": {
       "model_id": "e9500a3464a343498443cff8ed39c137",
       "version_major": 2,
       "version_minor": 0
      },
      "text/plain": [
       "  0%|          | 0/872824 [00:00<?, ?it/s]"
      ]
     },
     "metadata": {},
     "output_type": "display_data"
    }
   ],
   "source": [
    "model_mk2 = NGramLanguageModel(training_corpus_file='ndt_train_lm.txt', tokenizer=BPETokenizer_mk2(train_corpus_file= 'ndt_train_lm.txt', vocab_size = 5000))"
   ]
  },
  {
   "cell_type": "code",
   "execution_count": 42,
   "metadata": {},
   "outputs": [
    {
     "name": "stdout",
     "output_type": "stream",
     "text": [
      "Tokenising input text:\n"
     ]
    },
    {
     "data": {
      "application/vnd.jupyter.widget-view+json": {
       "model_id": "28b517b723d04922a8285c2aef33c0e9",
       "version_major": 2,
       "version_minor": 0
      },
      "text/plain": [
       "  0%|          | 0/226096 [00:00<?, ?it/s]"
      ]
     },
     "metadata": {},
     "output_type": "display_data"
    },
    {
     "name": "stdout",
     "output_type": "stream",
     "text": [
      "Computing perplexity:\n"
     ]
    },
    {
     "data": {
      "application/vnd.jupyter.widget-view+json": {
       "model_id": "a088dac2c0ce4fee927299024bfacc53",
       "version_major": 2,
       "version_minor": 0
      },
      "text/plain": [
       "  0%|          | 0/408844 [00:00<?, ?it/s]"
      ]
     },
     "metadata": {},
     "output_type": "display_data"
    },
    {
     "name": "stdout",
     "output_type": "stream",
     "text": [
      "Test Perplexity: 163.84116726365735\n"
     ]
    }
   ],
   "source": [
    "# Read the test file and calculate perplexity\n",
    "with open('ndt_test_lm.txt', 'r') as test_fd:\n",
    "    test_text = test_fd.read()\n",
    "    perplexity = model_mk2.get_perplexity(test_text)\n",
    "    print(f\"Test Perplexity: {perplexity}\")"
   ]
  },
  {
   "cell_type": "code",
   "execution_count": null,
   "metadata": {},
   "outputs": [],
   "source": [
    "# As we can see my implementation has low perplexity then the standard one. Good job!!!! <3"
   ]
  },
  {
   "cell_type": "markdown",
   "metadata": {},
   "source": [
    "__Task 2.3__ (_optional_, 4 bonus points): Improve the language model you have just developed. You can choose to focus on improving your model through a backoff mechanism, interpolation, or both. Once you are done, compute the perplexity again on the test corpus to ensure the language model has indeed improved."
   ]
  },
  {
   "cell_type": "code",
   "execution_count": null,
   "metadata": {},
   "outputs": [],
   "source": []
  },
  {
   "cell_type": "markdown",
   "metadata": {},
   "source": [
    "## Part 3: Text classification\n",
    "\n",
    "We will finally use the texts from the Norwegian Dependency Treebank for a classification task -- more precisely to determine whether a sentence is likely to be written in Bokmål or Nynorsk. To this end, we will use a simple bag-of-word setup (or more precisely a bag-of-_subwords_, since we will rely on the subwords extracted using BPE) along with a logistic regression model. As there is only two, mutually exclusive classes, you can view the task as a binary classification problem. \n",
    "\n",
    "The training data is found in `ndt_train_class.txt` and simply consists of a list of sentences, each sentence being mapped to a language form (Bokmål: `nob` or Nynorsk: `nno`). The language form is written at the end of each line, separated by a `\\t`. Note the training examples are currently _not_ shuffled.\n",
    "\n",
    "To train and apply your classifier, the easiest is to use the [`LogisticRegression`](https://scikit-learn.org/stable/modules/generated/sklearn.linear_model.LogisticRegression.html) model from `scikit-learn`."
   ]
  },
  {
   "cell_type": "markdown",
   "metadata": {},
   "source": [
    "__Task 3.1__ (2 points): Create a `N x V` matrix in which each line corresponds to a training example (out of `N` training instances) and each row corresponds to an individual feature, in this case the presence/absence of a particular subword in the sentence. In other words, there should be a total of `V` features, where `V` is the total size of the vocabulary for our BPE tokenizer. Also create a vector of length `N` with a value of `1` if the sentence was marked as Nynorsk, and 0 if is was marked as Bokmål. "
   ]
  },
  {
   "cell_type": "code",
   "execution_count": 27,
   "metadata": {},
   "outputs": [
    {
     "name": "stdout",
     "output_type": "stream",
     "text": [
      "Counting word occurrences in corpus ndt_train_class.txt...Done\n"
     ]
    },
    {
     "data": {
      "application/vnd.jupyter.widget-view+json": {
       "model_id": "f8eea6ee726e4fa18bfa5c1bf57d0d5f",
       "version_major": 2,
       "version_minor": 0
      },
      "text/plain": [
       "  0%|          | 0/5000 [00:00<?, ?it/s]"
      ]
     },
     "metadata": {},
     "output_type": "display_data"
    }
   ],
   "source": [
    "# initialize tokenizer\n",
    "tokenizer = BPETokenizer_mk2(train_corpus_file='ndt_train_class.txt')"
   ]
  },
  {
   "cell_type": "code",
   "execution_count": 28,
   "metadata": {},
   "outputs": [
    {
     "data": {
      "text/plain": [
       "__main__.BPETokenizer_mk2"
      ]
     },
     "execution_count": 28,
     "metadata": {},
     "output_type": "execute_result"
    }
   ],
   "source": [
    "type(tokenizer)"
   ]
  },
  {
   "cell_type": "code",
   "execution_count": 29,
   "metadata": {},
   "outputs": [],
   "source": [
    "import numpy as np\n",
    "\n",
    "# load Training set\n",
    "sentences_train = []\n",
    "labels_train = []\n",
    "\n",
    "with open('ndt_train_class.txt') as file:\n",
    "   for line in file:\n",
    "      sent, label = line.strip().split('\\t') # splitting the sentences and labels\n",
    "      sentences_train.append(sent)\n",
    "      labels_train.append(1 if label == 'nno' else 0)\n",
    "      \n",
    "# design matrix (N x V)\n",
    "N_train = len(sentences_train)\n",
    "V = len(tokenizer.vocab)\n",
    "X_train = np.zeros((N_train, V))\n",
    "\n",
    "# tokenization of design matrix --> we are creating a giant sparse matrix that is computationaly easy to use!\n",
    "for i, sentence in enumerate(sentences_train):\n",
    "    subwords = tokenizer.tokenize_word(sentence)\n",
    "    for subword in subwords:\n",
    "        if subword in tokenizer.vocab:\n",
    "            X_train[i, tokenizer.vocab.index(subword)] = 1  # Set presence of subword\n",
    "            \n",
    "# converting labels in array for computation\n",
    "y_train = np.array(labels_train) # --> ofc is a dicotomic vector"
   ]
  },
  {
   "cell_type": "code",
   "execution_count": 30,
   "metadata": {},
   "outputs": [
    {
     "data": {
      "text/plain": [
       "array([[0., 0., 0., ..., 0., 0., 0.],\n",
       "       [0., 0., 0., ..., 0., 0., 0.],\n",
       "       [0., 0., 0., ..., 0., 0., 0.],\n",
       "       ...,\n",
       "       [0., 0., 0., ..., 0., 0., 0.],\n",
       "       [0., 0., 0., ..., 0., 0., 0.],\n",
       "       [0., 0., 0., ..., 0., 0., 0.]])"
      ]
     },
     "metadata": {},
     "output_type": "display_data"
    },
    {
     "data": {
      "text/plain": [
       "array([1, 1, 1, ..., 0, 0, 0])"
      ]
     },
     "metadata": {},
     "output_type": "display_data"
    }
   ],
   "source": [
    "display(X_train)\n",
    "display(y_train)"
   ]
  },
  {
   "cell_type": "code",
   "execution_count": 31,
   "metadata": {},
   "outputs": [],
   "source": [
    "# load Test set --> copy and paste of the code above because the design matrix to build is the same.\n",
    "sentences_test = []\n",
    "labels_test = []\n",
    "\n",
    "with open('ndt_test_class.txt') as file:\n",
    "   for line in file:\n",
    "      sent, label = line.strip().split('\\t') # splitting the sentences and labels\n",
    "      sentences_test.append(sent)\n",
    "      labels_test.append(1 if label == 'nno' else 0)\n",
    "      \n",
    "# design matrix (N x V)\n",
    "N_test = len(sentences_test)\n",
    "V = len(tokenizer.vocab)\n",
    "X_test = np.zeros((N_test, V))\n",
    "\n",
    "# tokenization of design matrix\n",
    "for i, sentence in enumerate(sentences_test):\n",
    "    subwords = tokenizer.tokenize_word(sentence)\n",
    "    for subword in subwords:\n",
    "        if subword in tokenizer.vocab:\n",
    "            X_test[i, tokenizer.vocab.index(subword)] = 1  # Set presence of subword\n",
    "            \n",
    "# converting labels in array for computation\n",
    "y_test = np.array(labels_test)"
   ]
  },
  {
   "cell_type": "markdown",
   "metadata": {},
   "source": [
    "__Task 3.2__ (2 points): Use the data matrix you have just filled to train a logistic regression model (see the documentation on [`LogisticRegression`](https://scikit-learn.org/stable/modules/generated/sklearn.linear_model.LogisticRegression.html) for more details). We recommend to use the `liblinear` solver. "
   ]
  },
  {
   "cell_type": "code",
   "execution_count": 32,
   "metadata": {},
   "outputs": [
    {
     "name": "stdout",
     "output_type": "stream",
     "text": [
      "[1 1 1 ... 0 0 0]\n"
     ]
    }
   ],
   "source": [
    "from sklearn.linear_model import LogisticRegression\n",
    "\n",
    "model = LogisticRegression(solver = 'liblinear')\n",
    "model.fit(X_train, y_train)\n",
    "\n",
    "y_pred = model.predict(X_test)\n",
    "print(y_pred)"
   ]
  },
  {
   "cell_type": "code",
   "execution_count": null,
   "metadata": {},
   "outputs": [],
   "source": [
    "# we have the output of our model, but we are wworking with a logistic regression and we can investigate the probability of belonging to a class\n",
    "# or to another"
   ]
  },
  {
   "cell_type": "code",
   "execution_count": 33,
   "metadata": {},
   "outputs": [
    {
     "name": "stdout",
     "output_type": "stream",
     "text": [
      "[[0.00247698 0.99752302]\n",
      " [0.04758486 0.95241514]\n",
      " [0.00389488 0.99610512]\n",
      " ...\n",
      " [0.93986683 0.06013317]\n",
      " [0.99896663 0.00103337]\n",
      " [0.80859823 0.19140177]]\n"
     ]
    }
   ],
   "source": [
    "y_proba = model.predict_proba(X_test)\n",
    "print(y_proba)"
   ]
  },
  {
   "cell_type": "markdown",
   "metadata": {},
   "source": [
    "__Task 3.3__ (1 point): Now apply the learned logistic regression model to the test set in `ndt_test_class.txt`, and evaluate its performance in terms of accuracy, recall and precision (you can use the functionalities in `sklearn.metrics` to compute those easily)."
   ]
  },
  {
   "cell_type": "code",
   "execution_count": 34,
   "metadata": {},
   "outputs": [
    {
     "name": "stdout",
     "output_type": "stream",
     "text": [
      "accuracy:\t 0.961\n",
      "precision:\t 0.974\n",
      "recall:\t\t 0.946\n"
     ]
    }
   ],
   "source": [
    "from sklearn.metrics import accuracy_score, precision_score, recall_score\n",
    "\n",
    "accuracy = accuracy_score(y_test, y_pred)\n",
    "precision = precision_score(y_test, y_pred)\n",
    "recall = recall_score(y_test, y_pred)\n",
    "\n",
    "print(f'accuracy:\\t {accuracy:.3f}')\n",
    "print(f'precision:\\t {precision:.3f}')\n",
    "print(f'recall:\\t\\t {recall:.3f}')"
   ]
  },
  {
   "cell_type": "code",
   "execution_count": null,
   "metadata": {},
   "outputs": [],
   "source": [
    "# we have really good performance values!"
   ]
  },
  {
   "cell_type": "markdown",
   "metadata": {},
   "source": [
    "__Task 3.4__ (2 points): Inspect the weights learned by your logistic regression model (in `coef_`) and find the 5 subwords that contribute _the most_ to the classification of the sentence in Nynorsk. Also find the 5 subwords that contribute the most to the classification of the sentence in Bokmål. Do those weights make sense, according to what you know about Bokmål and Nynorsk ? "
   ]
  },
  {
   "cell_type": "code",
   "execution_count": 35,
   "metadata": {},
   "outputs": [
    {
     "name": "stdout",
     "output_type": "stream",
     "text": [
      "5056\n"
     ]
    }
   ],
   "source": [
    "# first we check the size of our coefficient vector\n",
    "coefficients = model.coef_\n",
    "print(len(model.coef_[0]))"
   ]
  },
  {
   "cell_type": "code",
   "execution_count": 36,
   "metadata": {},
   "outputs": [],
   "source": [
    "# find the 5 subwords that contribute the most\n",
    "top_nynorsk = np.argsort(coefficients[0])[-5:]\n",
    "top_bokmal = np.argsort(coefficients[0])[:5]"
   ]
  },
  {
   "cell_type": "code",
   "execution_count": 37,
   "metadata": {},
   "outputs": [
    {
     "name": "stdout",
     "output_type": "stream",
     "text": [
      "[484 493 578 517 656]\n",
      "[684 545 491 640 686]\n"
     ]
    }
   ],
   "source": [
    "print(top_nynorsk)\n",
    "print(top_bokmal)"
   ]
  },
  {
   "cell_type": "code",
   "execution_count": 38,
   "metadata": {},
   "outputs": [
    {
     "data": {
      "text/plain": [
       "'ikkje'"
      ]
     },
     "execution_count": 38,
     "metadata": {},
     "output_type": "execute_result"
    }
   ],
   "source": [
    "tokenizer.vocab[656]"
   ]
  },
  {
   "cell_type": "code",
   "execution_count": 39,
   "metadata": {},
   "outputs": [
    {
     "name": "stdout",
     "output_type": "stream",
     "text": [
      "ein\n",
      "dei\n",
      "frå\n",
      "eit\n",
      "ikkje\n"
     ]
    }
   ],
   "source": [
    "# Top 5 subwords that contribute the most in Nynorsk\n",
    "for i in top_nynorsk:\n",
    "   print(tokenizer.vocab[i])"
   ]
  },
  {
   "cell_type": "code",
   "execution_count": 40,
   "metadata": {},
   "outputs": [
    {
     "name": "stdout",
     "output_type": "stream",
     "text": [
      "sier\n",
      "jeg\n",
      "ikke\n",
      "ble\n",
      "Jeg\n"
     ]
    }
   ],
   "source": [
    "# Top 5 subwords that contribute the most in Bokmal\n",
    "for i in top_bokmal:\n",
    "   print(tokenizer.vocab[i])"
   ]
  },
  {
   "cell_type": "code",
   "execution_count": null,
   "metadata": {},
   "outputs": [],
   "source": [
    "# I dont speak Norwegian at all, but i check the values with the .txt files that we use and the weights make sanse. (Hopefully)"
   ]
  }
 ],
 "metadata": {
  "kernelspec": {
   "display_name": "base",
   "language": "python",
   "name": "python3"
  },
  "language_info": {
   "codemirror_mode": {
    "name": "ipython",
    "version": 3
   },
   "file_extension": ".py",
   "mimetype": "text/x-python",
   "name": "python",
   "nbconvert_exporter": "python",
   "pygments_lexer": "ipython3",
   "version": "3.11.0"
  }
 },
 "nbformat": 4,
 "nbformat_minor": 2
}
