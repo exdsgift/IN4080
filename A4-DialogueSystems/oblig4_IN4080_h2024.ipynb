{
 "cells": [
  {
   "cell_type": "markdown",
   "metadata": {},
   "source": [
    "# IN4080: obligatory assignment 4\n",
    " \n",
    "The final mandatory assignment for IN4080 consists of two parts. The first is about the development of dialogue systems, and the second about machine translation.\n",
    "You are required to get at least 12/20 points to pass. \n",
    "\n",
    "- We assume that you have read and are familiar with IFI’s requirements and guidelines for mandatory assignments, see [here](https://www.uio.no/english/studies/examinations/compulsory-activities/mn-ifi-mandatory.html) and [here](https://www.uio.no/english/studies/examinations/compulsory-activities/mn-ifi-guidelines.html).\n",
    "- This is an individual assignment. You should not deliver joint submissions. \n",
    "- You may redeliver in Devilry before the deadline (__Sunday, November 3 at 23:59__).\n",
    "- Only the last delivery will be read! If you deliver more than one file, put them into a zip-archive. You don't have to include in your delivery the data files already provided for this assignment. \n",
    "- Name your submission _your\\_username\\_in4080\\_mandatory\\_4_\n",
    "\n",
    "Part 1 should be done on your local computer, as it relies on a speech interface that will not work on remote machines. For Part 2, using _Fox_ is preferable, at least for the fine-tuning task.\n",
    "\n",
    "You should deliver a completed version of this Jupyter notebook, containing both your code and explanations about the steps you followed. We want to stress that simply submitting code is __not__ by itself sufficient to complete the assignment - we expect the notebook to also contain explanations of what you have implemented, along with motivations for the choices you made along the way. Preferably use whole sentences, and mathematical formulas if necessary. Explaining in your own words (using concepts we have covered through in the lectures) what you have implemented and reflecting on your solution is an important part of the learning process - take it seriously!\n",
    "\n",
    "Regarding the use of LLMs (ChatGPT or similar): you are allowed to use them as 'sparring partner', for instance to clarify something you have not understood. However, you are __not__ allowed to use them to generate solutions (either in part or in full) to the assignment tasks. \n"
   ]
  },
  {
   "cell_type": "markdown",
   "metadata": {},
   "source": [
    "## Part 1 : Dialogue systems"
   ]
  },
  {
   "cell_type": "markdown",
   "metadata": {},
   "source": [
    "Our objective in this part is to build a spoken conversational interface for a (simulated) elevator. \n",
    "\n",
    "### Basic setup\n",
    "\n",
    "First, let's make sure that we have all the necessary Python modules:"
   ]
  },
  {
   "cell_type": "code",
   "execution_count": 2,
   "metadata": {},
   "outputs": [
    {
     "name": "stdout",
     "output_type": "stream",
     "text": [
      "Requirement already satisfied: ipywidgets in /Library/Frameworks/Python.framework/Versions/3.11/lib/python3.11/site-packages (8.1.1)\n",
      "Requirement already satisfied: pyaudio in /Library/Frameworks/Python.framework/Versions/3.11/lib/python3.11/site-packages (0.2.14)\n",
      "Requirement already satisfied: openai-whisper in /Library/Frameworks/Python.framework/Versions/3.11/lib/python3.11/site-packages (20240930)\n",
      "Requirement already satisfied: pyttsx3 in /Library/Frameworks/Python.framework/Versions/3.11/lib/python3.11/site-packages (2.98)\n",
      "Requirement already satisfied: setfit in /Library/Frameworks/Python.framework/Versions/3.11/lib/python3.11/site-packages (1.1.0)\n",
      "Requirement already satisfied: spacy in /Library/Frameworks/Python.framework/Versions/3.11/lib/python3.11/site-packages (3.8.2)\n",
      "Requirement already satisfied: jellyfish in /Library/Frameworks/Python.framework/Versions/3.11/lib/python3.11/site-packages (1.1.0)\n",
      "Requirement already satisfied: comm>=0.1.3 in /Users/gabrieledurante/Library/Python/3.11/lib/python/site-packages (from ipywidgets) (0.2.2)\n",
      "Requirement already satisfied: ipython>=6.1.0 in /Users/gabrieledurante/Library/Python/3.11/lib/python/site-packages (from ipywidgets) (8.24.0)\n",
      "Requirement already satisfied: traitlets>=4.3.1 in /Users/gabrieledurante/Library/Python/3.11/lib/python/site-packages (from ipywidgets) (5.14.3)\n",
      "Requirement already satisfied: widgetsnbextension~=4.0.9 in /Library/Frameworks/Python.framework/Versions/3.11/lib/python3.11/site-packages (from ipywidgets) (4.0.9)\n",
      "Requirement already satisfied: jupyterlab-widgets~=3.0.9 in /Library/Frameworks/Python.framework/Versions/3.11/lib/python3.11/site-packages (from ipywidgets) (3.0.9)\n",
      "Requirement already satisfied: numba in /Library/Frameworks/Python.framework/Versions/3.11/lib/python3.11/site-packages (from openai-whisper) (0.60.0)\n",
      "Requirement already satisfied: numpy in /Library/Frameworks/Python.framework/Versions/3.11/lib/python3.11/site-packages (from openai-whisper) (2.0.2)\n",
      "Requirement already satisfied: torch in /Library/Frameworks/Python.framework/Versions/3.11/lib/python3.11/site-packages (from openai-whisper) (2.2.0)\n",
      "Requirement already satisfied: tqdm in /Library/Frameworks/Python.framework/Versions/3.11/lib/python3.11/site-packages (from openai-whisper) (4.66.5)\n",
      "Requirement already satisfied: more-itertools in /Library/Frameworks/Python.framework/Versions/3.11/lib/python3.11/site-packages (from openai-whisper) (10.5.0)\n",
      "Requirement already satisfied: tiktoken in /Library/Frameworks/Python.framework/Versions/3.11/lib/python3.11/site-packages (from openai-whisper) (0.6.0)\n",
      "Requirement already satisfied: pyobjc>=2.4 in /Library/Frameworks/Python.framework/Versions/3.11/lib/python3.11/site-packages (from pyttsx3) (10.3.1)\n",
      "Requirement already satisfied: datasets>=2.15.0 in /Library/Frameworks/Python.framework/Versions/3.11/lib/python3.11/site-packages (from setfit) (3.0.2)\n",
      "Requirement already satisfied: sentence-transformers>=3 in /Library/Frameworks/Python.framework/Versions/3.11/lib/python3.11/site-packages (from sentence-transformers[train]>=3->setfit) (3.2.1)\n",
      "Requirement already satisfied: transformers>=4.41.0 in /Library/Frameworks/Python.framework/Versions/3.11/lib/python3.11/site-packages (from setfit) (4.46.0)\n",
      "Requirement already satisfied: evaluate>=0.3.0 in /Library/Frameworks/Python.framework/Versions/3.11/lib/python3.11/site-packages (from setfit) (0.4.3)\n",
      "Requirement already satisfied: huggingface-hub>=0.23.0 in /Library/Frameworks/Python.framework/Versions/3.11/lib/python3.11/site-packages (from setfit) (0.26.1)\n",
      "Requirement already satisfied: scikit-learn in /Library/Frameworks/Python.framework/Versions/3.11/lib/python3.11/site-packages (from setfit) (1.5.2)\n",
      "Requirement already satisfied: packaging in /Users/gabrieledurante/Library/Python/3.11/lib/python/site-packages (from setfit) (24.0)\n",
      "Requirement already satisfied: spacy-legacy<3.1.0,>=3.0.11 in /Library/Frameworks/Python.framework/Versions/3.11/lib/python3.11/site-packages (from spacy) (3.0.12)\n",
      "Requirement already satisfied: spacy-loggers<2.0.0,>=1.0.0 in /Library/Frameworks/Python.framework/Versions/3.11/lib/python3.11/site-packages (from spacy) (1.0.5)\n",
      "Requirement already satisfied: murmurhash<1.1.0,>=0.28.0 in /Library/Frameworks/Python.framework/Versions/3.11/lib/python3.11/site-packages (from spacy) (1.0.10)\n",
      "Requirement already satisfied: cymem<2.1.0,>=2.0.2 in /Library/Frameworks/Python.framework/Versions/3.11/lib/python3.11/site-packages (from spacy) (2.0.8)\n",
      "Requirement already satisfied: preshed<3.1.0,>=3.0.2 in /Library/Frameworks/Python.framework/Versions/3.11/lib/python3.11/site-packages (from spacy) (3.0.9)\n",
      "Requirement already satisfied: thinc<8.4.0,>=8.3.0 in /Library/Frameworks/Python.framework/Versions/3.11/lib/python3.11/site-packages (from spacy) (8.3.2)\n",
      "Requirement already satisfied: wasabi<1.2.0,>=0.9.1 in /Library/Frameworks/Python.framework/Versions/3.11/lib/python3.11/site-packages (from spacy) (1.1.3)\n",
      "Requirement already satisfied: srsly<3.0.0,>=2.4.3 in /Library/Frameworks/Python.framework/Versions/3.11/lib/python3.11/site-packages (from spacy) (2.4.8)\n",
      "Requirement already satisfied: catalogue<2.1.0,>=2.0.6 in /Library/Frameworks/Python.framework/Versions/3.11/lib/python3.11/site-packages (from spacy) (2.0.10)\n",
      "Requirement already satisfied: weasel<0.5.0,>=0.1.0 in /Library/Frameworks/Python.framework/Versions/3.11/lib/python3.11/site-packages (from spacy) (0.4.1)\n",
      "Requirement already satisfied: typer<1.0.0,>=0.3.0 in /Library/Frameworks/Python.framework/Versions/3.11/lib/python3.11/site-packages (from spacy) (0.12.5)\n",
      "Requirement already satisfied: requests<3.0.0,>=2.13.0 in /Library/Frameworks/Python.framework/Versions/3.11/lib/python3.11/site-packages (from spacy) (2.32.3)\n",
      "Requirement already satisfied: pydantic!=1.8,!=1.8.1,<3.0.0,>=1.7.4 in /Library/Frameworks/Python.framework/Versions/3.11/lib/python3.11/site-packages (from spacy) (2.6.1)\n",
      "Requirement already satisfied: jinja2 in /Library/Frameworks/Python.framework/Versions/3.11/lib/python3.11/site-packages (from spacy) (3.1.2)\n",
      "Requirement already satisfied: setuptools in /Library/Frameworks/Python.framework/Versions/3.11/lib/python3.11/site-packages (from spacy) (65.5.0)\n",
      "Requirement already satisfied: langcodes<4.0.0,>=3.2.0 in /Library/Frameworks/Python.framework/Versions/3.11/lib/python3.11/site-packages (from spacy) (3.4.1)\n",
      "Requirement already satisfied: filelock in /Library/Frameworks/Python.framework/Versions/3.11/lib/python3.11/site-packages (from datasets>=2.15.0->setfit) (3.13.1)\n",
      "Requirement already satisfied: pyarrow>=15.0.0 in /Library/Frameworks/Python.framework/Versions/3.11/lib/python3.11/site-packages (from datasets>=2.15.0->setfit) (17.0.0)\n",
      "Requirement already satisfied: dill<0.3.9,>=0.3.0 in /Library/Frameworks/Python.framework/Versions/3.11/lib/python3.11/site-packages (from datasets>=2.15.0->setfit) (0.3.8)\n",
      "Requirement already satisfied: pandas in /Library/Frameworks/Python.framework/Versions/3.11/lib/python3.11/site-packages (from datasets>=2.15.0->setfit) (2.2.3)\n",
      "Requirement already satisfied: xxhash in /Library/Frameworks/Python.framework/Versions/3.11/lib/python3.11/site-packages (from datasets>=2.15.0->setfit) (3.5.0)\n",
      "Requirement already satisfied: multiprocess<0.70.17 in /Library/Frameworks/Python.framework/Versions/3.11/lib/python3.11/site-packages (from datasets>=2.15.0->setfit) (0.70.16)\n",
      "Requirement already satisfied: fsspec<=2024.9.0,>=2023.1.0 in /Library/Frameworks/Python.framework/Versions/3.11/lib/python3.11/site-packages (from fsspec[http]<=2024.9.0,>=2023.1.0->datasets>=2.15.0->setfit) (2024.2.0)\n",
      "Requirement already satisfied: aiohttp in /Library/Frameworks/Python.framework/Versions/3.11/lib/python3.11/site-packages (from datasets>=2.15.0->setfit) (3.9.3)\n",
      "Requirement already satisfied: pyyaml>=5.1 in /Library/Frameworks/Python.framework/Versions/3.11/lib/python3.11/site-packages (from datasets>=2.15.0->setfit) (6.0.1)\n",
      "Requirement already satisfied: typing-extensions>=3.7.4.3 in /Users/gabrieledurante/Library/Python/3.11/lib/python/site-packages (from huggingface-hub>=0.23.0->setfit) (4.11.0)\n",
      "Requirement already satisfied: decorator in /Users/gabrieledurante/Library/Python/3.11/lib/python/site-packages (from ipython>=6.1.0->ipywidgets) (5.1.1)\n",
      "Requirement already satisfied: jedi>=0.16 in /Users/gabrieledurante/Library/Python/3.11/lib/python/site-packages (from ipython>=6.1.0->ipywidgets) (0.19.1)\n",
      "Requirement already satisfied: matplotlib-inline in /Users/gabrieledurante/Library/Python/3.11/lib/python/site-packages (from ipython>=6.1.0->ipywidgets) (0.1.7)\n",
      "Requirement already satisfied: prompt-toolkit<3.1.0,>=3.0.41 in /Users/gabrieledurante/Library/Python/3.11/lib/python/site-packages (from ipython>=6.1.0->ipywidgets) (3.0.43)\n",
      "Requirement already satisfied: pygments>=2.4.0 in /Users/gabrieledurante/Library/Python/3.11/lib/python/site-packages (from ipython>=6.1.0->ipywidgets) (2.18.0)\n",
      "Requirement already satisfied: stack-data in /Users/gabrieledurante/Library/Python/3.11/lib/python/site-packages (from ipython>=6.1.0->ipywidgets) (0.6.3)\n",
      "Requirement already satisfied: pexpect>4.3 in /Users/gabrieledurante/Library/Python/3.11/lib/python/site-packages (from ipython>=6.1.0->ipywidgets) (4.9.0)\n",
      "Requirement already satisfied: language-data>=1.2 in /Library/Frameworks/Python.framework/Versions/3.11/lib/python3.11/site-packages (from langcodes<4.0.0,>=3.2.0->spacy) (1.2.0)\n",
      "Requirement already satisfied: annotated-types>=0.4.0 in /Library/Frameworks/Python.framework/Versions/3.11/lib/python3.11/site-packages (from pydantic!=1.8,!=1.8.1,<3.0.0,>=1.7.4->spacy) (0.6.0)\n",
      "Requirement already satisfied: pydantic-core==2.16.2 in /Library/Frameworks/Python.framework/Versions/3.11/lib/python3.11/site-packages (from pydantic!=1.8,!=1.8.1,<3.0.0,>=1.7.4->spacy) (2.16.2)\n",
      "Requirement already satisfied: pyobjc-core==10.3.1 in /Library/Frameworks/Python.framework/Versions/3.11/lib/python3.11/site-packages (from pyobjc>=2.4->pyttsx3) (10.3.1)\n",
      "Requirement already satisfied: pyobjc-framework-AddressBook==10.3.1 in /Library/Frameworks/Python.framework/Versions/3.11/lib/python3.11/site-packages (from pyobjc>=2.4->pyttsx3) (10.3.1)\n",
      "Requirement already satisfied: pyobjc-framework-AppleScriptKit==10.3.1 in /Library/Frameworks/Python.framework/Versions/3.11/lib/python3.11/site-packages (from pyobjc>=2.4->pyttsx3) (10.3.1)\n",
      "Requirement already satisfied: pyobjc-framework-ApplicationServices==10.3.1 in /Library/Frameworks/Python.framework/Versions/3.11/lib/python3.11/site-packages (from pyobjc>=2.4->pyttsx3) (10.3.1)\n",
      "Requirement already satisfied: pyobjc-framework-Automator==10.3.1 in /Library/Frameworks/Python.framework/Versions/3.11/lib/python3.11/site-packages (from pyobjc>=2.4->pyttsx3) (10.3.1)\n",
      "Requirement already satisfied: pyobjc-framework-CFNetwork==10.3.1 in /Library/Frameworks/Python.framework/Versions/3.11/lib/python3.11/site-packages (from pyobjc>=2.4->pyttsx3) (10.3.1)\n",
      "Requirement already satisfied: pyobjc-framework-Cocoa==10.3.1 in /Library/Frameworks/Python.framework/Versions/3.11/lib/python3.11/site-packages (from pyobjc>=2.4->pyttsx3) (10.3.1)\n",
      "Requirement already satisfied: pyobjc-framework-CoreAudio==10.3.1 in /Library/Frameworks/Python.framework/Versions/3.11/lib/python3.11/site-packages (from pyobjc>=2.4->pyttsx3) (10.3.1)\n",
      "Requirement already satisfied: pyobjc-framework-CoreAudioKit==10.3.1 in /Library/Frameworks/Python.framework/Versions/3.11/lib/python3.11/site-packages (from pyobjc>=2.4->pyttsx3) (10.3.1)\n",
      "Requirement already satisfied: pyobjc-framework-CoreData==10.3.1 in /Library/Frameworks/Python.framework/Versions/3.11/lib/python3.11/site-packages (from pyobjc>=2.4->pyttsx3) (10.3.1)\n",
      "Requirement already satisfied: pyobjc-framework-CoreMIDI==10.3.1 in /Library/Frameworks/Python.framework/Versions/3.11/lib/python3.11/site-packages (from pyobjc>=2.4->pyttsx3) (10.3.1)\n",
      "Requirement already satisfied: pyobjc-framework-CoreServices==10.3.1 in /Library/Frameworks/Python.framework/Versions/3.11/lib/python3.11/site-packages (from pyobjc>=2.4->pyttsx3) (10.3.1)\n",
      "Requirement already satisfied: pyobjc-framework-CoreText==10.3.1 in /Library/Frameworks/Python.framework/Versions/3.11/lib/python3.11/site-packages (from pyobjc>=2.4->pyttsx3) (10.3.1)\n",
      "Requirement already satisfied: pyobjc-framework-DiscRecording==10.3.1 in /Library/Frameworks/Python.framework/Versions/3.11/lib/python3.11/site-packages (from pyobjc>=2.4->pyttsx3) (10.3.1)\n",
      "Requirement already satisfied: pyobjc-framework-DiscRecordingUI==10.3.1 in /Library/Frameworks/Python.framework/Versions/3.11/lib/python3.11/site-packages (from pyobjc>=2.4->pyttsx3) (10.3.1)\n",
      "Requirement already satisfied: pyobjc-framework-DiskArbitration==10.3.1 in /Library/Frameworks/Python.framework/Versions/3.11/lib/python3.11/site-packages (from pyobjc>=2.4->pyttsx3) (10.3.1)\n",
      "Requirement already satisfied: pyobjc-framework-DVDPlayback==10.3.1 in /Library/Frameworks/Python.framework/Versions/3.11/lib/python3.11/site-packages (from pyobjc>=2.4->pyttsx3) (10.3.1)\n",
      "Requirement already satisfied: pyobjc-framework-ExceptionHandling==10.3.1 in /Library/Frameworks/Python.framework/Versions/3.11/lib/python3.11/site-packages (from pyobjc>=2.4->pyttsx3) (10.3.1)\n",
      "Requirement already satisfied: pyobjc-framework-InstallerPlugins==10.3.1 in /Library/Frameworks/Python.framework/Versions/3.11/lib/python3.11/site-packages (from pyobjc>=2.4->pyttsx3) (10.3.1)\n",
      "Requirement already satisfied: pyobjc-framework-IOBluetooth==10.3.1 in /Library/Frameworks/Python.framework/Versions/3.11/lib/python3.11/site-packages (from pyobjc>=2.4->pyttsx3) (10.3.1)\n",
      "Requirement already satisfied: pyobjc-framework-IOBluetoothUI==10.3.1 in /Library/Frameworks/Python.framework/Versions/3.11/lib/python3.11/site-packages (from pyobjc>=2.4->pyttsx3) (10.3.1)\n",
      "Requirement already satisfied: pyobjc-framework-LatentSemanticMapping==10.3.1 in /Library/Frameworks/Python.framework/Versions/3.11/lib/python3.11/site-packages (from pyobjc>=2.4->pyttsx3) (10.3.1)\n",
      "Requirement already satisfied: pyobjc-framework-LaunchServices==10.3.1 in /Library/Frameworks/Python.framework/Versions/3.11/lib/python3.11/site-packages (from pyobjc>=2.4->pyttsx3) (10.3.1)\n",
      "Requirement already satisfied: pyobjc-framework-OSAKit==10.3.1 in /Library/Frameworks/Python.framework/Versions/3.11/lib/python3.11/site-packages (from pyobjc>=2.4->pyttsx3) (10.3.1)\n",
      "Requirement already satisfied: pyobjc-framework-PreferencePanes==10.3.1 in /Library/Frameworks/Python.framework/Versions/3.11/lib/python3.11/site-packages (from pyobjc>=2.4->pyttsx3) (10.3.1)\n",
      "Requirement already satisfied: pyobjc-framework-Quartz==10.3.1 in /Library/Frameworks/Python.framework/Versions/3.11/lib/python3.11/site-packages (from pyobjc>=2.4->pyttsx3) (10.3.1)\n",
      "Requirement already satisfied: pyobjc-framework-ScreenSaver==10.3.1 in /Library/Frameworks/Python.framework/Versions/3.11/lib/python3.11/site-packages (from pyobjc>=2.4->pyttsx3) (10.3.1)\n",
      "Requirement already satisfied: pyobjc-framework-Security==10.3.1 in /Library/Frameworks/Python.framework/Versions/3.11/lib/python3.11/site-packages (from pyobjc>=2.4->pyttsx3) (10.3.1)\n",
      "Requirement already satisfied: pyobjc-framework-SecurityFoundation==10.3.1 in /Library/Frameworks/Python.framework/Versions/3.11/lib/python3.11/site-packages (from pyobjc>=2.4->pyttsx3) (10.3.1)\n",
      "Requirement already satisfied: pyobjc-framework-SecurityInterface==10.3.1 in /Library/Frameworks/Python.framework/Versions/3.11/lib/python3.11/site-packages (from pyobjc>=2.4->pyttsx3) (10.3.1)\n",
      "Requirement already satisfied: pyobjc-framework-SearchKit==10.3.1 in /Library/Frameworks/Python.framework/Versions/3.11/lib/python3.11/site-packages (from pyobjc>=2.4->pyttsx3) (10.3.1)\n",
      "Requirement already satisfied: pyobjc-framework-SyncServices==10.3.1 in /Library/Frameworks/Python.framework/Versions/3.11/lib/python3.11/site-packages (from pyobjc>=2.4->pyttsx3) (10.3.1)\n",
      "Requirement already satisfied: pyobjc-framework-SystemConfiguration==10.3.1 in /Library/Frameworks/Python.framework/Versions/3.11/lib/python3.11/site-packages (from pyobjc>=2.4->pyttsx3) (10.3.1)\n",
      "Requirement already satisfied: pyobjc-framework-WebKit==10.3.1 in /Library/Frameworks/Python.framework/Versions/3.11/lib/python3.11/site-packages (from pyobjc>=2.4->pyttsx3) (10.3.1)\n",
      "Requirement already satisfied: pyobjc-framework-AppleScriptObjC==10.3.1 in /Library/Frameworks/Python.framework/Versions/3.11/lib/python3.11/site-packages (from pyobjc>=2.4->pyttsx3) (10.3.1)\n",
      "Requirement already satisfied: pyobjc-framework-CoreLocation==10.3.1 in /Library/Frameworks/Python.framework/Versions/3.11/lib/python3.11/site-packages (from pyobjc>=2.4->pyttsx3) (10.3.1)\n",
      "Requirement already satisfied: pyobjc-framework-CoreWLAN==10.3.1 in /Library/Frameworks/Python.framework/Versions/3.11/lib/python3.11/site-packages (from pyobjc>=2.4->pyttsx3) (10.3.1)\n",
      "Requirement already satisfied: pyobjc-framework-ImageCaptureCore==10.3.1 in /Library/Frameworks/Python.framework/Versions/3.11/lib/python3.11/site-packages (from pyobjc>=2.4->pyttsx3) (10.3.1)\n",
      "Requirement already satisfied: pyobjc-framework-IOSurface==10.3.1 in /Library/Frameworks/Python.framework/Versions/3.11/lib/python3.11/site-packages (from pyobjc>=2.4->pyttsx3) (10.3.1)\n",
      "Requirement already satisfied: pyobjc-framework-NetFS==10.3.1 in /Library/Frameworks/Python.framework/Versions/3.11/lib/python3.11/site-packages (from pyobjc>=2.4->pyttsx3) (10.3.1)\n",
      "Requirement already satisfied: pyobjc-framework-OpenDirectory==10.3.1 in /Library/Frameworks/Python.framework/Versions/3.11/lib/python3.11/site-packages (from pyobjc>=2.4->pyttsx3) (10.3.1)\n",
      "Requirement already satisfied: pyobjc-framework-ServiceManagement==10.3.1 in /Library/Frameworks/Python.framework/Versions/3.11/lib/python3.11/site-packages (from pyobjc>=2.4->pyttsx3) (10.3.1)\n",
      "Requirement already satisfied: pyobjc-framework-iTunesLibrary==10.3.1 in /Library/Frameworks/Python.framework/Versions/3.11/lib/python3.11/site-packages (from pyobjc>=2.4->pyttsx3) (10.3.1)\n",
      "Requirement already satisfied: pyobjc-framework-AVFoundation==10.3.1 in /Library/Frameworks/Python.framework/Versions/3.11/lib/python3.11/site-packages (from pyobjc>=2.4->pyttsx3) (10.3.1)\n",
      "Requirement already satisfied: pyobjc-framework-CoreMedia==10.3.1 in /Library/Frameworks/Python.framework/Versions/3.11/lib/python3.11/site-packages (from pyobjc>=2.4->pyttsx3) (10.3.1)\n",
      "Requirement already satisfied: pyobjc-framework-CoreMediaIO==10.3.1 in /Library/Frameworks/Python.framework/Versions/3.11/lib/python3.11/site-packages (from pyobjc>=2.4->pyttsx3) (10.3.1)\n",
      "Requirement already satisfied: pyobjc-framework-StoreKit==10.3.1 in /Library/Frameworks/Python.framework/Versions/3.11/lib/python3.11/site-packages (from pyobjc>=2.4->pyttsx3) (10.3.1)\n",
      "Requirement already satisfied: pyobjc-framework-SceneKit==10.3.1 in /Library/Frameworks/Python.framework/Versions/3.11/lib/python3.11/site-packages (from pyobjc>=2.4->pyttsx3) (10.3.1)\n",
      "Requirement already satisfied: pyobjc-framework-libdispatch==10.3.1 in /Library/Frameworks/Python.framework/Versions/3.11/lib/python3.11/site-packages (from pyobjc>=2.4->pyttsx3) (10.3.1)\n",
      "Requirement already satisfied: pyobjc-framework-libxpc==10.3.1 in /Library/Frameworks/Python.framework/Versions/3.11/lib/python3.11/site-packages (from pyobjc>=2.4->pyttsx3) (10.3.1)\n",
      "Requirement already satisfied: pyobjc-framework-AudioVideoBridging==10.3.1 in /Library/Frameworks/Python.framework/Versions/3.11/lib/python3.11/site-packages (from pyobjc>=2.4->pyttsx3) (10.3.1)\n",
      "Requirement already satisfied: pyobjc-framework-Accounts==10.3.1 in /Library/Frameworks/Python.framework/Versions/3.11/lib/python3.11/site-packages (from pyobjc>=2.4->pyttsx3) (10.3.1)\n",
      "Requirement already satisfied: pyobjc-framework-EventKit==10.3.1 in /Library/Frameworks/Python.framework/Versions/3.11/lib/python3.11/site-packages (from pyobjc>=2.4->pyttsx3) (10.3.1)\n",
      "Requirement already satisfied: pyobjc-framework-GameCenter==10.3.1 in /Library/Frameworks/Python.framework/Versions/3.11/lib/python3.11/site-packages (from pyobjc>=2.4->pyttsx3) (10.3.1)\n",
      "Requirement already satisfied: pyobjc-framework-Social==10.3.1 in /Library/Frameworks/Python.framework/Versions/3.11/lib/python3.11/site-packages (from pyobjc>=2.4->pyttsx3) (10.3.1)\n",
      "Requirement already satisfied: pyobjc-framework-GameKit==10.3.1 in /Library/Frameworks/Python.framework/Versions/3.11/lib/python3.11/site-packages (from pyobjc>=2.4->pyttsx3) (10.3.1)\n",
      "Requirement already satisfied: pyobjc-framework-VideoToolbox==10.3.1 in /Library/Frameworks/Python.framework/Versions/3.11/lib/python3.11/site-packages (from pyobjc>=2.4->pyttsx3) (10.3.1)\n",
      "Requirement already satisfied: pyobjc-framework-AVKit==10.3.1 in /Library/Frameworks/Python.framework/Versions/3.11/lib/python3.11/site-packages (from pyobjc>=2.4->pyttsx3) (10.3.1)\n",
      "Requirement already satisfied: pyobjc-framework-GameController==10.3.1 in /Library/Frameworks/Python.framework/Versions/3.11/lib/python3.11/site-packages (from pyobjc>=2.4->pyttsx3) (10.3.1)\n",
      "Requirement already satisfied: pyobjc-framework-MapKit==10.3.1 in /Library/Frameworks/Python.framework/Versions/3.11/lib/python3.11/site-packages (from pyobjc>=2.4->pyttsx3) (10.3.1)\n",
      "Requirement already satisfied: pyobjc-framework-MediaAccessibility==10.3.1 in /Library/Frameworks/Python.framework/Versions/3.11/lib/python3.11/site-packages (from pyobjc>=2.4->pyttsx3) (10.3.1)\n",
      "Requirement already satisfied: pyobjc-framework-MediaLibrary==10.3.1 in /Library/Frameworks/Python.framework/Versions/3.11/lib/python3.11/site-packages (from pyobjc>=2.4->pyttsx3) (10.3.1)\n",
      "Requirement already satisfied: pyobjc-framework-MediaToolbox==10.3.1 in /Library/Frameworks/Python.framework/Versions/3.11/lib/python3.11/site-packages (from pyobjc>=2.4->pyttsx3) (10.3.1)\n",
      "Requirement already satisfied: pyobjc-framework-SpriteKit==10.3.1 in /Library/Frameworks/Python.framework/Versions/3.11/lib/python3.11/site-packages (from pyobjc>=2.4->pyttsx3) (10.3.1)\n",
      "Requirement already satisfied: pyobjc-framework-CloudKit==10.3.1 in /Library/Frameworks/Python.framework/Versions/3.11/lib/python3.11/site-packages (from pyobjc>=2.4->pyttsx3) (10.3.1)\n",
      "Requirement already satisfied: pyobjc-framework-CoreBluetooth==10.3.1 in /Library/Frameworks/Python.framework/Versions/3.11/lib/python3.11/site-packages (from pyobjc>=2.4->pyttsx3) (10.3.1)\n",
      "Requirement already satisfied: pyobjc-framework-CryptoTokenKit==10.3.1 in /Library/Frameworks/Python.framework/Versions/3.11/lib/python3.11/site-packages (from pyobjc>=2.4->pyttsx3) (10.3.1)\n",
      "Requirement already satisfied: pyobjc-framework-FinderSync==10.3.1 in /Library/Frameworks/Python.framework/Versions/3.11/lib/python3.11/site-packages (from pyobjc>=2.4->pyttsx3) (10.3.1)\n",
      "Requirement already satisfied: pyobjc-framework-LocalAuthentication==10.3.1 in /Library/Frameworks/Python.framework/Versions/3.11/lib/python3.11/site-packages (from pyobjc>=2.4->pyttsx3) (10.3.1)\n",
      "Requirement already satisfied: pyobjc-framework-MultipeerConnectivity==10.3.1 in /Library/Frameworks/Python.framework/Versions/3.11/lib/python3.11/site-packages (from pyobjc>=2.4->pyttsx3) (10.3.1)\n",
      "Requirement already satisfied: pyobjc-framework-NotificationCenter==10.3.1 in /Library/Frameworks/Python.framework/Versions/3.11/lib/python3.11/site-packages (from pyobjc>=2.4->pyttsx3) (10.3.1)\n",
      "Requirement already satisfied: pyobjc-framework-Contacts==10.3.1 in /Library/Frameworks/Python.framework/Versions/3.11/lib/python3.11/site-packages (from pyobjc>=2.4->pyttsx3) (10.3.1)\n",
      "Requirement already satisfied: pyobjc-framework-ContactsUI==10.3.1 in /Library/Frameworks/Python.framework/Versions/3.11/lib/python3.11/site-packages (from pyobjc>=2.4->pyttsx3) (10.3.1)\n",
      "Requirement already satisfied: pyobjc-framework-Metal==10.3.1 in /Library/Frameworks/Python.framework/Versions/3.11/lib/python3.11/site-packages (from pyobjc>=2.4->pyttsx3) (10.3.1)\n",
      "Requirement already satisfied: pyobjc-framework-MetalKit==10.3.1 in /Library/Frameworks/Python.framework/Versions/3.11/lib/python3.11/site-packages (from pyobjc>=2.4->pyttsx3) (10.3.1)\n",
      "Requirement already satisfied: pyobjc-framework-ModelIO==10.3.1 in /Library/Frameworks/Python.framework/Versions/3.11/lib/python3.11/site-packages (from pyobjc>=2.4->pyttsx3) (10.3.1)\n",
      "Requirement already satisfied: pyobjc-framework-NetworkExtension==10.3.1 in /Library/Frameworks/Python.framework/Versions/3.11/lib/python3.11/site-packages (from pyobjc>=2.4->pyttsx3) (10.3.1)\n",
      "Requirement already satisfied: pyobjc-framework-Photos==10.3.1 in /Library/Frameworks/Python.framework/Versions/3.11/lib/python3.11/site-packages (from pyobjc>=2.4->pyttsx3) (10.3.1)\n",
      "Requirement already satisfied: pyobjc-framework-PhotosUI==10.3.1 in /Library/Frameworks/Python.framework/Versions/3.11/lib/python3.11/site-packages (from pyobjc>=2.4->pyttsx3) (10.3.1)\n",
      "Requirement already satisfied: pyobjc-framework-GameplayKit==10.3.1 in /Library/Frameworks/Python.framework/Versions/3.11/lib/python3.11/site-packages (from pyobjc>=2.4->pyttsx3) (10.3.1)\n",
      "Requirement already satisfied: pyobjc-framework-Intents==10.3.1 in /Library/Frameworks/Python.framework/Versions/3.11/lib/python3.11/site-packages (from pyobjc>=2.4->pyttsx3) (10.3.1)\n",
      "Requirement already satisfied: pyobjc-framework-MediaPlayer==10.3.1 in /Library/Frameworks/Python.framework/Versions/3.11/lib/python3.11/site-packages (from pyobjc>=2.4->pyttsx3) (10.3.1)\n",
      "Requirement already satisfied: pyobjc-framework-SafariServices==10.3.1 in /Library/Frameworks/Python.framework/Versions/3.11/lib/python3.11/site-packages (from pyobjc>=2.4->pyttsx3) (10.3.1)\n",
      "Requirement already satisfied: pyobjc-framework-ColorSync==10.3.1 in /Library/Frameworks/Python.framework/Versions/3.11/lib/python3.11/site-packages (from pyobjc>=2.4->pyttsx3) (10.3.1)\n",
      "Requirement already satisfied: pyobjc-framework-CoreML==10.3.1 in /Library/Frameworks/Python.framework/Versions/3.11/lib/python3.11/site-packages (from pyobjc>=2.4->pyttsx3) (10.3.1)\n",
      "Requirement already satisfied: pyobjc-framework-CoreSpotlight==10.3.1 in /Library/Frameworks/Python.framework/Versions/3.11/lib/python3.11/site-packages (from pyobjc>=2.4->pyttsx3) (10.3.1)\n",
      "Requirement already satisfied: pyobjc-framework-ExternalAccessory==10.3.1 in /Library/Frameworks/Python.framework/Versions/3.11/lib/python3.11/site-packages (from pyobjc>=2.4->pyttsx3) (10.3.1)\n",
      "Requirement already satisfied: pyobjc-framework-MetalPerformanceShaders==10.3.1 in /Library/Frameworks/Python.framework/Versions/3.11/lib/python3.11/site-packages (from pyobjc>=2.4->pyttsx3) (10.3.1)\n",
      "Requirement already satisfied: pyobjc-framework-Vision==10.3.1 in /Library/Frameworks/Python.framework/Versions/3.11/lib/python3.11/site-packages (from pyobjc>=2.4->pyttsx3) (10.3.1)\n",
      "Requirement already satisfied: pyobjc-framework-AdSupport==10.3.1 in /Library/Frameworks/Python.framework/Versions/3.11/lib/python3.11/site-packages (from pyobjc>=2.4->pyttsx3) (10.3.1)\n",
      "Requirement already satisfied: pyobjc-framework-BusinessChat==10.3.1 in /Library/Frameworks/Python.framework/Versions/3.11/lib/python3.11/site-packages (from pyobjc>=2.4->pyttsx3) (10.3.1)\n",
      "Requirement already satisfied: pyobjc-framework-NaturalLanguage==10.3.1 in /Library/Frameworks/Python.framework/Versions/3.11/lib/python3.11/site-packages (from pyobjc>=2.4->pyttsx3) (10.3.1)\n",
      "Requirement already satisfied: pyobjc-framework-Network==10.3.1 in /Library/Frameworks/Python.framework/Versions/3.11/lib/python3.11/site-packages (from pyobjc>=2.4->pyttsx3) (10.3.1)\n",
      "Requirement already satisfied: pyobjc-framework-UserNotifications==10.3.1 in /Library/Frameworks/Python.framework/Versions/3.11/lib/python3.11/site-packages (from pyobjc>=2.4->pyttsx3) (10.3.1)\n",
      "Requirement already satisfied: pyobjc-framework-VideoSubscriberAccount==10.3.1 in /Library/Frameworks/Python.framework/Versions/3.11/lib/python3.11/site-packages (from pyobjc>=2.4->pyttsx3) (10.3.1)\n",
      "Requirement already satisfied: pyobjc-framework-AuthenticationServices==10.3.1 in /Library/Frameworks/Python.framework/Versions/3.11/lib/python3.11/site-packages (from pyobjc>=2.4->pyttsx3) (10.3.1)\n",
      "Requirement already satisfied: pyobjc-framework-AutomaticAssessmentConfiguration==10.3.1 in /Library/Frameworks/Python.framework/Versions/3.11/lib/python3.11/site-packages (from pyobjc>=2.4->pyttsx3) (10.3.1)\n",
      "Requirement already satisfied: pyobjc-framework-CoreHaptics==10.3.1 in /Library/Frameworks/Python.framework/Versions/3.11/lib/python3.11/site-packages (from pyobjc>=2.4->pyttsx3) (10.3.1)\n",
      "Requirement already satisfied: pyobjc-framework-CoreMotion==10.3.1 in /Library/Frameworks/Python.framework/Versions/3.11/lib/python3.11/site-packages (from pyobjc>=2.4->pyttsx3) (10.3.1)\n",
      "Requirement already satisfied: pyobjc-framework-DeviceCheck==10.3.1 in /Library/Frameworks/Python.framework/Versions/3.11/lib/python3.11/site-packages (from pyobjc>=2.4->pyttsx3) (10.3.1)\n",
      "Requirement already satisfied: pyobjc-framework-ExecutionPolicy==10.3.1 in /Library/Frameworks/Python.framework/Versions/3.11/lib/python3.11/site-packages (from pyobjc>=2.4->pyttsx3) (10.3.1)\n",
      "Requirement already satisfied: pyobjc-framework-FileProvider==10.3.1 in /Library/Frameworks/Python.framework/Versions/3.11/lib/python3.11/site-packages (from pyobjc>=2.4->pyttsx3) (10.3.1)\n",
      "Requirement already satisfied: pyobjc-framework-FileProviderUI==10.3.1 in /Library/Frameworks/Python.framework/Versions/3.11/lib/python3.11/site-packages (from pyobjc>=2.4->pyttsx3) (10.3.1)\n",
      "Requirement already satisfied: pyobjc-framework-LinkPresentation==10.3.1 in /Library/Frameworks/Python.framework/Versions/3.11/lib/python3.11/site-packages (from pyobjc>=2.4->pyttsx3) (10.3.1)\n",
      "Requirement already satisfied: pyobjc-framework-OSLog==10.3.1 in /Library/Frameworks/Python.framework/Versions/3.11/lib/python3.11/site-packages (from pyobjc>=2.4->pyttsx3) (10.3.1)\n",
      "Requirement already satisfied: pyobjc-framework-PencilKit==10.3.1 in /Library/Frameworks/Python.framework/Versions/3.11/lib/python3.11/site-packages (from pyobjc>=2.4->pyttsx3) (10.3.1)\n",
      "Requirement already satisfied: pyobjc-framework-PushKit==10.3.1 in /Library/Frameworks/Python.framework/Versions/3.11/lib/python3.11/site-packages (from pyobjc>=2.4->pyttsx3) (10.3.1)\n",
      "Requirement already satisfied: pyobjc-framework-QuickLookThumbnailing==10.3.1 in /Library/Frameworks/Python.framework/Versions/3.11/lib/python3.11/site-packages (from pyobjc>=2.4->pyttsx3) (10.3.1)\n",
      "Requirement already satisfied: pyobjc-framework-Speech==10.3.1 in /Library/Frameworks/Python.framework/Versions/3.11/lib/python3.11/site-packages (from pyobjc>=2.4->pyttsx3) (10.3.1)\n",
      "Requirement already satisfied: pyobjc-framework-SoundAnalysis==10.3.1 in /Library/Frameworks/Python.framework/Versions/3.11/lib/python3.11/site-packages (from pyobjc>=2.4->pyttsx3) (10.3.1)\n",
      "Requirement already satisfied: pyobjc-framework-SystemExtensions==10.3.1 in /Library/Frameworks/Python.framework/Versions/3.11/lib/python3.11/site-packages (from pyobjc>=2.4->pyttsx3) (10.3.1)\n",
      "Requirement already satisfied: pyobjc-framework-Accessibility==10.3.1 in /Library/Frameworks/Python.framework/Versions/3.11/lib/python3.11/site-packages (from pyobjc>=2.4->pyttsx3) (10.3.1)\n",
      "Requirement already satisfied: pyobjc-framework-AdServices==10.3.1 in /Library/Frameworks/Python.framework/Versions/3.11/lib/python3.11/site-packages (from pyobjc>=2.4->pyttsx3) (10.3.1)\n",
      "Requirement already satisfied: pyobjc-framework-AppTrackingTransparency==10.3.1 in /Library/Frameworks/Python.framework/Versions/3.11/lib/python3.11/site-packages (from pyobjc>=2.4->pyttsx3) (10.3.1)\n",
      "Requirement already satisfied: pyobjc-framework-CallKit==10.3.1 in /Library/Frameworks/Python.framework/Versions/3.11/lib/python3.11/site-packages (from pyobjc>=2.4->pyttsx3) (10.3.1)\n",
      "Requirement already satisfied: pyobjc-framework-ClassKit==10.3.1 in /Library/Frameworks/Python.framework/Versions/3.11/lib/python3.11/site-packages (from pyobjc>=2.4->pyttsx3) (10.3.1)\n",
      "Requirement already satisfied: pyobjc-framework-KernelManagement==10.3.1 in /Library/Frameworks/Python.framework/Versions/3.11/lib/python3.11/site-packages (from pyobjc>=2.4->pyttsx3) (10.3.1)\n",
      "Requirement already satisfied: pyobjc-framework-MetalPerformanceShadersGraph==10.3.1 in /Library/Frameworks/Python.framework/Versions/3.11/lib/python3.11/site-packages (from pyobjc>=2.4->pyttsx3) (10.3.1)\n",
      "Requirement already satisfied: pyobjc-framework-MLCompute==10.3.1 in /Library/Frameworks/Python.framework/Versions/3.11/lib/python3.11/site-packages (from pyobjc>=2.4->pyttsx3) (10.3.1)\n",
      "Requirement already satisfied: pyobjc-framework-PassKit==10.3.1 in /Library/Frameworks/Python.framework/Versions/3.11/lib/python3.11/site-packages (from pyobjc>=2.4->pyttsx3) (10.3.1)\n",
      "Requirement already satisfied: pyobjc-framework-ReplayKit==10.3.1 in /Library/Frameworks/Python.framework/Versions/3.11/lib/python3.11/site-packages (from pyobjc>=2.4->pyttsx3) (10.3.1)\n",
      "Requirement already satisfied: pyobjc-framework-ScreenTime==10.3.1 in /Library/Frameworks/Python.framework/Versions/3.11/lib/python3.11/site-packages (from pyobjc>=2.4->pyttsx3) (10.3.1)\n",
      "Requirement already satisfied: pyobjc-framework-UniformTypeIdentifiers==10.3.1 in /Library/Frameworks/Python.framework/Versions/3.11/lib/python3.11/site-packages (from pyobjc>=2.4->pyttsx3) (10.3.1)\n",
      "Requirement already satisfied: pyobjc-framework-UserNotificationsUI==10.3.1 in /Library/Frameworks/Python.framework/Versions/3.11/lib/python3.11/site-packages (from pyobjc>=2.4->pyttsx3) (10.3.1)\n",
      "Requirement already satisfied: pyobjc-framework-Virtualization==10.3.1 in /Library/Frameworks/Python.framework/Versions/3.11/lib/python3.11/site-packages (from pyobjc>=2.4->pyttsx3) (10.3.1)\n",
      "Requirement already satisfied: pyobjc-framework-DataDetection==10.3.1 in /Library/Frameworks/Python.framework/Versions/3.11/lib/python3.11/site-packages (from pyobjc>=2.4->pyttsx3) (10.3.1)\n",
      "Requirement already satisfied: pyobjc-framework-IntentsUI==10.3.1 in /Library/Frameworks/Python.framework/Versions/3.11/lib/python3.11/site-packages (from pyobjc>=2.4->pyttsx3) (10.3.1)\n",
      "Requirement already satisfied: pyobjc-framework-LocalAuthenticationEmbeddedUI==10.3.1 in /Library/Frameworks/Python.framework/Versions/3.11/lib/python3.11/site-packages (from pyobjc>=2.4->pyttsx3) (10.3.1)\n",
      "Requirement already satisfied: pyobjc-framework-MailKit==10.3.1 in /Library/Frameworks/Python.framework/Versions/3.11/lib/python3.11/site-packages (from pyobjc>=2.4->pyttsx3) (10.3.1)\n",
      "Requirement already satisfied: pyobjc-framework-MetricKit==10.3.1 in /Library/Frameworks/Python.framework/Versions/3.11/lib/python3.11/site-packages (from pyobjc>=2.4->pyttsx3) (10.3.1)\n",
      "Requirement already satisfied: pyobjc-framework-PHASE==10.3.1 in /Library/Frameworks/Python.framework/Versions/3.11/lib/python3.11/site-packages (from pyobjc>=2.4->pyttsx3) (10.3.1)\n",
      "Requirement already satisfied: pyobjc-framework-ShazamKit==10.3.1 in /Library/Frameworks/Python.framework/Versions/3.11/lib/python3.11/site-packages (from pyobjc>=2.4->pyttsx3) (10.3.1)\n",
      "Requirement already satisfied: pyobjc-framework-ScreenCaptureKit==10.3.1 in /Library/Frameworks/Python.framework/Versions/3.11/lib/python3.11/site-packages (from pyobjc>=2.4->pyttsx3) (10.3.1)\n",
      "Requirement already satisfied: pyobjc-framework-AVRouting==10.3.1 in /Library/Frameworks/Python.framework/Versions/3.11/lib/python3.11/site-packages (from pyobjc>=2.4->pyttsx3) (10.3.1)\n",
      "Requirement already satisfied: pyobjc-framework-BackgroundAssets==10.3.1 in /Library/Frameworks/Python.framework/Versions/3.11/lib/python3.11/site-packages (from pyobjc>=2.4->pyttsx3) (10.3.1)\n",
      "Requirement already satisfied: pyobjc-framework-ExtensionKit==10.3.1 in /Library/Frameworks/Python.framework/Versions/3.11/lib/python3.11/site-packages (from pyobjc>=2.4->pyttsx3) (10.3.1)\n",
      "Requirement already satisfied: pyobjc-framework-HealthKit==10.3.1 in /Library/Frameworks/Python.framework/Versions/3.11/lib/python3.11/site-packages (from pyobjc>=2.4->pyttsx3) (10.3.1)\n",
      "Requirement already satisfied: pyobjc-framework-MetalFX==10.3.1 in /Library/Frameworks/Python.framework/Versions/3.11/lib/python3.11/site-packages (from pyobjc>=2.4->pyttsx3) (10.3.1)\n",
      "Requirement already satisfied: pyobjc-framework-SafetyKit==10.3.1 in /Library/Frameworks/Python.framework/Versions/3.11/lib/python3.11/site-packages (from pyobjc>=2.4->pyttsx3) (10.3.1)\n",
      "Requirement already satisfied: pyobjc-framework-SharedWithYouCore==10.3.1 in /Library/Frameworks/Python.framework/Versions/3.11/lib/python3.11/site-packages (from pyobjc>=2.4->pyttsx3) (10.3.1)\n",
      "Requirement already satisfied: pyobjc-framework-SharedWithYou==10.3.1 in /Library/Frameworks/Python.framework/Versions/3.11/lib/python3.11/site-packages (from pyobjc>=2.4->pyttsx3) (10.3.1)\n",
      "Requirement already satisfied: pyobjc-framework-ThreadNetwork==10.3.1 in /Library/Frameworks/Python.framework/Versions/3.11/lib/python3.11/site-packages (from pyobjc>=2.4->pyttsx3) (10.3.1)\n",
      "Requirement already satisfied: pyobjc-framework-Cinematic==10.3.1 in /Library/Frameworks/Python.framework/Versions/3.11/lib/python3.11/site-packages (from pyobjc>=2.4->pyttsx3) (10.3.1)\n",
      "Requirement already satisfied: pyobjc-framework-SensitiveContentAnalysis==10.3.1 in /Library/Frameworks/Python.framework/Versions/3.11/lib/python3.11/site-packages (from pyobjc>=2.4->pyttsx3) (10.3.1)\n",
      "Requirement already satisfied: pyobjc-framework-Symbols==10.3.1 in /Library/Frameworks/Python.framework/Versions/3.11/lib/python3.11/site-packages (from pyobjc>=2.4->pyttsx3) (10.3.1)\n",
      "Requirement already satisfied: pyobjc-framework-BrowserEngineKit==10.3.1 in /Library/Frameworks/Python.framework/Versions/3.11/lib/python3.11/site-packages (from pyobjc>=2.4->pyttsx3) (10.3.1)\n",
      "Requirement already satisfied: pyobjc-framework-CalendarStore==10.3.1 in /Library/Frameworks/Python.framework/Versions/3.11/lib/python3.11/site-packages (from pyobjc>=2.4->pyttsx3) (10.3.1)\n",
      "Requirement already satisfied: pyobjc-framework-Collaboration==10.3.1 in /Library/Frameworks/Python.framework/Versions/3.11/lib/python3.11/site-packages (from pyobjc>=2.4->pyttsx3) (10.3.1)\n",
      "Requirement already satisfied: pyobjc-framework-DictionaryServices==10.3.1 in /Library/Frameworks/Python.framework/Versions/3.11/lib/python3.11/site-packages (from pyobjc>=2.4->pyttsx3) (10.3.1)\n",
      "Requirement already satisfied: pyobjc-framework-FSEvents==10.3.1 in /Library/Frameworks/Python.framework/Versions/3.11/lib/python3.11/site-packages (from pyobjc>=2.4->pyttsx3) (10.3.1)\n",
      "Requirement already satisfied: pyobjc-framework-InputMethodKit==10.3.1 in /Library/Frameworks/Python.framework/Versions/3.11/lib/python3.11/site-packages (from pyobjc>=2.4->pyttsx3) (10.3.1)\n",
      "Requirement already satisfied: pyobjc-framework-InstantMessage==10.3.1 in /Library/Frameworks/Python.framework/Versions/3.11/lib/python3.11/site-packages (from pyobjc>=2.4->pyttsx3) (10.3.1)\n",
      "Requirement already satisfied: pyobjc-framework-ScriptingBridge==10.3.1 in /Library/Frameworks/Python.framework/Versions/3.11/lib/python3.11/site-packages (from pyobjc>=2.4->pyttsx3) (10.3.1)\n",
      "Requirement already satisfied: charset-normalizer<4,>=2 in /Library/Frameworks/Python.framework/Versions/3.11/lib/python3.11/site-packages (from requests<3.0.0,>=2.13.0->spacy) (3.3.2)\n",
      "Requirement already satisfied: idna<4,>=2.5 in /Library/Frameworks/Python.framework/Versions/3.11/lib/python3.11/site-packages (from requests<3.0.0,>=2.13.0->spacy) (3.6)\n",
      "Requirement already satisfied: urllib3<3,>=1.21.1 in /Library/Frameworks/Python.framework/Versions/3.11/lib/python3.11/site-packages (from requests<3.0.0,>=2.13.0->spacy) (2.1.0)\n",
      "Requirement already satisfied: certifi>=2017.4.17 in /Library/Frameworks/Python.framework/Versions/3.11/lib/python3.11/site-packages (from requests<3.0.0,>=2.13.0->spacy) (2024.2.2)\n",
      "Requirement already satisfied: scipy in /Library/Frameworks/Python.framework/Versions/3.11/lib/python3.11/site-packages (from sentence-transformers>=3->sentence-transformers[train]>=3->setfit) (1.14.1)\n",
      "Requirement already satisfied: Pillow in /Library/Frameworks/Python.framework/Versions/3.11/lib/python3.11/site-packages (from sentence-transformers>=3->sentence-transformers[train]>=3->setfit) (10.1.0)\n",
      "Requirement already satisfied: accelerate>=0.20.3 in /Library/Frameworks/Python.framework/Versions/3.11/lib/python3.11/site-packages (from sentence-transformers[train]>=3->setfit) (1.0.1)\n",
      "Requirement already satisfied: blis<1.1.0,>=1.0.0 in /Library/Frameworks/Python.framework/Versions/3.11/lib/python3.11/site-packages (from thinc<8.4.0,>=8.3.0->spacy) (1.0.1)\n",
      "Requirement already satisfied: confection<1.0.0,>=0.0.1 in /Library/Frameworks/Python.framework/Versions/3.11/lib/python3.11/site-packages (from thinc<8.4.0,>=8.3.0->spacy) (0.1.5)\n",
      "Requirement already satisfied: sympy in /Library/Frameworks/Python.framework/Versions/3.11/lib/python3.11/site-packages (from torch->openai-whisper) (1.12)\n",
      "Requirement already satisfied: networkx in /Library/Frameworks/Python.framework/Versions/3.11/lib/python3.11/site-packages (from torch->openai-whisper) (3.2.1)\n",
      "Requirement already satisfied: regex!=2019.12.17 in /Library/Frameworks/Python.framework/Versions/3.11/lib/python3.11/site-packages (from transformers>=4.41.0->setfit) (2023.12.25)\n",
      "Requirement already satisfied: safetensors>=0.4.1 in /Library/Frameworks/Python.framework/Versions/3.11/lib/python3.11/site-packages (from transformers>=4.41.0->setfit) (0.4.5)\n",
      "Requirement already satisfied: tokenizers<0.21,>=0.20 in /Library/Frameworks/Python.framework/Versions/3.11/lib/python3.11/site-packages (from transformers>=4.41.0->setfit) (0.20.1)\n",
      "Requirement already satisfied: click>=8.0.0 in /Library/Frameworks/Python.framework/Versions/3.11/lib/python3.11/site-packages (from typer<1.0.0,>=0.3.0->spacy) (8.1.7)\n",
      "Requirement already satisfied: shellingham>=1.3.0 in /Library/Frameworks/Python.framework/Versions/3.11/lib/python3.11/site-packages (from typer<1.0.0,>=0.3.0->spacy) (1.5.4)\n",
      "Requirement already satisfied: rich>=10.11.0 in /Library/Frameworks/Python.framework/Versions/3.11/lib/python3.11/site-packages (from typer<1.0.0,>=0.3.0->spacy) (13.7.0)\n",
      "Requirement already satisfied: cloudpathlib<1.0.0,>=0.7.0 in /Library/Frameworks/Python.framework/Versions/3.11/lib/python3.11/site-packages (from weasel<0.5.0,>=0.1.0->spacy) (0.20.0)\n",
      "Requirement already satisfied: smart-open<8.0.0,>=5.2.1 in /Library/Frameworks/Python.framework/Versions/3.11/lib/python3.11/site-packages (from weasel<0.5.0,>=0.1.0->spacy) (7.0.5)\n",
      "Requirement already satisfied: MarkupSafe>=2.0 in /Library/Frameworks/Python.framework/Versions/3.11/lib/python3.11/site-packages (from jinja2->spacy) (2.1.3)\n",
      "Requirement already satisfied: llvmlite<0.44,>=0.43.0dev0 in /Library/Frameworks/Python.framework/Versions/3.11/lib/python3.11/site-packages (from numba->openai-whisper) (0.43.0)\n",
      "Requirement already satisfied: joblib>=1.2.0 in /Library/Frameworks/Python.framework/Versions/3.11/lib/python3.11/site-packages (from scikit-learn->setfit) (1.3.2)\n",
      "Requirement already satisfied: threadpoolctl>=3.1.0 in /Library/Frameworks/Python.framework/Versions/3.11/lib/python3.11/site-packages (from scikit-learn->setfit) (3.2.0)\n",
      "Requirement already satisfied: psutil in /Users/gabrieledurante/Library/Python/3.11/lib/python/site-packages (from accelerate>=0.20.3->sentence-transformers[train]>=3->setfit) (5.9.8)\n",
      "Requirement already satisfied: aiosignal>=1.1.2 in /Library/Frameworks/Python.framework/Versions/3.11/lib/python3.11/site-packages (from aiohttp->datasets>=2.15.0->setfit) (1.3.1)\n",
      "Requirement already satisfied: attrs>=17.3.0 in /Library/Frameworks/Python.framework/Versions/3.11/lib/python3.11/site-packages (from aiohttp->datasets>=2.15.0->setfit) (23.1.0)\n",
      "Requirement already satisfied: frozenlist>=1.1.1 in /Library/Frameworks/Python.framework/Versions/3.11/lib/python3.11/site-packages (from aiohttp->datasets>=2.15.0->setfit) (1.4.1)\n",
      "Requirement already satisfied: multidict<7.0,>=4.5 in /Library/Frameworks/Python.framework/Versions/3.11/lib/python3.11/site-packages (from aiohttp->datasets>=2.15.0->setfit) (6.0.5)\n",
      "Requirement already satisfied: yarl<2.0,>=1.0 in /Library/Frameworks/Python.framework/Versions/3.11/lib/python3.11/site-packages (from aiohttp->datasets>=2.15.0->setfit) (1.9.4)\n",
      "Requirement already satisfied: parso<0.9.0,>=0.8.3 in /Users/gabrieledurante/Library/Python/3.11/lib/python/site-packages (from jedi>=0.16->ipython>=6.1.0->ipywidgets) (0.8.4)\n",
      "Requirement already satisfied: marisa-trie>=0.7.7 in /Library/Frameworks/Python.framework/Versions/3.11/lib/python3.11/site-packages (from language-data>=1.2->langcodes<4.0.0,>=3.2.0->spacy) (1.2.1)\n",
      "Requirement already satisfied: ptyprocess>=0.5 in /Users/gabrieledurante/Library/Python/3.11/lib/python/site-packages (from pexpect>4.3->ipython>=6.1.0->ipywidgets) (0.7.0)\n",
      "Requirement already satisfied: wcwidth in /Users/gabrieledurante/Library/Python/3.11/lib/python/site-packages (from prompt-toolkit<3.1.0,>=3.0.41->ipython>=6.1.0->ipywidgets) (0.2.13)\n",
      "Requirement already satisfied: markdown-it-py>=2.2.0 in /Library/Frameworks/Python.framework/Versions/3.11/lib/python3.11/site-packages (from rich>=10.11.0->typer<1.0.0,>=0.3.0->spacy) (3.0.0)\n",
      "Requirement already satisfied: wrapt in /Library/Frameworks/Python.framework/Versions/3.11/lib/python3.11/site-packages (from smart-open<8.0.0,>=5.2.1->weasel<0.5.0,>=0.1.0->spacy) (1.16.0)\n",
      "Requirement already satisfied: python-dateutil>=2.8.2 in /Users/gabrieledurante/Library/Python/3.11/lib/python/site-packages (from pandas->datasets>=2.15.0->setfit) (2.9.0.post0)\n",
      "Requirement already satisfied: pytz>=2020.1 in /Library/Frameworks/Python.framework/Versions/3.11/lib/python3.11/site-packages (from pandas->datasets>=2.15.0->setfit) (2023.3.post1)\n",
      "Requirement already satisfied: tzdata>=2022.7 in /Library/Frameworks/Python.framework/Versions/3.11/lib/python3.11/site-packages (from pandas->datasets>=2.15.0->setfit) (2023.3)\n",
      "Requirement already satisfied: executing>=1.2.0 in /Users/gabrieledurante/Library/Python/3.11/lib/python/site-packages (from stack-data->ipython>=6.1.0->ipywidgets) (2.0.1)\n",
      "Requirement already satisfied: asttokens>=2.1.0 in /Users/gabrieledurante/Library/Python/3.11/lib/python/site-packages (from stack-data->ipython>=6.1.0->ipywidgets) (2.4.1)\n",
      "Requirement already satisfied: pure-eval in /Users/gabrieledurante/Library/Python/3.11/lib/python/site-packages (from stack-data->ipython>=6.1.0->ipywidgets) (0.2.2)\n",
      "Requirement already satisfied: mpmath>=0.19 in /Library/Frameworks/Python.framework/Versions/3.11/lib/python3.11/site-packages (from sympy->torch->openai-whisper) (1.3.0)\n",
      "Requirement already satisfied: six>=1.12.0 in /Users/gabrieledurante/Library/Python/3.11/lib/python/site-packages (from asttokens>=2.1.0->stack-data->ipython>=6.1.0->ipywidgets) (1.16.0)\n",
      "Requirement already satisfied: mdurl~=0.1 in /Library/Frameworks/Python.framework/Versions/3.11/lib/python3.11/site-packages (from markdown-it-py>=2.2.0->rich>=10.11.0->typer<1.0.0,>=0.3.0->spacy) (0.1.2)\n",
      "Note: you may need to restart the kernel to use updated packages.\n",
      "\n",
      "A module that was compiled using NumPy 1.x cannot be run in\n",
      "NumPy 2.0.2 as it may crash. To support both 1.x and 2.x\n",
      "versions of NumPy, modules must be compiled with NumPy 2.0.\n",
      "Some module may need to rebuild instead e.g. with 'pybind11>=2.12'.\n",
      "\n",
      "If you are a user of the module, the easiest solution will be to\n",
      "downgrade to 'numpy<2' or try to upgrade the affected module.\n",
      "We expect that some modules will need time to support NumPy 2.\n",
      "\n",
      "Traceback (most recent call last):  File \"<frozen runpy>\", line 189, in _run_module_as_main\n",
      "  File \"<frozen runpy>\", line 148, in _get_module_details\n",
      "  File \"<frozen runpy>\", line 112, in _get_module_details\n",
      "  File \"/Applications/anaconda3/lib/python3.12/site-packages/spacy/__init__.py\", line 6, in <module>\n",
      "    from .errors import setup_default_warnings\n",
      "  File \"/Applications/anaconda3/lib/python3.12/site-packages/spacy/errors.py\", line 3, in <module>\n",
      "    from .compat import Literal\n",
      "  File \"/Applications/anaconda3/lib/python3.12/site-packages/spacy/compat.py\", line 4, in <module>\n",
      "    from thinc.util import copy_array\n",
      "  File \"/Applications/anaconda3/lib/python3.12/site-packages/thinc/__init__.py\", line 5, in <module>\n",
      "    from .config import registry\n",
      "  File \"/Applications/anaconda3/lib/python3.12/site-packages/thinc/config.py\", line 5, in <module>\n",
      "    from .types import Decorator\n",
      "  File \"/Applications/anaconda3/lib/python3.12/site-packages/thinc/types.py\", line 25, in <module>\n",
      "    from .compat import cupy, has_cupy\n",
      "  File \"/Applications/anaconda3/lib/python3.12/site-packages/thinc/compat.py\", line 35, in <module>\n",
      "    import torch\n",
      "  File \"/Applications/anaconda3/lib/python3.12/site-packages/torch/__init__.py\", line 1477, in <module>\n",
      "    from .functional import *  # noqa: F403\n",
      "  File \"/Applications/anaconda3/lib/python3.12/site-packages/torch/functional.py\", line 9, in <module>\n",
      "    import torch.nn.functional as F\n",
      "  File \"/Applications/anaconda3/lib/python3.12/site-packages/torch/nn/__init__.py\", line 1, in <module>\n",
      "    from .modules import *  # noqa: F403\n",
      "  File \"/Applications/anaconda3/lib/python3.12/site-packages/torch/nn/modules/__init__.py\", line 35, in <module>\n",
      "    from .transformer import TransformerEncoder, TransformerDecoder, \\\n",
      "  File \"/Applications/anaconda3/lib/python3.12/site-packages/torch/nn/modules/transformer.py\", line 20, in <module>\n",
      "    device: torch.device = torch.device(torch._C._get_default_device()),  # torch.device('cpu'),\n",
      "/Applications/anaconda3/lib/python3.12/site-packages/torch/nn/modules/transformer.py:20: UserWarning: Failed to initialize NumPy: _ARRAY_API not found (Triggered internally at /Users/runner/work/pytorch/pytorch/pytorch/torch/csrc/utils/tensor_numpy.cpp:84.)\n",
      "  device: torch.device = torch.device(torch._C._get_default_device()),  # torch.device('cpu'),\n",
      "Traceback (most recent call last):\n",
      "  File \"<frozen runpy>\", line 189, in _run_module_as_main\n",
      "  File \"<frozen runpy>\", line 148, in _get_module_details\n",
      "  File \"<frozen runpy>\", line 112, in _get_module_details\n",
      "  File \"/Applications/anaconda3/lib/python3.12/site-packages/spacy/__init__.py\", line 6, in <module>\n",
      "    from .errors import setup_default_warnings\n",
      "  File \"/Applications/anaconda3/lib/python3.12/site-packages/spacy/errors.py\", line 3, in <module>\n",
      "    from .compat import Literal\n",
      "  File \"/Applications/anaconda3/lib/python3.12/site-packages/spacy/compat.py\", line 4, in <module>\n",
      "    from thinc.util import copy_array\n",
      "  File \"/Applications/anaconda3/lib/python3.12/site-packages/thinc/__init__.py\", line 5, in <module>\n",
      "    from .config import registry\n",
      "  File \"/Applications/anaconda3/lib/python3.12/site-packages/thinc/config.py\", line 5, in <module>\n",
      "    from .types import Decorator\n",
      "  File \"/Applications/anaconda3/lib/python3.12/site-packages/thinc/types.py\", line 25, in <module>\n",
      "    from .compat import cupy, has_cupy\n",
      "  File \"/Applications/anaconda3/lib/python3.12/site-packages/thinc/compat.py\", line 99, in <module>\n",
      "    import h5py\n",
      "  File \"/Applications/anaconda3/lib/python3.12/site-packages/h5py/__init__.py\", line 45, in <module>\n",
      "    from ._conv import register_converters as _register_converters, \\\n",
      "  File \"h5py/_conv.pyx\", line 1, in init h5py._conv\n",
      "  File \"h5py/h5r.pyx\", line 1, in init h5py.h5r\n",
      "  File \"h5py/h5p.pyx\", line 1, in init h5py.h5p\n",
      "ValueError: numpy.dtype size changed, may indicate binary incompatibility. Expected 96 from C header, got 88 from PyObject\n"
     ]
    }
   ],
   "source": [
    "%pip install ipywidgets pyaudio openai-whisper pyttsx3 setfit spacy jellyfish\n",
    "!python -m spacy download en_core_web_sm"
   ]
  },
  {
   "cell_type": "markdown",
   "metadata": {},
   "source": [
    "The code for the simulated elevator is provided below. The elevator is displayed using simple widgets (where the current floor is shown in green). "
   ]
  },
  {
   "cell_type": "code",
   "execution_count": 3,
   "metadata": {},
   "outputs": [],
   "source": [
    "import ipywidgets as widgets\n",
    "from IPython.display import display\n",
    "\n",
    "import time, random, string, threading\n",
    "from typing import List, Tuple, Dict, Set\n",
    "\n",
    "class BasicElevator:\n",
    "    \"\"\"Elevator simulated using a GUI\"\"\"\n",
    "    \n",
    "    def __init__(self, start_floor:int =1, nb_floors=10):\n",
    "        \"\"\"Initialised a new elevator, placed on the first floor\"\"\"\n",
    "        \n",
    "        # Current floor of the elevator\n",
    "        self.cur_floor: int = start_floor\n",
    "\n",
    "        # (Possibly empty) list of next floor stops to reach \n",
    "        self.next_stops : List[int] = []\n",
    "        \n",
    "        # Building the basic GUI showing the elevator\n",
    "        display(self._build_gui(nb_floors))\n",
    "\n",
    "        # Starts the thread executing the movements\n",
    "        thread = threading.Thread(target=self.elevator_move_thread)\n",
    "        thread.start()     \n",
    "            \n",
    "    def move_to_floor(self, floor_number : int):\n",
    "        \"\"\"Move to a given floor (by adding it to a stack of floors to reach)\"\"\"\n",
    "        \n",
    "        if floor_number < 1 or floor_number > len(self.floors):\n",
    "            raise RuntimeError(\"Floor number must be between 1 and %i\"%len(self.floors))\n",
    "\n",
    "        self.next_stops.append(floor_number)\n",
    "        \n",
    "        \n",
    "    def stop(self):\n",
    "        \"\"\"Stops all movements of the elevator\"\"\"\n",
    "        self.next_stops.clear()\n",
    "\n",
    "    def _build_gui(self, nb_floors):\n",
    "        \"\"\"Creates the GUI for the elevator, with a status label and a visual representation\n",
    "        of the floors, where the current floor is indicated in green.\"\"\"\n",
    "\n",
    "        # Displaying the current status of the elevator (still or going up or down)\n",
    "        status_label = widgets.HTML(\"<b>Status</b>: \")\n",
    "        self.status = widgets.Label(\"Still\")\n",
    "        status_box = widgets.HBox([status_label, self.status])\n",
    "\n",
    "        # Displaying the floors on a vertical axis\n",
    "        self.floors = []\n",
    "        floor_layout = widgets.Layout(width='50px', height='30px', border='2px solid black',justify_content=\"center\")\n",
    "        for i in range(1, nb_floors+1):\n",
    "            floor = widgets.Label(value=str(i), layout=floor_layout)\n",
    "            floor.style = {\"background\":(\"white\" if i!=self.cur_floor else \"lightgreen\")}\n",
    "            self.floors.append(floor)\n",
    "\n",
    "        # Create a vertical box container to hold the boxes\n",
    "        vbox = widgets.VBox([status_box] + self.floors[::-1])\n",
    "        return vbox\n",
    "    \n",
    "\n",
    "    def elevator_move_thread(self, speed=1.0, latency=0.1):\n",
    "        \"\"\"Trigger a movement of the elevator if the list of next stops is not \n",
    "        empty. The movement continues until all goals are reached.\"\"\"\n",
    "\n",
    "        while True:\n",
    "            while self.next_stops:\n",
    "                if self.cur_floor == self.next_stops[0]:\n",
    "                    del self.next_stops[0]\n",
    "                    continue\n",
    "                if self.cur_floor < self.next_stops[0]:\n",
    "                    next_floor = self.cur_floor+1\n",
    "                    self.status.value = \"UP\"\n",
    "                elif self.cur_floor > self.next_stops[0]:\n",
    "                    next_floor = self.cur_floor-1\n",
    "                    self.status.value = \"DOWN\"\n",
    "                time.sleep(speed)   \n",
    "                self.floors[self.cur_floor-1].style.background = \"white\"\n",
    "                self.floors[next_floor-1].style.background = \"lightgreen\"\n",
    "                self.cur_floor = next_floor\n",
    "            self.status.value = \"Still\"\n",
    "            \n",
    "            # Wait loop (until we have a goal in self.next_stops)\n",
    "            time.sleep(latency)"
   ]
  },
  {
   "cell_type": "markdown",
   "metadata": {},
   "source": [
    "The elevator can be easily controlled through the functions `move_to_floor` and `stop`:"
   ]
  },
  {
   "cell_type": "code",
   "execution_count": 4,
   "metadata": {},
   "outputs": [
    {
     "data": {
      "application/vnd.jupyter.widget-view+json": {
       "model_id": "9c549279962e4a2d8310b31c37a42cc4",
       "version_major": 2,
       "version_minor": 0
      },
      "text/plain": [
       "VBox(children=(HBox(children=(HTML(value='<b>Status</b>: '), Label(value='Still'))), Label(value='10', layout=…"
      ]
     },
     "metadata": {},
     "output_type": "display_data"
    }
   ],
   "source": [
    "elevator = BasicElevator()\n",
    "elevator.move_to_floor(5)"
   ]
  },
  {
   "cell_type": "markdown",
   "metadata": {},
   "source": [
    "We will now make our elevator controllable through a speech interface instead of using function calls.\n",
    "\n",
    "## Speech interface\n",
    "\n",
    "First, make sure that you have installed `pyaudio` (for audio processing), `whisper` (for speech recognition), and `pyttsx3` (for speech synthesis).\n",
    "\n",
    "The `TalkingElevator` class below extends the basic simulated elevator with speech input and output. \n",
    "\n",
    "Upon clicking on the recording button, speech is recorded from the user's microphone, and continues until the stop button is clicked. The speech recognition engine `Whisper` from OpenAI is then employed to transcribe the spoken input (either on GPU, if you have a GPU on your machine, or on CPU). The transcription result is then sent to the `process_input` function, which is responsible for determining the system response. \n",
    "\n",
    "We are going to focus on implementing this `process_input` method. Note this system reaction to new user inputs may comprise both verbal responses (to be uttered by the system through the `_say_to_user` method) and physical actions (through the `move_to_floor` and `stop` methods)."
   ]
  },
  {
   "cell_type": "code",
   "execution_count": 5,
   "metadata": {},
   "outputs": [
    {
     "name": "stderr",
     "output_type": "stream",
     "text": [
      "\n",
      "A module that was compiled using NumPy 1.x cannot be run in\n",
      "NumPy 2.0.2 as it may crash. To support both 1.x and 2.x\n",
      "versions of NumPy, modules must be compiled with NumPy 2.0.\n",
      "Some module may need to rebuild instead e.g. with 'pybind11>=2.12'.\n",
      "\n",
      "If you are a user of the module, the easiest solution will be to\n",
      "downgrade to 'numpy<2' or try to upgrade the affected module.\n",
      "We expect that some modules will need time to support NumPy 2.\n",
      "\n",
      "Traceback (most recent call last):  File \"<frozen runpy>\", line 198, in _run_module_as_main\n",
      "  File \"<frozen runpy>\", line 88, in _run_code\n",
      "  File \"/Users/gabrieledurante/Library/Python/3.11/lib/python/site-packages/ipykernel_launcher.py\", line 18, in <module>\n",
      "    app.launch_new_instance()\n",
      "  File \"/Users/gabrieledurante/Library/Python/3.11/lib/python/site-packages/traitlets/config/application.py\", line 1075, in launch_instance\n",
      "    app.start()\n",
      "  File \"/Users/gabrieledurante/Library/Python/3.11/lib/python/site-packages/ipykernel/kernelapp.py\", line 739, in start\n",
      "    self.io_loop.start()\n",
      "  File \"/Users/gabrieledurante/Library/Python/3.11/lib/python/site-packages/tornado/platform/asyncio.py\", line 205, in start\n",
      "    self.asyncio_loop.run_forever()\n",
      "  File \"/Library/Frameworks/Python.framework/Versions/3.11/lib/python3.11/asyncio/base_events.py\", line 604, in run_forever\n",
      "    self._run_once()\n",
      "  File \"/Library/Frameworks/Python.framework/Versions/3.11/lib/python3.11/asyncio/base_events.py\", line 1909, in _run_once\n",
      "    handle._run()\n",
      "  File \"/Library/Frameworks/Python.framework/Versions/3.11/lib/python3.11/asyncio/events.py\", line 80, in _run\n",
      "    self._context.run(self._callback, *self._args)\n",
      "  File \"/Users/gabrieledurante/Library/Python/3.11/lib/python/site-packages/ipykernel/kernelbase.py\", line 545, in dispatch_queue\n",
      "    await self.process_one()\n",
      "  File \"/Users/gabrieledurante/Library/Python/3.11/lib/python/site-packages/ipykernel/kernelbase.py\", line 534, in process_one\n",
      "    await dispatch(*args)\n",
      "  File \"/Users/gabrieledurante/Library/Python/3.11/lib/python/site-packages/ipykernel/kernelbase.py\", line 437, in dispatch_shell\n",
      "    await result\n",
      "  File \"/Users/gabrieledurante/Library/Python/3.11/lib/python/site-packages/ipykernel/ipkernel.py\", line 362, in execute_request\n",
      "    await super().execute_request(stream, ident, parent)\n",
      "  File \"/Users/gabrieledurante/Library/Python/3.11/lib/python/site-packages/ipykernel/kernelbase.py\", line 778, in execute_request\n",
      "    reply_content = await reply_content\n",
      "  File \"/Users/gabrieledurante/Library/Python/3.11/lib/python/site-packages/ipykernel/ipkernel.py\", line 449, in do_execute\n",
      "    res = shell.run_cell(\n",
      "  File \"/Users/gabrieledurante/Library/Python/3.11/lib/python/site-packages/ipykernel/zmqshell.py\", line 549, in run_cell\n",
      "    return super().run_cell(*args, **kwargs)\n",
      "  File \"/Users/gabrieledurante/Library/Python/3.11/lib/python/site-packages/IPython/core/interactiveshell.py\", line 3075, in run_cell\n",
      "    result = self._run_cell(\n",
      "  File \"/Users/gabrieledurante/Library/Python/3.11/lib/python/site-packages/IPython/core/interactiveshell.py\", line 3130, in _run_cell\n",
      "    result = runner(coro)\n",
      "  File \"/Users/gabrieledurante/Library/Python/3.11/lib/python/site-packages/IPython/core/async_helpers.py\", line 129, in _pseudo_sync_runner\n",
      "    coro.send(None)\n",
      "  File \"/Users/gabrieledurante/Library/Python/3.11/lib/python/site-packages/IPython/core/interactiveshell.py\", line 3334, in run_cell_async\n",
      "    has_raised = await self.run_ast_nodes(code_ast.body, cell_name,\n",
      "  File \"/Users/gabrieledurante/Library/Python/3.11/lib/python/site-packages/IPython/core/interactiveshell.py\", line 3517, in run_ast_nodes\n",
      "    if await self.run_code(code, result, async_=asy):\n",
      "  File \"/Users/gabrieledurante/Library/Python/3.11/lib/python/site-packages/IPython/core/interactiveshell.py\", line 3577, in run_code\n",
      "    exec(code_obj, self.user_global_ns, self.user_ns)\n",
      "  File \"/var/folders/mh/vygn38qn06z8b_ms648150t80000gn/T/ipykernel_14185/3188518650.py\", line 4, in <module>\n",
      "    import whisper, pyaudio, pyttsx3\n",
      "  File \"/Library/Frameworks/Python.framework/Versions/3.11/lib/python3.11/site-packages/whisper/__init__.py\", line 8, in <module>\n",
      "    import torch\n",
      "  File \"/Library/Frameworks/Python.framework/Versions/3.11/lib/python3.11/site-packages/torch/__init__.py\", line 1471, in <module>\n",
      "    from .functional import *  # noqa: F403\n",
      "  File \"/Library/Frameworks/Python.framework/Versions/3.11/lib/python3.11/site-packages/torch/functional.py\", line 9, in <module>\n",
      "    import torch.nn.functional as F\n",
      "  File \"/Library/Frameworks/Python.framework/Versions/3.11/lib/python3.11/site-packages/torch/nn/__init__.py\", line 1, in <module>\n",
      "    from .modules import *  # noqa: F403\n",
      "  File \"/Library/Frameworks/Python.framework/Versions/3.11/lib/python3.11/site-packages/torch/nn/modules/__init__.py\", line 35, in <module>\n",
      "    from .transformer import TransformerEncoder, TransformerDecoder, \\\n",
      "  File \"/Library/Frameworks/Python.framework/Versions/3.11/lib/python3.11/site-packages/torch/nn/modules/transformer.py\", line 20, in <module>\n",
      "    device: torch.device = torch.device(torch._C._get_default_device()),  # torch.device('cpu'),\n",
      "/Library/Frameworks/Python.framework/Versions/3.11/lib/python3.11/site-packages/torch/nn/modules/transformer.py:20: UserWarning: Failed to initialize NumPy: _ARRAY_API not found (Triggered internally at /Users/runner/work/pytorch/pytorch/pytorch/torch/csrc/utils/tensor_numpy.cpp:84.)\n",
      "  device: torch.device = torch.device(torch._C._get_default_device()),  # torch.device('cpu'),\n"
     ]
    }
   ],
   "source": [
    "import threading, time\n",
    "import numpy as np\n",
    "from typing import List, Tuple, Dict, Set\n",
    "import whisper, pyaudio, pyttsx3\n",
    "import warnings\n",
    "warnings.simplefilter(action='ignore', category=FutureWarning)\n",
    "\n",
    "class TalkingElevator(BasicElevator):\n",
    "    \"\"\"Extension of the simulated elevator with a speech interface\"\"\"\n",
    "    \n",
    "    def __init__(self):\n",
    "        print(\"Loading TTS and ASR models\", end=\"...\", flush=True)\n",
    "        self.tts_engine = pyttsx3.init()  \n",
    "        self.asr_engine = whisper.load_model(\"small.en\")\n",
    "        print(\"Done\")\n",
    "        \n",
    "        # Initializing the GUI\n",
    "        BasicElevator.__init__(self)\n",
    "\n",
    "        # Starts the dialogue\n",
    "        self.dialogue_history = []\n",
    "        self._say_to_user(\"Hi, what can I do for you today?\")\n",
    "    \n",
    "\n",
    "    def process_input(self, user_input: str, conf_score:float=1.0):\n",
    "        \"\"\"Processes the (transcribed) user input, and respond appropriately \n",
    "        (through a verbal response and possibly also an action, such as moving floors)\"\"\"\n",
    "\n",
    "        self._add_to_dialogue_history(user_input, speaker=\"user\", conf_score=conf_score)\n",
    "\n",
    "        # Dummy response. Should be replaced by the actual dialogue behaviour\n",
    "        self._say_to_user(\"Sorry, I don't understand you, pal\")\n",
    "\n",
    "    \n",
    "    def _say_to_user(self, system_response: str):\n",
    "        \"\"\"Say something back to the user, and add the dialogue turn to the history. The \n",
    "        synthesis is done using the pyttsx3 library.\"\"\"\n",
    "\n",
    "        self._add_to_dialogue_history(system_response, speaker=\"elevator\")\n",
    "        \n",
    "        # Stopping current TTS if one is active\n",
    "        try:\n",
    "            self.tts_engine.endLoop()\n",
    "        except:\n",
    "            pass\n",
    "        self.tts_engine.say(system_response)\n",
    "        self.tts_engine.runAndWait()\n",
    "\n",
    "\n",
    "    def _add_to_dialogue_history(self, turn:str , speaker:str, conf_score:float=1.0):\n",
    "        \"\"\"Adds a new (user or system) turn to the dialogue history list, and displays it\n",
    "         on the chat window displaying the turns\"\"\"\n",
    "\n",
    "        self.dialogue_history.append({\"speaker\":speaker, \"text\":turn, \n",
    "                                      \"conf_score\":conf_score, \"timesamp\":time.time()})\n",
    "        \n",
    "        self.history_area.value += \"&nbsp;<strong>%s</strong>:  %s\"%(speaker.title(), turn)\n",
    "        if conf_score < 1.0:\n",
    "            self.history_area.value += \" (%.2f)\"%(conf_score)\n",
    "        self.history_area.value += \"<br>\"\n",
    "   \n",
    "   \n",
    "    def _build_gui(self, nb_floors):\n",
    "        \"\"\"GUI for the Talking elevator, comprising (beyond the simulated elevator from \n",
    "        BasicElevator) a chat window showing the dialogue turns, and buttons to record\n",
    "        the user input. \n",
    "        The user should first click on the record button, then on stop when they have finished.\n",
    "        Once the stop button is clicked, the audio is transcribed by Whisper, and finally \n",
    "        forwarded to the process_input function.\"\"\"\n",
    "\n",
    "        core_gui = BasicElevator._build_gui(self, nb_floors)\n",
    "\n",
    "        self.frames = []\n",
    "        self.recording = False\n",
    "\n",
    "        def record(chunk_size=1024):\n",
    "            \"\"\"Record audio chunks to a buffer.\"\"\"\n",
    "            self.recording = True\n",
    "            p = pyaudio.PyAudio()\n",
    "            stream = p.open(format=pyaudio.paInt16, channels=1, rate=16000, input=True, \n",
    "                            frames_per_buffer=chunk_size)\n",
    "            while self.recording:\n",
    "                self.frames.append(stream.read(chunk_size))\n",
    "            stream.close()\n",
    "\n",
    "        def on_record_button_clicked(b):\n",
    "            \"Starts the recording\"\n",
    "            record_button.disabled=True\n",
    "            stop_button.disabled=False\n",
    "            self.frames = []  # Clear previous recordings\n",
    "            thread = threading.Thread(target=record)\n",
    "            thread.start()\n",
    "\n",
    "        def on_stop_button_clicked(b):\n",
    "            \"stops the recording, runs Whisper, and forward the result to process_input\"\n",
    "            self.recording = False\n",
    "            record_button.disabled=False\n",
    "            stop_button.disabled=True\n",
    "            audio_data = np.frombuffer(b\"\".join(self.frames), np.int16).astype(np.float32) * (1 / 32768.0)\n",
    "            output = self.asr_engine.transcribe(audio_data)\n",
    "\n",
    "            # We define the confidence score based on the log-probabilities\n",
    "            conf_score = np.exp(np.mean([segment[\"avg_logprob\"] for segment in output[\"segments\"]]))\n",
    "            # (and we push those up a bit, as the Whisper scores seem too low)\n",
    "            conf_score = min(1, conf_score*1.2)\n",
    "\n",
    "            # Finally, we process the input\n",
    "            self.process_input(output[\"text\"], conf_score)\n",
    "\n",
    "        # The record and stop buttons\n",
    "        record_button = widgets.Button(icon=\"microphone\")\n",
    "        stop_button = widgets.Button(icon=\"stop\", disabled=True)\n",
    "        record_button.on_click(on_record_button_clicked)\n",
    "        stop_button.on_click(on_stop_button_clicked)\n",
    "        \n",
    "        # The chat area\n",
    "        self.history_area = widgets.HTML(layout=widgets.Layout(width=\"600px\", height=\"300px\", \n",
    "                                                               border='1px solid black', overflow='scroll'))\n",
    "\n",
    "        # The right side of the GUI\n",
    "        right_side = widgets.VBox([widgets.Label(\"\"), self.history_area, widgets.HBox([record_button, stop_button])])\n",
    "        \n",
    "        extended_gui = widgets.HBox([core_gui, right_side])\n",
    "        return extended_gui\n"
   ]
  },
  {
   "cell_type": "markdown",
   "metadata": {},
   "source": [
    "Let's give it a try:"
   ]
  },
  {
   "cell_type": "code",
   "execution_count": 6,
   "metadata": {},
   "outputs": [
    {
     "name": "stdout",
     "output_type": "stream",
     "text": [
      "Loading TTS and ASR models..."
     ]
    },
    {
     "ename": "RuntimeError",
     "evalue": "Numpy is not available",
     "output_type": "error",
     "traceback": [
      "\u001b[0;31m---------------------------------------------------------------------------\u001b[0m",
      "\u001b[0;31mRuntimeError\u001b[0m                              Traceback (most recent call last)",
      "Cell \u001b[0;32mIn[6], line 1\u001b[0m\n\u001b[0;32m----> 1\u001b[0m elevator \u001b[38;5;241m=\u001b[39m \u001b[43mTalkingElevator\u001b[49m\u001b[43m(\u001b[49m\u001b[43m)\u001b[49m\n",
      "Cell \u001b[0;32mIn[5], line 14\u001b[0m, in \u001b[0;36mTalkingElevator.__init__\u001b[0;34m(self)\u001b[0m\n\u001b[1;32m     12\u001b[0m \u001b[38;5;28mprint\u001b[39m(\u001b[38;5;124m\"\u001b[39m\u001b[38;5;124mLoading TTS and ASR models\u001b[39m\u001b[38;5;124m\"\u001b[39m, end\u001b[38;5;241m=\u001b[39m\u001b[38;5;124m\"\u001b[39m\u001b[38;5;124m...\u001b[39m\u001b[38;5;124m\"\u001b[39m, flush\u001b[38;5;241m=\u001b[39m\u001b[38;5;28;01mTrue\u001b[39;00m)\n\u001b[1;32m     13\u001b[0m \u001b[38;5;28mself\u001b[39m\u001b[38;5;241m.\u001b[39mtts_engine \u001b[38;5;241m=\u001b[39m pyttsx3\u001b[38;5;241m.\u001b[39minit()  \n\u001b[0;32m---> 14\u001b[0m \u001b[38;5;28mself\u001b[39m\u001b[38;5;241m.\u001b[39masr_engine \u001b[38;5;241m=\u001b[39m \u001b[43mwhisper\u001b[49m\u001b[38;5;241;43m.\u001b[39;49m\u001b[43mload_model\u001b[49m\u001b[43m(\u001b[49m\u001b[38;5;124;43m\"\u001b[39;49m\u001b[38;5;124;43msmall.en\u001b[39;49m\u001b[38;5;124;43m\"\u001b[39;49m\u001b[43m)\u001b[49m\n\u001b[1;32m     15\u001b[0m \u001b[38;5;28mprint\u001b[39m(\u001b[38;5;124m\"\u001b[39m\u001b[38;5;124mDone\u001b[39m\u001b[38;5;124m\"\u001b[39m)\n\u001b[1;32m     17\u001b[0m \u001b[38;5;66;03m# Initializing the GUI\u001b[39;00m\n",
      "File \u001b[0;32m/Library/Frameworks/Python.framework/Versions/3.11/lib/python3.11/site-packages/whisper/__init__.py:158\u001b[0m, in \u001b[0;36mload_model\u001b[0;34m(name, device, download_root, in_memory)\u001b[0m\n\u001b[1;32m    155\u001b[0m model\u001b[38;5;241m.\u001b[39mload_state_dict(checkpoint[\u001b[38;5;124m\"\u001b[39m\u001b[38;5;124mmodel_state_dict\u001b[39m\u001b[38;5;124m\"\u001b[39m])\n\u001b[1;32m    157\u001b[0m \u001b[38;5;28;01mif\u001b[39;00m alignment_heads \u001b[38;5;129;01mis\u001b[39;00m \u001b[38;5;129;01mnot\u001b[39;00m \u001b[38;5;28;01mNone\u001b[39;00m:\n\u001b[0;32m--> 158\u001b[0m     \u001b[43mmodel\u001b[49m\u001b[38;5;241;43m.\u001b[39;49m\u001b[43mset_alignment_heads\u001b[49m\u001b[43m(\u001b[49m\u001b[43malignment_heads\u001b[49m\u001b[43m)\u001b[49m\n\u001b[1;32m    160\u001b[0m \u001b[38;5;28;01mreturn\u001b[39;00m model\u001b[38;5;241m.\u001b[39mto(device)\n",
      "File \u001b[0;32m/Library/Frameworks/Python.framework/Versions/3.11/lib/python3.11/site-packages/whisper/model.py:282\u001b[0m, in \u001b[0;36mWhisper.set_alignment_heads\u001b[0;34m(self, dump)\u001b[0m\n\u001b[1;32m    278\u001b[0m \u001b[38;5;28;01mdef\u001b[39;00m \u001b[38;5;21mset_alignment_heads\u001b[39m(\u001b[38;5;28mself\u001b[39m, dump: \u001b[38;5;28mbytes\u001b[39m):\n\u001b[1;32m    279\u001b[0m     array \u001b[38;5;241m=\u001b[39m np\u001b[38;5;241m.\u001b[39mfrombuffer(\n\u001b[1;32m    280\u001b[0m         gzip\u001b[38;5;241m.\u001b[39mdecompress(base64\u001b[38;5;241m.\u001b[39mb85decode(dump)), dtype\u001b[38;5;241m=\u001b[39m\u001b[38;5;28mbool\u001b[39m\n\u001b[1;32m    281\u001b[0m     )\u001b[38;5;241m.\u001b[39mcopy()\n\u001b[0;32m--> 282\u001b[0m     mask \u001b[38;5;241m=\u001b[39m \u001b[43mtorch\u001b[49m\u001b[38;5;241;43m.\u001b[39;49m\u001b[43mfrom_numpy\u001b[49m\u001b[43m(\u001b[49m\u001b[43marray\u001b[49m\u001b[43m)\u001b[49m\u001b[38;5;241m.\u001b[39mreshape(\n\u001b[1;32m    283\u001b[0m         \u001b[38;5;28mself\u001b[39m\u001b[38;5;241m.\u001b[39mdims\u001b[38;5;241m.\u001b[39mn_text_layer, \u001b[38;5;28mself\u001b[39m\u001b[38;5;241m.\u001b[39mdims\u001b[38;5;241m.\u001b[39mn_text_head\n\u001b[1;32m    284\u001b[0m     )\n\u001b[1;32m    285\u001b[0m     \u001b[38;5;28mself\u001b[39m\u001b[38;5;241m.\u001b[39mregister_buffer(\u001b[38;5;124m\"\u001b[39m\u001b[38;5;124malignment_heads\u001b[39m\u001b[38;5;124m\"\u001b[39m, mask\u001b[38;5;241m.\u001b[39mto_sparse(), persistent\u001b[38;5;241m=\u001b[39m\u001b[38;5;28;01mFalse\u001b[39;00m)\n",
      "\u001b[0;31mRuntimeError\u001b[0m: Numpy is not available"
     ]
    }
   ],
   "source": [
    "elevator = TalkingElevator()"
   ]
  },
  {
   "cell_type": "markdown",
   "metadata": {},
   "source": [
    "We hope that the speech recognition and speech synthesis will work correctly -- if it isn't the case, do let us know ! (audio processing in Python can be quite tricky and will work differently from OS to OS). [^1]\n",
    "\n",
    "[^1]: If you are running on Linux and the TTS is not working, install the following packages on your machine: `sudo apt update && sudo apt install espeak ffmpeg libespeak1`\n",
    "\n",
    "**Note**: The current implementation reloads the TTS and ASR models every time, which means that you may run into a \"CUDA: out of memory\" error if you reinitialise the `TalkingElevator` many times. If this happens, simply restart the Python kernel, which will clear the memory on both the CPU and the GPU. "
   ]
  },
  {
   "cell_type": "markdown",
   "metadata": {},
   "source": [
    "\n",
    "### Intent recognition\n",
    "\n",
    "We wish our talking elevator to support the following functionalities:\n",
    " \n",
    "- If the user express a wish to go to floor $X$ (where $X$ is an integer value between 1 and 10), the elevator should go to that floor. The interface should allow for several ways to express a given intent, such as \"_Please go to the $X$-th floor_\" or \"_Floor $X$, please_\".\n",
    "- The user requests can also be relative, for instance \"_Go one floor up_\".\n",
    "- The elevator should provide _grounding_ feedback to the user. For instance, it should respond \"_Ok, going to the $X$-th floor_\" after a user request to move to $X$.  \n",
    "- The elevator should handle misunderstandings and uncertainties, e.g. by requesting the user to repeat, or asking the user to confirm if the intent is uncertain (say, when its confidence score is lower than 0.5). \n",
    "- The elevator should also allow the user to ask where the office of a given employee is located. For instance, the user could ask \"_where is Erik Velldal's office?_\", and the elevator would provide a response such as \"_The office of Erik Velldal is on the 4th floor. Do you wish to go there?_\".  We provide you with the office numbers of a small set of IFI employees in the `OFFICES` dictionary (see below).\n",
    "- The elevator should also be able to inform the user about the current floor (such as replying to \"_Which floor are we on?_\" or \"_Are we on the 5th floor?_\"). \n",
    "- Finally, if the user asks the elevator to stop (or if the user says \"_no_\" after a grounding feedback \"_Ok, going to floor $X$._\"), the elevator should stop, and ask for clarification regarding the actual user intent. \n",
    "\n",
    "To implement this conversational behaviour, we will rely on a classical NLU-based approach in which we will recognise the user _intent_, and then determine a response based on the recognised intent(s). \n",
    "\n",
    "__Task 1.1__ (1 point): You first need to define a list of user intents that cover the kinds of user inputs you expect to observe in this talking elevator, such as `RequestMoveToFloor` or `Confirm`. This is a design question, and there is no obvious right or wrong answer. Define below the intents you want to cover, along with an explanation and a few examples of user inputs for each.\n"
   ]
  },
  {
   "cell_type": "markdown",
   "metadata": {},
   "source": [
    "<!-- Provide here the list of intent classes you have defined, together with an explanation and a few examples -->"
   ]
  },
  {
   "cell_type": "markdown",
   "metadata": {},
   "source": [
    "__Task 1.2__ (1 points): We wish to build a classifier any user input to a probability distribution over those intents, and start by creating a small, synthetic training set. Make a list of about 100 user utterances, each labelled with an intent defined above. You can \"make up\" those utterances yourself, or ask someone else to come with alternative formulations if you lack inspiration."
   ]
  },
  {
   "cell_type": "code",
   "execution_count": 1,
   "metadata": {},
   "outputs": [],
   "source": [
    "labelled_utterances =  [(\"I really like the IN4080 course\", \"OutOfCoverage\"), #... \n",
    "                        ]"
   ]
  },
  {
   "cell_type": "markdown",
   "metadata": {},
   "source": [
    "We will now train an intent classifier based on the labelled utterances you have defined. To do so, we will rely on the [SetFit](https://huggingface.co/docs/setfit/index) library, which allows one to easily train a text classification model from few examples by fine-tuning a sentence-transformer model (like the ones we used in oblig 2 and 3). Make sure that the `setfit` library is installed (`pip install setfit`).\n",
    "\n",
    "Read the [Setfit quickstart guide](https://huggingface.co/docs/setfit/quickstart) to find out how to use the library.\n",
    "\n",
    "__Task 1.3__ (2 points): Implement the `__init__`, `train` and `get_intent_distrib` methods of the `IntentClassifier` class below. The classifier should rely on a `Setfit` model trained on the labelled utterances you have already defined. "
   ]
  },
  {
   "cell_type": "code",
   "execution_count": 19,
   "metadata": {},
   "outputs": [],
   "source": [
    "import setfit, datasets\n",
    "\n",
    "class IntentClassifier:\n",
    "\n",
    "    def __init__(self, model_name=\"sentence-transformers/paraphrase-mpnet-base-v2\"):\n",
    "        \"\"\"Initialises the setfit model that will be used for the intent recognition\"\"\"\n",
    "\n",
    "        raise NotImplementedError(\"Must be implemented\")\n",
    "    \n",
    "    def train(self, labelled_utterances: List[Tuple[str,str]]):\n",
    "        \"\"\"Trains the setfit model on the labelled utterances\"\"\"\n",
    "\n",
    "        # Creates the dataset from the list of labelled utterances\n",
    "        train_data = datasets.Dataset.from_list([{\"text\":utt, \"label\":label} \n",
    "                                                 for utt,label in labelled_utterances])\n",
    "        \n",
    "        raise NotImplementedError(\"Must be implemented\")\n",
    "    \n",
    "    def get_intent_distrib(self, utterance:str):\n",
    "        \"\"\"Applies the trained model on a new utterance. The method should return a\n",
    "        dictionary that maps each possible intent category to a probability.\"\"\"\n",
    "\n",
    "        raise NotImplementedError(\"Must be implemented\")\n"
   ]
  },
  {
   "cell_type": "code",
   "execution_count": null,
   "metadata": {},
   "outputs": [],
   "source": [
    "classifier = IntentClassifier()\n",
    "classifier.train(labelled_utterances)"
   ]
  },
  {
   "cell_type": "markdown",
   "metadata": {},
   "source": [
    "Since we don't have any test data, we cannot really conduct an evaluation of the classification performance, but this step would be of course strongly adviced when developing a real system. "
   ]
  },
  {
   "cell_type": "markdown",
   "metadata": {},
   "source": [
    "### Slot filling\n",
    "\n",
    "In addition to the intents themselves, we also wish to detect some slots, such as floor numbers or person names. For this step, we will not use a data-driven model, but rather rely on an old-fashioned, rule-based approach:\n",
    "- For floor numbers, we will rely on string matching (with regular expressions or basic string search) that detect patterns such as \"X floor\" (where X is [first,second, third, fourth, fifth, sixth, seventh, eighth, ninth, tenth]) or \"floor X\" (where X is between 1 and 10).\n",
    "- For person names, we have a predefined list of person names to detect (employees at IFI), and we should simply search for their occurrence in the user input. The simplest implementation is to just for look for exact occurrences. However, since speech recognition will often struggle to recognize foreign person names, an even better approach would be to search for names that are phonetically close (you can use the `jellyfish` library for this).\n",
    "\n",
    "The results of the slot filling should be a dictionary mapping slot names to a canonical form of the slot value. For instance, if the utterance contains the expression \"ninth floor\", the resulting slot dictionary should be `{\"floor_number\":9}`. Similarly, the `employee_name` slot should be a name present in `OFFICES` dictionary. \n",
    "\n",
    "__Task 1.4__ (2 points): Implement the method `fill_slots` that will detect the occurrence of those slots in the user input.<br>\n",
    "(+ 1 bonus point if you implement a fuzzy matching strategy to find person names that are phonetically close)"
   ]
  },
  {
   "cell_type": "code",
   "execution_count": 21,
   "metadata": {},
   "outputs": [],
   "source": [
    "\n",
    "# Floor numbers for a subset of the IFI employees\n",
    "OFFICES = {'Adín Ramírez Rivera': 4, 'Andreas Austeng': 4, 'Anne H Schistad Solberg': 4, \n",
    "           'Arild Torolv Søetorp Waaler': 9, 'Audun Jøsang': 9, 'Birthe Soppe': 4, 'Carsten Griwodz': 4,\n",
    "           'Dag Sjøberg': 9, 'Dag Trygve Eckhoff Wisland': 5, 'Einar Broch Johnsen': 8, \n",
    "           'Eric Bartley Jul': 10, 'Erik Velldal': 4, 'Henrik Skaug Sætra': 7, 'Ingrid Chieh Yu': 8,\n",
    "           'Jørn Anders Braa': 6, 'Kristin Bråthen': 4, 'Kyrre Glette': 4, 'Lars Groth': 6, \n",
    "           'Lilja Øvrelid': 4, 'Maja Van Der Velden': 7, 'Martin Giese': 9, 'Michael Welzl': 5, \n",
    "           'Miria Grisot': 6, 'Nils Gruschka': 9, 'Olaf Owe': 9, 'Ole Christian Lingjærde': 4, \n",
    "           'Ole Hanseth': 6, 'Paulo Ferreira': 10, 'Philipp Dominik Häfliger': 5, 'Philipp Häfliger': 5, \n",
    "           'Roman Vitenberg': 4, 'Silvia Lizeth Tapia Tarifa': 8, 'Stephan Oepen': 4, \n",
    "           'Sundeep Sahay': 6, 'Thomas Peter Plagemann': 4, 'Tone Bratteteig': 7, 'Torbjørn Rognes': 8, \n",
    "           'Truls Erikson': 6, 'Viktoria Stray': 10, 'Yngvar Berg': 5, 'Yves Scherrer': 4, \n",
    "           'Özgü Mira Alay-Erduran': 4}\n",
    "\n",
    "def fill_slots(user_input:str) -> Dict[str,str]:\n",
    "    \"\"\"Extracts the set of slots detected in the user inputs. More precisely, the method\n",
    "    should detect both floor numbers and person names, and return a dictionary mapping slot \n",
    "    names (in this case either `floor_number` or `employee_name`) to its corresponding\n",
    "    value, in canonical form (integer for the floor number, string for the employee name)\"\"\"\n",
    "\n",
    "    raise NotImplementedError()\n"
   ]
  },
  {
   "cell_type": "markdown",
   "metadata": {},
   "source": [
    "### Response selection\n",
    "\n",
    "The next step is to implement the response selection mechanism. The response will depend on various factors:\n",
    "- the inferred user intents from the user utterance\n",
    "- the detected slot values in the user utterance (if any)\n",
    "- the current floor\n",
    "- the list of next floor stops that are yet to be reached\n",
    "- the dialogue history (as a list of dialogue turns).\n",
    "\n",
    "The response may consist of verbal responses (enacted by calls to `_say_to_user`) but also physical actions, represented by calls to either `move_to_floor` or `stop`. \n",
    "\n",
    "__Task 1.5__ (3 points): Implement the method `_respond`, which is responsible for selecting and executing those responses. The responses should satisfy the aforementioned conversational criteria (provide grounding feedback, use confirmations and clarification requests etc.). This method will consist in practice of many _if...then...else_ blocks. "
   ]
  },
  {
   "cell_type": "code",
   "execution_count": null,
   "metadata": {},
   "outputs": [],
   "source": [
    "def _respond(self, intent_distrib: Dict[str, float], slots: Dict[str,str]) :\n",
    "    \"\"\"Given a probability distribution over possible intents, an a (possibly empty) list\n",
    "    of detected slots in the user input, decide how to react. The method should lead\n",
    "    to calls to both physical actions (move_to_floor, stop) and dialogue responses \n",
    "    (via _say_to_user).\"\"\"\n",
    "\n",
    "    raise NotImplementedError(\"\")\n",
    "\n",
    "setattr(TalkingElevator, \"_respond\", _respond)\n",
    "\n"
   ]
  },
  {
   "cell_type": "markdown",
   "metadata": {},
   "source": [
    "### Putting it all together\n",
    "\n",
    "The last step is to implement the `process_input` method in the `TalkingElevator` class. The method should rely on the intent recognition, slot filling and response selection mechanism (which you have implemented in the previous steps) to react to a given user input.\n",
    "\n",
    "**Task 1.6** (1 point): Implement the `process_input` method:"
   ]
  },
  {
   "cell_type": "code",
   "execution_count": null,
   "metadata": {},
   "outputs": [],
   "source": [
    "    \n",
    "\n",
    "def process_input(self, user_input: str, conf_score:float=1.0):\n",
    "    \"\"\"Processes the (transcribed) user input, and respond appropriately \n",
    "    (through a verbal response and possibly also an action, such as moving floors).\n",
    "    The method should rely on the intent classifier, slot-filling function, and\n",
    "    response selection function.\"\"\"\n",
    "\n",
    "    self._add_to_dialogue_history(user_input, speaker=\"user\", conf_score=conf_score)\n",
    "    raise NotImplementedError()\n",
    "\n",
    "setattr(TalkingElevator, \"process_input\", process_input)"
   ]
  },
  {
   "cell_type": "markdown",
   "metadata": {},
   "source": [
    "We are now ready to test our talking elevator: \n"
   ]
  },
  {
   "cell_type": "code",
   "execution_count": null,
   "metadata": {},
   "outputs": [],
   "source": [
    "elevator = TalkingElevator()"
   ]
  },
  {
   "cell_type": "markdown",
   "metadata": {},
   "source": [
    "Your talking elevator will mostly likely not function properly right from the start. Identify what works and what doesn't and correct the code you have developed in Tasks 1.1 - 1.6 until your system meets the specifications we have outlined. "
   ]
  },
  {
   "cell_type": "markdown",
   "metadata": {},
   "source": [
    "## Part 2 : Machine translation\n",
    "\n",
    "In this part, we evaluate a pre-trained machine translation model on data from the Lord of the Rings movies and fine-tune it to improve the translation quality.\n",
    "\n",
    "### Data\n",
    "\n",
    "We provide you with two files, `lotr.detok.de` and `lotr.detok.en`, containing German and English movie subtitles. These two files constitute a so-called _parallel corpus_, i.e. each sentence/line in German corresponds to a sentence/line in English. The two files have the same number of lines and the German sentence on line $i$ corresponds to the English sentence on line $i$. The subtitles are extracted from the [OpenSubtitles-2018](https://opus.nlpl.eu/OpenSubtitles/corpus/version/OpenSubtitles) corpus.\n",
    "\n",
    "Here are the first ten lines of the two files:\n",
    "\n",
    "<style scoped>\n",
    "table {\n",
    "  font-size: 12px;\n",
    "}\n",
    "</style>\n",
    "| Nb  | German (`lotr.detok.de`)         | English (`lotr.detok.en`)      |\n",
    "|---|----------------------------------|--------------------------------|\n",
    "| 1 | Die Welt ist im Wandel. | The world is changed.   |\n",
    "| 2 | Ich spüre es im Wasser. | I feel it in the water. |\n",
    "| 3 | Ich spüre es in der Erde. | I feel it in the earth. |\n",
    "| 4 | Ich rieche es in der Luft. | I smell it in the air. |\n",
    "| 5 | Vieles, was einst war, ist verloren, da niemand mehr lebt, der sich erinnert. | Much that once was is lost. For none now live who remember it. |\n",
    "| 6 | Es begann mit dem Schmieden der Großen Ringe. | It began with the forging of the Great Rings. |\n",
    "| 7 | 3 wurden den Elben gegeben, den unsterblichen, weisesten und reinsten aller Wesen. | Three were given to the Elves: Immortal, wisest and fairest of all beings. |\n",
    "| 8 | 7 den Zwergenherrschern, großen Bergleuten und Handwerkern in ihren Hallen aus Stein. | Seven to the Dwarf-lords: Great miners and craftsmen of the mountain halls. |\n",
    "| 9 | Und 9... 9 Ringe wurden den Menschen geschenkt, die vor allem anderen nach Macht streben. | And nine nine rings were gifted to the race of Men who, above all else, desire power. |\n",
    "| 10 | Denn diese Ringe bargen die Kraft und den Willen, jedes Volk zu leiten. | For within these rings was bound the strength and will to govern each race. |\n"
   ]
  },
  {
   "cell_type": "markdown",
   "metadata": {},
   "source": [
    "### Getting started\n",
    "\n",
    "We will a pretrained machine translation model for German-to-English translation. The model is available on the HuggingFace model hub and can be used with the `transformers` library.\n",
    "\n",
    "Let us first make sure that all required modules are installed:"
   ]
  },
  {
   "cell_type": "code",
   "execution_count": null,
   "metadata": {},
   "outputs": [],
   "source": [
    "%pip install torch transformers accelerate evaluate sacrebleu sacremoses sentencepiece unbabel-comet"
   ]
  },
  {
   "cell_type": "markdown",
   "metadata": {},
   "source": [
    "The bilingual model is called [`opus-mt-de-en`](https://huggingface.co/Helsinki-NLP/opus-mt-de-en) and has been trained by the Helsinki-NLP group. Like (almost) all HuggingFace models, it consists of a _tokenizer_ and the _sequence-to-sequence model_ properly speaking. We need to load both separately:"
   ]
  },
  {
   "cell_type": "code",
   "execution_count": null,
   "metadata": {},
   "outputs": [],
   "source": [
    "import transformers\n",
    "\n",
    "tokenizer = transformers.AutoTokenizer.from_pretrained(\"helsinki-nlp/opus-mt-de-en\")\n",
    "translator = transformers.AutoModelForSeq2SeqLM.from_pretrained(\"helsinki-nlp/opus-mt-de-en\")\n",
    "\n",
    "# Change \"cuda\" to \"cpu\" if you're running on a machine without GPU\n",
    "device = \"cuda\"\n",
    "translator = translator.to(device)"
   ]
  },
  {
   "cell_type": "markdown",
   "metadata": {},
   "source": [
    "The `transformers` library will automatically download the models from the HuggingFace hub the first time you run this cell, so it may take a bit longer.\n",
    "\n",
    "Let's take the first two German sentences, tokenize them, and translate them to English:"
   ]
  },
  {
   "cell_type": "code",
   "execution_count": null,
   "metadata": {},
   "outputs": [],
   "source": [
    "tokens = tokenizer([\"Die Welt ist im Wandel.\", \"Ich spüre es im Wasser.\"], return_tensors=\"pt\", padding=True)\n",
    "print(tokens)"
   ]
  },
  {
   "cell_type": "code",
   "execution_count": null,
   "metadata": {},
   "outputs": [],
   "source": [
    "outputs = translator.generate(**tokens.to(device), max_new_tokens=50)\n",
    "print(outputs)"
   ]
  },
  {
   "cell_type": "markdown",
   "metadata": {},
   "source": [
    "__Task 2.1__ (1 point):\n",
    "- What do the numbers in the `input_ids` represent?\n",
    "- What is the effect of `padding=True`? How would the data look like if padding was disabled?\n",
    "- What does `max_new_tokens` do? Why do you think it is important to set this parameter?"
   ]
  },
  {
   "cell_type": "markdown",
   "metadata": {},
   "source": [
    "We can get actual words by running the output through the `batch_decode` function of the tokenizer:"
   ]
  },
  {
   "cell_type": "code",
   "execution_count": null,
   "metadata": {},
   "outputs": [],
   "source": [
    "translations = tokenizer.batch_decode(outputs, skip_special_tokens=True)\n",
    "print(translations)"
   ]
  },
  {
   "cell_type": "markdown",
   "metadata": {},
   "source": [
    "__Note:__ We assume that you will run the translations from German to English. If you would like to work on the opposite translation direction (and feel comfortable evaluating the German output), you are welcome to do so. The corresponding bilingual model is called `opus-mt-en-de`."
   ]
  },
  {
   "cell_type": "markdown",
   "metadata": {},
   "source": [
    "### Data splitting\n",
    "\n",
    "Before we move on, we need to split our data. We will evaluate different models and for that we'll need test data. We will also fine-tune a model, and for that we'll need training data. The entire Lord of the Rings dataset has 9640 lines.\n",
    "\n",
    "__Task 2.2__ (1 point): Split the dataset in such a way that the **last** 1000 lines are used for testing and the remaining lines (8640) for training. Save the data under the following filenames: `lotr.train.de, lotr.train.en, lotr.test.de, lotr.test.en`. You can use Python code or other tools to perform the splitting."
   ]
  },
  {
   "cell_type": "code",
   "execution_count": null,
   "metadata": {},
   "outputs": [],
   "source": [
    "# code here"
   ]
  },
  {
   "cell_type": "markdown",
   "metadata": {},
   "source": [
    "__Task 2.3__ (1 point): What are potential risks and drawbacks of splitting the dataset in this way? \n"
   ]
  },
  {
   "cell_type": "markdown",
   "metadata": {},
   "source": []
  },
  {
   "cell_type": "markdown",
   "metadata": {},
   "source": [
    "Now we are ready to translate the test set with our model.\n",
    "\n",
    "__Task 2.4__ (2 points): Create a function that loads the entire `lotr.test.de` file, translates each line with the `opus-mt-de-en` model and writes its output to a new file, one sentence per line.\n",
    "\n",
    "The easiest way to do this is to just load the entire test file into a list, tokenize and translate it, but the test set may be too large to fit on GPU memory, or it might be inefficient and slow if you use a CPU. A better alternative is to split the data into batches of 50-100 sentences and send each batch separately to the translator."
   ]
  },
  {
   "cell_type": "code",
   "execution_count": null,
   "metadata": {},
   "outputs": [],
   "source": [
    "def translate(input_file, translation_file, tokenizer, translator, batch_size=100):\n",
    "    \"\"\"Translate an input file line by line using the loaded tokenizer and translator,\n",
    "    and write the translations to output_file.\"\"\"\n",
    "    pass\n",
    "\n",
    "\n",
    "translate(\"lotr.test.de\", \"lotr.output_opus.en\", tokenizer, translator)"
   ]
  },
  {
   "cell_type": "markdown",
   "metadata": {},
   "source": [
    "Before moving on, open the output file and check that the translations look ok. In particular, the file should contain the expected number of lines and output should be in the expected language (English or German, depending on the chosen direction).\n",
    "\n",
    "__Task 2.5__ (1 point): Open both the output file and the reference translations (`lotr.test.en` if translating from German to English) and compare the first 20 lines. How would you rate the translations of the OPUS system on a scale from 1 (incomprehensible and/or completely different meaning) to 5 (grammatically correct and meaning fully preserved)? Justify your answer."
   ]
  },
  {
   "cell_type": "markdown",
   "metadata": {},
   "source": []
  },
  {
   "cell_type": "markdown",
   "metadata": {},
   "source": [
    "### Evaluation\n",
    "\n",
    "We can now evaluate the quality of our translations. In a first step, we perform _reference-based surface-level evaluation_  using the popular BLEU score. We can do that with the `sacrebleu` module. Below is a slightly reformatted example taken from the [SacreBLEU documentation](https://github.com/mjpost/sacrebleu/tree/master?tab=readme-ov-file#using-sacrebleu-from-python):"
   ]
  },
  {
   "cell_type": "code",
   "execution_count": null,
   "metadata": {},
   "outputs": [],
   "source": [
    "from sacrebleu.metrics import BLEU\n",
    "\n",
    "reference = ['The dog bit the man.', 'It was not unexpected.', 'The man bit him first.']\n",
    "hypothesis = ['The dog bit the man.', \"It wasn't surprising.\", 'The man had just bitten him.']\n",
    "\n",
    "bleu_scorer = BLEU()\n",
    "# BLEU can deal with multiple references per sentence, but here we only have one, so we just enclose it in another set of brackets:\n",
    "score = bleu_scorer.corpus_score(hypothesis, [reference])\n",
    "print(score)"
   ]
  },
  {
   "cell_type": "markdown",
   "metadata": {},
   "source": [
    "__Task 2.6__ (1 point): Load both the system output and the reference of your test set and compute the corpus-level BLEU score. Also compute the corpus-level chrF score. Which of the scores is higher?"
   ]
  },
  {
   "cell_type": "code",
   "execution_count": null,
   "metadata": {},
   "outputs": [],
   "source": [
    "from sacrebleu.metrics import BLEU, CHRF\n",
    "\n",
    "def evaluate_bleu(hypothesis_file, reference_file):\n",
    "\tpass\n",
    "\n",
    "evaluate_bleu(\"lotr.output_opus.en\", \"lotr.test.en\")"
   ]
  },
  {
   "cell_type": "markdown",
   "metadata": {},
   "source": [
    "Besides string-based metrics, neural metrics have become increasingly popular lately, since they have been shown to correlate better with human judgements. The most popular neural metric is called COMET and it can be used with the HuggingFace `evaluate` package. The example below is from the [documentation](https://huggingface.co/spaces/evaluate-metric/comet/blob/main/README.md):"
   ]
  },
  {
   "cell_type": "code",
   "execution_count": null,
   "metadata": {},
   "outputs": [],
   "source": [
    "import evaluate\n",
    "\n",
    "comet_metric = evaluate.load('comet')\n",
    "src = [\"Dem Feuer konnte Einhalt geboten werden\", \"Schulen und Kindergärten wurden eröffnet.\"]\n",
    "hyp = [\"The fire could be stopped\", \"Schools and kindergartens were open\"]\n",
    "ref = [\"They were able to control the fire.\", \"Schools and kindergartens opened\"]\n",
    "comet_score = comet_metric.compute(predictions=hyp, references=ref, sources=src)\n",
    "print(comet_score)"
   ]
  },
  {
   "cell_type": "markdown",
   "metadata": {},
   "source": [
    "__Task 2.7__ (1 point): Adapt this code to evaluate the output of the OPUS model. Note that COMET also requires the source text."
   ]
  },
  {
   "cell_type": "code",
   "execution_count": null,
   "metadata": {},
   "outputs": [],
   "source": [
    "def evaluate_comet(hypothesis_file, reference_file, source_file):\n",
    "    pass\n"
   ]
  },
  {
   "cell_type": "markdown",
   "metadata": {},
   "source": [
    "### Fine-tuning\n",
    "\n",
    "Let us see now if we can further improve the translation quality. We still haven't used the training set after all...\n",
    "\n",
    "Fine-tuning a translation model with the `transformers` library is a bit convoluted. You need the following ingredients:\n",
    "- A `Seq2SeqTrainer` object, which defines the initial model and its tokenizer, the training data, and the configuration parameters (as a `Seq2SeqTrainingArguments` object). The training process starts with the `train()` method.\n",
    "- A `Seq2SeqTrainingArguments` object, which contains the configuration parameters, such as the number of training epochs, the path for saving the fine-tuned model, the learning rate etc.\n",
    "- A `DataCollatorForSeq2Seq` object that takes care of splitting the training data into batches of appropriate size.\n",
    "- A `DatasetDict` object containing the tokenized training data. Typically, the untokenized data is loaded into a `DatasetDict` object, and the tokenization function is applied to everything inside this `DatasetDict` using the `map()` function.\n",
    "\n",
    "__Task 2.8__ (1 point): The code in the box below shows a working example using the pretrained OPUS model, but is limited to two sentence pairs. Complete the code to load the entire training data."
   ]
  },
  {
   "cell_type": "code",
   "execution_count": null,
   "metadata": {},
   "outputs": [],
   "source": [
    "from transformers import Seq2SeqTrainingArguments, Seq2SeqTrainer\n",
    "from transformers import DataCollatorForSeq2Seq\n",
    "from datasets import Dataset, DatasetDict\n",
    "\n",
    "max_length = 100\n",
    "\n",
    "ds = Dataset.from_dict({\n",
    "    \"src_text\": [\"Die Welt ist im Wandel.\", \"Ich spüre es im Wasser.\"],\n",
    "    \"tgt_text\": [\"The world is changed.\", \"I feel it in the water.\"]\n",
    "})\n",
    "data = DatasetDict({\"train\": ds})\n",
    "\n",
    "def preprocess_function(examples):\n",
    "    model_inputs = tokenizer(examples[\"src_text\"], text_target=examples[\"tgt_text\"], max_length=max_length, truncation=True)\n",
    "    return model_inputs\n",
    "\n",
    "tokenized_datasets = data.map(preprocess_function, batched=True)\n",
    "print(tokenized_datasets)\n",
    "\n",
    "data_collator = DataCollatorForSeq2Seq(tokenizer, model=translator)\n",
    "\n",
    "args = Seq2SeqTrainingArguments(\n",
    "    output_dir=\"opus-mt-de-en-lotr\",\n",
    "    evaluation_strategy=\"no\",\n",
    "    save_strategy=\"epoch\",\n",
    "    learning_rate=2e-5,\n",
    "    per_device_train_batch_size=32,\n",
    "    weight_decay=0.01,\n",
    "    save_total_limit=3,\n",
    "    num_train_epochs=3,\n",
    "    predict_with_generate=True\n",
    ")\n",
    "\n",
    "trainer = Seq2SeqTrainer(\n",
    "    translator,\n",
    "    args,\n",
    "    train_dataset=tokenized_datasets[\"train\"],\n",
    "    data_collator=data_collator,\n",
    "    tokenizer=tokenizer\n",
    ")\n",
    "\n",
    "trainer.train()"
   ]
  },
  {
   "cell_type": "markdown",
   "metadata": {},
   "source": [
    "The model was fine-tuned for three epochs, and you should have three checkpoints in the `opus-mt-de-en-lotr` directory.\n",
    "\n",
    "__Task 2.9__ (1 point): Choose one of the checkpoints and use it to translate the test set. Evaluate the test set with BLEU, chrF and COMET. Note that locally saved model files (and tokenizers) can be loaded in the same way as models from the HuggingFace hub, e.g. with the following command: `transformers.AutoModelForSeq2SeqLM.from_pretrained(\"opus-mt-de-en-lotr/checkpoint-810\")`\n",
    "\n",
    "Did fine-tuning help? Did fine-tuning help? Have a look at the first rows of the files. Do you agree with the metrics?"
   ]
  },
  {
   "cell_type": "code",
   "execution_count": null,
   "metadata": {},
   "outputs": [],
   "source": [
    "# code here"
   ]
  }
 ],
 "metadata": {
  "kernelspec": {
   "display_name": "Python 3",
   "language": "python",
   "name": "python3"
  },
  "language_info": {
   "codemirror_mode": {
    "name": "ipython",
    "version": 3
   },
   "file_extension": ".py",
   "mimetype": "text/x-python",
   "name": "python",
   "nbconvert_exporter": "python",
   "pygments_lexer": "ipython3",
   "version": "3.11.0"
  }
 },
 "nbformat": 4,
 "nbformat_minor": 2
}
